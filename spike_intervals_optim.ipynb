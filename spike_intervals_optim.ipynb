{
  "cells": [
    {
      "cell_type": "markdown",
      "id": "8f4874b9",
      "metadata": {},
      "source": [
        "# Optimization and spiking {#exr-spike-optimization}\n",
        "\n",
        "[Data set download](https://s3.amazonaws.com/bebi103.caltech.edu/data/rgc_spike_times_1.csv)\n",
        "\n",
        "<hr>"
      ]
    },
    {
      "cell_type": "markdown",
      "id": "141edbec",
      "metadata": {},
      "source": [
        "In @sec-parameter-estimation-with-mcmc-1 and @sec-parameter-estimation-with-mcmc-2, we considered models for the interspike intervals (ISIs) of a retinal ganglion cell exposed to constant light. You have performed inference for this experiment using a Gamma distribution using MCMC in @exr-gamma-spike. \n",
        "\n",
        "**a)** Now do that analysis, modeling ISIs as Gamma distributed, using optimization.\n",
        "\n",
        "**b)** Researchers often determine a spiking rate directly from data by creating time windows, counting the spikes in the window, and then dividing the number of spikes in the time window by the width of the window. So that this is equivalent to finding a MAP spiking rate $\\beta$ assuming the spikes are Poissonian with a uniform prior for $\\beta$.\n",
        "\n",
        "**c)** ISIs are often modeled as Inverse Gaussian. Given a set of ISIs $\\mathbf{y}$, derive an expression for the MAP estimate of the parameters $\\mu$ and $\\lambda$ of the Inverse Gaussian distribution assuming uniform priors on both. Then, using sensible priors, use the RGC spike times data set to compute MAP estimates for the parameters. Do you get similar results?"
      ]
    }
  ],
  "metadata": {
    "language_info": {
      "name": "python"
    }
  },
  "nbformat": 4,
  "nbformat_minor": 5
}