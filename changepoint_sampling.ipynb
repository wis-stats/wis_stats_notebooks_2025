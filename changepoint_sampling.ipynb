{
  "cells": [
    {
      "cell_type": "markdown",
      "id": "8b143ec1",
      "metadata": {},
      "source": [
        "# Inferring a changepoint {#exr-changepoint-sampling}\n",
        "\n",
        "[Data set download](https://s3.amazonaws.com/bebi103.caltech.edu/data/rgc_spike_times_change_point.csv)\n",
        "\n",
        "<hr>"
      ]
    },
    {
      "cell_type": "markdown",
      "id": "331c406c",
      "metadata": {},
      "source": [
        "In @exr-changepoint-model, you developed a model for a changepoint analysis. The text of that problem is repeated below.\n",
        "\n",
        ">Consider the following twist on the experiment we have been considering where a retinal ganglion cell's spiking is monitored under constant light. The retina is exposed to constant light, but at some time between the start and end of the experience, the impinging light intensity changes. That is, for $0 \\le t < s$, the retina is exposed to one light intensity, and for $s \\le t \\le T$, it is exposed to another. The problem is that you do not know what $s$ is, and you have to infer it. Your task is to construct a Bayesian model for this situation, complete with prior predictive checks.\n",
        ">\n",
        ">This is a simple example of a **decoding problem**, in which a stimulus is inferred from neuronal signals.\n",
        "\n",
        "For this data set, $T = 60$ seconds.\n",
        "\n",
        "Your task in this problem is to infer the neuron firing rates before and after the changepoint as well as the changepoint itself. *Hint*: It is often quite difficult to directly sample latent variables like a changepoint. If you can analytically marginalize out the changepoint $s$, you may then be able to sample the other parameters and then after sampling compute the marginal distribution for $s$. It may be useful to use the following integral for $0 < t_1 < t_2 < \\cdots < t_n < T$, where $\\theta(x)$ denotes a Heaviside step function.\n",
        "\n",
        "$$\\begin{align}\n",
        "\\int_0^{T}\\mathrm{d}s\\,\\prod_{i=1}^n\\left[\\beta_1 + (\\beta_2 - \\beta_1)\\theta(t_i-s)\\right]\\,\\mathrm{e}^{-(\\beta_1-\\beta_2)s}\n",
        "= \\frac{\\beta_2^n - \\beta_1^n\\,\\mathrm{e}^{-(\\beta_1 - \\beta_2)T}}{\\beta_1 - \\beta_2} + \\sum_{i=1}^n\\beta_1^{i-1}\\,\\beta_2^{n-i}\\,\\mathrm{e}^{-(\\beta_1 - \\beta_2)t_i}.\n",
        "\\end{align}\n",
        "$$"
      ]
    }
  ],
  "metadata": {
    "kernelspec": {
      "display_name": "Python 3 (ipykernel)",
      "language": "python",
      "name": "python3"
    },
    "language_info": {
      "codemirror_mode": {
        "name": "ipython",
        "version": 3
      },
      "file_extension": ".py",
      "mimetype": "text/x-python",
      "name": "python",
      "nbconvert_exporter": "python",
      "pygments_lexer": "ipython3",
      "version": "3.12.9"
    }
  },
  "nbformat": 4,
  "nbformat_minor": 5
}