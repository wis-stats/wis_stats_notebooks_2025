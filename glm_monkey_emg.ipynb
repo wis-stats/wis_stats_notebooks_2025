{
  "cells": [
    {
      "cell_type": "markdown",
      "id": "e5b34e90",
      "metadata": {
        "vscode": {
          "languageId": "plaintext"
        }
      },
      "source": [
        "# GLM for EMG data {#exr-jango-emg}\n",
        "\n",
        "[Data set download](https://s3.amazonaws.com/bebi103.caltech.edu/data/Jango_ISO_2015.7z)\n",
        "\n",
        "<hr>"
      ]
    },
    {
      "cell_type": "markdown",
      "id": "e1001a81",
      "metadata": {},
      "source": [
        "In @exr-opening-hdf5, we opened a `.7z` file containing a data set of spiking data combined with EMG data from a monkey operating a joystick. We used the data set from August 24, 2015. In that experiment, there are EMG recordings from seven locations, spiking recordings from 94 neurons, and measurement of cursor position, cursor acceleration, cursor velocity, and force on the joystick, among other things. You are advised to read the associated [README file](https://doi.org/10.5061/dryad.cvdncjt7n).\n",
        "\n",
        "Your task in this exercise is to construct a generalized linear model that links the spiking activity to the EMG recordings. You should think carefully about your approach here. How do you want to model the spiking rate? Does that require downsampling? If so, how would you adjust the EMG signal to match up with the spiking rate?\n",
        "\n",
        "If you like, you can play around with the richness of the data set, which includes lots of other measurements of the monkey, including the force he is exerting on the joystick and positions and movements of a cursor he is watching."
      ]
    }
  ],
  "metadata": {
    "language_info": {
      "name": "python"
    }
  },
  "nbformat": 4,
  "nbformat_minor": 5
}