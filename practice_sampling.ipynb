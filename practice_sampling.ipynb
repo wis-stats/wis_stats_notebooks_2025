{
 "cells": [
  {
   "cell_type": "markdown",
   "metadata": {},
   "source": [
    "# Exploring and sampling probability distributions {#exr-practice_sampling}\n",
    "\n",
    "<hr />"
   ]
  },
  {
   "cell_type": "code",
   "execution_count": 1,
   "metadata": {},
   "outputs": [
    {
     "data": {
      "text/html": [
       "    <style>\n",
       "        .bk-notebook-logo {\n",
       "            display: block;\n",
       "            width: 20px;\n",
       "            height: 20px;\n",
       "            background-image: url(data:image/png;base64,iVBORw0KGgoAAAANSUhEUgAAABQAAAAUCAYAAACNiR0NAAAABHNCSVQICAgIfAhkiAAAAAlwSFlzAAALEgAACxIB0t1+/AAAABx0RVh0U29mdHdhcmUAQWRvYmUgRmlyZXdvcmtzIENTNui8sowAAAOkSURBVDiNjZRtaJVlGMd/1/08zzln5zjP1LWcU9N0NkN8m2CYjpgQYQXqSs0I84OLIC0hkEKoPtiH3gmKoiJDU7QpLgoLjLIQCpEsNJ1vqUOdO7ppbuec5+V+rj4ctwzd8IIbbi6u+8f1539dt3A78eXC7QizUF7gyV1fD1Yqg4JWz84yffhm0qkFqBogB9rM8tZdtwVsPUhWhGcFJngGeWrPzHm5oaMmkfEg1usvLFyc8jLRqDOMru7AyC8saQr7GG7f5fvDeH7Ej8CM66nIF+8yngt6HWaKh7k49Soy9nXurCi1o3qUbS3zWfrYeQDTB/Qj6kX6Ybhw4B+bOYoLKCC9H3Nu/leUTZ1JdRWkkn2ldcCamzrcf47KKXdAJllSlxAOkRgyHsGC/zRday5Qld9DyoM4/q/rUoy/CXh3jzOu3bHUVZeU+DEn8FInkPBFlu3+nW3Nw0mk6vCDiWg8CeJaxEwuHS3+z5RgY+YBR6V1Z1nxSOfoaPa4LASWxxdNp+VWTk7+4vzaou8v8PN+xo+KY2xsw6une2frhw05CTYOmQvsEhjhWjn0bmXPjpE1+kplmmkP3suftwTubK9Vq22qKmrBhpY4jvd5afdRA3wGjFAgcnTK2s4hY0/GPNIb0nErGMCRxWOOX64Z8RAC4oCXdklmEvcL8o0BfkNK4lUg9HTl+oPlQxdNo3Mg4Nv175e/1LDGzZen30MEjRUtmXSfiTVu1kK8W4txyV6BMKlbgk3lMwYCiusNy9fVfvvwMxv8Ynl6vxoByANLTWplvuj/nF9m2+PDtt1eiHPBr1oIfhCChQMBw6Aw0UulqTKZdfVvfG7VcfIqLG9bcldL/+pdWTLxLUy8Qq38heUIjh4XlzZxzQm19lLFlr8vdQ97rjZVOLf8nclzckbcD4wxXMidpX30sFd37Fv/GtwwhzhxGVAprjbg0gCAEeIgwCZyTV2Z1REEW8O4py0wsjeloKoMr6iCY6dP92H6Vw/oTyICIthibxjm/DfN9lVz8IqtqKYLUXfoKVMVQVVJOElGjrnnUt9T9wbgp8AyYKaGlqingHZU/uG2NTZSVqwHQTWkx9hxjkpWDaCg6Ckj5qebgBVbT3V3NNXMSiWSDdGV3hrtzla7J+duwPOToIg42ChPQOQjspnSlp1V+Gjdged7+8UN5CRAV7a5EdFNwCjEaBR27b3W890TE7g24NAP/mMDXRWrGoFPQI9ls/MWO2dWFAar/xcOIImbbpA3zgAAAABJRU5ErkJggg==);\n",
       "        }\n",
       "    </style>\n",
       "    <div>\n",
       "        <a href=\"https://bokeh.org\" target=\"_blank\" class=\"bk-notebook-logo\"></a>\n",
       "        <span id=\"b19b6d78-a286-4eec-a862-7e05bbaa6580\">Loading BokehJS ...</span>\n",
       "    </div>\n"
      ]
     },
     "metadata": {},
     "output_type": "display_data"
    },
    {
     "data": {
      "application/javascript": "'use strict';\n(function(root) {\n  function now() {\n    return new Date();\n  }\n\n  const force = true;\n\n  if (typeof root._bokeh_onload_callbacks === \"undefined\" || force === true) {\n    root._bokeh_onload_callbacks = [];\n    root._bokeh_is_loading = undefined;\n  }\n\nconst JS_MIME_TYPE = 'application/javascript';\n  const HTML_MIME_TYPE = 'text/html';\n  const EXEC_MIME_TYPE = 'application/vnd.bokehjs_exec.v0+json';\n  const CLASS_NAME = 'output_bokeh rendered_html';\n\n  /**\n   * Render data to the DOM node\n   */\n  function render(props, node) {\n    const script = document.createElement(\"script\");\n    node.appendChild(script);\n  }\n\n  /**\n   * Handle when an output is cleared or removed\n   */\n  function handleClearOutput(event, handle) {\n    function drop(id) {\n      const view = Bokeh.index.get_by_id(id)\n      if (view != null) {\n        view.model.document.clear()\n        Bokeh.index.delete(view)\n      }\n    }\n\n    const cell = handle.cell;\n\n    const id = cell.output_area._bokeh_element_id;\n    const server_id = cell.output_area._bokeh_server_id;\n\n    // Clean up Bokeh references\n    if (id != null) {\n      drop(id)\n    }\n\n    if (server_id !== undefined) {\n      // Clean up Bokeh references\n      const cmd_clean = \"from bokeh.io.state import curstate; print(curstate().uuid_to_server['\" + server_id + \"'].get_sessions()[0].document.roots[0]._id)\";\n      cell.notebook.kernel.execute(cmd_clean, {\n        iopub: {\n          output: function(msg) {\n            const id = msg.content.text.trim()\n            drop(id)\n          }\n        }\n      });\n      // Destroy server and session\n      const cmd_destroy = \"import bokeh.io.notebook as ion; ion.destroy_server('\" + server_id + \"')\";\n      cell.notebook.kernel.execute(cmd_destroy);\n    }\n  }\n\n  /**\n   * Handle when a new output is added\n   */\n  function handleAddOutput(event, handle) {\n    const output_area = handle.output_area;\n    const output = handle.output;\n\n    // limit handleAddOutput to display_data with EXEC_MIME_TYPE content only\n    if ((output.output_type != \"display_data\") || (!Object.prototype.hasOwnProperty.call(output.data, EXEC_MIME_TYPE))) {\n      return\n    }\n\n    const toinsert = output_area.element.find(\".\" + CLASS_NAME.split(' ')[0]);\n\n    if (output.metadata[EXEC_MIME_TYPE][\"id\"] !== undefined) {\n      toinsert[toinsert.length - 1].firstChild.textContent = output.data[JS_MIME_TYPE];\n      // store reference to embed id on output_area\n      output_area._bokeh_element_id = output.metadata[EXEC_MIME_TYPE][\"id\"];\n    }\n    if (output.metadata[EXEC_MIME_TYPE][\"server_id\"] !== undefined) {\n      const bk_div = document.createElement(\"div\");\n      bk_div.innerHTML = output.data[HTML_MIME_TYPE];\n      const script_attrs = bk_div.children[0].attributes;\n      for (let i = 0; i < script_attrs.length; i++) {\n        toinsert[toinsert.length - 1].firstChild.setAttribute(script_attrs[i].name, script_attrs[i].value);\n        toinsert[toinsert.length - 1].firstChild.textContent = bk_div.children[0].textContent\n      }\n      // store reference to server id on output_area\n      output_area._bokeh_server_id = output.metadata[EXEC_MIME_TYPE][\"server_id\"];\n    }\n  }\n\n  function register_renderer(events, OutputArea) {\n\n    function append_mime(data, metadata, element) {\n      // create a DOM node to render to\n      const toinsert = this.create_output_subarea(\n        metadata,\n        CLASS_NAME,\n        EXEC_MIME_TYPE\n      );\n      this.keyboard_manager.register_events(toinsert);\n      // Render to node\n      const props = {data: data, metadata: metadata[EXEC_MIME_TYPE]};\n      render(props, toinsert[toinsert.length - 1]);\n      element.append(toinsert);\n      return toinsert\n    }\n\n    /* Handle when an output is cleared or removed */\n    events.on('clear_output.CodeCell', handleClearOutput);\n    events.on('delete.Cell', handleClearOutput);\n\n    /* Handle when a new output is added */\n    events.on('output_added.OutputArea', handleAddOutput);\n\n    /**\n     * Register the mime type and append_mime function with output_area\n     */\n    OutputArea.prototype.register_mime_type(EXEC_MIME_TYPE, append_mime, {\n      /* Is output safe? */\n      safe: true,\n      /* Index of renderer in `output_area.display_order` */\n      index: 0\n    });\n  }\n\n  // register the mime type if in Jupyter Notebook environment and previously unregistered\n  if (root.Jupyter !== undefined) {\n    const events = require('base/js/events');\n    const OutputArea = require('notebook/js/outputarea').OutputArea;\n\n    if (OutputArea.prototype.mime_types().indexOf(EXEC_MIME_TYPE) == -1) {\n      register_renderer(events, OutputArea);\n    }\n  }\n  if (typeof (root._bokeh_timeout) === \"undefined\" || force === true) {\n    root._bokeh_timeout = Date.now() + 5000;\n    root._bokeh_failed_load = false;\n  }\n\n  const NB_LOAD_WARNING = {'data': {'text/html':\n     \"<div style='background-color: #fdd'>\\n\"+\n     \"<p>\\n\"+\n     \"BokehJS does not appear to have successfully loaded. If loading BokehJS from CDN, this \\n\"+\n     \"may be due to a slow or bad network connection. Possible fixes:\\n\"+\n     \"</p>\\n\"+\n     \"<ul>\\n\"+\n     \"<li>re-rerun `output_notebook()` to attempt to load from CDN again, or</li>\\n\"+\n     \"<li>use INLINE resources instead, as so:</li>\\n\"+\n     \"</ul>\\n\"+\n     \"<code>\\n\"+\n     \"from bokeh.resources import INLINE\\n\"+\n     \"output_notebook(resources=INLINE)\\n\"+\n     \"</code>\\n\"+\n     \"</div>\"}};\n\n  function display_loaded(error = null) {\n    const el = document.getElementById(\"b19b6d78-a286-4eec-a862-7e05bbaa6580\");\n    if (el != null) {\n      const html = (() => {\n        if (typeof root.Bokeh === \"undefined\") {\n          if (error == null) {\n            return \"BokehJS is loading ...\";\n          } else {\n            return \"BokehJS failed to load.\";\n          }\n        } else {\n          const prefix = `BokehJS ${root.Bokeh.version}`;\n          if (error == null) {\n            return `${prefix} successfully loaded.`;\n          } else {\n            return `${prefix} <b>encountered errors</b> while loading and may not function as expected.`;\n          }\n        }\n      })();\n      el.innerHTML = html;\n\n      if (error != null) {\n        const wrapper = document.createElement(\"div\");\n        wrapper.style.overflow = \"auto\";\n        wrapper.style.height = \"5em\";\n        wrapper.style.resize = \"vertical\";\n        const content = document.createElement(\"div\");\n        content.style.fontFamily = \"monospace\";\n        content.style.whiteSpace = \"pre-wrap\";\n        content.style.backgroundColor = \"rgb(255, 221, 221)\";\n        content.textContent = error.stack ?? error.toString();\n        wrapper.append(content);\n        el.append(wrapper);\n      }\n    } else if (Date.now() < root._bokeh_timeout) {\n      setTimeout(() => display_loaded(error), 100);\n    }\n  }\n\n  function run_callbacks() {\n    try {\n      root._bokeh_onload_callbacks.forEach(function(callback) {\n        if (callback != null)\n          callback();\n      });\n    } finally {\n      delete root._bokeh_onload_callbacks\n    }\n    console.debug(\"Bokeh: all callbacks have finished\");\n  }\n\n  function load_libs(css_urls, js_urls, callback) {\n    if (css_urls == null) css_urls = [];\n    if (js_urls == null) js_urls = [];\n\n    root._bokeh_onload_callbacks.push(callback);\n    if (root._bokeh_is_loading > 0) {\n      console.debug(\"Bokeh: BokehJS is being loaded, scheduling callback at\", now());\n      return null;\n    }\n    if (js_urls == null || js_urls.length === 0) {\n      run_callbacks();\n      return null;\n    }\n    console.debug(\"Bokeh: BokehJS not loaded, scheduling load and callback at\", now());\n    root._bokeh_is_loading = css_urls.length + js_urls.length;\n\n    function on_load() {\n      root._bokeh_is_loading--;\n      if (root._bokeh_is_loading === 0) {\n        console.debug(\"Bokeh: all BokehJS libraries/stylesheets loaded\");\n        run_callbacks()\n      }\n    }\n\n    function on_error(url) {\n      console.error(\"failed to load \" + url);\n    }\n\n    for (let i = 0; i < css_urls.length; i++) {\n      const url = css_urls[i];\n      const element = document.createElement(\"link\");\n      element.onload = on_load;\n      element.onerror = on_error.bind(null, url);\n      element.rel = \"stylesheet\";\n      element.type = \"text/css\";\n      element.href = url;\n      console.debug(\"Bokeh: injecting link tag for BokehJS stylesheet: \", url);\n      document.body.appendChild(element);\n    }\n\n    for (let i = 0; i < js_urls.length; i++) {\n      const url = js_urls[i];\n      const element = document.createElement('script');\n      element.onload = on_load;\n      element.onerror = on_error.bind(null, url);\n      element.async = false;\n      element.src = url;\n      console.debug(\"Bokeh: injecting script tag for BokehJS library: \", url);\n      document.head.appendChild(element);\n    }\n  };\n\n  function inject_raw_css(css) {\n    const element = document.createElement(\"style\");\n    element.appendChild(document.createTextNode(css));\n    document.body.appendChild(element);\n  }\n\n  const js_urls = [\"https://cdn.bokeh.org/bokeh/release/bokeh-3.7.3.min.js\", \"https://cdn.bokeh.org/bokeh/release/bokeh-gl-3.7.3.min.js\", \"https://cdn.bokeh.org/bokeh/release/bokeh-widgets-3.7.3.min.js\", \"https://cdn.bokeh.org/bokeh/release/bokeh-tables-3.7.3.min.js\", \"https://cdn.bokeh.org/bokeh/release/bokeh-mathjax-3.7.3.min.js\"];\n  const css_urls = [];\n\n  const inline_js = [    function(Bokeh) {\n      Bokeh.set_log_level(\"info\");\n    },\nfunction(Bokeh) {\n    }\n  ];\n\n  function run_inline_js() {\n    if (root.Bokeh !== undefined || force === true) {\n      try {\n            for (let i = 0; i < inline_js.length; i++) {\n      inline_js[i].call(root, root.Bokeh);\n    }\n\n      } catch (error) {display_loaded(error);throw error;\n      }if (force === true) {\n        display_loaded();\n      }} else if (Date.now() < root._bokeh_timeout) {\n      setTimeout(run_inline_js, 100);\n    } else if (!root._bokeh_failed_load) {\n      console.log(\"Bokeh: BokehJS failed to load within specified timeout.\");\n      root._bokeh_failed_load = true;\n    } else if (force !== true) {\n      const cell = $(document.getElementById(\"b19b6d78-a286-4eec-a862-7e05bbaa6580\")).parents('.cell').data().cell;\n      cell.output_area.append_execute_result(NB_LOAD_WARNING)\n    }\n  }\n\n  if (root._bokeh_is_loading === 0) {\n    console.debug(\"Bokeh: BokehJS loaded, going straight to plotting\");\n    run_inline_js();\n  } else {\n    load_libs(css_urls, js_urls, function() {\n      console.debug(\"Bokeh: BokehJS plotting callback run at\", now());\n      run_inline_js();\n    });\n  }\n}(window));",
      "application/vnd.bokehjs_load.v0+json": ""
     },
     "metadata": {},
     "output_type": "display_data"
    }
   ],
   "source": [
    "import numpy as np\n",
    "import scipy.stats as st\n",
    "\n",
    "import iqplot\n",
    "\n",
    "import bokeh.io\n",
    "import bokeh.plotting\n",
    "bokeh.io.output_notebook()"
   ]
  },
  {
   "cell_type": "markdown",
   "metadata": {},
   "source": [
    "<hr>\n",
    "\n",
    "NumPy offers tools for drawing random number out of distributions. The `scipy.stats` module allows convenient calculation of probability density functions, cumulative distribution functions, etc., of many named probability distributions. For example, we can draw samples out of a standard Normal distribution using NumPy and can then plot a histogram of the results to get that familiar, beautifully shaped curve."
   ]
  },
  {
   "cell_type": "code",
   "execution_count": 2,
   "metadata": {},
   "outputs": [
    {
     "data": {
      "text/html": [
       "\n",
       "  <div id=\"c87df2f0-863d-4569-a0a6-ca3692175550\" data-root-id=\"p1004\" style=\"display: contents;\"></div>\n"
      ]
     },
     "metadata": {},
     "output_type": "display_data"
    },
    {
     "data": {
      "application/javascript": "(function(root) {\n  function embed_document(root) {\n  const docs_json = {\"e82f2cb1-67b6-48f6-8099-b7479e26dba4\":{\"version\":\"3.7.3\",\"title\":\"Bokeh Application\",\"roots\":[{\"type\":\"object\",\"name\":\"Figure\",\"id\":\"p1004\",\"attributes\":{\"x_range\":{\"type\":\"object\",\"name\":\"DataRange1d\",\"id\":\"p1006\"},\"y_range\":{\"type\":\"object\",\"name\":\"DataRange1d\",\"id\":\"p1003\",\"attributes\":{\"start\":0}},\"x_scale\":{\"type\":\"object\",\"name\":\"LinearScale\",\"id\":\"p1013\"},\"y_scale\":{\"type\":\"object\",\"name\":\"LinearScale\",\"id\":\"p1014\"},\"title\":{\"type\":\"object\",\"name\":\"Title\",\"id\":\"p1011\"},\"renderers\":[{\"type\":\"object\",\"name\":\"GlyphRenderer\",\"id\":\"p1044\",\"attributes\":{\"data_source\":{\"type\":\"object\",\"name\":\"ColumnDataSource\",\"id\":\"p1038\",\"attributes\":{\"selected\":{\"type\":\"object\",\"name\":\"Selection\",\"id\":\"p1039\",\"attributes\":{\"indices\":[],\"line_indices\":[]}},\"selection_policy\":{\"type\":\"object\",\"name\":\"UnionRenderers\",\"id\":\"p1040\"},\"data\":{\"type\":\"map\",\"entries\":[[\"x\",{\"type\":\"ndarray\",\"array\":{\"type\":\"bytes\",\"data\":\"1odA9k4cEsDWh0D2ThwSwPDzbxp+XhHA8PNvGn5eEcAKYJ8+raAQwApgnz6toBDAR5idxbjFD8BHmJ3FuMUPwHtw/A0XSg7Ae3D8DRdKDsCuSFtWdc4MwK5IW1Z1zgzA4iC6ntNSC8DiILqe01ILwBb5GOcx1wnAFvkY5zHXCcBK0XcvkFsIwErRdy+QWwjAfanWd+7fBsB9qdZ37t8GwLGBNcBMZAXAsYE1wExkBcDlWZQIq+gDwOVZlAir6APAGDLzUAltAsAYMvNQCW0CwEwKUpln8QDATApSmWfxAMAAxWHDi+v+vwDFYcOL6/6/ZnUfVEj0+79mdR9USPT7v84l3eQE/fi/ziXd5AT9+L821pp1wQX2vzbWmnXBBfa/nIZYBn4O87+chlgGfg7zvwQ3Fpc6F/C/BDcWlzoX8L/YzqdP7j/qv9jOp0/uP+q/pC8jcWdR5L+kLyNxZ1Hkv/AgPSXBxdy/8CA9JcHF3L+A4jNos+jQv4DiM2iz6NC/gJCqrJYutL+AkKqsli60vwBpekegRbs/AGl6R6BFuz+g2OfOda7SP6DY5851rtI/ABfxi4OL3j8AF/GLg4veP7AqfaRINOU/sCp9pEg05T/oyQGDzyLrP+jJAYPPIus/jDTDMKuI8D+MNMMwq4jwPySEBaDuf/M/JIQFoO5/8z+800cPMnf2P7zTRw8yd/Y/VCOKfnVu+T9UI4p+dW75P+xyzO24Zfw/7HLM7bhl/D+Ewg5d/Fz/P4TCDl38XP8/EIko5h8qAUAQiSjmHyoBQNywyZ3BpQJA3LDJncGlAkCo2GpVYyEEQKjYalVjIQRAdAAMDQWdBUB0AAwNBZ0FQEAorcSmGAdAQCitxKYYB0AMUE58SJQIQAxQTnxIlAhA2nfvM+oPCkDad+8z6g8KQKafkOuLiwtApp+Q64uLC0BwxzGjLQcNQHDHMaMtBw1AQO/SWs+CDkBA79Jaz4IOQAwXdBJx/g9ADBd0EnH+D0BsnwplCb0QQGyfCmUJvRBAUjPbQNp6EUBSM9tA2noRQDjHqxyrOBJAOMerHKs4EkAdW3z4e/YSQB1bfPh79hJA\"},\"shape\":[102],\"dtype\":\"float64\",\"order\":\"little\"}],[\"y\",{\"type\":\"ndarray\",\"array\":{\"type\":\"bytes\",\"data\":\"AAAAAAAAAAAEH9cpfDYlPwQf1yl8NiU/BdQejaVIDD8F1B6NpUgMP/PTHo2lSBw/89MejaVIHD+DRDN4Z60xP4NEM3hnrTE/9h7XKXw2NT/2HtcpfDY1P4euwj660U8/h67CPrrRTz/F5kw0G4RaP8XmTDQbhFo/dWsYnvgSaj91axie+BJqP5UVQFbBGHY/lRVAVsEYdj8H6IuHjViBPwfoi4eNWIE/ymRJ9VW4jT/KZEn1VbiNPwkrNihPF5c/CSs2KE8Xlz/dRZeN8w6jP91Fl43zDqM/QkP0JPXYqj9CQ/Qk9diqP5ve9LPSOrI/m970s9I6sj/xx7+O0me6P/HHv47SZ7o/1YH0vZWNwT/VgfS9lY3BP8JXeYj+s8U/wld5iP6zxT8NugnUa+fLPw26CdRr58s/FwSEses+0T8XBISx6z7RPwogr4p3stM/CiCviney0z+kWg4E6enVP6RaDgTp6dU/Pq7QK87R1z8+rtArztHXP6fiU6Ok7Ng/p+JTo6Ts2D/2m/uJu+7ZP/ab+4m77tk/0LEXsn642D/QsReyfrjYP9xrPvQt3tc/3Gs+9C3e1z8ouZhl58PVPyi5mGXnw9U/JD6KJfod0z8kPool+h3TP6YAPSs7WNA/pgA9KztY0D81OatGdArLPzU5q0Z0Css/m/DWrt3fxD+b8Nau3d/EP8v7xD4sncA/y/vEPiydwD+iDhiou2W5P6IOGKi7Zbk/B+iLh41YsT8H6IuHjVixPweze8cKGqo/B7N7xwoaqj+QTnxW6HuhP5BOfFboe6E/RAypggb7lj9EDKmCBvuWPx2pMumJS4o/Haky6YlLij/lt1kSde9+P+W3WRJ1734/h67CPrrRbz+HrsI+utFvP6kxBdHxcWM/qTEF0fFxYz9FwfDlLw1eP0XB8OUvDV4/IR/XKXw2RT8hH9cpfDZFPzCuwj660T8/MK7CPrrRPz8EH9cpfDYlPwQf1yl8NiU/AAAAAAAAAAAAAAAAAAAAAAAAAAAAAAAAAAAAAAAAAAAF1B6NpUgMPwXUHo2lSAw/K9QejaVIDD8r1B6NpUgMPwAAAAAAAAAA\"},\"shape\":[102],\"dtype\":\"float64\",\"order\":\"little\"}]]}}},\"view\":{\"type\":\"object\",\"name\":\"CDSView\",\"id\":\"p1045\",\"attributes\":{\"filter\":{\"type\":\"object\",\"name\":\"AllIndices\",\"id\":\"p1046\"}}},\"glyph\":{\"type\":\"object\",\"name\":\"Line\",\"id\":\"p1041\",\"attributes\":{\"x\":{\"type\":\"field\",\"field\":\"x\"},\"y\":{\"type\":\"field\",\"field\":\"y\"},\"line_color\":\"#1f77b3\",\"line_width\":2}},\"nonselection_glyph\":{\"type\":\"object\",\"name\":\"Line\",\"id\":\"p1042\",\"attributes\":{\"x\":{\"type\":\"field\",\"field\":\"x\"},\"y\":{\"type\":\"field\",\"field\":\"y\"},\"line_color\":\"#1f77b3\",\"line_alpha\":0.1,\"line_width\":2}},\"muted_glyph\":{\"type\":\"object\",\"name\":\"Line\",\"id\":\"p1043\",\"attributes\":{\"x\":{\"type\":\"field\",\"field\":\"x\"},\"y\":{\"type\":\"field\",\"field\":\"y\"},\"line_color\":\"#1f77b3\",\"line_alpha\":0.2,\"line_width\":2}}}}],\"toolbar\":{\"type\":\"object\",\"name\":\"Toolbar\",\"id\":\"p1012\",\"attributes\":{\"tools\":[{\"type\":\"object\",\"name\":\"PanTool\",\"id\":\"p1025\"},{\"type\":\"object\",\"name\":\"WheelZoomTool\",\"id\":\"p1026\",\"attributes\":{\"renderers\":\"auto\"}},{\"type\":\"object\",\"name\":\"BoxZoomTool\",\"id\":\"p1027\",\"attributes\":{\"dimensions\":\"both\",\"overlay\":{\"type\":\"object\",\"name\":\"BoxAnnotation\",\"id\":\"p1028\",\"attributes\":{\"syncable\":false,\"line_color\":\"black\",\"line_alpha\":1.0,\"line_width\":2,\"line_dash\":[4,4],\"fill_color\":\"lightgrey\",\"fill_alpha\":0.5,\"level\":\"overlay\",\"visible\":false,\"left\":{\"type\":\"number\",\"value\":\"nan\"},\"right\":{\"type\":\"number\",\"value\":\"nan\"},\"top\":{\"type\":\"number\",\"value\":\"nan\"},\"bottom\":{\"type\":\"number\",\"value\":\"nan\"},\"left_units\":\"canvas\",\"right_units\":\"canvas\",\"top_units\":\"canvas\",\"bottom_units\":\"canvas\",\"handles\":{\"type\":\"object\",\"name\":\"BoxInteractionHandles\",\"id\":\"p1034\",\"attributes\":{\"all\":{\"type\":\"object\",\"name\":\"AreaVisuals\",\"id\":\"p1033\",\"attributes\":{\"fill_color\":\"white\",\"hover_fill_color\":\"lightgray\"}}}}}}}},{\"type\":\"object\",\"name\":\"SaveTool\",\"id\":\"p1035\"},{\"type\":\"object\",\"name\":\"ResetTool\",\"id\":\"p1036\"},{\"type\":\"object\",\"name\":\"HelpTool\",\"id\":\"p1037\"}]}},\"toolbar_location\":\"above\",\"left\":[{\"type\":\"object\",\"name\":\"LinearAxis\",\"id\":\"p1020\",\"attributes\":{\"ticker\":{\"type\":\"object\",\"name\":\"BasicTicker\",\"id\":\"p1021\",\"attributes\":{\"mantissas\":[1,2,5]}},\"formatter\":{\"type\":\"object\",\"name\":\"BasicTickFormatter\",\"id\":\"p1022\"},\"axis_label\":\"density\",\"major_label_policy\":{\"type\":\"object\",\"name\":\"AllLabels\",\"id\":\"p1023\"}}}],\"below\":[{\"type\":\"object\",\"name\":\"LinearAxis\",\"id\":\"p1015\",\"attributes\":{\"ticker\":{\"type\":\"object\",\"name\":\"BasicTicker\",\"id\":\"p1016\",\"attributes\":{\"mantissas\":[1,2,5]}},\"formatter\":{\"type\":\"object\",\"name\":\"BasicTickFormatter\",\"id\":\"p1017\"},\"axis_label\":\"x\",\"major_label_policy\":{\"type\":\"object\",\"name\":\"AllLabels\",\"id\":\"p1018\"}}}],\"center\":[{\"type\":\"object\",\"name\":\"Grid\",\"id\":\"p1019\",\"attributes\":{\"axis\":{\"id\":\"p1015\"}}},{\"type\":\"object\",\"name\":\"Grid\",\"id\":\"p1024\",\"attributes\":{\"dimension\":1,\"axis\":{\"id\":\"p1020\"}}}],\"frame_width\":375,\"frame_height\":275}}]}};\n  const render_items = [{\"docid\":\"e82f2cb1-67b6-48f6-8099-b7479e26dba4\",\"roots\":{\"p1004\":\"c87df2f0-863d-4569-a0a6-ca3692175550\"},\"root_ids\":[\"p1004\"]}];\n  void root.Bokeh.embed.embed_items_notebook(docs_json, render_items);\n  }\n  if (root.Bokeh !== undefined) {\n    embed_document(root);\n  } else {\n    let attempts = 0;\n    const timer = setInterval(function(root) {\n      if (root.Bokeh !== undefined) {\n        clearInterval(timer);\n        embed_document(root);\n      } else {\n        attempts++;\n        if (attempts > 100) {\n          clearInterval(timer);\n          console.log(\"Bokeh: ERROR: Unable to run BokehJS code because BokehJS library is missing\");\n        }\n      }\n    }, 10, root)\n  }\n})(window);",
      "application/vnd.bokehjs_exec.v0+json": ""
     },
     "metadata": {
      "application/vnd.bokehjs_exec.v0+json": {
       "id": "p1004"
      }
     },
     "output_type": "display_data"
    }
   ],
   "source": [
    "# Instantiate random number generator\n",
    "rng = np.random.default_rng()\n",
    "\n",
    "# Draw 100,000 Normal samples\n",
    "samples = rng.normal(0, 1, size=100000)\n",
    "\n",
    "# Plot the histogram\n",
    "p = iqplot.histogram(samples, bins=50, rug=False, style='step', density=True)\n",
    "bokeh.io.show(p)"
   ]
  },
  {
   "cell_type": "markdown",
   "metadata": {},
   "source": [
    "We could use SciPy to evaluate the PDF, which can be a pain to code up. It's formula is\n",
    "\n",
    "\\begin{align}\n",
    "f(x;\\mu, \\sigma) = \\frac{1}{\\sqrt{2\\pi\\sigma^2}}\\,\\mathrm{e}^{-(x-\\mu)^2/2\\sigma^2}.\n",
    "\\end{align}\n",
    "\n",
    "Instead of coding this up, we can use SciPy!"
   ]
  },
  {
   "cell_type": "code",
   "execution_count": 3,
   "metadata": {},
   "outputs": [
    {
     "data": {
      "text/html": [
       "\n",
       "  <div id=\"be022806-0eb7-4120-92a5-8e23bc2e38dd\" data-root-id=\"p1004\" style=\"display: contents;\"></div>\n"
      ]
     },
     "metadata": {},
     "output_type": "display_data"
    },
    {
     "data": {
      "application/javascript": "(function(root) {\n  function embed_document(root) {\n  const docs_json = {\"26b5f58b-2583-4349-9f56-8dea009d9503\":{\"version\":\"3.7.3\",\"title\":\"Bokeh Application\",\"roots\":[{\"type\":\"object\",\"name\":\"Figure\",\"id\":\"p1004\",\"attributes\":{\"x_range\":{\"type\":\"object\",\"name\":\"DataRange1d\",\"id\":\"p1006\"},\"y_range\":{\"type\":\"object\",\"name\":\"DataRange1d\",\"id\":\"p1003\",\"attributes\":{\"start\":0}},\"x_scale\":{\"type\":\"object\",\"name\":\"LinearScale\",\"id\":\"p1013\"},\"y_scale\":{\"type\":\"object\",\"name\":\"LinearScale\",\"id\":\"p1014\"},\"title\":{\"type\":\"object\",\"name\":\"Title\",\"id\":\"p1011\"},\"renderers\":[{\"type\":\"object\",\"name\":\"GlyphRenderer\",\"id\":\"p1044\",\"attributes\":{\"data_source\":{\"type\":\"object\",\"name\":\"ColumnDataSource\",\"id\":\"p1038\",\"attributes\":{\"selected\":{\"type\":\"object\",\"name\":\"Selection\",\"id\":\"p1039\",\"attributes\":{\"indices\":[],\"line_indices\":[]}},\"selection_policy\":{\"type\":\"object\",\"name\":\"UnionRenderers\",\"id\":\"p1040\"},\"data\":{\"type\":\"map\",\"entries\":[[\"x\",{\"type\":\"ndarray\",\"array\":{\"type\":\"bytes\",\"data\":\"1odA9k4cEsDWh0D2ThwSwPDzbxp+XhHA8PNvGn5eEcAKYJ8+raAQwApgnz6toBDAR5idxbjFD8BHmJ3FuMUPwHtw/A0XSg7Ae3D8DRdKDsCuSFtWdc4MwK5IW1Z1zgzA4iC6ntNSC8DiILqe01ILwBb5GOcx1wnAFvkY5zHXCcBK0XcvkFsIwErRdy+QWwjAfanWd+7fBsB9qdZ37t8GwLGBNcBMZAXAsYE1wExkBcDlWZQIq+gDwOVZlAir6APAGDLzUAltAsAYMvNQCW0CwEwKUpln8QDATApSmWfxAMAAxWHDi+v+vwDFYcOL6/6/ZnUfVEj0+79mdR9USPT7v84l3eQE/fi/ziXd5AT9+L821pp1wQX2vzbWmnXBBfa/nIZYBn4O87+chlgGfg7zvwQ3Fpc6F/C/BDcWlzoX8L/YzqdP7j/qv9jOp0/uP+q/pC8jcWdR5L+kLyNxZ1Hkv/AgPSXBxdy/8CA9JcHF3L+A4jNos+jQv4DiM2iz6NC/gJCqrJYutL+AkKqsli60vwBpekegRbs/AGl6R6BFuz+g2OfOda7SP6DY5851rtI/ABfxi4OL3j8AF/GLg4veP7AqfaRINOU/sCp9pEg05T/oyQGDzyLrP+jJAYPPIus/jDTDMKuI8D+MNMMwq4jwPySEBaDuf/M/JIQFoO5/8z+800cPMnf2P7zTRw8yd/Y/VCOKfnVu+T9UI4p+dW75P+xyzO24Zfw/7HLM7bhl/D+Ewg5d/Fz/P4TCDl38XP8/EIko5h8qAUAQiSjmHyoBQNywyZ3BpQJA3LDJncGlAkCo2GpVYyEEQKjYalVjIQRAdAAMDQWdBUB0AAwNBZ0FQEAorcSmGAdAQCitxKYYB0AMUE58SJQIQAxQTnxIlAhA2nfvM+oPCkDad+8z6g8KQKafkOuLiwtApp+Q64uLC0BwxzGjLQcNQHDHMaMtBw1AQO/SWs+CDkBA79Jaz4IOQAwXdBJx/g9ADBd0EnH+D0BsnwplCb0QQGyfCmUJvRBAUjPbQNp6EUBSM9tA2noRQDjHqxyrOBJAOMerHKs4EkAdW3z4e/YSQB1bfPh79hJA\"},\"shape\":[102],\"dtype\":\"float64\",\"order\":\"little\"}],[\"y\",{\"type\":\"ndarray\",\"array\":{\"type\":\"bytes\",\"data\":\"AAAAAAAAAAAEH9cpfDYlPwQf1yl8NiU/BdQejaVIDD8F1B6NpUgMP/PTHo2lSBw/89MejaVIHD+DRDN4Z60xP4NEM3hnrTE/9h7XKXw2NT/2HtcpfDY1P4euwj660U8/h67CPrrRTz/F5kw0G4RaP8XmTDQbhFo/dWsYnvgSaj91axie+BJqP5UVQFbBGHY/lRVAVsEYdj8H6IuHjViBPwfoi4eNWIE/ymRJ9VW4jT/KZEn1VbiNPwkrNihPF5c/CSs2KE8Xlz/dRZeN8w6jP91Fl43zDqM/QkP0JPXYqj9CQ/Qk9diqP5ve9LPSOrI/m970s9I6sj/xx7+O0me6P/HHv47SZ7o/1YH0vZWNwT/VgfS9lY3BP8JXeYj+s8U/wld5iP6zxT8NugnUa+fLPw26CdRr58s/FwSEses+0T8XBISx6z7RPwogr4p3stM/CiCviney0z+kWg4E6enVP6RaDgTp6dU/Pq7QK87R1z8+rtArztHXP6fiU6Ok7Ng/p+JTo6Ts2D/2m/uJu+7ZP/ab+4m77tk/0LEXsn642D/QsReyfrjYP9xrPvQt3tc/3Gs+9C3e1z8ouZhl58PVPyi5mGXnw9U/JD6KJfod0z8kPool+h3TP6YAPSs7WNA/pgA9KztY0D81OatGdArLPzU5q0Z0Css/m/DWrt3fxD+b8Nau3d/EP8v7xD4sncA/y/vEPiydwD+iDhiou2W5P6IOGKi7Zbk/B+iLh41YsT8H6IuHjVixPweze8cKGqo/B7N7xwoaqj+QTnxW6HuhP5BOfFboe6E/RAypggb7lj9EDKmCBvuWPx2pMumJS4o/Haky6YlLij/lt1kSde9+P+W3WRJ1734/h67CPrrRbz+HrsI+utFvP6kxBdHxcWM/qTEF0fFxYz9FwfDlLw1eP0XB8OUvDV4/IR/XKXw2RT8hH9cpfDZFPzCuwj660T8/MK7CPrrRPz8EH9cpfDYlPwQf1yl8NiU/AAAAAAAAAAAAAAAAAAAAAAAAAAAAAAAAAAAAAAAAAAAF1B6NpUgMPwXUHo2lSAw/K9QejaVIDD8r1B6NpUgMPwAAAAAAAAAA\"},\"shape\":[102],\"dtype\":\"float64\",\"order\":\"little\"}]]}}},\"view\":{\"type\":\"object\",\"name\":\"CDSView\",\"id\":\"p1045\",\"attributes\":{\"filter\":{\"type\":\"object\",\"name\":\"AllIndices\",\"id\":\"p1046\"}}},\"glyph\":{\"type\":\"object\",\"name\":\"Line\",\"id\":\"p1041\",\"attributes\":{\"x\":{\"type\":\"field\",\"field\":\"x\"},\"y\":{\"type\":\"field\",\"field\":\"y\"},\"line_color\":\"#1f77b3\",\"line_width\":2}},\"nonselection_glyph\":{\"type\":\"object\",\"name\":\"Line\",\"id\":\"p1042\",\"attributes\":{\"x\":{\"type\":\"field\",\"field\":\"x\"},\"y\":{\"type\":\"field\",\"field\":\"y\"},\"line_color\":\"#1f77b3\",\"line_alpha\":0.1,\"line_width\":2}},\"muted_glyph\":{\"type\":\"object\",\"name\":\"Line\",\"id\":\"p1043\",\"attributes\":{\"x\":{\"type\":\"field\",\"field\":\"x\"},\"y\":{\"type\":\"field\",\"field\":\"y\"},\"line_color\":\"#1f77b3\",\"line_alpha\":0.2,\"line_width\":2}}}},{\"type\":\"object\",\"name\":\"GlyphRenderer\",\"id\":\"p1055\",\"attributes\":{\"data_source\":{\"type\":\"object\",\"name\":\"ColumnDataSource\",\"id\":\"p1049\",\"attributes\":{\"selected\":{\"type\":\"object\",\"name\":\"Selection\",\"id\":\"p1050\",\"attributes\":{\"indices\":[],\"line_indices\":[]}},\"selection_policy\":{\"type\":\"object\",\"name\":\"UnionRenderers\",\"id\":\"p1051\"},\"data\":{\"type\":\"map\",\"entries\":[[\"x\",{\"type\":\"ndarray\",\"array\":{\"type\":\"bytes\",\"data\":\"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\"},\"shape\":[200],\"dtype\":\"float64\",\"order\":\"little\"}],[\"y\",{\"type\":\"ndarray\",\"array\":{\"type\":\"bytes\",\"data\":\"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\"},\"shape\":[200],\"dtype\":\"float64\",\"order\":\"little\"}]]}}},\"view\":{\"type\":\"object\",\"name\":\"CDSView\",\"id\":\"p1056\",\"attributes\":{\"filter\":{\"type\":\"object\",\"name\":\"AllIndices\",\"id\":\"p1057\"}}},\"glyph\":{\"type\":\"object\",\"name\":\"Line\",\"id\":\"p1052\",\"attributes\":{\"x\":{\"type\":\"field\",\"field\":\"x\"},\"y\":{\"type\":\"field\",\"field\":\"y\"},\"line_color\":\"orange\",\"line_width\":2}},\"nonselection_glyph\":{\"type\":\"object\",\"name\":\"Line\",\"id\":\"p1053\",\"attributes\":{\"x\":{\"type\":\"field\",\"field\":\"x\"},\"y\":{\"type\":\"field\",\"field\":\"y\"},\"line_color\":\"orange\",\"line_alpha\":0.1,\"line_width\":2}},\"muted_glyph\":{\"type\":\"object\",\"name\":\"Line\",\"id\":\"p1054\",\"attributes\":{\"x\":{\"type\":\"field\",\"field\":\"x\"},\"y\":{\"type\":\"field\",\"field\":\"y\"},\"line_color\":\"orange\",\"line_alpha\":0.2,\"line_width\":2}}}}],\"toolbar\":{\"type\":\"object\",\"name\":\"Toolbar\",\"id\":\"p1012\",\"attributes\":{\"tools\":[{\"type\":\"object\",\"name\":\"PanTool\",\"id\":\"p1025\"},{\"type\":\"object\",\"name\":\"WheelZoomTool\",\"id\":\"p1026\",\"attributes\":{\"renderers\":\"auto\"}},{\"type\":\"object\",\"name\":\"BoxZoomTool\",\"id\":\"p1027\",\"attributes\":{\"dimensions\":\"both\",\"overlay\":{\"type\":\"object\",\"name\":\"BoxAnnotation\",\"id\":\"p1028\",\"attributes\":{\"syncable\":false,\"line_color\":\"black\",\"line_alpha\":1.0,\"line_width\":2,\"line_dash\":[4,4],\"fill_color\":\"lightgrey\",\"fill_alpha\":0.5,\"level\":\"overlay\",\"visible\":false,\"left\":{\"type\":\"number\",\"value\":\"nan\"},\"right\":{\"type\":\"number\",\"value\":\"nan\"},\"top\":{\"type\":\"number\",\"value\":\"nan\"},\"bottom\":{\"type\":\"number\",\"value\":\"nan\"},\"left_units\":\"canvas\",\"right_units\":\"canvas\",\"top_units\":\"canvas\",\"bottom_units\":\"canvas\",\"handles\":{\"type\":\"object\",\"name\":\"BoxInteractionHandles\",\"id\":\"p1034\",\"attributes\":{\"all\":{\"type\":\"object\",\"name\":\"AreaVisuals\",\"id\":\"p1033\",\"attributes\":{\"fill_color\":\"white\",\"hover_fill_color\":\"lightgray\"}}}}}}}},{\"type\":\"object\",\"name\":\"SaveTool\",\"id\":\"p1035\"},{\"type\":\"object\",\"name\":\"ResetTool\",\"id\":\"p1036\"},{\"type\":\"object\",\"name\":\"HelpTool\",\"id\":\"p1037\"}]}},\"toolbar_location\":\"above\",\"left\":[{\"type\":\"object\",\"name\":\"LinearAxis\",\"id\":\"p1020\",\"attributes\":{\"ticker\":{\"type\":\"object\",\"name\":\"BasicTicker\",\"id\":\"p1021\",\"attributes\":{\"mantissas\":[1,2,5]}},\"formatter\":{\"type\":\"object\",\"name\":\"BasicTickFormatter\",\"id\":\"p1022\"},\"axis_label\":\"density\",\"major_label_policy\":{\"type\":\"object\",\"name\":\"AllLabels\",\"id\":\"p1023\"}}}],\"below\":[{\"type\":\"object\",\"name\":\"LinearAxis\",\"id\":\"p1015\",\"attributes\":{\"ticker\":{\"type\":\"object\",\"name\":\"BasicTicker\",\"id\":\"p1016\",\"attributes\":{\"mantissas\":[1,2,5]}},\"formatter\":{\"type\":\"object\",\"name\":\"BasicTickFormatter\",\"id\":\"p1017\"},\"axis_label\":\"x\",\"major_label_policy\":{\"type\":\"object\",\"name\":\"AllLabels\",\"id\":\"p1018\"}}}],\"center\":[{\"type\":\"object\",\"name\":\"Grid\",\"id\":\"p1019\",\"attributes\":{\"axis\":{\"id\":\"p1015\"}}},{\"type\":\"object\",\"name\":\"Grid\",\"id\":\"p1024\",\"attributes\":{\"dimension\":1,\"axis\":{\"id\":\"p1020\"}}}],\"frame_width\":375,\"frame_height\":275}}]}};\n  const render_items = [{\"docid\":\"26b5f58b-2583-4349-9f56-8dea009d9503\",\"roots\":{\"p1004\":\"be022806-0eb7-4120-92a5-8e23bc2e38dd\"},\"root_ids\":[\"p1004\"]}];\n  void root.Bokeh.embed.embed_items_notebook(docs_json, render_items);\n  }\n  if (root.Bokeh !== undefined) {\n    embed_document(root);\n  } else {\n    let attempts = 0;\n    const timer = setInterval(function(root) {\n      if (root.Bokeh !== undefined) {\n        clearInterval(timer);\n        embed_document(root);\n      } else {\n        attempts++;\n        if (attempts > 100) {\n          clearInterval(timer);\n          console.log(\"Bokeh: ERROR: Unable to run BokehJS code because BokehJS library is missing\");\n        }\n      }\n    }, 10, root)\n  }\n})(window);",
      "application/vnd.bokehjs_exec.v0+json": ""
     },
     "metadata": {
      "application/vnd.bokehjs_exec.v0+json": {
       "id": "p1004"
      }
     },
     "output_type": "display_data"
    }
   ],
   "source": [
    "# x-values for plotting.\n",
    "x = np.linspace(-5, 5, 200)\n",
    "\n",
    "# Compute PDF using scipy.stats\n",
    "pdf = st.norm.pdf(x, loc=0, scale=1)\n",
    "\n",
    "# Add to the plot\n",
    "p.line(x, pdf, line_color='orange', line_width=2)\n",
    "\n",
    "bokeh.io.show(p)"
   ]
  },
  {
   "cell_type": "markdown",
   "metadata": {},
   "source": [
    "The usage of NumPy and SciPy for these distributions can get tricky because distributions can be parametrized in different ways. As an example, instead of parametrizing the Normal distribution with $\\sigma$, we could parametrize it with $\\tau \\equiv 1/\\sigma$. In this case, the PDF is\n",
    "\n",
    "\\begin{align}\n",
    "f(x;\\mu, \\tau) = \\frac{\\tau}{\\sqrt{2\\pi}}\\,\\mathrm{e}^{-\\tau^2(x-\\mu)^2/2}.\n",
    "\\end{align}\n",
    "\n",
    "It is important to keep everything straight. To do this, I generally use the parametrizations used by the [Stan software package](https://mc-stan.org/). To help me keep things straight, I built the [Probability Distribution Explorer](https://distribution-explorer.github.io/). I encourage you to spend some time with the Distribution Explorer to familiarize yourself with distributions and how to sample out of them with NumPy and compute PDFs, PMFs, and CDFs with `scipy.stats`.\n",
    "\n",
    "**a)** Draw 100,000 samples out of a Gamma distribution with parameters $\\alpha = 5$ and $\\beta = 2$, and plot a histogram. Then, plot the PDF of the Gamma distribution with these parameters.\n",
    "\n",
    "**b)** Draw 100,000 samples out of a Negative Bionomial distribution with parameters $\\alpha = 20$ and $\\beta = 2$ and plot a spike plot (You should use the `fraction=True` kwarg with `iqplot.spike()`). Then, plot the PMF of the Negative Binomial distribution with these parameters."
   ]
  },
  {
   "cell_type": "markdown",
   "metadata": {},
   "source": [
    "## Solution\n",
    "\n",
    "<hr>"
   ]
  },
  {
   "cell_type": "markdown",
   "metadata": {},
   "source": [
    "**a)** We read the [Distribution Explorer page for the Gamma distribution](https://distribution-explorer.github.io/continuous/gamma.html) to get the syntax for sampling and computing the PDF."
   ]
  },
  {
   "cell_type": "code",
   "execution_count": 4,
   "metadata": {},
   "outputs": [
    {
     "data": {
      "text/html": [
       "\n",
       "  <div id=\"c3df0182-1b0d-4e86-b3a4-e2b6d8abd941\" data-root-id=\"p1063\" style=\"display: contents;\"></div>\n"
      ]
     },
     "metadata": {},
     "output_type": "display_data"
    },
    {
     "data": {
      "application/javascript": "(function(root) {\n  function embed_document(root) {\n  const docs_json = {\"c37fcc6d-8e57-4ad1-90f1-ee9534f8b0af\":{\"version\":\"3.7.3\",\"title\":\"Bokeh Application\",\"roots\":[{\"type\":\"object\",\"name\":\"Figure\",\"id\":\"p1063\",\"attributes\":{\"x_range\":{\"type\":\"object\",\"name\":\"DataRange1d\",\"id\":\"p1065\"},\"y_range\":{\"type\":\"object\",\"name\":\"DataRange1d\",\"id\":\"p1062\",\"attributes\":{\"start\":0}},\"x_scale\":{\"type\":\"object\",\"name\":\"LinearScale\",\"id\":\"p1072\"},\"y_scale\":{\"type\":\"object\",\"name\":\"LinearScale\",\"id\":\"p1073\"},\"title\":{\"type\":\"object\",\"name\":\"Title\",\"id\":\"p1070\"},\"renderers\":[{\"type\":\"object\",\"name\":\"GlyphRenderer\",\"id\":\"p1103\",\"attributes\":{\"data_source\":{\"type\":\"object\",\"name\":\"ColumnDataSource\",\"id\":\"p1097\",\"attributes\":{\"selected\":{\"type\":\"object\",\"name\":\"Selection\",\"id\":\"p1098\",\"attributes\":{\"indices\":[],\"line_indices\":[]}},\"selection_policy\":{\"type\":\"object\",\"name\":\"UnionRenderers\",\"id\":\"p1099\"},\"data\":{\"type\":\"map\",\"entries\":[[\"x\",{\"type\":\"ndarray\",\"array\":{\"type\":\"bytes\",\"data\":\"NOqohOyPwD806qiE7I/AP5Aq21QOU9c/kCrbVA5T1z8D8LAzEy/jPwPwsDMTL+M/vkr0PJ+06j++SvQ8n7TqP7zSG6MVHfE/vNIboxUd8T8agL2n29/0PxqAvafb3/Q/eC1frKGi+D94LV+soaL4P9TaALFnZfw/1NoAsWdl/D8ZRNHaFhQAQBlE0doWFABAyBoi3Xn1AUDIGiLdefUBQHfxct/c1gNAd/Fy39zWA0AlyMPhP7gFQCXIw+E/uAVA1J4U5KKZB0DUnhTkopkHQIN1ZeYFewlAg3Vl5gV7CUAxTLboaFwLQDFMtuhoXAtA4CIH68s9DUDgIgfryz0NQI/5V+0uHw9Aj/lX7S4fD0AfaNT3SIAQQB9o1PdIgBBAd9P8ePpwEUB30/x4+nARQM4+JfqrYRJAzj4l+qthEkAmqk17XVITQCaqTXtdUhNAfRV2/A5DFEB9FXb8DkMUQNSAnn3AMxVA1ICefcAzFUAs7Mb+cSQWQCzsxv5xJBZAg1fvfyMVF0CDV+9/IxUXQNrCFwHVBRhA2sIXAdUFGEAyLkCChvYYQDIuQIKG9hhAiZloAzjnGUCJmWgDOOcZQOAEkYTp1xpA4ASRhOnXGkA4cLkFm8gbQDhwuQWbyBtAj9vhhky5HECP2+GGTLkcQOdGCgj+qR1A50YKCP6pHUA+sjKJr5oeQD6yMomvmh5AlR1bCmGLH0CVHVsKYYsfQHbEwUUJPiBAdsTBRQk+IEAi+lUGYrYgQCL6VQZitiBAzi/qxrouIUDOL+rGui4hQHllfocTpyFAeWV+hxOnIUAlmxJIbB8iQCWbEkhsHyJA0dCmCMWXIkDR0KYIxZciQH0GO8kdECNAfQY7yR0QI0AoPM+JdogjQCg8z4l2iCNA1HFjSs8AJEDUcWNKzwAkQICn9wooeSRAgKf3Cih5JEAr3YvLgPEkQCvdi8uA8SRA1xIgjNlpJUDXEiCM2WklQINItEwy4iVAg0i0TDLiJUAufkgNi1omQC5+SA2LWiZA2rPczePSJkDas9zN49ImQIbpcI48SydAhulwjjxLJ0AxHwVPlcMnQDEfBU+VwydA\"},\"shape\":[102],\"dtype\":\"float64\",\"order\":\"little\"}],[\"y\",{\"type\":\"ndarray\",\"array\":{\"type\":\"bytes\",\"data\":\"AAAAAAAAAABBiSQ2mLpwP0GJJDaYunA/n/xWvQPXnD+f/Fa9A9ecPwBiN2b9sbU/AGI3Zv2xtT+VAKclYYXFP5UApyVhhcU/DrLMhSt0zz8OssyFK3TPP6kZWrk5MdQ/qRlauTkx1D8jEjPuDO3WPyMSM+4M7dY/BRThimf92D8FFOGKZ/3YPwUU4Ypn/dg/BRThimf92D9vwrNMArPXP2/Cs0wCs9c/k4Zt/rfC1T+Thm3+t8LVP0HUPgNo7NI/QdQ+A2js0j+tbyQBXhzQP61vJAFeHNA/WyXofC3ayj9bJeh8LdrKP5Rea8I/YMY/lF5rwj9gxj/7bCrV50fCP/tsKtXnR8I/guOjKSsrvj+C46MpKyu+P4b/ksvJWbc/hv+Sy8lZtz8NRjzzBhGxPw1GPPMGEbE/goMx8PE/qz+CgzHw8T+rPxPccI2mdKU/E9xwjaZ0pT8YXuf9nwOdPxhe5/2fA50/qpJ/hkvIlT+qkn+GS8iVP9t8jdceKpE/23yN1x4qkT84R+H02zmKPzhH4fTbOYo/pz6a/r9Xgz+nPpr+v1eDPxVf+1c3L3s/FV/7Vzcvez/iJWxBzTZ0P+IlbEHNNnQ/Y8KzTAKzZz9jwrNMArNnP1Ix70Wvm2U/UjHvRa+bZT9/A+MzJwhgP38D4zMnCGA/CrcwSCBOVj8KtzBIIE5WPwAPZjgJbVE/AA9mOAltUT8KtzBIIE5GPwq3MEggTkY/pZSnOnofQj+llKc6eh9CP9LNNlHkFzk/0s02UeQXOT8itzBIIE42PyK3MEggTjY/r+Q8WqjhKz+v5DxaqOErPzaJJDaYuiA/NokkNpi6ID+v5DxaqOErP6/kPFqo4Ss/IrcwSCBOBj8itzBIIE4GPwAAAAAAAAAAAAAAAAAAAADztjBIIE4WP/O2MEggThY/IrcwSCBOFj8itzBIIE4WPwAAAAAAAAAAAAAAAAAAAAAAAAAAAAAAAAAAAAAAAAAAAAAAAAAAAAAAAAAAAAAAAAAAAAAAAAAAAAAAAAAAAAAAAAAAAAAAAAAAAAAAAAAAIrcwSCBOBj8itzBIIE4GPwAAAAAAAAAA\"},\"shape\":[102],\"dtype\":\"float64\",\"order\":\"little\"}]]}}},\"view\":{\"type\":\"object\",\"name\":\"CDSView\",\"id\":\"p1104\",\"attributes\":{\"filter\":{\"type\":\"object\",\"name\":\"AllIndices\",\"id\":\"p1105\"}}},\"glyph\":{\"type\":\"object\",\"name\":\"Line\",\"id\":\"p1100\",\"attributes\":{\"x\":{\"type\":\"field\",\"field\":\"x\"},\"y\":{\"type\":\"field\",\"field\":\"y\"},\"line_color\":\"#1f77b3\",\"line_width\":2}},\"nonselection_glyph\":{\"type\":\"object\",\"name\":\"Line\",\"id\":\"p1101\",\"attributes\":{\"x\":{\"type\":\"field\",\"field\":\"x\"},\"y\":{\"type\":\"field\",\"field\":\"y\"},\"line_color\":\"#1f77b3\",\"line_alpha\":0.1,\"line_width\":2}},\"muted_glyph\":{\"type\":\"object\",\"name\":\"Line\",\"id\":\"p1102\",\"attributes\":{\"x\":{\"type\":\"field\",\"field\":\"x\"},\"y\":{\"type\":\"field\",\"field\":\"y\"},\"line_color\":\"#1f77b3\",\"line_alpha\":0.2,\"line_width\":2}}}},{\"type\":\"object\",\"name\":\"GlyphRenderer\",\"id\":\"p1112\",\"attributes\":{\"data_source\":{\"type\":\"object\",\"name\":\"ColumnDataSource\",\"id\":\"p1106\",\"attributes\":{\"selected\":{\"type\":\"object\",\"name\":\"Selection\",\"id\":\"p1107\",\"attributes\":{\"indices\":[],\"line_indices\":[]}},\"selection_policy\":{\"type\":\"object\",\"name\":\"UnionRenderers\",\"id\":\"p1108\"},\"data\":{\"type\":\"map\",\"entries\":[[\"x\",{\"type\":\"ndarray\",\"array\":{\"type\":\"bytes\",\"data\":\"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\"},\"shape\":[200],\"dtype\":\"float64\",\"order\":\"little\"}],[\"y\",{\"type\":\"ndarray\",\"array\":{\"type\":\"bytes\",\"data\":\"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\"},\"shape\":[200],\"dtype\":\"float64\",\"order\":\"little\"}]]}}},\"view\":{\"type\":\"object\",\"name\":\"CDSView\",\"id\":\"p1113\",\"attributes\":{\"filter\":{\"type\":\"object\",\"name\":\"AllIndices\",\"id\":\"p1114\"}}},\"glyph\":{\"type\":\"object\",\"name\":\"Line\",\"id\":\"p1109\",\"attributes\":{\"x\":{\"type\":\"field\",\"field\":\"x\"},\"y\":{\"type\":\"field\",\"field\":\"y\"},\"line_color\":\"orange\",\"line_width\":2}},\"nonselection_glyph\":{\"type\":\"object\",\"name\":\"Line\",\"id\":\"p1110\",\"attributes\":{\"x\":{\"type\":\"field\",\"field\":\"x\"},\"y\":{\"type\":\"field\",\"field\":\"y\"},\"line_color\":\"orange\",\"line_alpha\":0.1,\"line_width\":2}},\"muted_glyph\":{\"type\":\"object\",\"name\":\"Line\",\"id\":\"p1111\",\"attributes\":{\"x\":{\"type\":\"field\",\"field\":\"x\"},\"y\":{\"type\":\"field\",\"field\":\"y\"},\"line_color\":\"orange\",\"line_alpha\":0.2,\"line_width\":2}}}}],\"toolbar\":{\"type\":\"object\",\"name\":\"Toolbar\",\"id\":\"p1071\",\"attributes\":{\"tools\":[{\"type\":\"object\",\"name\":\"PanTool\",\"id\":\"p1084\"},{\"type\":\"object\",\"name\":\"WheelZoomTool\",\"id\":\"p1085\",\"attributes\":{\"renderers\":\"auto\"}},{\"type\":\"object\",\"name\":\"BoxZoomTool\",\"id\":\"p1086\",\"attributes\":{\"dimensions\":\"both\",\"overlay\":{\"type\":\"object\",\"name\":\"BoxAnnotation\",\"id\":\"p1087\",\"attributes\":{\"syncable\":false,\"line_color\":\"black\",\"line_alpha\":1.0,\"line_width\":2,\"line_dash\":[4,4],\"fill_color\":\"lightgrey\",\"fill_alpha\":0.5,\"level\":\"overlay\",\"visible\":false,\"left\":{\"type\":\"number\",\"value\":\"nan\"},\"right\":{\"type\":\"number\",\"value\":\"nan\"},\"top\":{\"type\":\"number\",\"value\":\"nan\"},\"bottom\":{\"type\":\"number\",\"value\":\"nan\"},\"left_units\":\"canvas\",\"right_units\":\"canvas\",\"top_units\":\"canvas\",\"bottom_units\":\"canvas\",\"handles\":{\"type\":\"object\",\"name\":\"BoxInteractionHandles\",\"id\":\"p1093\",\"attributes\":{\"all\":{\"type\":\"object\",\"name\":\"AreaVisuals\",\"id\":\"p1092\",\"attributes\":{\"fill_color\":\"white\",\"hover_fill_color\":\"lightgray\"}}}}}}}},{\"type\":\"object\",\"name\":\"SaveTool\",\"id\":\"p1094\"},{\"type\":\"object\",\"name\":\"ResetTool\",\"id\":\"p1095\"},{\"type\":\"object\",\"name\":\"HelpTool\",\"id\":\"p1096\"}]}},\"toolbar_location\":\"above\",\"left\":[{\"type\":\"object\",\"name\":\"LinearAxis\",\"id\":\"p1079\",\"attributes\":{\"ticker\":{\"type\":\"object\",\"name\":\"BasicTicker\",\"id\":\"p1080\",\"attributes\":{\"mantissas\":[1,2,5]}},\"formatter\":{\"type\":\"object\",\"name\":\"BasicTickFormatter\",\"id\":\"p1081\"},\"axis_label\":\"density\",\"major_label_policy\":{\"type\":\"object\",\"name\":\"AllLabels\",\"id\":\"p1082\"}}}],\"below\":[{\"type\":\"object\",\"name\":\"LinearAxis\",\"id\":\"p1074\",\"attributes\":{\"ticker\":{\"type\":\"object\",\"name\":\"BasicTicker\",\"id\":\"p1075\",\"attributes\":{\"mantissas\":[1,2,5]}},\"formatter\":{\"type\":\"object\",\"name\":\"BasicTickFormatter\",\"id\":\"p1076\"},\"axis_label\":\"x\",\"major_label_policy\":{\"type\":\"object\",\"name\":\"AllLabels\",\"id\":\"p1077\"}}}],\"center\":[{\"type\":\"object\",\"name\":\"Grid\",\"id\":\"p1078\",\"attributes\":{\"axis\":{\"id\":\"p1074\"}}},{\"type\":\"object\",\"name\":\"Grid\",\"id\":\"p1083\",\"attributes\":{\"dimension\":1,\"axis\":{\"id\":\"p1079\"}}}],\"frame_width\":375,\"frame_height\":275}}]}};\n  const render_items = [{\"docid\":\"c37fcc6d-8e57-4ad1-90f1-ee9534f8b0af\",\"roots\":{\"p1063\":\"c3df0182-1b0d-4e86-b3a4-e2b6d8abd941\"},\"root_ids\":[\"p1063\"]}];\n  void root.Bokeh.embed.embed_items_notebook(docs_json, render_items);\n  }\n  if (root.Bokeh !== undefined) {\n    embed_document(root);\n  } else {\n    let attempts = 0;\n    const timer = setInterval(function(root) {\n      if (root.Bokeh !== undefined) {\n        clearInterval(timer);\n        embed_document(root);\n      } else {\n        attempts++;\n        if (attempts > 100) {\n          clearInterval(timer);\n          console.log(\"Bokeh: ERROR: Unable to run BokehJS code because BokehJS library is missing\");\n        }\n      }\n    }, 10, root)\n  }\n})(window);",
      "application/vnd.bokehjs_exec.v0+json": ""
     },
     "metadata": {
      "application/vnd.bokehjs_exec.v0+json": {
       "id": "p1063"
      }
     },
     "output_type": "display_data"
    }
   ],
   "source": [
    "# Parameters\n",
    "alpha = 5\n",
    "beta = 2\n",
    "\n",
    "# Set up random number generator\n",
    "rng = np.random.default_rng()\n",
    "\n",
    "# Draw samples\n",
    "samples = rng.gamma(alpha, 1 / beta, size=100_000)\n",
    "\n",
    "# Histogram\n",
    "p = iqplot.histogram(\n",
    "    samples, bins=50, style='step', density=True, rug=False\n",
    ")\n",
    "\n",
    "# PDF\n",
    "x = np.linspace(0, 12, 200)\n",
    "pdf = st.gamma.pdf(x, alpha, loc=0, scale=1 / beta)\n",
    "p.line(x, pdf, line_color='orange', line_width=2)\n",
    "\n",
    "bokeh.io.show(p)"
   ]
  },
  {
   "cell_type": "markdown",
   "metadata": {},
   "source": [
    "**b)** The Negative Binomial is notoriously tricky. We have to again be sure to follow the syntax in the Distribution Explorer."
   ]
  },
  {
   "cell_type": "code",
   "execution_count": 5,
   "metadata": {},
   "outputs": [
    {
     "data": {
      "text/html": [
       "\n",
       "  <div id=\"dc6ef37f-cc17-48ac-a073-0eff8afcf55f\" data-root-id=\"p1120\" style=\"display: contents;\"></div>\n"
      ]
     },
     "metadata": {},
     "output_type": "display_data"
    },
    {
     "data": {
      "application/javascript": "(function(root) {\n  function embed_document(root) {\n  const docs_json = {\"6ec9e495-f2e1-4c18-bc35-22fd5a797491\":{\"version\":\"3.7.3\",\"title\":\"Bokeh Application\",\"roots\":[{\"type\":\"object\",\"name\":\"Figure\",\"id\":\"p1120\",\"attributes\":{\"x_range\":{\"type\":\"object\",\"name\":\"DataRange1d\",\"id\":\"p1122\"},\"y_range\":{\"type\":\"object\",\"name\":\"DataRange1d\",\"id\":\"p1119\",\"attributes\":{\"start\":0}},\"x_scale\":{\"type\":\"object\",\"name\":\"LinearScale\",\"id\":\"p1129\"},\"y_scale\":{\"type\":\"object\",\"name\":\"LinearScale\",\"id\":\"p1130\"},\"title\":{\"type\":\"object\",\"name\":\"Title\",\"id\":\"p1127\"},\"renderers\":[{\"type\":\"object\",\"name\":\"GlyphRenderer\",\"id\":\"p1163\",\"attributes\":{\"data_source\":{\"type\":\"object\",\"name\":\"ColumnDataSource\",\"id\":\"p1154\",\"attributes\":{\"selected\":{\"type\":\"object\",\"name\":\"Selection\",\"id\":\"p1155\",\"attributes\":{\"indices\":[],\"line_indices\":[]}},\"selection_policy\":{\"type\":\"object\",\"name\":\"UnionRenderers\",\"id\":\"p1156\"},\"data\":{\"type\":\"map\",\"entries\":[[\"index\",{\"type\":\"ndarray\",\"array\":{\"type\":\"bytes\",\"data\":\"AAAAAAEAAAACAAAAAwAAAAQAAAAFAAAABgAAAAcAAAAIAAAACQAAAAoAAAALAAAADAAAAA0AAAAOAAAADwAAABAAAAARAAAAEgAAABMAAAAUAAAAFQAAABYAAAAXAAAAGAAAABkAAAAaAAAAGwAAABwAAAAdAAAAHgAAAB8AAAAgAAAAIQAAAA==\"},\"shape\":[34],\"dtype\":\"int32\",\"order\":\"little\"}],[\"x\",{\"type\":\"ndarray\",\"array\":{\"type\":\"bytes\",\"data\":\"CQAAAAoAAAAIAAAACwAAAAcAAAAMAAAABgAAAA0AAAAFAAAADgAAAA8AAAAEAAAAEAAAABEAAAADAAAAEgAAABMAAAACAAAAFAAAABUAAAAWAAAAAQAAABcAAAAYAAAAGQAAAAAAAAAaAAAAGwAAABwAAAAdAAAAHgAAACQAAAAfAAAAIwAAAA==\"},\"shape\":[34],\"dtype\":\"int32\",\"order\":\"little\"}],[\"__count\",{\"type\":\"ndarray\",\"array\":{\"type\":\"bytes\",\"data\":\"nkFD/wQXuz8vUb01sFW6P5ZDi2zn+7k/AB3mywuwtz/nOo20VN62P4Fbd/NUh7Q/8kHPZtXnsj8VxhaCHJSwPynQJ/Ik6ao/bCbfbHNjqj+paoKo+wCkP5sb0xOWeKA/EMzR4/c2nT9VTRB1H4CUPzsZHCWvzpE/IXam0HmNjT+cUIiAQ6iCP1ch5SfVPn0/AmVTrvAudz/mV3OAYI5uP8oV3uUivmM//Knx0k1iYD/CL/XzpiJVP1bxRuaRP0g/aR1VTRB1Pz+eDI6SV+c4P0uwOJz51Sw/S7A4nPnVHD9pHVVNEHUPPy1DHOviNgo/aR1VTRB1/z7xaOOItfjkPvFo44i1+OQ+8WjjiLX45D4=\"},\"shape\":[34],\"dtype\":\"float64\",\"order\":\"little\"}]]}}},\"view\":{\"type\":\"object\",\"name\":\"CDSView\",\"id\":\"p1164\",\"attributes\":{\"filter\":{\"type\":\"object\",\"name\":\"AllIndices\",\"id\":\"p1165\"}}},\"glyph\":{\"type\":\"object\",\"name\":\"Segment\",\"id\":\"p1160\",\"attributes\":{\"x0\":{\"type\":\"field\",\"field\":\"x\"},\"y0\":{\"type\":\"value\",\"value\":0},\"x1\":{\"type\":\"field\",\"field\":\"x\"},\"y1\":{\"type\":\"field\",\"field\":\"__count\"},\"line_color\":{\"type\":\"value\",\"value\":\"#1f77b3\"},\"line_width\":{\"type\":\"value\",\"value\":2}}},\"nonselection_glyph\":{\"type\":\"object\",\"name\":\"Segment\",\"id\":\"p1161\",\"attributes\":{\"x0\":{\"type\":\"field\",\"field\":\"x\"},\"y0\":{\"type\":\"value\",\"value\":0},\"x1\":{\"type\":\"field\",\"field\":\"x\"},\"y1\":{\"type\":\"field\",\"field\":\"__count\"},\"line_color\":{\"type\":\"value\",\"value\":\"#1f77b3\"},\"line_alpha\":{\"type\":\"value\",\"value\":0.1},\"line_width\":{\"type\":\"value\",\"value\":2}}},\"muted_glyph\":{\"type\":\"object\",\"name\":\"Segment\",\"id\":\"p1162\",\"attributes\":{\"x0\":{\"type\":\"field\",\"field\":\"x\"},\"y0\":{\"type\":\"value\",\"value\":0},\"x1\":{\"type\":\"field\",\"field\":\"x\"},\"y1\":{\"type\":\"field\",\"field\":\"__count\"},\"line_color\":{\"type\":\"value\",\"value\":\"#1f77b3\"},\"line_alpha\":{\"type\":\"value\",\"value\":0.2},\"line_width\":{\"type\":\"value\",\"value\":2}}}}},{\"type\":\"object\",\"name\":\"GlyphRenderer\",\"id\":\"p1175\",\"attributes\":{\"data_source\":{\"type\":\"object\",\"name\":\"ColumnDataSource\",\"id\":\"p1166\",\"attributes\":{\"selected\":{\"type\":\"object\",\"name\":\"Selection\",\"id\":\"p1167\",\"attributes\":{\"indices\":[],\"line_indices\":[]}},\"selection_policy\":{\"type\":\"object\",\"name\":\"UnionRenderers\",\"id\":\"p1168\"},\"data\":{\"type\":\"map\",\"entries\":[[\"index\",{\"type\":\"ndarray\",\"array\":{\"type\":\"bytes\",\"data\":\"AAAAAAEAAAACAAAAAwAAAAQAAAAFAAAABgAAAAcAAAAIAAAACQAAAAoAAAALAAAADAAAAA0AAAAOAAAADwAAABAAAAARAAAAEgAAABMAAAAUAAAAFQAAABYAAAAXAAAAGAAAABkAAAAaAAAAGwAAABwAAAAdAAAAHgAAAB8AAAAgAAAAIQAAAA==\"},\"shape\":[34],\"dtype\":\"int32\",\"order\":\"little\"}],[\"x\",{\"type\":\"ndarray\",\"array\":{\"type\":\"bytes\",\"data\":\"CQAAAAoAAAAIAAAACwAAAAcAAAAMAAAABgAAAA0AAAAFAAAADgAAAA8AAAAEAAAAEAAAABEAAAADAAAAEgAAABMAAAACAAAAFAAAABUAAAAWAAAAAQAAABcAAAAYAAAAGQAAAAAAAAAaAAAAGwAAABwAAAAdAAAAHgAAACQAAAAfAAAAIwAAAA==\"},\"shape\":[34],\"dtype\":\"int32\",\"order\":\"little\"}],[\"__count\",{\"type\":\"ndarray\",\"array\":{\"type\":\"bytes\",\"data\":\"nkFD/wQXuz8vUb01sFW6P5ZDi2zn+7k/AB3mywuwtz/nOo20VN62P4Fbd/NUh7Q/8kHPZtXnsj8VxhaCHJSwPynQJ/Ik6ao/bCbfbHNjqj+paoKo+wCkP5sb0xOWeKA/EMzR4/c2nT9VTRB1H4CUPzsZHCWvzpE/IXam0HmNjT+cUIiAQ6iCP1ch5SfVPn0/AmVTrvAudz/mV3OAYI5uP8oV3uUivmM//Knx0k1iYD/CL/XzpiJVP1bxRuaRP0g/aR1VTRB1Pz+eDI6SV+c4P0uwOJz51Sw/S7A4nPnVHD9pHVVNEHUPPy1DHOviNgo/aR1VTRB1/z7xaOOItfjkPvFo44i1+OQ+8WjjiLX45D4=\"},\"shape\":[34],\"dtype\":\"float64\",\"order\":\"little\"}]]}}},\"view\":{\"type\":\"object\",\"name\":\"CDSView\",\"id\":\"p1176\",\"attributes\":{\"filter\":{\"type\":\"object\",\"name\":\"AllIndices\",\"id\":\"p1177\"}}},\"glyph\":{\"type\":\"object\",\"name\":\"Scatter\",\"id\":\"p1172\",\"attributes\":{\"x\":{\"type\":\"field\",\"field\":\"x\"},\"y\":{\"type\":\"field\",\"field\":\"__count\"},\"line_color\":{\"type\":\"value\",\"value\":\"#1f77b3\"},\"fill_color\":{\"type\":\"value\",\"value\":\"#1f77b3\"}}},\"nonselection_glyph\":{\"type\":\"object\",\"name\":\"Scatter\",\"id\":\"p1173\",\"attributes\":{\"x\":{\"type\":\"field\",\"field\":\"x\"},\"y\":{\"type\":\"field\",\"field\":\"__count\"},\"line_color\":{\"type\":\"value\",\"value\":\"#1f77b3\"},\"line_alpha\":{\"type\":\"value\",\"value\":0.1},\"fill_color\":{\"type\":\"value\",\"value\":\"#1f77b3\"},\"fill_alpha\":{\"type\":\"value\",\"value\":0.1},\"hatch_alpha\":{\"type\":\"value\",\"value\":0.1}}},\"muted_glyph\":{\"type\":\"object\",\"name\":\"Scatter\",\"id\":\"p1174\",\"attributes\":{\"x\":{\"type\":\"field\",\"field\":\"x\"},\"y\":{\"type\":\"field\",\"field\":\"__count\"},\"line_color\":{\"type\":\"value\",\"value\":\"#1f77b3\"},\"line_alpha\":{\"type\":\"value\",\"value\":0.2},\"fill_color\":{\"type\":\"value\",\"value\":\"#1f77b3\"},\"fill_alpha\":{\"type\":\"value\",\"value\":0.2},\"hatch_alpha\":{\"type\":\"value\",\"value\":0.2}}}}},{\"type\":\"object\",\"name\":\"GlyphRenderer\",\"id\":\"p1184\",\"attributes\":{\"data_source\":{\"type\":\"object\",\"name\":\"ColumnDataSource\",\"id\":\"p1178\",\"attributes\":{\"selected\":{\"type\":\"object\",\"name\":\"Selection\",\"id\":\"p1179\",\"attributes\":{\"indices\":[],\"line_indices\":[]}},\"selection_policy\":{\"type\":\"object\",\"name\":\"UnionRenderers\",\"id\":\"p1180\"},\"data\":{\"type\":\"map\",\"entries\":[[\"x\",{\"type\":\"ndarray\",\"array\":{\"type\":\"bytes\",\"data\":\"AAAAAAEAAAACAAAAAwAAAAQAAAAFAAAABgAAAAcAAAAIAAAACQAAAAoAAAALAAAADAAAAA0AAAAOAAAADwAAABAAAAARAAAAEgAAABMAAAAUAAAAFQAAABYAAAAXAAAAGAAAABkAAAAaAAAAGwAAABwAAAAdAAAAHgAAAB8AAAAgAAAAIQAAACIAAAA=\"},\"shape\":[35],\"dtype\":\"int32\",\"order\":\"little\"}],[\"y\",{\"type\":\"ndarray\",\"array\":{\"type\":\"bytes\",\"data\":\"bYtHwmO1Mz8x9JDMfWxgP1yr/SXcvXw/GQUbUHiQkT9FOm/3HdWgP9P2sViW7qo/lbJCaOizsj9bMjrK4ie3P6R4gSPfDLo/GpDu690Duz8haTOGVh26PwwxAHqUvbc/fbhjvnhxtD+msURuIcawP/rNImTrW6o/LiSdlW3qoz92f9okNQudP+hKqb9hgJQ/TyScGToYjD83GGhm0bqCP5xSh2tDWXg/bYWXS0Hrbj/08SNpDTVjP9xSsRD6YVc/2QZisOrtSz/iuAkqnmJAP1yG95Lx5zI/MHluTjh5JT/RVumgpgcYP1k8dFAHhAo/sVjwrGjf/D7opt5hwAvvPpdI/jM+fuA+/U7F0XxT0T63BsiibQHCPg==\"},\"shape\":[35],\"dtype\":\"float64\",\"order\":\"little\"}]]}}},\"view\":{\"type\":\"object\",\"name\":\"CDSView\",\"id\":\"p1185\",\"attributes\":{\"filter\":{\"type\":\"object\",\"name\":\"AllIndices\",\"id\":\"p1186\"}}},\"glyph\":{\"type\":\"object\",\"name\":\"Scatter\",\"id\":\"p1181\",\"attributes\":{\"x\":{\"type\":\"field\",\"field\":\"x\"},\"y\":{\"type\":\"field\",\"field\":\"y\"},\"line_color\":{\"type\":\"value\",\"value\":\"orange\"},\"fill_color\":{\"type\":\"value\",\"value\":\"orange\"},\"hatch_color\":{\"type\":\"value\",\"value\":\"orange\"}}},\"nonselection_glyph\":{\"type\":\"object\",\"name\":\"Scatter\",\"id\":\"p1182\",\"attributes\":{\"x\":{\"type\":\"field\",\"field\":\"x\"},\"y\":{\"type\":\"field\",\"field\":\"y\"},\"line_color\":{\"type\":\"value\",\"value\":\"orange\"},\"line_alpha\":{\"type\":\"value\",\"value\":0.1},\"fill_color\":{\"type\":\"value\",\"value\":\"orange\"},\"fill_alpha\":{\"type\":\"value\",\"value\":0.1},\"hatch_color\":{\"type\":\"value\",\"value\":\"orange\"},\"hatch_alpha\":{\"type\":\"value\",\"value\":0.1}}},\"muted_glyph\":{\"type\":\"object\",\"name\":\"Scatter\",\"id\":\"p1183\",\"attributes\":{\"x\":{\"type\":\"field\",\"field\":\"x\"},\"y\":{\"type\":\"field\",\"field\":\"y\"},\"line_color\":{\"type\":\"value\",\"value\":\"orange\"},\"line_alpha\":{\"type\":\"value\",\"value\":0.2},\"fill_color\":{\"type\":\"value\",\"value\":\"orange\"},\"fill_alpha\":{\"type\":\"value\",\"value\":0.2},\"hatch_color\":{\"type\":\"value\",\"value\":\"orange\"},\"hatch_alpha\":{\"type\":\"value\",\"value\":0.2}}}}}],\"toolbar\":{\"type\":\"object\",\"name\":\"Toolbar\",\"id\":\"p1128\",\"attributes\":{\"tools\":[{\"type\":\"object\",\"name\":\"PanTool\",\"id\":\"p1141\"},{\"type\":\"object\",\"name\":\"WheelZoomTool\",\"id\":\"p1142\",\"attributes\":{\"renderers\":\"auto\"}},{\"type\":\"object\",\"name\":\"BoxZoomTool\",\"id\":\"p1143\",\"attributes\":{\"dimensions\":\"both\",\"overlay\":{\"type\":\"object\",\"name\":\"BoxAnnotation\",\"id\":\"p1144\",\"attributes\":{\"syncable\":false,\"line_color\":\"black\",\"line_alpha\":1.0,\"line_width\":2,\"line_dash\":[4,4],\"fill_color\":\"lightgrey\",\"fill_alpha\":0.5,\"level\":\"overlay\",\"visible\":false,\"left\":{\"type\":\"number\",\"value\":\"nan\"},\"right\":{\"type\":\"number\",\"value\":\"nan\"},\"top\":{\"type\":\"number\",\"value\":\"nan\"},\"bottom\":{\"type\":\"number\",\"value\":\"nan\"},\"left_units\":\"canvas\",\"right_units\":\"canvas\",\"top_units\":\"canvas\",\"bottom_units\":\"canvas\",\"handles\":{\"type\":\"object\",\"name\":\"BoxInteractionHandles\",\"id\":\"p1150\",\"attributes\":{\"all\":{\"type\":\"object\",\"name\":\"AreaVisuals\",\"id\":\"p1149\",\"attributes\":{\"fill_color\":\"white\",\"hover_fill_color\":\"lightgray\"}}}}}}}},{\"type\":\"object\",\"name\":\"SaveTool\",\"id\":\"p1151\"},{\"type\":\"object\",\"name\":\"ResetTool\",\"id\":\"p1152\"},{\"type\":\"object\",\"name\":\"HelpTool\",\"id\":\"p1153\"}]}},\"toolbar_location\":\"above\",\"left\":[{\"type\":\"object\",\"name\":\"LinearAxis\",\"id\":\"p1136\",\"attributes\":{\"ticker\":{\"type\":\"object\",\"name\":\"BasicTicker\",\"id\":\"p1137\",\"attributes\":{\"mantissas\":[1,2,5]}},\"formatter\":{\"type\":\"object\",\"name\":\"BasicTickFormatter\",\"id\":\"p1138\"},\"axis_label\":\"fraction\",\"major_label_policy\":{\"type\":\"object\",\"name\":\"AllLabels\",\"id\":\"p1139\"}}}],\"below\":[{\"type\":\"object\",\"name\":\"LinearAxis\",\"id\":\"p1131\",\"attributes\":{\"ticker\":{\"type\":\"object\",\"name\":\"BasicTicker\",\"id\":\"p1132\",\"attributes\":{\"mantissas\":[1,2,5]}},\"formatter\":{\"type\":\"object\",\"name\":\"BasicTickFormatter\",\"id\":\"p1133\"},\"axis_label\":\"x\",\"major_label_policy\":{\"type\":\"object\",\"name\":\"AllLabels\",\"id\":\"p1134\"}}}],\"center\":[{\"type\":\"object\",\"name\":\"Grid\",\"id\":\"p1135\",\"attributes\":{\"axis\":{\"id\":\"p1131\"}}},{\"type\":\"object\",\"name\":\"Grid\",\"id\":\"p1140\",\"attributes\":{\"dimension\":1,\"axis\":{\"id\":\"p1136\"}}}],\"frame_width\":375,\"frame_height\":275}}]}};\n  const render_items = [{\"docid\":\"6ec9e495-f2e1-4c18-bc35-22fd5a797491\",\"roots\":{\"p1120\":\"dc6ef37f-cc17-48ac-a073-0eff8afcf55f\"},\"root_ids\":[\"p1120\"]}];\n  void root.Bokeh.embed.embed_items_notebook(docs_json, render_items);\n  }\n  if (root.Bokeh !== undefined) {\n    embed_document(root);\n  } else {\n    let attempts = 0;\n    const timer = setInterval(function(root) {\n      if (root.Bokeh !== undefined) {\n        clearInterval(timer);\n        embed_document(root);\n      } else {\n        attempts++;\n        if (attempts > 100) {\n          clearInterval(timer);\n          console.log(\"Bokeh: ERROR: Unable to run BokehJS code because BokehJS library is missing\");\n        }\n      }\n    }, 10, root)\n  }\n})(window);",
      "application/vnd.bokehjs_exec.v0+json": ""
     },
     "metadata": {
      "application/vnd.bokehjs_exec.v0+json": {
       "id": "p1120"
      }
     },
     "output_type": "display_data"
    }
   ],
   "source": [
    "# Parameters\n",
    "alpha = 20\n",
    "beta = 2\n",
    "\n",
    "# Set up random number generator\n",
    "rng = np.random.default_rng()\n",
    "\n",
    "# Draw samples\n",
    "samples = rng.negative_binomial(alpha, beta / (1 + beta), size=100_000)\n",
    "\n",
    "# Histogram\n",
    "p = iqplot.spike(samples, fraction=True)\n",
    "\n",
    "# PMF\n",
    "x = np.arange(35)\n",
    "pmf = st.nbinom.pmf(x, alpha, beta / (1 + beta))\n",
    "p.scatter(x, pmf, color='orange')\n",
    "\n",
    "bokeh.io.show(p)"
   ]
  },
  {
   "cell_type": "markdown",
   "metadata": {},
   "source": [
    "## Computing environment"
   ]
  },
  {
   "cell_type": "code",
   "execution_count": 6,
   "metadata": {},
   "outputs": [
    {
     "name": "stdout",
     "output_type": "stream",
     "text": [
      "Python implementation: CPython\n",
      "Python version       : 3.13.5\n",
      "IPython version      : 9.4.0\n",
      "\n",
      "numpy     : 2.2.6\n",
      "scipy     : 1.16.0\n",
      "bokeh     : 3.7.3\n",
      "iqplot    : 0.3.7\n",
      "jupyterlab: 4.4.5\n",
      "\n"
     ]
    }
   ],
   "source": [
    "%load_ext watermark\n",
    "%watermark -v -p numpy,scipy,bokeh,iqplot,jupyterlab"
   ]
  }
 ],
 "metadata": {
  "kernelspec": {
   "display_name": "default",
   "language": "python",
   "name": "python3"
  },
  "language_info": {
   "codemirror_mode": {
    "name": "ipython",
    "version": 3
   },
   "file_extension": ".py",
   "mimetype": "text/x-python",
   "name": "python",
   "nbconvert_exporter": "python",
   "pygments_lexer": "ipython3",
   "version": "3.13.5"
  }
 },
 "nbformat": 4,
 "nbformat_minor": 4
}
