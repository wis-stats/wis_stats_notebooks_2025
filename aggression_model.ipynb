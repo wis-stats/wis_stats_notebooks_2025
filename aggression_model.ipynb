{
  "cells": [
    {
      "cell_type": "markdown",
      "id": "8b143ec1",
      "metadata": {},
      "source": [
        "# Building a model for aggression {#exr-aggression-model}\n",
        "\n",
        "<hr>"
      ]
    },
    {
      "cell_type": "markdown",
      "id": "331c406c",
      "metadata": {},
      "source": [
        "Recall in @sec-matlab-files that we considered the experiment of [Remedios, et al.](https://doi.org/10.1038/nature23885) in which they monitored activity of 115 neurons while simultaneously assessing if the mouse attacked the other mouse in its arena. In looking at @fig-mouse-aggression, we might be able to connect neuronal activity to attack behavior. Your task is to develop a model that, at a given point in time, takes the calcium imaging intensity of the neurons and from these gives a probability of being in attack mode. The model will be informed by all time points in the experiment. That is, you are *not* producing a generative model for the neuronal activity. You are taking it as given (quantified by the intensity of the calcium imaging). You are producing a generative model for the binary variable, `attack`. This is another example of a decoding problem, where the goal is to decode how neuronal activity translates into behavior. (And naturally, you should do prior predictive checks.)\n",
        "\n",
        "This is a challenging problem, and there are \"standard\" models (those quotes around *standard* are loaded, and we will talk about what it means for a model to be standard later on) for this, but I think it is best for you to come up with your own. This really helps to get you thinking about generative modeling."
      ]
    }
  ],
  "metadata": {
    "language_info": {
      "name": "python"
    }
  },
  "nbformat": 4,
  "nbformat_minor": 5
}