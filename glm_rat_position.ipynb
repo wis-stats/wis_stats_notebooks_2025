{
  "cells": [
    {
      "cell_type": "markdown",
      "id": "36171b8c",
      "metadata": {},
      "source": [
        "# A GLM connecting neuronal activity and movement {#exr-glm-rat}\n",
        "\n",
        "*This problem is inspired by and uses data from Chapter 9 of* [*Kramer and Eden's* Case Studies in Neural Data Analysis](https://mark-kramer.github.io/Case-Studies-Python/intro.html).\n",
        "\n",
        "[Data set download](https://github.com/Mark-Kramer/Case-Studies-Python/raw/refs/heads/master/matfiles/spikes-1.mat)"
      ]
    },
    {
      "cell_type": "markdown",
      "id": "aa16e5f7",
      "metadata": {},
      "source": [
        "<hr>\n",
        "\n",
        "Consider an experiment where a rat moves back and forth along a linear maze. A spike train is recorded from a neuron in the hippocampus, as well as the rat's position along the maze. Your task is to develop a GLM that connects the position of the rat in the maze to the spiking rate. Perform inference to get posterior distributions and/or MAP estimates of the parameters."
      ]
    }
  ],
  "metadata": {
    "language_info": {
      "name": "python"
    }
  },
  "nbformat": 4,
  "nbformat_minor": 5
}