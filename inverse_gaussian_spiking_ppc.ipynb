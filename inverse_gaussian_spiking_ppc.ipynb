{
  "cells": [
    {
      "cell_type": "markdown",
      "id": "8f4874b9",
      "metadata": {},
      "source": [
        "# An Inverse Gaussian model for spiking: Prior predictive checks {#exr-invgauss-ppc}\n",
        "\n",
        "<hr>"
      ]
    },
    {
      "cell_type": "markdown",
      "id": "141edbec",
      "metadata": {},
      "source": [
        "In @sec-prior-predictive-checks, we considered a simple experiment wherein we measure the interspike intervals (ISIs) of a retinal ganglion cell exposed to constant light. Your task in this problem is to develop a Bayesian model where the ISIs are all independent and Inverse Gaussian distributed. You should perform prior predictive checks to help you hone your priors. It will help you to read the [section on the Inverse Gaussian distribution in the Distribution Explorer](https://distribution-explorer.github.io/continuous/inverse_gaussian.html) to see how to sample out of the distribution with Numpy and with Stan. When you do your prior predictive checks, assume you observe 200 spikes."
      ]
    }
  ],
  "metadata": {
    "kernelspec": {
      "display_name": "default",
      "language": "python",
      "name": "python3"
    },
    "language_info": {
      "codemirror_mode": {
        "name": "ipython",
        "version": 3
      },
      "file_extension": ".py",
      "mimetype": "text/x-python",
      "name": "python",
      "nbconvert_exporter": "python",
      "pygments_lexer": "ipython3",
      "version": "3.13.5"
    }
  },
  "nbformat": 4,
  "nbformat_minor": 5
}