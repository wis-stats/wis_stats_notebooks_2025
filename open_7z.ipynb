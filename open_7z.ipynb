{
  "cells": [
    {
      "cell_type": "markdown",
      "metadata": {},
      "source": [
        "# Opening a 7z file {#exr-opening-hdf5}\n",
        "\n",
        "[Data set download](https://s3.amazonaws.com/bebi103.caltech.edu/data/Jango_ISO_2015.7z)\n",
        "\n",
        "<hr>"
      ]
    },
    {
      "cell_type": "markdown",
      "metadata": {
        "tags": []
      },
      "source": [
        "[Ma, et al., *eLife*, 2023](https://doi.org/10.7554/eLife.84296) performed experiments measuring M1 neuronal activity of a monkey performing motor tasks moving a cursor on a screen. They simultaneously make electromyographic (EMG) measurements of muscle activity in the monkey's hand. The data sets for the experiment are [available via the Dryad data repository](https://doi.org/10.5061/dryad.cvdncjt7n).\n",
        "\n",
        "We will work with the data set acquired from a monkey named Jango, which can be downloaded here: [https://s3.amazonaws.com/bebi103.caltech.edu/data/Jango_ISO_2015.7z](https://s3.amazonaws.com/bebi103.caltech.edu/data/Jango_ISO_2015.7z). *Warning*: This is a large data set of about 4 GB.\n",
        "\n",
        "**a)** The data set is in the file `Jango_ISO_2015.7z`, which is `7z` format, a not-all-that-commonly-used compression format. Figure out how to expand this file and do so.\n",
        "\n",
        "**b)** Upon expanding the `7z` file, you will find a directory full of `.mat` files. Select the appropriate file and access the pertinent data to make a plot of the EMG trace (just one of the seven locations will do) and of M1 spike times (for all 94 neurons) for times between 200 and 260 seconds for the experiment done on August 24, 2015."
      ]
    }
  ],
  "metadata": {
    "kernelspec": {
      "display_name": "Python 3 (ipykernel)",
      "language": "python",
      "name": "python3"
    },
    "language_info": {
      "codemirror_mode": {
        "name": "ipython",
        "version": 3
      },
      "file_extension": ".py",
      "mimetype": "text/x-python",
      "name": "python",
      "nbconvert_exporter": "python",
      "pygments_lexer": "ipython3",
      "version": "3.12.11"
    }
  },
  "nbformat": 4,
  "nbformat_minor": 4
}