{
  "cells": [
    {
      "cell_type": "markdown",
      "metadata": {},
      "source": [
        "# The noisy LIF model and the Inverse Gaussian distribution {#exr-lif-gaussian}\n",
        "\n",
        "<hr />"
      ]
    },
    {
      "cell_type": "markdown",
      "metadata": {},
      "source": [
        "Use sampling and simulation to demonstrate that the noisy leaky integrate-and-fire model approximately gives Inverse Gaussian-distributed interspike intervals in the limit of small $\\tau_m$."
      ]
    },
    {
      "cell_type": "markdown",
      "metadata": {},
      "source": [
        "<br />"
      ]
    }
  ],
  "metadata": {
    "kernelspec": {
      "display_name": "datasai",
      "language": "python",
      "name": "python3"
    },
    "language_info": {
      "codemirror_mode": {
        "name": "ipython",
        "version": 3
      },
      "file_extension": ".py",
      "mimetype": "text/x-python",
      "name": "python",
      "nbconvert_exporter": "python",
      "pygments_lexer": "ipython3",
      "version": "3.12.11"
    }
  },
  "nbformat": 4,
  "nbformat_minor": 4
}