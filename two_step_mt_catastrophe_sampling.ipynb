{
  "cells": [
    {
      "cell_type": "markdown",
      "metadata": {},
      "source": [
        "# Simulating distributions MT catastrophe in a two-step model {#exr-two-step-sim}\n",
        "\n",
        "<hr />"
      ]
    },
    {
      "cell_type": "markdown",
      "metadata": {},
      "source": [
        "In @exr-two-step-mt-model, you worked out the PDF for a model where two biochemical processes have to happen in succession to trigger microtubule catastrophe. The result was\n",
        "\n",
        "$$\\begin{align}\n",
        "&f(t;\\beta_1, \\beta_2) = \\frac{\\beta_1 \\beta_2}{\\beta_2 - \\beta_1}\\left(\\mathrm{e}^{-\\beta_1 t} - \\mathrm{e}^{-\\beta_2 t}\\right), \\\\[1em]\n",
        "&F(t; \\beta_1, \\beta_2) = \n",
        "\\frac{\\beta_1 \\beta_2}{\\beta_2-\\beta_1}\\left[\n",
        "\\frac{1}{\\beta_1}\\left(1-\\mathrm{e}^{- \\beta_1 t}\\right)- \\frac{1}{\\beta_2}\\left(1-\\mathrm{e}^{-\\beta_2 t}\\right)\n",
        "\\right].\n",
        "\\end{align}\n",
        "$$\n",
        "\n",
        "In a typical experiment, Gardner and Zanic measured about 150 catastrophe events. Use random number generation to simulate one of these experiments with this successive Poisson process model and plot the ECDF of times to catastrophe. That is, generate 150 random numbers that are distributed according to the story of the model. You can plot the time axis of the ECDF in units of $\\beta_1^{-1}$. Do this for several values of $\\beta_2/\\beta_1$. Overlay the analytical CDF with an ECDF from your simulation to verify that they match.\n"
      ]
    }
  ],
  "metadata": {
    "kernelspec": {
      "display_name": "default",
      "language": "python",
      "name": "python3"
    },
    "language_info": {
      "codemirror_mode": {
        "name": "ipython",
        "version": 3
      },
      "file_extension": ".py",
      "mimetype": "text/x-python",
      "name": "python",
      "nbconvert_exporter": "python",
      "pygments_lexer": "ipython3",
      "version": "3.13.5"
    }
  },
  "nbformat": 4,
  "nbformat_minor": 4
}