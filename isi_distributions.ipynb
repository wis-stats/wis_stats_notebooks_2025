{
 "cells": [
  {
   "cell_type": "markdown",
   "id": "e684cc37-ea93-4fe0-8c48-0f99ef995a78",
   "metadata": {},
   "source": [
    "# Distributions of interspike intervals {#exr-isi_probability_dists}\n",
    "\n",
    "There are several models for interspike intervals, and we will explore many of them. For the following descriptions of interspike intervals, what distribution would we use to model them?\n",
    "\n",
    "**a)** When a previous spike arrived has no bearing on when the next one arrives.\n",
    "\n",
    "**b)** Several Poisson processes need to arrive in order for a spike to fire.\n",
    "\n",
    "**c)** A spike fires as a result of a drifting, diffusing signal reaching a threshold.\n"
   ]
  },
  {
   "cell_type": "markdown",
   "id": "8154244e-320d-4148-957f-9ded2abad88d",
   "metadata": {},
   "source": [
    "## Solution\n",
    "\n",
    "<hr>\n",
    "\n",
    "**a)** Exponential\n",
    "\n",
    "**b)**  Gamma/Erlang or Hypoexponential\n",
    "\n",
    "**c)** Inverse Gaussian"
   ]
  }
 ],
 "metadata": {
  "kernelspec": {
   "display_name": "Python 3 (ipykernel)",
   "language": "python",
   "name": "python3"
  },
  "language_info": {
   "codemirror_mode": {
    "name": "ipython",
    "version": 3
   },
   "file_extension": ".py",
   "mimetype": "text/x-python",
   "name": "python",
   "nbconvert_exporter": "python",
   "pygments_lexer": "ipython3",
   "version": "3.12.11"
  }
 },
 "nbformat": 4,
 "nbformat_minor": 5
}
