{
  "cells": [
    {
      "cell_type": "markdown",
      "metadata": {},
      "source": [
        "# Spike timing with a refractory period {#exr-spike-refractory}\n",
        "\n",
        "<hr />"
      ]
    },
    {
      "cell_type": "markdown",
      "metadata": {},
      "source": [
        "After a neuron spikes, there is a refractory period, typically a few milliseconds, for the membrane potential to return to its rest state. A neuron cannot fire during a refractory period.\n",
        "\n",
        "**a)** Draw samples of interspike intervals for neuronal firing modeled as a Poisson process with a refractory period. Think carefully about what distribution you want use to model the refractory period.\n",
        "\n",
        "**b)** Now consider the noisy LIF model that has a refractory period. Draw samples of interspike intervals in this case. Again, think carefully about how you model the refractory period.\n"
      ]
    },
    {
      "cell_type": "markdown",
      "metadata": {},
      "source": [
        "<br />"
      ]
    }
  ],
  "metadata": {
    "kernelspec": {
      "display_name": "datasai",
      "language": "python",
      "name": "python3"
    },
    "language_info": {
      "codemirror_mode": {
        "name": "ipython",
        "version": 3
      },
      "file_extension": ".py",
      "mimetype": "text/x-python",
      "name": "python",
      "nbconvert_exporter": "python",
      "pygments_lexer": "ipython3",
      "version": "3.12.11"
    }
  },
  "nbformat": 4,
  "nbformat_minor": 4
}