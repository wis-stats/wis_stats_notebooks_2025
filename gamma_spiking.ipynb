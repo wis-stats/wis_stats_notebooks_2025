{
  "cells": [
    {
      "cell_type": "markdown",
      "id": "8f4874b9",
      "metadata": {},
      "source": [
        "# A Gamma model for spiking {#exr-gamma-spike}\n",
        "\n",
        "[Data set download](https://s3.amazonaws.com/bebi103.caltech.edu/data/rgc_spike_times_1.csv)\n",
        "\n",
        "<hr>"
      ]
    },
    {
      "cell_type": "markdown",
      "id": "141edbec",
      "metadata": {},
      "source": [
        "In @sec-parameter-estimation-with-mcmc-1 and @sec-parameter-estimation-with-mcmc-2, we considered models for the interspike intervals (ISIs) of a retinal ganglion cell exposed to constant light and were dissatisfied with the posterior predictive checks. Your task in this problem is to develop a Bayesian model where the ISIs are all independent and Gamma distributed and perform inference with posterior predictive checks."
      ]
    }
  ],
  "metadata": {
    "language_info": {
      "name": "python"
    }
  },
  "nbformat": 4,
  "nbformat_minor": 5
}