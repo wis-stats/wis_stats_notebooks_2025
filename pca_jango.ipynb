{
  "cells": [
    {
      "cell_type": "markdown",
      "id": "36171b8c",
      "metadata": {},
      "source": [
        "# Downsampling and PCA with spiking and EMG/ ephys data {#exr-jango-pca}\n",
        "\n",
        "[Data set download](https://s3.amazonaws.com/bebi103.caltech.edu/data/Jango_ISO_2015.7z)\n",
        "\n",
        "<hr>\n"
      ]
    },
    {
      "cell_type": "markdown",
      "id": "0f1deaf2",
      "metadata": {},
      "source": [
        "\n",
        "In @exr-opening-hdf5, we opened a `.7z` file containing a data set of spiking data combined with EMG data from a monkey operating a joystick. We used the data set from August 24, 2015. In that experiment, there are EMG recordings from seven locations, spiking recordings from 94 neurons, and measurement of cursor position, cursor acceleration, cursor velocity, and force on the joystick, among other things. You are advised to read the associated [README file](https://doi.org/10.5061/dryad.cvdncjt7n).\n",
        "\n",
        "Your task in this exercise is to determine an instantaneous spiking rate of each of the neurons over time. Think about what model you want to use to do that and how you want to treat your spiking rate data. This will likely involve downsampling the data. (We will connect the associated EMG, cursor, joystick, etc. data, in a later exercise. You can downsample the other signals to match the downsampling of your spiking rate now or later, if you like.)\n",
        "\n",
        "Perform PCA on the spiking rate and make a plot."
      ]
    }
  ],
  "metadata": {
    "language_info": {
      "name": "python"
    }
  },
  "nbformat": 4,
  "nbformat_minor": 5
}