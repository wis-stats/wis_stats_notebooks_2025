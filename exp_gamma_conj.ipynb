{
  "cells": [
    {
      "cell_type": "markdown",
      "id": "8f4874b9",
      "metadata": {},
      "source": [
        "# Exponential ISIs and Gamma priors {#exr-exp-gamma-conj}\n",
        "\n",
        "<hr>"
      ]
    },
    {
      "cell_type": "markdown",
      "id": "141edbec",
      "metadata": {},
      "source": [
        "If I have ISIs that are Exponentially distributed, I need to infer the spiking rate $\\beta$. Prove that if I have a Gamma prior for $\\beta$ that that posterior is also Gamma. That is, prove that the Gamma distribution if conjugate to the Exponential. If the set of ISIs is $\\mathbf{y} = (y_1, y_2, \\ldots, y_3)$, how are the prior parameters updated in the posterior?"
      ]
    }
  ],
  "metadata": {
    "language_info": {
      "name": "python"
    }
  },
  "nbformat": 4,
  "nbformat_minor": 5
}