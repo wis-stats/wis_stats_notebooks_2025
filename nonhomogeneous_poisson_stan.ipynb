{
 "cells": [
  {
   "cell_type": "markdown",
   "metadata": {},
   "source": [
    "# Nonhomogeneous Poisson process arrival times with Stan {#sec-nhpp-stan}\n",
    "\n",
    "<hr>"
   ]
  },
  {
   "cell_type": "code",
   "execution_count": 1,
   "metadata": {
    "nbsphinx": "hidden",
    "tags": []
   },
   "outputs": [],
   "source": [
    "#| code-fold: true\n",
    "\n",
    "# Colab setup ------------------\n",
    "import os, shutil, sys, subprocess, urllib.request\n",
    "if \"google.colab\" in sys.modules:\n",
    "    cmd = \"pip install --upgrade iqplot bebi103 arviz cmdstanpy watermark\"\n",
    "    process = subprocess.Popen(cmd.split(), stdout=subprocess.PIPE, stderr=subprocess.PIPE)\n",
    "    stdout, stderr = process.communicate()\n",
    "    from cmdstanpy.install_cmdstan import latest_version\n",
    "    cmdstan_version = latest_version()\n",
    "    cmdstan_url = f\"https://github.com/stan-dev/cmdstan/releases/download/v{cmdstan_version}/\"\n",
    "    fname = f\"colab-cmdstan-{cmdstan_version}.tgz\"\n",
    "    urllib.request.urlretrieve(cmdstan_url + fname, fname)\n",
    "    shutil.unpack_archive(fname)\n",
    "    os.environ[\"CMDSTAN\"] = f\"./cmdstan-{cmdstan_version}\"\n",
    "    data_path = \"https://s3.amazonaws.com/bebi103.caltech.edu/data/\"\n",
    "else:\n",
    "    data_path = \"../data/\"\n",
    "# ------------------------------"
   ]
  },
  {
   "cell_type": "code",
   "execution_count": 2,
   "metadata": {},
   "outputs": [
    {
     "data": {
      "text/html": [
       "    <style>\n",
       "        .bk-notebook-logo {\n",
       "            display: block;\n",
       "            width: 20px;\n",
       "            height: 20px;\n",
       "            background-image: url(data:image/png;base64,iVBORw0KGgoAAAANSUhEUgAAABQAAAAUCAYAAACNiR0NAAAABHNCSVQICAgIfAhkiAAAAAlwSFlzAAALEgAACxIB0t1+/AAAABx0RVh0U29mdHdhcmUAQWRvYmUgRmlyZXdvcmtzIENTNui8sowAAAOkSURBVDiNjZRtaJVlGMd/1/08zzln5zjP1LWcU9N0NkN8m2CYjpgQYQXqSs0I84OLIC0hkEKoPtiH3gmKoiJDU7QpLgoLjLIQCpEsNJ1vqUOdO7ppbuec5+V+rj4ctwzd8IIbbi6u+8f1539dt3A78eXC7QizUF7gyV1fD1Yqg4JWz84yffhm0qkFqBogB9rM8tZdtwVsPUhWhGcFJngGeWrPzHm5oaMmkfEg1usvLFyc8jLRqDOMru7AyC8saQr7GG7f5fvDeH7Ej8CM66nIF+8yngt6HWaKh7k49Soy9nXurCi1o3qUbS3zWfrYeQDTB/Qj6kX6Ybhw4B+bOYoLKCC9H3Nu/leUTZ1JdRWkkn2ldcCamzrcf47KKXdAJllSlxAOkRgyHsGC/zRday5Qld9DyoM4/q/rUoy/CXh3jzOu3bHUVZeU+DEn8FInkPBFlu3+nW3Nw0mk6vCDiWg8CeJaxEwuHS3+z5RgY+YBR6V1Z1nxSOfoaPa4LASWxxdNp+VWTk7+4vzaou8v8PN+xo+KY2xsw6une2frhw05CTYOmQvsEhjhWjn0bmXPjpE1+kplmmkP3suftwTubK9Vq22qKmrBhpY4jvd5afdRA3wGjFAgcnTK2s4hY0/GPNIb0nErGMCRxWOOX64Z8RAC4oCXdklmEvcL8o0BfkNK4lUg9HTl+oPlQxdNo3Mg4Nv175e/1LDGzZen30MEjRUtmXSfiTVu1kK8W4txyV6BMKlbgk3lMwYCiusNy9fVfvvwMxv8Ynl6vxoByANLTWplvuj/nF9m2+PDtt1eiHPBr1oIfhCChQMBw6Aw0UulqTKZdfVvfG7VcfIqLG9bcldL/+pdWTLxLUy8Qq38heUIjh4XlzZxzQm19lLFlr8vdQ97rjZVOLf8nclzckbcD4wxXMidpX30sFd37Fv/GtwwhzhxGVAprjbg0gCAEeIgwCZyTV2Z1REEW8O4py0wsjeloKoMr6iCY6dP92H6Vw/oTyICIthibxjm/DfN9lVz8IqtqKYLUXfoKVMVQVVJOElGjrnnUt9T9wbgp8AyYKaGlqingHZU/uG2NTZSVqwHQTWkx9hxjkpWDaCg6Ckj5qebgBVbT3V3NNXMSiWSDdGV3hrtzla7J+duwPOToIg42ChPQOQjspnSlp1V+Gjdged7+8UN5CRAV7a5EdFNwCjEaBR27b3W890TE7g24NAP/mMDXRWrGoFPQI9ls/MWO2dWFAar/xcOIImbbpA3zgAAAABJRU5ErkJggg==);\n",
       "        }\n",
       "    </style>\n",
       "    <div>\n",
       "        <a href=\"https://bokeh.org\" target=\"_blank\" class=\"bk-notebook-logo\"></a>\n",
       "        <span id=\"ef588c3b-db15-446f-9596-cad1f324f8c9\">Loading BokehJS ...</span>\n",
       "    </div>\n"
      ]
     },
     "metadata": {},
     "output_type": "display_data"
    },
    {
     "data": {
      "application/javascript": "'use strict';\n(function(root) {\n  function now() {\n    return new Date();\n  }\n\n  const force = true;\n\n  if (typeof root._bokeh_onload_callbacks === \"undefined\" || force === true) {\n    root._bokeh_onload_callbacks = [];\n    root._bokeh_is_loading = undefined;\n  }\n\nconst JS_MIME_TYPE = 'application/javascript';\n  const HTML_MIME_TYPE = 'text/html';\n  const EXEC_MIME_TYPE = 'application/vnd.bokehjs_exec.v0+json';\n  const CLASS_NAME = 'output_bokeh rendered_html';\n\n  /**\n   * Render data to the DOM node\n   */\n  function render(props, node) {\n    const script = document.createElement(\"script\");\n    node.appendChild(script);\n  }\n\n  /**\n   * Handle when an output is cleared or removed\n   */\n  function handleClearOutput(event, handle) {\n    function drop(id) {\n      const view = Bokeh.index.get_by_id(id)\n      if (view != null) {\n        view.model.document.clear()\n        Bokeh.index.delete(view)\n      }\n    }\n\n    const cell = handle.cell;\n\n    const id = cell.output_area._bokeh_element_id;\n    const server_id = cell.output_area._bokeh_server_id;\n\n    // Clean up Bokeh references\n    if (id != null) {\n      drop(id)\n    }\n\n    if (server_id !== undefined) {\n      // Clean up Bokeh references\n      const cmd_clean = \"from bokeh.io.state import curstate; print(curstate().uuid_to_server['\" + server_id + \"'].get_sessions()[0].document.roots[0]._id)\";\n      cell.notebook.kernel.execute(cmd_clean, {\n        iopub: {\n          output: function(msg) {\n            const id = msg.content.text.trim()\n            drop(id)\n          }\n        }\n      });\n      // Destroy server and session\n      const cmd_destroy = \"import bokeh.io.notebook as ion; ion.destroy_server('\" + server_id + \"')\";\n      cell.notebook.kernel.execute(cmd_destroy);\n    }\n  }\n\n  /**\n   * Handle when a new output is added\n   */\n  function handleAddOutput(event, handle) {\n    const output_area = handle.output_area;\n    const output = handle.output;\n\n    // limit handleAddOutput to display_data with EXEC_MIME_TYPE content only\n    if ((output.output_type != \"display_data\") || (!Object.prototype.hasOwnProperty.call(output.data, EXEC_MIME_TYPE))) {\n      return\n    }\n\n    const toinsert = output_area.element.find(\".\" + CLASS_NAME.split(' ')[0]);\n\n    if (output.metadata[EXEC_MIME_TYPE][\"id\"] !== undefined) {\n      toinsert[toinsert.length - 1].firstChild.textContent = output.data[JS_MIME_TYPE];\n      // store reference to embed id on output_area\n      output_area._bokeh_element_id = output.metadata[EXEC_MIME_TYPE][\"id\"];\n    }\n    if (output.metadata[EXEC_MIME_TYPE][\"server_id\"] !== undefined) {\n      const bk_div = document.createElement(\"div\");\n      bk_div.innerHTML = output.data[HTML_MIME_TYPE];\n      const script_attrs = bk_div.children[0].attributes;\n      for (let i = 0; i < script_attrs.length; i++) {\n        toinsert[toinsert.length - 1].firstChild.setAttribute(script_attrs[i].name, script_attrs[i].value);\n        toinsert[toinsert.length - 1].firstChild.textContent = bk_div.children[0].textContent\n      }\n      // store reference to server id on output_area\n      output_area._bokeh_server_id = output.metadata[EXEC_MIME_TYPE][\"server_id\"];\n    }\n  }\n\n  function register_renderer(events, OutputArea) {\n\n    function append_mime(data, metadata, element) {\n      // create a DOM node to render to\n      const toinsert = this.create_output_subarea(\n        metadata,\n        CLASS_NAME,\n        EXEC_MIME_TYPE\n      );\n      this.keyboard_manager.register_events(toinsert);\n      // Render to node\n      const props = {data: data, metadata: metadata[EXEC_MIME_TYPE]};\n      render(props, toinsert[toinsert.length - 1]);\n      element.append(toinsert);\n      return toinsert\n    }\n\n    /* Handle when an output is cleared or removed */\n    events.on('clear_output.CodeCell', handleClearOutput);\n    events.on('delete.Cell', handleClearOutput);\n\n    /* Handle when a new output is added */\n    events.on('output_added.OutputArea', handleAddOutput);\n\n    /**\n     * Register the mime type and append_mime function with output_area\n     */\n    OutputArea.prototype.register_mime_type(EXEC_MIME_TYPE, append_mime, {\n      /* Is output safe? */\n      safe: true,\n      /* Index of renderer in `output_area.display_order` */\n      index: 0\n    });\n  }\n\n  // register the mime type if in Jupyter Notebook environment and previously unregistered\n  if (root.Jupyter !== undefined) {\n    const events = require('base/js/events');\n    const OutputArea = require('notebook/js/outputarea').OutputArea;\n\n    if (OutputArea.prototype.mime_types().indexOf(EXEC_MIME_TYPE) == -1) {\n      register_renderer(events, OutputArea);\n    }\n  }\n  if (typeof (root._bokeh_timeout) === \"undefined\" || force === true) {\n    root._bokeh_timeout = Date.now() + 5000;\n    root._bokeh_failed_load = false;\n  }\n\n  const NB_LOAD_WARNING = {'data': {'text/html':\n     \"<div style='background-color: #fdd'>\\n\"+\n     \"<p>\\n\"+\n     \"BokehJS does not appear to have successfully loaded. If loading BokehJS from CDN, this \\n\"+\n     \"may be due to a slow or bad network connection. Possible fixes:\\n\"+\n     \"</p>\\n\"+\n     \"<ul>\\n\"+\n     \"<li>re-rerun `output_notebook()` to attempt to load from CDN again, or</li>\\n\"+\n     \"<li>use INLINE resources instead, as so:</li>\\n\"+\n     \"</ul>\\n\"+\n     \"<code>\\n\"+\n     \"from bokeh.resources import INLINE\\n\"+\n     \"output_notebook(resources=INLINE)\\n\"+\n     \"</code>\\n\"+\n     \"</div>\"}};\n\n  function display_loaded(error = null) {\n    const el = document.getElementById(\"ef588c3b-db15-446f-9596-cad1f324f8c9\");\n    if (el != null) {\n      const html = (() => {\n        if (typeof root.Bokeh === \"undefined\") {\n          if (error == null) {\n            return \"BokehJS is loading ...\";\n          } else {\n            return \"BokehJS failed to load.\";\n          }\n        } else {\n          const prefix = `BokehJS ${root.Bokeh.version}`;\n          if (error == null) {\n            return `${prefix} successfully loaded.`;\n          } else {\n            return `${prefix} <b>encountered errors</b> while loading and may not function as expected.`;\n          }\n        }\n      })();\n      el.innerHTML = html;\n\n      if (error != null) {\n        const wrapper = document.createElement(\"div\");\n        wrapper.style.overflow = \"auto\";\n        wrapper.style.height = \"5em\";\n        wrapper.style.resize = \"vertical\";\n        const content = document.createElement(\"div\");\n        content.style.fontFamily = \"monospace\";\n        content.style.whiteSpace = \"pre-wrap\";\n        content.style.backgroundColor = \"rgb(255, 221, 221)\";\n        content.textContent = error.stack ?? error.toString();\n        wrapper.append(content);\n        el.append(wrapper);\n      }\n    } else if (Date.now() < root._bokeh_timeout) {\n      setTimeout(() => display_loaded(error), 100);\n    }\n  }\n\n  function run_callbacks() {\n    try {\n      root._bokeh_onload_callbacks.forEach(function(callback) {\n        if (callback != null)\n          callback();\n      });\n    } finally {\n      delete root._bokeh_onload_callbacks\n    }\n    console.debug(\"Bokeh: all callbacks have finished\");\n  }\n\n  function load_libs(css_urls, js_urls, callback) {\n    if (css_urls == null) css_urls = [];\n    if (js_urls == null) js_urls = [];\n\n    root._bokeh_onload_callbacks.push(callback);\n    if (root._bokeh_is_loading > 0) {\n      console.debug(\"Bokeh: BokehJS is being loaded, scheduling callback at\", now());\n      return null;\n    }\n    if (js_urls == null || js_urls.length === 0) {\n      run_callbacks();\n      return null;\n    }\n    console.debug(\"Bokeh: BokehJS not loaded, scheduling load and callback at\", now());\n    root._bokeh_is_loading = css_urls.length + js_urls.length;\n\n    function on_load() {\n      root._bokeh_is_loading--;\n      if (root._bokeh_is_loading === 0) {\n        console.debug(\"Bokeh: all BokehJS libraries/stylesheets loaded\");\n        run_callbacks()\n      }\n    }\n\n    function on_error(url) {\n      console.error(\"failed to load \" + url);\n    }\n\n    for (let i = 0; i < css_urls.length; i++) {\n      const url = css_urls[i];\n      const element = document.createElement(\"link\");\n      element.onload = on_load;\n      element.onerror = on_error.bind(null, url);\n      element.rel = \"stylesheet\";\n      element.type = \"text/css\";\n      element.href = url;\n      console.debug(\"Bokeh: injecting link tag for BokehJS stylesheet: \", url);\n      document.body.appendChild(element);\n    }\n\n    for (let i = 0; i < js_urls.length; i++) {\n      const url = js_urls[i];\n      const element = document.createElement('script');\n      element.onload = on_load;\n      element.onerror = on_error.bind(null, url);\n      element.async = false;\n      element.src = url;\n      console.debug(\"Bokeh: injecting script tag for BokehJS library: \", url);\n      document.head.appendChild(element);\n    }\n  };\n\n  function inject_raw_css(css) {\n    const element = document.createElement(\"style\");\n    element.appendChild(document.createTextNode(css));\n    document.body.appendChild(element);\n  }\n\n  const js_urls = [\"static/extensions/panel/bundled/reactiveesm/es-module-shims@^1.10.0/dist/es-module-shims.min.js\", \"https://cdn.bokeh.org/bokeh/release/bokeh-3.6.2.min.js\", \"https://cdn.bokeh.org/bokeh/release/bokeh-gl-3.6.2.min.js\", \"https://cdn.bokeh.org/bokeh/release/bokeh-widgets-3.6.2.min.js\", \"https://cdn.bokeh.org/bokeh/release/bokeh-tables-3.6.2.min.js\", \"https://cdn.bokeh.org/bokeh/release/bokeh-mathjax-3.6.2.min.js\", \"https://unpkg.com/@holoviz/panel@1.7.0/dist/panel.min.js\"];\n  const css_urls = [];\n\n  const inline_js = [    function(Bokeh) {\n      Bokeh.set_log_level(\"info\");\n    },\nfunction(Bokeh) {\n    }\n  ];\n\n  function run_inline_js() {\n    if (root.Bokeh !== undefined || force === true) {\n      try {\n            for (let i = 0; i < inline_js.length; i++) {\n      inline_js[i].call(root, root.Bokeh);\n    }\n\n      } catch (error) {display_loaded(error);throw error;\n      }if (force === true) {\n        display_loaded();\n      }} else if (Date.now() < root._bokeh_timeout) {\n      setTimeout(run_inline_js, 100);\n    } else if (!root._bokeh_failed_load) {\n      console.log(\"Bokeh: BokehJS failed to load within specified timeout.\");\n      root._bokeh_failed_load = true;\n    } else if (force !== true) {\n      const cell = $(document.getElementById(\"ef588c3b-db15-446f-9596-cad1f324f8c9\")).parents('.cell').data().cell;\n      cell.output_area.append_execute_result(NB_LOAD_WARNING)\n    }\n  }\n\n  if (root._bokeh_is_loading === 0) {\n    console.debug(\"Bokeh: BokehJS loaded, going straight to plotting\");\n    run_inline_js();\n  } else {\n    load_libs(css_urls, js_urls, function() {\n      console.debug(\"Bokeh: BokehJS plotting callback run at\", now());\n      run_inline_js();\n    });\n  }\n}(window));",
      "application/vnd.bokehjs_load.v0+json": ""
     },
     "metadata": {},
     "output_type": "display_data"
    }
   ],
   "source": [
    "import cmdstanpy\n",
    "import arviz as az\n",
    "\n",
    "import numpy as np\n",
    "\n",
    "import iqplot\n",
    "\n",
    "import bebi103\n",
    "\n",
    "import bokeh.io\n",
    "import bokeh.plotting\n",
    "bokeh.io.output_notebook()"
   ]
  },
  {
   "cell_type": "markdown",
   "metadata": {},
   "source": [
    "<hr>\n",
    "\n",
    "We have posited that we can use MCMC to sample out of an arbitrary distribution so long as we can write down the PDF. We will put this to use in Bayesian inference contexts soon, but for now, let us generate samples out of a nontrivial distribution, that for the arrival times of a nonhomogeneous Poisson process. In doing so, we will expose some neat features of Stan.\n",
    "\n",
    "You will recall from [Lesson @sec-variable-spiking] that we can use thinning to sample out of a nonhomogeneous Poisson process. We repeat the `sample_nhpp()` function below in a (folded) code cell."
   ]
  },
  {
   "cell_type": "code",
   "execution_count": 3,
   "metadata": {},
   "outputs": [],
   "source": [
    "#| code-fold: true\n",
    "\n",
    "def sample_nhpp(beta, beta_j, t_j, beta_args=()):\n",
    "    \"\"\"Draw arrival times of a nonhomogeneous Poisson process.\n",
    "\n",
    "    Parameters\n",
    "    ----------\n",
    "    beta : function, call signature beta(t, *beta_args)\n",
    "        The function of the rate of arrivals as a function of time.\n",
    "    beta_j : scalar or array_like\n",
    "        If scalar, a value of beta that is greater than beta(t)\n",
    "        for all time. If array_like, then beta_j[j] > beta(t) for\n",
    "        all times between t_j[j-1] and t_j[j].\n",
    "    t_j : scalar or array_like\n",
    "        If scalar, the maximum time of observation. If array_like, must\n",
    "        be the same length of `beta_j`. beta_j[j] is the value \n",
    "        of the the upper bound of the rate for the interval between\n",
    "        t[j-1] and t[j].\n",
    "\n",
    "    beta_args : tuple, default ()\n",
    "        Any other arguments passed to beta.\n",
    "\n",
    "    Returns\n",
    "    -------\n",
    "    output : Numpy array\n",
    "        Times for arrivals of the nonhomogeneous Poisson process.\n",
    "\n",
    "    Notes\n",
    "    -----\n",
    "    .. This is an implementation of the algorithm on page 86 of \n",
    "       Simulation, 5th Ed., by Sheldon Ross, Academic Press, 2013.\n",
    "    \"\"\"\n",
    "    # Convert scalar inputs to arrays\n",
    "    if np.isscalar(beta_j):\n",
    "        beta_j = np.array([beta_j])\n",
    "    if np.isscalar(t_j):\n",
    "        t_j = np.array([t_j])\n",
    "\n",
    "    # Make sure dimensions match\n",
    "    if len(beta_j) != len(t_j):\n",
    "        raise RuntimeError(\n",
    "            f'`beta_j` is length {len(beta_j)} '\n",
    "            f'and `t_j` is length {len(t_j)}. '\n",
    "            'They must have the same length.'\n",
    "        )\n",
    "\n",
    "    return _sample_nhpp(beta, beta_j, t_j, beta_args)\n",
    "\n",
    "                                                  \n",
    "def _sample_nhpp(beta, beta_j, t_j, beta_args=()):\n",
    "    \"\"\"\n",
    "\n",
    "    Parameters\n",
    "    ----------\n",
    "    beta : function, call signature beta(t, *beta_args)\n",
    "        The function of the rate of arrivals as a function of time.\n",
    "    beta_j : Numpy array\n",
    "        If scalar, a value of beta that is greater than beta(t)\n",
    "        for all time. If array_like, then beta_j[j] > beta(t) for\n",
    "        all times between t_j[j-1] and t_j[j].\n",
    "    t_j : Numpy array\n",
    "        Must be the same length of `beta_j`. beta_j[j] is the value \n",
    "        of the the upper bound of the rate for the interval between\n",
    "        t[j-1] and t[j].\n",
    "\n",
    "    beta_args : tuple, default ()\n",
    "        Any other arguments passed to beta.\n",
    "\n",
    "    Returns\n",
    "    -------\n",
    "    output : Numpy array\n",
    "        Times for arrivals of the nonhomogeneous Poisson process.\n",
    "\n",
    "    Notes\n",
    "    -----\n",
    "    .. This is an implementation of the algorithm on page 86 of \n",
    "       Simulation, 5th Ed., by Sheldon Ross, Academic Press, 2013.\n",
    "    \"\"\"\n",
    "    # Number of samples to take before concatenating arrays\n",
    "    n_samples = 1000\n",
    "\n",
    "    # Initializations\n",
    "    t = 0.0  # time\n",
    "    j = 0    # Index in beta_j and t_j arrays\n",
    "    i = 0    # index in sample array\n",
    "    n = 0    # total number of samples drawn\n",
    "    x_from_boundary = False  # If we've hit a boundary of\n",
    "\n",
    "    # Array for storing subtrajectory\n",
    "    samples = np.empty(n_samples, dtype=float)\n",
    "\n",
    "    # Output array for all samples\n",
    "    samples_output = np.array([], dtype=float)\n",
    "\n",
    "    # Loop until done (we exceed final time point)\n",
    "    not_done = True\n",
    "    while not_done:\n",
    "        # Take samples until we fill array\n",
    "        # We do it this way for speed to avoid list append operations\n",
    "        while not_done and i < n_samples:\n",
    "            if x_from_boundary:\n",
    "                x = (x - t_j[j] + t) * beta_j[j] / beta_j[j+1]\n",
    "                t = t_j[j]\n",
    "                j += 1\n",
    "            else:\n",
    "                x = np.random.exponential(1 / beta_j[j])\n",
    "\n",
    "            if t + x > t_j[j]:\n",
    "                # If we got here, we went past the edge of this interval\n",
    "                if j == len(t_j) - 1:\n",
    "                    not_done = False\n",
    "                else:\n",
    "                    x_from_boundary = True\n",
    "            else:\n",
    "                t += x\n",
    "                x_from_bounday = False\n",
    "                if np.random.uniform() <= beta(t, *beta_args) / beta_j[j]:\n",
    "                    samples[i] = t\n",
    "                    i += 1\n",
    "                    n += 1\n",
    "        samples_output = np.concatenate((samples_output, samples))\n",
    "        i = 0\n",
    "\n",
    "    return np.array(samples_output[:n])"
   ]
  },
  {
   "cell_type": "markdown",
   "metadata": {},
   "source": [
    "We can again sample out of this distribution using the thinning technique so we have some samples to compare. We will again have a sinusoidal variation in arrival rate."
   ]
  },
  {
   "cell_type": "code",
   "execution_count": 4,
   "metadata": {},
   "outputs": [
    {
     "data": {
      "text/html": [
       "\n",
       "  <div id=\"c978c6f5-e756-400b-aef5-9dc91137da3f\" data-root-id=\"p1003\" style=\"display: contents;\"></div>\n"
      ]
     },
     "metadata": {},
     "output_type": "display_data"
    },
    {
     "data": {
      "application/javascript": "(function(root) {\n  function embed_document(root) {\n  const docs_json = {\"57323b49-72e6-4fc2-b6b5-f69968c41d10\":{\"version\":\"3.6.2\",\"title\":\"Bokeh Application\",\"roots\":[{\"type\":\"object\",\"name\":\"Figure\",\"id\":\"p1003\",\"attributes\":{\"x_range\":{\"type\":\"object\",\"name\":\"DataRange1d\",\"id\":\"p1005\"},\"y_range\":{\"type\":\"object\",\"name\":\"FactorRange\",\"id\":\"p1002\",\"attributes\":{\"factors\":[\" \"]}},\"x_scale\":{\"type\":\"object\",\"name\":\"LinearScale\",\"id\":\"p1012\"},\"y_scale\":{\"type\":\"object\",\"name\":\"CategoricalScale\",\"id\":\"p1013\"},\"title\":{\"type\":\"object\",\"name\":\"Title\",\"id\":\"p1010\"},\"renderers\":[{\"type\":\"object\",\"name\":\"GlyphRenderer\",\"id\":\"p1048\",\"attributes\":{\"name\":\"hover_glyphs\",\"data_source\":{\"type\":\"object\",\"name\":\"ColumnDataSource\",\"id\":\"p1039\",\"attributes\":{\"selected\":{\"type\":\"object\",\"name\":\"Selection\",\"id\":\"p1040\",\"attributes\":{\"indices\":[],\"line_indices\":[]}},\"selection_policy\":{\"type\":\"object\",\"name\":\"UnionRenderers\",\"id\":\"p1041\"},\"data\":{\"type\":\"map\",\"entries\":[[\"__dummy_cat\",[\" \",\" \",\" \",\" \",\" \",\" \",\" \",\" \",\" \",\" \",\" \",\" \",\" \",\" \",\" \",\" \",\" \",\" \",\" \",\" \",\" \",\" \",\" \",\" \",\" \",\" \",\" \",\" \",\" \",\" \",\" \",\" \",\" \",\" \",\" \",\" \",\" \",\" \",\" \",\" \",\" \",\" \",\" \",\" \",\" \",\" \",\" \",\" \",\" \",\" \",\" \",\" \",\" \",\" \",\" \",\" \",\" \",\" \",\" \",\" \",\" \",\" \",\" \",\" \",\" \",\" \",\" \",\" \",\" \",\" \",\" \",\" \",\" \",\" \",\" \",\" \",\" \",\" \",\" \",\" \",\" \",\" \",\" \",\" \",\" \",\" \",\" \",\" \",\" \",\" \",\" \",\" \",\" \",\" \",\" \",\" \",\" \",\" \",\" \",\" \",\" \",\" \",\" \",\" \",\" \",\" \",\" \",\" \",\" \",\" \",\" \",\" \",\" \",\" \",\" \",\" \",\" \",\" \",\" \",\" \",\" \",\" \",\" \",\" \",\" \",\" \",\" \",\" \",\" \",\" \",\" \",\" \",\" \",\" \",\" \",\" \",\" \",\" \",\" \",\" \",\" \",\" \",\" \",\" \",\" \",\" \",\" \",\" \",\" \",\" \",\" \",\" \",\" \",\" \",\" \",\" \",\" \",\" \",\" \",\" \",\" \",\" \",\" \",\" \",\" \",\" \",\" \",\" \",\" \",\" \",\" \",\" \",\" \",\" \",\" \",\" \",\" \",\" \",\" \",\" \",\" \",\" \",\" \",\" \",\" \",\" \",\" \",\" \",\" \",\" \",\" \",\" \",\" \",\" \",\" \",\" \",\" \",\" \",\" \",\" \",\" \",\" \",\" \",\" \",\" \",\" \",\" \",\" \",\" \",\" \",\" \",\" \",\" \",\" \",\" \",\" \",\" \",\" \",\" \",\" \",\" \",\" \",\" \",\" \",\" \",\" \",\" \",\" \",\" \",\" \",\" \",\" \",\" \",\" \",\" \",\" \",\" \",\" \",\" \",\" \",\" \",\" \",\" \",\" \",\" \",\" \",\" \",\" \",\" \",\" \",\" \",\" \",\" \",\" \",\" \",\" \",\" \",\" \",\" \",\" \",\" \",\" \",\" \",\" \",\" \",\" \",\" \",\" \",\" \",\" \",\" \",\" \",\" \",\" \",\" \",\" \",\" \",\" \",\" \",\" \",\" \",\" \",\" \",\" \",\" \",\" \",\" \",\" \",\" \",\" \",\" \",\" \",\" \",\" \",\" \",\" \",\" \",\" \",\" \",\" \",\" \",\" \",\" \",\" \",\" \",\" \",\" \",\" \",\" \",\" \",\" \",\" \",\" \",\" \",\" \",\" \",\" \",\" \",\" \",\" \",\" \",\" \",\" \",\" \",\" \",\" \",\" \",\" \",\" \",\" \",\" \",\" \",\" \",\" \",\" \",\" \",\" \",\" \",\" \",\" \",\" \",\" \",\" \",\" \",\" \",\" \",\" \",\" \",\" \",\" \",\" \",\" \",\" \",\" \",\" \",\" \",\" \",\" \",\" \",\" \",\" \",\" \",\" \",\" \",\" \",\" \",\" \",\" \",\" \",\" \",\" \",\" \",\" \",\" \",\" \",\" \",\" \",\" \",\" \",\" \",\" \",\" \",\" \",\" \",\" \",\" \",\" \",\" \",\" \",\" \",\" \",\" \",\" \",\" \",\" \",\" \",\" \",\" \",\" \",\" \",\" \",\" \",\" \",\" \",\" \",\" \",\" \",\" \",\" \",\" \",\" \",\" \",\" \",\" \",\" \",\" \",\" \",\" \",\" \",\" \",\" \",\" \",\" \",\" \",\" \",\" \",\" \",\" \",\" \",\" \",\" \",\" \",\" \",\" \",\" \",\" \",\" \",\" \",\" \",\" \",\" \",\" \",\" \",\" \",\" \",\" \",\" \",\" \",\" \",\" \",\" \",\" \",\" \",\" \",\" \",\" \",\" \",\" \",\" \",\" \",\" \",\" \",\" \",\" \",\" \",\" \",\" \",\" \",\" \",\" \",\" \",\" \",\" \",\" \",\" \",\" \",\" \",\" \",\" \",\" \",\" \",\" \",\" \",\" \",\" \",\" \",\" \",\" \",\" \",\" \",\" \",\" \",\" \",\" \",\" \",\" \",\" \",\" \",\" \",\" \",\" \",\" \",\" \",\" \",\" \",\" \",\" \",\" \",\" \",\" \",\" \",\" \",\" \",\" \",\" \",\" \",\" \",\" \",\" \",\" \",\" \",\" \",\" \",\" \",\" \",\" \",\" \",\" \",\" \",\" \",\" \",\" \",\" \",\" \",\" \",\" \",\" \",\" \",\" \",\" \",\" \",\" \",\" \",\" \",\" \",\" \",\" \",\" \",\" \",\" \",\" \",\" \",\" \",\" \",\" \",\" \",\" \",\" \",\" \",\" \",\" \",\" \",\" \",\" \",\" \",\" \",\" \",\" \",\" \",\" \",\" \",\" \",\" \",\" \",\" \",\" \",\" \",\" \",\" \",\" \",\" \",\" \"]],[\"x\",[2.1152858619751407,2.3057086727654514,2.9340719408077236,4.4683787519036,6.015742620246911,6.098641724846625,6.536692705643061,7.051740666801358,8.142195826333868,8.354541270018641,8.440102922197182,8.63543550368637,8.939454306345263,8.97474004885133,9.502385606045438,9.613147222066795,9.790288916746835,10.57776763797938,11.04541438019568,11.410930945623479,11.843425149650413,12.081734073932948,12.344238780852544,13.142279916223819,13.686865731140013,13.834499189081791,14.784083708573483,15.940812568332676,17.005905133585962,18.27406836110981,18.382095586356517,19.498972574294033,20.630051442019997,21.663873679722744,21.938020935279994,22.31990364225628,22.90466520383516,22.985197158107134,24.165678169825892,25.460770963435188,25.887864505666347,27.21359688876987,29.104972926064725,30.293159541903965,30.371828148317476,30.511910223068185,31.17526043370797,31.57292063843451,31.853713373694724,32.415720915351294,32.549954101691355,33.2130915076783,33.552014476970264,33.72731297447071,34.617719475627226,36.47385116360414,36.93497790804934,38.67378463042248,39.239975121024464,44.31345626466258,47.1597350959743,56.38805707407877,57.49726945243933,57.63985047556964,58.690826151248,59.897943640110185,60.07614047061861,60.25673235272664,62.496223932071,62.59723638812869,63.93986134288431,64.23137394991903,64.2695459983297,64.50968526463721,65.16890256849616,67.41527583366371,67.76930011698943,68.14574782209972,68.60686068208406,69.0943325468348,70.52608721358312,70.80453853985834,70.98882427831728,71.02241664488682,71.08718487422637,71.97924576913066,72.34002644741545,72.48797807701555,73.5620204766082,74.22254125802144,74.41461526138792,74.60732395165178,74.9632910578446,75.00778082215412,75.80116210618175,77.01860908424251,77.06008018354508,79.00308480817402,79.33971593462196,79.65371694676884,80.1143267071193,80.2086529609413,81.43008276672522,81.86852503851834,84.75867700815557,85.6062881741451,86.08353176957704,86.35856647588642,86.46813197827969,87.86682597796238,88.18039092739964,88.53782714031978,89.85898110646815,90.13714543001494,90.22988872475031,90.42518285996996,90.66772242645207,90.92354630645967,91.2173014275434,91.57697061657295,93.70062193652822,95.85826370698967,96.75016891630146,97.46194601747786,98.98635836301528,99.86593168001262,100.31189315561285,101.49535370608274,105.33732712082232,114.85738771533093,119.35035728504891,120.25506350225591,121.4103685699358,123.26161662919435,123.49254555707998,123.7329878517916,124.87325430407384,125.4619746046899,127.04603369305867,127.09793482578388,128.76622608888664,129.10128139059054,129.45683010168474,129.49522569818205,129.78383033023707,129.8241905294075,129.86614257495663,129.88742045023074,130.38874836420803,130.8662545053333,131.2615101406653,132.69390307798844,133.248050575673,134.19833389302627,134.49125024320753,134.86041073757067,135.06326667981935,135.87291974562825,135.92799055216125,136.28638665776052,136.49651646593398,138.1422745068674,138.47370407266993,138.79316514121328,139.5000350295963,139.69189086268312,140.10898823931493,140.3282077687042,140.642166586986,140.84931136171863,140.8508737413835,141.9565882562006,142.04902919111052,144.18828275464355,144.49258891396468,145.63771771336644,145.73984103031088,145.81451085113423,146.11686716721897,146.39602525238504,146.6684232951033,147.49743037737545,148.00415057677387,148.26139667765798,149.31518380876818,149.5127567083092,149.9735350855829,150.0165142176554,150.20814631855046,150.7138751957245,151.422401677424,151.88157367494904,152.5014026744487,152.71435716348296,154.37078411602766,154.52178784928543,155.53263262261856,155.58591925092642,156.62772458553044,158.82957744317312,159.29904117823207,159.67231487871916,160.17461315214027,160.31652265326647,160.97252640741283,162.33541853384523,162.4078084098685,163.52928149141337,163.66966276436384,167.298883056162,167.8757424971244,179.19646815939805,181.88501864815362,181.90213565954636,182.10312512796932,183.25402637209598,184.70757323888637,186.50997655747494,186.65600763543415,187.96800243991203,188.8970997372159,189.0364662826659,189.3427330868242,189.4181505874843,189.50565858910613,189.8930165211405,191.04371983922204,191.89923458444144,192.26972030755732,192.44039781966006,192.52316329110062,193.0831968577918,193.51226215114977,194.18795202449982,194.4077007789584,194.53912591963422,195.47379421737125,196.16232445880664,196.77183762902223,196.89504564279105,197.52584363345986,197.54470399176074,199.05648288516437,199.10765823986276,199.6671083580616,200.2145782598107,201.06899154123738,201.076257751938,201.98665631764777,202.48291325478291,202.96291397941314,203.07236859198352,203.69000052986195,204.15397777932725,204.22085280485823,204.94293726555756,205.48773624788097,205.53976146069633,205.58206112990422,205.5857168936015,205.63025329015545,205.89851909241764,206.3908050761153,206.44338384567618,206.69698660179358,207.2080380681607,207.9463450443,208.25210592391898,210.54015943802452,210.77717638176335,210.8964847844433,211.15342060131644,211.74305615618852,211.79554000313385,212.51670702082032,212.60749146412851,213.2844965282418,213.35457933091197,213.55037731754706,214.66172649278013,215.6083916357575,216.5765305230901,217.0228487866832,219.63706872587957,221.40998492856866,224.2497035159763,225.78435108428047,228.3436478774956,230.66631666466193,236.65705732865663,237.16626385488684,238.8854574739687,239.9843566874838,241.2421956307324,247.20324286706537,247.5025679349755,248.4028613145215,248.9755688307395,249.43956760964156,249.9879386600793,251.92320033630423,252.0664279084728,252.09862887762975,252.16488086997066,253.29883132807072,253.37618528607246,253.88062820650353,254.2453988335843,254.38831695162193,254.68830223638477,254.7051633130009,254.7943613493037,256.2199964313929,256.26402441837223,256.7323517145992,258.1313966039331,258.63584679951344,258.6639877384055,259.16647860887497,259.25914658891446,259.48157816074195,259.6423453696938,259.78440076107813,259.9728144311526,260.1460627616103,260.30700824520494,260.435187197489,261.2987785304378,262.3850415715925,262.6995161582321,263.27395508004366,263.41982365520397,263.4719630026425,263.89048807820467,264.17466369054176,264.188732899792,264.4946145373464,264.5577288997327,265.3193730336113,265.53362461966583,265.7870514824845,266.8920354948581,266.93868767058825,267.3566112240742,267.87206162279386,267.94244469461637,268.98251048004846,269.00539829506704,269.3610388306138,269.47523303235096,270.9809831161756,271.1910810279701,271.37637508334956,271.51888715033334,271.6592056933212,271.7770502245481,272.10716457694616,272.44531326879786,272.96806100357543,274.51942423609063,274.7934042853339,275.1969330280026,275.700906890524,276.71496184827816,277.3097153052854,278.16281870375565,279.50605981307393,279.7914338636555,280.12439359159913,280.32030712216607,280.6783911240047,281.54305156703737,282.0580907667042,284.93702339576845,286.2493919406531,287.78254920737527,295.9731045974998,299.25242938320514,305.7268596408159,311.00442823454193,311.989721108317,312.1822752090671,313.99058131523446,314.2378102688298,314.6380630682854,315.4110420757399,315.42085046895806,315.95226667626804,318.30562826032843,318.3700838945335,319.4757864146892,319.5458292212757,320.66913071744267,321.826211993286,322.1227531732148,322.698501195979,323.9123293502082,323.92743986765436,325.12456551831747,325.6735082603813,328.04211276413366,329.0065945041867,329.4984571610448,329.92601107259827,330.172251461923,330.89645897628793,330.90451688096516,331.0445266552228,331.4037432787496,332.00284962450075,332.66447276098654,332.84291637951395,333.54765440777606,333.9305280704474,334.20501610344775,334.75427544993556,334.9188405335512,335.1431192427094,335.5016044657894,335.5578162339003,336.59654885023485,336.682271041903,337.7812355765636,338.01431647527227,338.410057144159,338.4549475353917,338.6956855193886,338.7401931385051,339.39203084964777,340.09901714278493,342.6516662341369,342.6838740095125,342.82139722693915,343.5231974353155,346.2369825676098,349.1801674049882,352.0786715691513,356.25582902010643,367.14907401121536,370.82279433718656,373.6138240644625,373.6209069683004,376.2586629920619,376.83629036625774,376.95918746421194,377.20592682042326,377.43641671373496,378.0378213817963,378.1056631453738,378.68857869403786,379.042822381983,379.56954755397715,380.3793696507355,380.5883141745006,381.1140269246028,381.4678921255316,382.7185947009436,384.69029764046763,384.99246256284835,387.2535921248494,387.5114542903463,388.39017528221433,389.680975098038,390.7153666147379,391.06248081776636,391.1963385496763,391.3284043345593,391.60942972407025,392.2683171283298,393.39164973469076,394.04921948859953,394.1787277452059,394.2071002301595,394.6975345140619,395.1435953950934,395.8906459518721,397.0106263692953,397.1214341220731,397.7535758801865,397.871551421458,397.95011752819426,398.0592082527596,398.4213247000775,399.55477931894,400.97071763899237,401.1551799087508,401.511117541777,402.6686588486423,402.8524043931533,403.2914947333434,403.8387419747383,404.00627723762557,404.57912111165655,405.7652731797996,406.2078822757169,406.4124971987784,409.31577541913975,409.68705660171247,415.7561408738809,415.92380278001696,416.08430363480124,416.77643763947503,417.1747073039952,422.26353862781474,422.62093080951337,425.66772035032426,431.0430049842574,431.73323706291217,434.91454757024667,435.27775930341517,436.8808091483578,438.52953996248067,439.93302967469856,442.3437800796311,443.06164135389616,443.12526043855564,444.49119974054304,444.9228066835087,445.19703171345236,445.68704205266675,446.7336233833838,448.76340675125965,449.03692605961345,449.60778022575073,449.8475966813261,450.0271130476545,450.18790763590636,451.8469410770772,452.0446904939144,452.0818594433487,452.1007505183822,453.11471115664875,453.5432120268853,453.58699069987756,454.4837262056154,454.90236897268375,455.12124034116846,455.4346165403995,456.316010527587,456.47742917602636,456.6204266486088,456.64540507601237,456.813646498224,457.968099546136,458.5226068316716,458.7584673686918,459.94817361171624,460.02283256863444,460.34505682596006,460.65869773712456,460.82808355954364,460.90800936794847,462.17930201373406,462.5060808641434,462.8772848898053,463.3166783895226,463.42276127307366,463.44813786272726,464.3456111428335,464.4790670871165,465.11160584877285,465.61462033069967,465.73710628796744,465.9439246091499,468.3403283912311,470.1213513641674,470.41055554706514,471.4131196695418,472.7626725692434,473.77925666956446,473.7849189563715,476.55041072337605,476.5645797548212,477.60479937397326,478.1997316662293,479.19887952489955,483.99204134680576,492.4270690189654,496.7703298445703,499.5344003059774,499.831202714823,499.95836459871026]],[\"cat\",[\" \",\" \",\" \",\" \",\" \",\" \",\" \",\" \",\" \",\" \",\" \",\" \",\" \",\" \",\" \",\" \",\" \",\" \",\" \",\" \",\" \",\" \",\" \",\" \",\" \",\" \",\" \",\" \",\" \",\" \",\" \",\" \",\" \",\" \",\" \",\" \",\" \",\" \",\" \",\" \",\" \",\" \",\" \",\" \",\" \",\" \",\" \",\" \",\" \",\" \",\" \",\" \",\" \",\" \",\" \",\" \",\" \",\" \",\" \",\" \",\" \",\" \",\" \",\" \",\" \",\" \",\" \",\" \",\" \",\" \",\" \",\" \",\" \",\" \",\" \",\" \",\" \",\" \",\" \",\" \",\" \",\" \",\" \",\" \",\" \",\" \",\" \",\" \",\" \",\" \",\" \",\" \",\" \",\" \",\" \",\" \",\" \",\" \",\" \",\" \",\" \",\" \",\" \",\" \",\" \",\" \",\" \",\" \",\" \",\" \",\" \",\" \",\" \",\" \",\" \",\" \",\" \",\" \",\" \",\" \",\" \",\" \",\" \",\" \",\" \",\" \",\" \",\" \",\" \",\" \",\" \",\" \",\" \",\" \",\" \",\" \",\" \",\" \",\" \",\" \",\" \",\" \",\" \",\" \",\" \",\" \",\" \",\" \",\" \",\" \",\" \",\" \",\" \",\" \",\" \",\" \",\" \",\" \",\" \",\" \",\" \",\" \",\" \",\" \",\" \",\" \",\" \",\" \",\" \",\" \",\" \",\" \",\" \",\" \",\" \",\" \",\" \",\" \",\" \",\" \",\" \",\" \",\" \",\" \",\" \",\" \",\" \",\" \",\" \",\" \",\" \",\" \",\" \",\" \",\" \",\" \",\" \",\" \",\" \",\" \",\" \",\" \",\" \",\" \",\" \",\" \",\" \",\" \",\" \",\" \",\" \",\" \",\" \",\" \",\" \",\" \",\" \",\" \",\" \",\" \",\" \",\" \",\" \",\" \",\" \",\" \",\" \",\" \",\" \",\" \",\" \",\" \",\" \",\" \",\" \",\" \",\" \",\" \",\" \",\" \",\" \",\" \",\" \",\" \",\" \",\" \",\" \",\" \",\" \",\" \",\" \",\" \",\" \",\" \",\" \",\" \",\" \",\" \",\" \",\" \",\" \",\" \",\" \",\" \",\" \",\" \",\" \",\" \",\" \",\" \",\" \",\" \",\" \",\" \",\" \",\" \",\" \",\" \",\" \",\" \",\" \",\" \",\" \",\" \",\" \",\" \",\" \",\" \",\" \",\" \",\" \",\" \",\" \",\" \",\" \",\" \",\" \",\" \",\" \",\" \",\" \",\" \",\" \",\" \",\" \",\" \",\" \",\" \",\" \",\" \",\" \",\" \",\" \",\" \",\" \",\" \",\" \",\" \",\" \",\" \",\" \",\" \",\" \",\" \",\" \",\" \",\" \",\" \",\" \",\" \",\" \",\" \",\" \",\" \",\" \",\" \",\" \",\" \",\" \",\" \",\" \",\" \",\" \",\" \",\" \",\" \",\" \",\" \",\" \",\" \",\" \",\" \",\" \",\" \",\" \",\" \",\" \",\" \",\" \",\" \",\" \",\" \",\" \",\" \",\" \",\" \",\" \",\" \",\" \",\" \",\" \",\" \",\" \",\" \",\" \",\" \",\" \",\" \",\" \",\" \",\" \",\" \",\" \",\" \",\" \",\" \",\" \",\" \",\" \",\" \",\" \",\" \",\" \",\" \",\" \",\" \",\" \",\" \",\" \",\" \",\" \",\" \",\" \",\" \",\" \",\" \",\" \",\" \",\" \",\" \",\" \",\" \",\" \",\" \",\" \",\" \",\" \",\" \",\" \",\" \",\" \",\" \",\" \",\" \",\" \",\" \",\" \",\" \",\" \",\" \",\" \",\" \",\" \",\" \",\" \",\" \",\" \",\" \",\" \",\" \",\" \",\" \",\" \",\" \",\" \",\" \",\" \",\" \",\" \",\" \",\" \",\" \",\" \",\" \",\" \",\" \",\" \",\" \",\" \",\" \",\" \",\" \",\" \",\" \",\" \",\" \",\" \",\" \",\" \",\" \",\" \",\" \",\" \",\" \",\" \",\" \",\" \",\" \",\" \",\" \",\" \",\" \",\" \",\" \",\" \",\" \",\" \",\" \",\" \",\" \",\" \",\" \",\" \",\" \",\" \",\" \",\" \",\" \",\" \",\" \",\" \",\" \",\" \",\" \",\" \",\" \",\" \",\" \",\" \",\" \",\" \",\" \",\" \",\" \",\" \",\" \",\" \",\" \",\" \",\" \",\" \",\" \",\" \",\" \",\" \",\" \",\" \",\" \",\" \",\" \",\" \",\" \",\" \",\" \",\" \",\" \",\" \",\" \",\" \",\" \",\" \",\" \",\" \",\" \",\" \",\" \",\" \",\" \",\" \",\" \",\" \",\" \",\" \",\" \",\" \",\" \",\" \",\" \",\" \",\" \",\" \",\" \",\" \",\" \",\" \",\" \",\" \",\" \",\" \",\" \",\" \",\" \",\" \",\" \",\" \",\" \",\" \",\" \",\" \",\" \",\" \",\" \"]],[\"__label\",[\" \",\" \",\" \",\" \",\" \",\" \",\" \",\" \",\" \",\" \",\" \",\" \",\" \",\" \",\" \",\" \",\" \",\" \",\" \",\" \",\" \",\" \",\" \",\" \",\" \",\" \",\" \",\" \",\" \",\" \",\" \",\" \",\" \",\" \",\" \",\" \",\" \",\" \",\" \",\" \",\" \",\" \",\" \",\" \",\" \",\" \",\" \",\" \",\" \",\" \",\" \",\" \",\" \",\" \",\" \",\" \",\" \",\" \",\" \",\" \",\" \",\" \",\" \",\" \",\" \",\" \",\" \",\" \",\" \",\" \",\" \",\" \",\" \",\" \",\" \",\" \",\" \",\" \",\" \",\" \",\" \",\" \",\" \",\" \",\" \",\" \",\" \",\" \",\" \",\" \",\" \",\" \",\" \",\" \",\" \",\" \",\" \",\" \",\" \",\" \",\" \",\" \",\" \",\" \",\" \",\" \",\" \",\" \",\" \",\" \",\" \",\" \",\" \",\" \",\" \",\" \",\" \",\" \",\" \",\" \",\" \",\" \",\" \",\" \",\" \",\" \",\" \",\" \",\" \",\" \",\" \",\" \",\" \",\" \",\" \",\" \",\" \",\" \",\" \",\" \",\" \",\" \",\" \",\" \",\" \",\" \",\" \",\" \",\" \",\" \",\" \",\" \",\" \",\" \",\" \",\" \",\" \",\" \",\" \",\" \",\" \",\" \",\" \",\" \",\" \",\" \",\" \",\" \",\" \",\" \",\" \",\" \",\" \",\" \",\" \",\" \",\" \",\" \",\" \",\" \",\" \",\" \",\" \",\" \",\" \",\" \",\" \",\" \",\" \",\" \",\" \",\" \",\" \",\" \",\" \",\" \",\" \",\" \",\" \",\" \",\" \",\" \",\" \",\" \",\" \",\" \",\" \",\" \",\" \",\" \",\" \",\" \",\" \",\" \",\" \",\" \",\" \",\" \",\" \",\" \",\" \",\" \",\" \",\" \",\" \",\" \",\" \",\" \",\" \",\" \",\" \",\" \",\" \",\" \",\" \",\" \",\" \",\" \",\" \",\" \",\" \",\" \",\" \",\" \",\" \",\" \",\" \",\" \",\" \",\" \",\" \",\" \",\" \",\" \",\" \",\" \",\" \",\" \",\" \",\" \",\" \",\" \",\" \",\" \",\" \",\" \",\" \",\" \",\" \",\" \",\" \",\" \",\" \",\" \",\" \",\" \",\" \",\" \",\" \",\" \",\" \",\" \",\" \",\" \",\" \",\" \",\" \",\" \",\" \",\" \",\" \",\" \",\" \",\" \",\" \",\" \",\" \",\" \",\" \",\" \",\" \",\" \",\" \",\" \",\" \",\" \",\" \",\" \",\" \",\" \",\" \",\" \",\" \",\" \",\" \",\" \",\" \",\" \",\" \",\" \",\" \",\" \",\" \",\" \",\" \",\" \",\" \",\" \",\" \",\" \",\" \",\" \",\" \",\" \",\" \",\" \",\" \",\" \",\" \",\" \",\" \",\" \",\" \",\" \",\" \",\" \",\" \",\" \",\" \",\" \",\" \",\" \",\" \",\" \",\" \",\" \",\" \",\" \",\" \",\" \",\" \",\" \",\" \",\" \",\" \",\" \",\" \",\" \",\" \",\" \",\" \",\" \",\" \",\" \",\" \",\" \",\" \",\" \",\" \",\" \",\" \",\" \",\" \",\" \",\" \",\" \",\" \",\" \",\" \",\" \",\" \",\" \",\" \",\" \",\" \",\" \",\" \",\" \",\" \",\" \",\" \",\" \",\" \",\" \",\" \",\" \",\" \",\" \",\" \",\" \",\" \",\" \",\" \",\" \",\" \",\" \",\" \",\" \",\" \",\" \",\" \",\" \",\" \",\" \",\" \",\" \",\" \",\" \",\" \",\" \",\" \",\" \",\" \",\" \",\" \",\" \",\" \",\" \",\" \",\" \",\" \",\" \",\" \",\" \",\" \",\" \",\" \",\" \",\" \",\" \",\" \",\" \",\" \",\" \",\" \",\" \",\" \",\" \",\" \",\" \",\" \",\" \",\" \",\" \",\" \",\" \",\" \",\" \",\" \",\" \",\" \",\" \",\" \",\" \",\" \",\" \",\" \",\" \",\" \",\" \",\" \",\" \",\" \",\" \",\" \",\" \",\" \",\" \",\" \",\" \",\" \",\" \",\" \",\" \",\" \",\" \",\" \",\" \",\" \",\" \",\" \",\" \",\" \",\" \",\" \",\" \",\" \",\" \",\" \",\" \",\" \",\" \",\" \",\" \",\" \",\" \",\" \",\" \",\" \",\" \",\" \",\" \",\" \",\" \",\" \",\" \",\" \",\" \",\" \",\" \",\" \",\" \",\" \",\" \",\" \",\" \",\" \",\" \",\" \",\" \",\" \",\" \",\" \",\" \",\" \",\" \",\" \",\" \",\" \",\" \",\" \",\" \",\" \",\" \",\" \",\" \",\" \",\" \",\" \",\" \",\" \",\" \",\" \",\" \",\" \",\" \",\" \",\" \",\" \",\" \",\" \",\" \",\" \",\" \",\" \",\" \",\" \",\" \",\" \",\" \",\" \",\" \"]]]}}},\"view\":{\"type\":\"object\",\"name\":\"CDSView\",\"id\":\"p1049\",\"attributes\":{\"filter\":{\"type\":\"object\",\"name\":\"AllIndices\",\"id\":\"p1050\"}}},\"glyph\":{\"type\":\"object\",\"name\":\"Scatter\",\"id\":\"p1045\",\"attributes\":{\"x\":{\"type\":\"field\",\"field\":\"x\"},\"y\":{\"type\":\"field\",\"field\":\"cat\"},\"size\":{\"type\":\"value\",\"value\":68.75},\"angle\":{\"type\":\"value\",\"value\":1.5707963267948966},\"line_color\":{\"type\":\"field\",\"field\":\"cat\",\"transform\":{\"type\":\"object\",\"name\":\"CategoricalColorMapper\",\"id\":\"p1038\",\"attributes\":{\"palette\":[\"#1f77b3\",\"#ff7e0e\",\"#2ba02b\",\"#d62628\",\"#9367bc\",\"#8c564b\",\"#e277c1\",\"#7e7e7e\",\"#bcbc21\",\"#16bdcf\",\"#3a0182\",\"#004201\",\"#0fffa8\",\"#5d003f\",\"#bcbcff\",\"#d8afa1\",\"#b80080\",\"#004d52\",\"#6b6400\",\"#7c0100\",\"#6026ff\",\"#ffff9a\",\"#564964\",\"#8cb893\",\"#93fbff\",\"#018267\",\"#90ff00\",\"#8200a0\",\"#ac8944\",\"#5b3400\",\"#ffbff2\",\"#ff6e75\",\"#798cff\",\"#dd00ff\",\"#505646\",\"#004489\",\"#ffbf60\",\"#ff018c\",\"#bdc8cf\",\"#af97b5\",\"#b65600\",\"#017000\",\"#cd87ff\",\"#1cd646\",\"#bfebc3\",\"#7997b5\",\"#a56089\",\"#6e8956\",\"#bc7c75\",\"#8a2844\",\"#00acff\",\"#8ed4ff\",\"#4b6d77\",\"#00d4b1\",\"#9300f2\",\"#8a9500\",\"#5d5b9e\",\"#fddfba\",\"#00939e\",\"#ffdb00\",\"#00aa79\",\"#520067\",\"#000091\",\"#0a5d3d\",\"#a5e275\",\"#623b41\",\"#c6c689\",\"#ff9eb5\",\"#cd4f6b\",\"#ff07d6\",\"#8a3a05\",\"#7e3d70\",\"#ff4901\",\"#602ba5\",\"#1c00ff\",\"#e6dfff\",\"#aa3baf\",\"#d89c00\",\"#a3a39e\",\"#3f69ff\",\"#46490c\",\"#7b6985\",\"#6b978c\",\"#ff9a75\",\"#835bff\",\"#7c6b46\",\"#80b654\",\"#bc0049\",\"#fd93ff\",\"#5d0018\",\"#89d1d1\",\"#9c8cd3\",\"#da6d42\",\"#8a5700\",\"#3b5069\",\"#4b6b3b\",\"#edcfd8\",\"#cfedff\",\"#aa1500\",\"#dfff4f\",\"#ff2a56\",\"#d1499e\",\"#707cb8\",\"#598000\",\"#00e4fd\",\"#774b95\",\"#67d48c\",\"#3d3a72\",\"#ac413f\",\"#d6a166\",\"#c169cd\",\"#69595d\",\"#87aced\",\"#a0a569\",\"#d1aae6\",\"#870062\",\"#00fddb\",\"#672818\",\"#b342ff\",\"#0e59c4\",\"#168742\",\"#90d300\",\"#cd7900\",\"#f959ff\",\"#5b7466\",\"#8eaeb3\",\"#9c7c8c\",\"#4600c6\",\"#6b4d2d\",\"#a56d46\",\"#9e8972\",\"#a8afca\",\"#cd8ca7\",\"#00fd64\",\"#917900\",\"#ff62a1\",\"#f4ffd8\",\"#018cf0\",\"#13aca0\",\"#5b2d59\",\"#89859e\",\"#cfccba\",\"#d4afc4\",\"#dbdd6d\",\"#cffff4\",\"#006485\",\"#006962\",\"#a84167\",\"#2d97c4\",\"#a874ff\",\"#26ba5d\",\"#57b600\",\"#caffa7\",\"#a379aa\",\"#ffbc93\",\"#89e2c1\",\"#0fc8ff\",\"#d400c4\",\"#626d89\",\"#69858e\",\"#4b4d52\",\"#aa6067\",\"#79b5d4\",\"#2b5916\",\"#9a0024\",\"#bdd1f2\",\"#896e67\",\"#69a56b\",\"#855467\",\"#aecdba\",\"#87997e\",\"#cadb00\",\"#9a0390\",\"#ebbc1a\",\"#eb9cd1\",\"#70006e\",\"#b1a131\",\"#ca6b93\",\"#4146a3\",\"#e48c89\",\"#d44400\",\"#c68aca\",\"#b69597\",\"#d41f75\",\"#724bcc\",\"#674d00\",\"#672138\",\"#38564f\",\"#6ebaaa\",\"#853a31\",\"#a5d397\",\"#b8af8e\",\"#d8e4df\",\"#aa00df\",\"#cac1db\",\"#ffdf8c\",\"#e2524d\",\"#66696e\",\"#ff001c\",\"#522d72\",\"#4d906b\",\"#a86d11\",\"#ff9e26\",\"#5ea3af\",\"#c88556\",\"#915997\",\"#a3a1ff\",\"#fdbaba\",\"#242a87\",\"#dbe6a8\",\"#97f2a7\",\"#6793d6\",\"#ba5b3f\",\"#3a5d91\",\"#364f2f\",\"#267c95\",\"#89959a\",\"#cfb356\",\"#004664\",\"#5e5d2f\",\"#8e8e41\",\"#ac3f13\",\"#69953b\",\"#a13d85\",\"#bfb6ba\",\"#acc667\",\"#6469cf\",\"#91af00\",\"#2be2da\",\"#016e36\",\"#ff7952\",\"#42807e\",\"#4fe800\",\"#995428\",\"#5d0a00\",\"#a30057\",\"#0c8700\",\"#5982a7\",\"#ffebfb\",\"#4b6901\",\"#8775d4\",\"#e6c6ff\",\"#a5ffda\",\"#d86e77\",\"#df014b\",\"#69675b\",\"#776ba1\",\"#7e8067\",\"#594685\",\"#0000ca\",\"#7c002a\",\"#97ff72\",\"#b5e2e1\",\"#db52c8\",\"#777734\",\"#57bd8e\"],\"factors\":[\" \"]}}},\"line_alpha\":{\"type\":\"value\",\"value\":0.3},\"fill_color\":{\"type\":\"field\",\"field\":\"cat\",\"transform\":{\"type\":\"object\",\"name\":\"CategoricalColorMapper\",\"id\":\"p1037\",\"attributes\":{\"palette\":[\"#1f77b3\",\"#ff7e0e\",\"#2ba02b\",\"#d62628\",\"#9367bc\",\"#8c564b\",\"#e277c1\",\"#7e7e7e\",\"#bcbc21\",\"#16bdcf\",\"#3a0182\",\"#004201\",\"#0fffa8\",\"#5d003f\",\"#bcbcff\",\"#d8afa1\",\"#b80080\",\"#004d52\",\"#6b6400\",\"#7c0100\",\"#6026ff\",\"#ffff9a\",\"#564964\",\"#8cb893\",\"#93fbff\",\"#018267\",\"#90ff00\",\"#8200a0\",\"#ac8944\",\"#5b3400\",\"#ffbff2\",\"#ff6e75\",\"#798cff\",\"#dd00ff\",\"#505646\",\"#004489\",\"#ffbf60\",\"#ff018c\",\"#bdc8cf\",\"#af97b5\",\"#b65600\",\"#017000\",\"#cd87ff\",\"#1cd646\",\"#bfebc3\",\"#7997b5\",\"#a56089\",\"#6e8956\",\"#bc7c75\",\"#8a2844\",\"#00acff\",\"#8ed4ff\",\"#4b6d77\",\"#00d4b1\",\"#9300f2\",\"#8a9500\",\"#5d5b9e\",\"#fddfba\",\"#00939e\",\"#ffdb00\",\"#00aa79\",\"#520067\",\"#000091\",\"#0a5d3d\",\"#a5e275\",\"#623b41\",\"#c6c689\",\"#ff9eb5\",\"#cd4f6b\",\"#ff07d6\",\"#8a3a05\",\"#7e3d70\",\"#ff4901\",\"#602ba5\",\"#1c00ff\",\"#e6dfff\",\"#aa3baf\",\"#d89c00\",\"#a3a39e\",\"#3f69ff\",\"#46490c\",\"#7b6985\",\"#6b978c\",\"#ff9a75\",\"#835bff\",\"#7c6b46\",\"#80b654\",\"#bc0049\",\"#fd93ff\",\"#5d0018\",\"#89d1d1\",\"#9c8cd3\",\"#da6d42\",\"#8a5700\",\"#3b5069\",\"#4b6b3b\",\"#edcfd8\",\"#cfedff\",\"#aa1500\",\"#dfff4f\",\"#ff2a56\",\"#d1499e\",\"#707cb8\",\"#598000\",\"#00e4fd\",\"#774b95\",\"#67d48c\",\"#3d3a72\",\"#ac413f\",\"#d6a166\",\"#c169cd\",\"#69595d\",\"#87aced\",\"#a0a569\",\"#d1aae6\",\"#870062\",\"#00fddb\",\"#672818\",\"#b342ff\",\"#0e59c4\",\"#168742\",\"#90d300\",\"#cd7900\",\"#f959ff\",\"#5b7466\",\"#8eaeb3\",\"#9c7c8c\",\"#4600c6\",\"#6b4d2d\",\"#a56d46\",\"#9e8972\",\"#a8afca\",\"#cd8ca7\",\"#00fd64\",\"#917900\",\"#ff62a1\",\"#f4ffd8\",\"#018cf0\",\"#13aca0\",\"#5b2d59\",\"#89859e\",\"#cfccba\",\"#d4afc4\",\"#dbdd6d\",\"#cffff4\",\"#006485\",\"#006962\",\"#a84167\",\"#2d97c4\",\"#a874ff\",\"#26ba5d\",\"#57b600\",\"#caffa7\",\"#a379aa\",\"#ffbc93\",\"#89e2c1\",\"#0fc8ff\",\"#d400c4\",\"#626d89\",\"#69858e\",\"#4b4d52\",\"#aa6067\",\"#79b5d4\",\"#2b5916\",\"#9a0024\",\"#bdd1f2\",\"#896e67\",\"#69a56b\",\"#855467\",\"#aecdba\",\"#87997e\",\"#cadb00\",\"#9a0390\",\"#ebbc1a\",\"#eb9cd1\",\"#70006e\",\"#b1a131\",\"#ca6b93\",\"#4146a3\",\"#e48c89\",\"#d44400\",\"#c68aca\",\"#b69597\",\"#d41f75\",\"#724bcc\",\"#674d00\",\"#672138\",\"#38564f\",\"#6ebaaa\",\"#853a31\",\"#a5d397\",\"#b8af8e\",\"#d8e4df\",\"#aa00df\",\"#cac1db\",\"#ffdf8c\",\"#e2524d\",\"#66696e\",\"#ff001c\",\"#522d72\",\"#4d906b\",\"#a86d11\",\"#ff9e26\",\"#5ea3af\",\"#c88556\",\"#915997\",\"#a3a1ff\",\"#fdbaba\",\"#242a87\",\"#dbe6a8\",\"#97f2a7\",\"#6793d6\",\"#ba5b3f\",\"#3a5d91\",\"#364f2f\",\"#267c95\",\"#89959a\",\"#cfb356\",\"#004664\",\"#5e5d2f\",\"#8e8e41\",\"#ac3f13\",\"#69953b\",\"#a13d85\",\"#bfb6ba\",\"#acc667\",\"#6469cf\",\"#91af00\",\"#2be2da\",\"#016e36\",\"#ff7952\",\"#42807e\",\"#4fe800\",\"#995428\",\"#5d0a00\",\"#a30057\",\"#0c8700\",\"#5982a7\",\"#ffebfb\",\"#4b6901\",\"#8775d4\",\"#e6c6ff\",\"#a5ffda\",\"#d86e77\",\"#df014b\",\"#69675b\",\"#776ba1\",\"#7e8067\",\"#594685\",\"#0000ca\",\"#7c002a\",\"#97ff72\",\"#b5e2e1\",\"#db52c8\",\"#777734\",\"#57bd8e\"],\"factors\":[\" \"]}}},\"fill_alpha\":{\"type\":\"value\",\"value\":0.3},\"hatch_alpha\":{\"type\":\"value\",\"value\":0.3},\"marker\":{\"type\":\"value\",\"value\":\"dash\"}}},\"nonselection_glyph\":{\"type\":\"object\",\"name\":\"Scatter\",\"id\":\"p1046\",\"attributes\":{\"x\":{\"type\":\"field\",\"field\":\"x\"},\"y\":{\"type\":\"field\",\"field\":\"cat\"},\"size\":{\"type\":\"value\",\"value\":68.75},\"angle\":{\"type\":\"value\",\"value\":1.5707963267948966},\"line_color\":{\"type\":\"field\",\"field\":\"cat\",\"transform\":{\"id\":\"p1038\"}},\"line_alpha\":{\"type\":\"value\",\"value\":0.1},\"fill_color\":{\"type\":\"field\",\"field\":\"cat\",\"transform\":{\"id\":\"p1037\"}},\"fill_alpha\":{\"type\":\"value\",\"value\":0.1},\"hatch_alpha\":{\"type\":\"value\",\"value\":0.1},\"marker\":{\"type\":\"value\",\"value\":\"dash\"}}},\"muted_glyph\":{\"type\":\"object\",\"name\":\"Scatter\",\"id\":\"p1047\",\"attributes\":{\"x\":{\"type\":\"field\",\"field\":\"x\"},\"y\":{\"type\":\"field\",\"field\":\"cat\"},\"size\":{\"type\":\"value\",\"value\":68.75},\"angle\":{\"type\":\"value\",\"value\":1.5707963267948966},\"line_color\":{\"type\":\"field\",\"field\":\"cat\",\"transform\":{\"id\":\"p1038\"}},\"line_alpha\":{\"type\":\"value\",\"value\":0.2},\"fill_color\":{\"type\":\"field\",\"field\":\"cat\",\"transform\":{\"id\":\"p1037\"}},\"fill_alpha\":{\"type\":\"value\",\"value\":0.2},\"hatch_alpha\":{\"type\":\"value\",\"value\":0.2},\"marker\":{\"type\":\"value\",\"value\":\"dash\"}}}}}],\"toolbar\":{\"type\":\"object\",\"name\":\"Toolbar\",\"id\":\"p1011\",\"attributes\":{\"tools\":[{\"type\":\"object\",\"name\":\"PanTool\",\"id\":\"p1024\"},{\"type\":\"object\",\"name\":\"WheelZoomTool\",\"id\":\"p1025\",\"attributes\":{\"renderers\":\"auto\"}},{\"type\":\"object\",\"name\":\"BoxZoomTool\",\"id\":\"p1026\",\"attributes\":{\"overlay\":{\"type\":\"object\",\"name\":\"BoxAnnotation\",\"id\":\"p1027\",\"attributes\":{\"syncable\":false,\"line_color\":\"black\",\"line_alpha\":1.0,\"line_width\":2,\"line_dash\":[4,4],\"fill_color\":\"lightgrey\",\"fill_alpha\":0.5,\"level\":\"overlay\",\"visible\":false,\"left\":{\"type\":\"number\",\"value\":\"nan\"},\"right\":{\"type\":\"number\",\"value\":\"nan\"},\"top\":{\"type\":\"number\",\"value\":\"nan\"},\"bottom\":{\"type\":\"number\",\"value\":\"nan\"},\"left_units\":\"canvas\",\"right_units\":\"canvas\",\"top_units\":\"canvas\",\"bottom_units\":\"canvas\",\"handles\":{\"type\":\"object\",\"name\":\"BoxInteractionHandles\",\"id\":\"p1033\",\"attributes\":{\"all\":{\"type\":\"object\",\"name\":\"AreaVisuals\",\"id\":\"p1032\",\"attributes\":{\"fill_color\":\"white\",\"hover_fill_color\":\"lightgray\"}}}}}}}},{\"type\":\"object\",\"name\":\"SaveTool\",\"id\":\"p1034\"},{\"type\":\"object\",\"name\":\"ResetTool\",\"id\":\"p1035\"},{\"type\":\"object\",\"name\":\"HelpTool\",\"id\":\"p1036\"}]}},\"toolbar_location\":\"above\",\"left\":[{\"type\":\"object\",\"name\":\"CategoricalAxis\",\"id\":\"p1019\",\"attributes\":{\"ticker\":{\"type\":\"object\",\"name\":\"CategoricalTicker\",\"id\":\"p1020\"},\"formatter\":{\"type\":\"object\",\"name\":\"CategoricalTickFormatter\",\"id\":\"p1021\"},\"major_label_policy\":{\"type\":\"object\",\"name\":\"AllLabels\",\"id\":\"p1022\"}}}],\"below\":[{\"type\":\"object\",\"name\":\"LinearAxis\",\"id\":\"p1014\",\"attributes\":{\"ticker\":{\"type\":\"object\",\"name\":\"BasicTicker\",\"id\":\"p1015\",\"attributes\":{\"mantissas\":[1,2,5]}},\"formatter\":{\"type\":\"object\",\"name\":\"BasicTickFormatter\",\"id\":\"p1016\"},\"axis_label\":\"x\",\"major_label_policy\":{\"type\":\"object\",\"name\":\"AllLabels\",\"id\":\"p1017\"}}}],\"center\":[{\"type\":\"object\",\"name\":\"Grid\",\"id\":\"p1018\",\"attributes\":{\"axis\":{\"id\":\"p1014\"}}},{\"type\":\"object\",\"name\":\"Grid\",\"id\":\"p1023\",\"attributes\":{\"dimension\":1,\"axis\":{\"id\":\"p1019\"},\"grid_line_color\":null}}],\"frame_width\":375,\"frame_height\":275}}],\"defs\":[{\"type\":\"model\",\"name\":\"ReactiveHTML1\"},{\"type\":\"model\",\"name\":\"FlexBox1\",\"properties\":[{\"name\":\"align_content\",\"kind\":\"Any\",\"default\":\"flex-start\"},{\"name\":\"align_items\",\"kind\":\"Any\",\"default\":\"flex-start\"},{\"name\":\"flex_direction\",\"kind\":\"Any\",\"default\":\"row\"},{\"name\":\"flex_wrap\",\"kind\":\"Any\",\"default\":\"wrap\"},{\"name\":\"gap\",\"kind\":\"Any\",\"default\":\"\"},{\"name\":\"justify_content\",\"kind\":\"Any\",\"default\":\"flex-start\"}]},{\"type\":\"model\",\"name\":\"FloatPanel1\",\"properties\":[{\"name\":\"config\",\"kind\":\"Any\",\"default\":{\"type\":\"map\"}},{\"name\":\"contained\",\"kind\":\"Any\",\"default\":true},{\"name\":\"position\",\"kind\":\"Any\",\"default\":\"right-top\"},{\"name\":\"offsetx\",\"kind\":\"Any\",\"default\":null},{\"name\":\"offsety\",\"kind\":\"Any\",\"default\":null},{\"name\":\"theme\",\"kind\":\"Any\",\"default\":\"primary\"},{\"name\":\"status\",\"kind\":\"Any\",\"default\":\"normalized\"}]},{\"type\":\"model\",\"name\":\"GridStack1\",\"properties\":[{\"name\":\"ncols\",\"kind\":\"Any\",\"default\":null},{\"name\":\"nrows\",\"kind\":\"Any\",\"default\":null},{\"name\":\"allow_resize\",\"kind\":\"Any\",\"default\":true},{\"name\":\"allow_drag\",\"kind\":\"Any\",\"default\":true},{\"name\":\"state\",\"kind\":\"Any\",\"default\":[]}]},{\"type\":\"model\",\"name\":\"drag1\",\"properties\":[{\"name\":\"slider_width\",\"kind\":\"Any\",\"default\":5},{\"name\":\"slider_color\",\"kind\":\"Any\",\"default\":\"black\"},{\"name\":\"value\",\"kind\":\"Any\",\"default\":50}]},{\"type\":\"model\",\"name\":\"click1\",\"properties\":[{\"name\":\"terminal_output\",\"kind\":\"Any\",\"default\":\"\"},{\"name\":\"debug_name\",\"kind\":\"Any\",\"default\":\"\"},{\"name\":\"clears\",\"kind\":\"Any\",\"default\":0}]},{\"type\":\"model\",\"name\":\"FastWrapper1\",\"properties\":[{\"name\":\"object\",\"kind\":\"Any\",\"default\":null},{\"name\":\"style\",\"kind\":\"Any\",\"default\":null}]},{\"type\":\"model\",\"name\":\"NotificationArea1\",\"properties\":[{\"name\":\"js_events\",\"kind\":\"Any\",\"default\":{\"type\":\"map\"}},{\"name\":\"max_notifications\",\"kind\":\"Any\",\"default\":5},{\"name\":\"notifications\",\"kind\":\"Any\",\"default\":[]},{\"name\":\"position\",\"kind\":\"Any\",\"default\":\"bottom-right\"},{\"name\":\"_clear\",\"kind\":\"Any\",\"default\":0},{\"name\":\"types\",\"kind\":\"Any\",\"default\":[{\"type\":\"map\",\"entries\":[[\"type\",\"warning\"],[\"background\",\"#ffc107\"],[\"icon\",{\"type\":\"map\",\"entries\":[[\"className\",\"fas fa-exclamation-triangle\"],[\"tagName\",\"i\"],[\"color\",\"white\"]]}]]},{\"type\":\"map\",\"entries\":[[\"type\",\"info\"],[\"background\",\"#007bff\"],[\"icon\",{\"type\":\"map\",\"entries\":[[\"className\",\"fas fa-info-circle\"],[\"tagName\",\"i\"],[\"color\",\"white\"]]}]]}]}]},{\"type\":\"model\",\"name\":\"Notification\",\"properties\":[{\"name\":\"background\",\"kind\":\"Any\",\"default\":null},{\"name\":\"duration\",\"kind\":\"Any\",\"default\":3000},{\"name\":\"icon\",\"kind\":\"Any\",\"default\":null},{\"name\":\"message\",\"kind\":\"Any\",\"default\":\"\"},{\"name\":\"notification_type\",\"kind\":\"Any\",\"default\":null},{\"name\":\"_rendered\",\"kind\":\"Any\",\"default\":false},{\"name\":\"_destroyed\",\"kind\":\"Any\",\"default\":false}]},{\"type\":\"model\",\"name\":\"TemplateActions1\",\"properties\":[{\"name\":\"open_modal\",\"kind\":\"Any\",\"default\":0},{\"name\":\"close_modal\",\"kind\":\"Any\",\"default\":0}]},{\"type\":\"model\",\"name\":\"BootstrapTemplateActions1\",\"properties\":[{\"name\":\"open_modal\",\"kind\":\"Any\",\"default\":0},{\"name\":\"close_modal\",\"kind\":\"Any\",\"default\":0}]},{\"type\":\"model\",\"name\":\"TemplateEditor1\",\"properties\":[{\"name\":\"layout\",\"kind\":\"Any\",\"default\":[]}]},{\"type\":\"model\",\"name\":\"MaterialTemplateActions1\",\"properties\":[{\"name\":\"open_modal\",\"kind\":\"Any\",\"default\":0},{\"name\":\"close_modal\",\"kind\":\"Any\",\"default\":0}]},{\"type\":\"model\",\"name\":\"ReactiveESM1\",\"properties\":[{\"name\":\"esm_constants\",\"kind\":\"Any\",\"default\":{\"type\":\"map\"}}]},{\"type\":\"model\",\"name\":\"JSComponent1\",\"properties\":[{\"name\":\"esm_constants\",\"kind\":\"Any\",\"default\":{\"type\":\"map\"}}]},{\"type\":\"model\",\"name\":\"ReactComponent1\",\"properties\":[{\"name\":\"esm_constants\",\"kind\":\"Any\",\"default\":{\"type\":\"map\"}}]},{\"type\":\"model\",\"name\":\"AnyWidgetComponent1\",\"properties\":[{\"name\":\"esm_constants\",\"kind\":\"Any\",\"default\":{\"type\":\"map\"}}]},{\"type\":\"model\",\"name\":\"request_value1\",\"properties\":[{\"name\":\"fill\",\"kind\":\"Any\",\"default\":\"none\"},{\"name\":\"_synced\",\"kind\":\"Any\",\"default\":null},{\"name\":\"_request_sync\",\"kind\":\"Any\",\"default\":0}]}]}};\n  const render_items = [{\"docid\":\"57323b49-72e6-4fc2-b6b5-f69968c41d10\",\"roots\":{\"p1003\":\"c978c6f5-e756-400b-aef5-9dc91137da3f\"},\"root_ids\":[\"p1003\"]}];\n  void root.Bokeh.embed.embed_items_notebook(docs_json, render_items);\n  }\n  if (root.Bokeh !== undefined) {\n    embed_document(root);\n  } else {\n    let attempts = 0;\n    const timer = setInterval(function(root) {\n      if (root.Bokeh !== undefined) {\n        clearInterval(timer);\n        embed_document(root);\n      } else {\n        attempts++;\n        if (attempts > 100) {\n          clearInterval(timer);\n          console.log(\"Bokeh: ERROR: Unable to run BokehJS code because BokehJS library is missing\");\n        }\n      }\n    }, 10, root)\n  }\n})(window);",
      "application/vnd.bokehjs_exec.v0+json": ""
     },
     "metadata": {
      "application/vnd.bokehjs_exec.v0+json": {
       "id": "p1003"
      }
     },
     "output_type": "display_data"
    }
   ],
   "source": [
    "def beta(t, offset, tau):\n",
    "    \"\"\"Poisson process arrival rate as a function of t\"\"\"\n",
    "    return offset + np.sin(t / tau)\n",
    "\n",
    "# Parameters for arrival rate function\n",
    "offset = 1.15\n",
    "tau = 10\n",
    "beta_args = (offset, tau)\n",
    "\n",
    "# Sample arrival times\n",
    "arrival_times = sample_nhpp(beta, 2.15, 500, beta_args=beta_args)\n",
    "\n",
    "# Plot the arrivals\n",
    "p = iqplot.strip(arrival_times, marker='dash', marker_kwargs=dict(alpha=0.3))\n",
    "bokeh.io.show(p)"
   ]
  },
  {
   "cell_type": "markdown",
   "metadata": {},
   "source": [
    "We can write down the probability density function for the arrival times, given by {@eq-nonhomogeneous-poisson-multiple-arrivals-pdf}. Barring any chronic issues with the sampler, we can use Markov chain Monte Carlo to do the sampling.\n",
    "\n",
    "Here, I present the Stan code for doing so, and then discuss its contents.\n",
    "\n",
    "```stan\n",
    "functions {\n",
    "    real beta_(real t, real offset_, real tau) {\n",
    "        return offset_ + sin(t / tau);\n",
    "    }\n",
    "\n",
    "    vector beta_(vector t, real offset_, real tau) {\n",
    "        return offset_ + sin(t / tau);\n",
    "    }\n",
    "\n",
    "    real integral_beta(real tn, real offset_, real tau) {\n",
    "        return tau + offset_ * tn - tau * cos(tn / tau);\n",
    "    }\n",
    "}\n",
    "\n",
    "\n",
    "data {\n",
    "    int n;\n",
    "    real offset_;\n",
    "    real tau;\n",
    "}\n",
    "\n",
    "\n",
    "parameters {\n",
    "    positive_ordered[n] arrival_times;\n",
    "}\n",
    "\n",
    "\n",
    "model {\n",
    "    target += -integral_beta(arrival_times[n], offset_, tau);\n",
    "    target += sum(log(beta_(arrival_times, offset_, tau)));\n",
    "}\n",
    "```\n",
    "\n",
    "First, we see a demonstration of how functions in the `functions` block work. Each function is declared with its return type. The function `beta_`, for example, returns a `real`, so it is declared as `real beta_(...)`. (We name the function `beta_` instead of `beta` because `beta` is part of the Stan language, standing for the Beta distribution.) The type of each argument must also be specified, separated by commas. Each function must also have a `return` statement, with the value being returned following `return`.\n",
    "\n",
    "Next, not how we used the `data` block to enable passing in parameters. The `data` block is used to pass anything that does not change or get sampled in a Stan program.\n",
    "\n",
    "In the `parameters` block, we define a `positive_ordered` data type that we use for the arrival times. This is a convenient data type in Stan. It comprises a vector where all entries are positive, and they are ordered from smallest to largest in magnitude. Since the arrival times are indeed positive and ordered, this data type is perfect for the present application.\n",
    "\n",
    "In the `model` block, we add values to `target`. `target` is a special Stan variable that is the log probability density of the distribution being sampled out of, the so-called target distribution. Under the hood, sampling statements, such as `x ~ std_normal()`, add the appropriate quantities to `target`. When a sampling statement is not available available for a given distribution, as is the case here, we directly add the appropriate log probability density to `target`.\n",
    "\n",
    "Now that we have our code, let's compile it and give it a whirl! Since we aim to draw a single set of spike times, we will only use one chain and take one sample (since a single sample is 500 spikes). We will still take 1000 warm up samples (though this is excessive; we do not need that many)."
   ]
  },
  {
   "cell_type": "code",
   "execution_count": 5,
   "metadata": {},
   "outputs": [
    {
     "name": "stderr",
     "output_type": "stream",
     "text": [
      "19:17:29 - cmdstanpy - INFO - compiling stan file /Users/bois/Dropbox/git/datasai/2025/content/content/lessons/sampling/sinusoid_nhpp.stan to exe file /Users/bois/Dropbox/git/datasai/2025/content/content/lessons/sampling/sinusoid_nhpp\n",
      "19:17:33 - cmdstanpy - INFO - compiled model executable: /Users/bois/Dropbox/git/datasai/2025/content/content/lessons/sampling/sinusoid_nhpp\n",
      "19:17:33 - cmdstanpy - INFO - CmdStan start processing\n"
     ]
    },
    {
     "data": {
      "application/vnd.jupyter.widget-view+json": {
       "model_id": "f03ee23441cc43a2965fe74564b53faf",
       "version_major": 2,
       "version_minor": 0
      },
      "text/plain": [
       "chain 1 |          | 00:00 Status"
      ]
     },
     "metadata": {},
     "output_type": "display_data"
    },
    {
     "name": "stdout",
     "output_type": "stream",
     "text": [
      "                                                                                "
     ]
    },
    {
     "name": "stderr",
     "output_type": "stream",
     "text": [
      "19:17:44 - cmdstanpy - INFO - CmdStan done processing.\n"
     ]
    },
    {
     "name": "stdout",
     "output_type": "stream",
     "text": [
      "\n"
     ]
    }
   ],
   "source": [
    "# Compile Stan code\n",
    "sm = cmdstanpy.CmdStanModel(stan_file='sinusoid_nhpp.stan')\n",
    "\n",
    "# Parameters for our toy sinusoid and number of spikes to generate.\n",
    "data = dict(n=1000, offset_=1.5, tau=10.0)\n",
    "\n",
    "# Sample using Stan\n",
    "samples = sm.sample(\n",
    "    data=data,\n",
    "    chains=1,\n",
    "    iter_sampling=1,\n",
    ")\n",
    "\n",
    "# Convert to ArviZ InferenceData instance\n",
    "samples = az.from_cmdstanpy(posterior=samples)"
   ]
  },
  {
   "cell_type": "markdown",
   "metadata": {},
   "source": [
    "Let's plot to see if we get the same kind of set of spikes as in the sampling by thinning."
   ]
  },
  {
   "cell_type": "code",
   "execution_count": 6,
   "metadata": {},
   "outputs": [
    {
     "data": {
      "text/html": [
       "\n",
       "  <div id=\"a02bf2d8-68dd-4a00-aed0-4123f0b75240\" data-root-id=\"p1052\" style=\"display: contents;\"></div>\n"
      ]
     },
     "metadata": {},
     "output_type": "display_data"
    },
    {
     "data": {
      "application/javascript": "(function(root) {\n  function embed_document(root) {\n  const docs_json = {\"131fafaa-81f1-4b5e-9e8f-18deb16e1b6b\":{\"version\":\"3.6.2\",\"title\":\"Bokeh Application\",\"roots\":[{\"type\":\"object\",\"name\":\"Figure\",\"id\":\"p1052\",\"attributes\":{\"x_range\":{\"type\":\"object\",\"name\":\"Range1d\",\"id\":\"p1061\",\"attributes\":{\"end\":500}},\"y_range\":{\"type\":\"object\",\"name\":\"FactorRange\",\"id\":\"p1051\",\"attributes\":{\"factors\":[\" \"]}},\"x_scale\":{\"type\":\"object\",\"name\":\"LinearScale\",\"id\":\"p1062\"},\"y_scale\":{\"type\":\"object\",\"name\":\"CategoricalScale\",\"id\":\"p1063\"},\"title\":{\"type\":\"object\",\"name\":\"Title\",\"id\":\"p1059\"},\"renderers\":[{\"type\":\"object\",\"name\":\"GlyphRenderer\",\"id\":\"p1098\",\"attributes\":{\"name\":\"hover_glyphs\",\"data_source\":{\"type\":\"object\",\"name\":\"ColumnDataSource\",\"id\":\"p1089\",\"attributes\":{\"selected\":{\"type\":\"object\",\"name\":\"Selection\",\"id\":\"p1090\",\"attributes\":{\"indices\":[],\"line_indices\":[]}},\"selection_policy\":{\"type\":\"object\",\"name\":\"UnionRenderers\",\"id\":\"p1091\"},\"data\":{\"type\":\"map\",\"entries\":[[\"arrival_times\",[0.722424,0.955102,1.47777,2.90498,2.97229,3.18788,4.17456,6.12197,6.52946,6.98294,7.69321,8.95583,9.4732,9.53008,9.71446,9.86937,9.97295,10.0817,10.1474,10.361,10.7385,10.9645,11.2095,12.1414,12.5617,13.4349,13.8676,13.8748,14.0024,14.8886,15.171,15.3091,15.9714,16.5168,16.543,16.7069,16.9895,17.0002,17.459,17.5095,17.9531,18.1035,18.3915,18.4718,20.5843,21.2741,21.469,21.8304,23.2531,23.2533,23.8946,24.0588,24.082,24.4159,25.146,25.4955,25.4988,25.76,26.2455,26.743,27.5717,28.1919,29.4957,29.9274,30.7051,31.3829,32.0998,32.5942,33.0591,34.4697,36.6023,38.6642,39.213,39.3662,39.8575,40.2018,40.5227,41.0551,41.7977,43.5582,43.9207,44.9239,46.9064,47.0297,55.1263,56.2688,56.4981,59.6934,60.5421,62.2049,62.2185,63.0411,65.0617,66.355,66.6296,67.1565,67.2783,67.6164,67.6212,67.6345,67.7366,67.931,68.4016,68.9654,69.1595,69.2998,69.4909,69.9752,70.1192,70.6127,70.7462,70.8057,71.0698,71.1827,72.6794,73.0924,73.961,74.4658,75.0173,75.2756,75.4497,76.2003,76.4191,76.4538,76.6418,77.2868,77.6103,77.6166,78.5273,79.377,79.5343,82.5133,83.3666,83.7108,83.7281,84.8904,85.7351,86.3428,86.5124,86.7202,86.8618,87.4005,88.09,88.251,88.856,89.4652,89.8659,89.9817,90.372,90.4273,91.6272,92.2259,92.2936,93.6314,93.7383,93.9782,94.5159,94.6288,95.1375,97.4203,97.8998,98.4964,99.3989,99.4091,102.768,109.455,109.586,110.14,111.688,112.798,113.309,115.029,115.808,116.193,118.112,118.288,119.106,120.865,124.383,124.446,124.619,124.84,125.264,126.354,126.836,126.943,128.878,129.414,131.661,132.23,133.93,134.331,134.799,134.94,135.042,135.156,136.006,137.247,138.151,138.154,139.216,139.281,139.377,139.574,139.722,139.813,140.122,140.182,140.294,140.786,141.301,141.715,141.84,142.288,142.564,142.875,143.088,143.138,143.687,144.027,144.43,145.623,146.381,146.598,146.82,147.178,147.216,147.289,147.746,148.348,148.516,148.874,149.09,149.27,149.886,150.851,150.868,151.594,151.847,152.568,153.366,153.61,154.228,154.466,154.828,155.036,155.955,156.186,159.137,160.114,161.703,163.166,163.269,163.523,167.999,168.919,169.144,170.518,174.826,175.682,176.701,178.932,179.427,185.778,186.08,186.235,186.485,186.567,187.423,190.152,190.19,190.412,190.739,191.664,192.214,192.779,192.876,193.392,194.096,194.608,195.216,195.509,195.538,196.261,196.318,197.2,197.246,198.823,199.763,199.848,200.066,200.628,200.787,201.823,202.022,202.701,203.537,203.641,203.779,203.926,204.491,205.037,206.832,207.132,208.548,208.958,209.166,210.192,210.453,210.528,210.851,211.08,212.622,213.143,213.452,214.031,214.383,214.997,215.1,215.646,215.77,216.116,216.711,216.845,217.273,220.354,220.398,222.483,222.757,224.57,224.958,225.266,229.326,231.693,232.467,232.505,233.387,234.613,235.596,239.326,241.968,242.127,242.871,243.31,243.883,243.931,245.704,246.813,247.63,251.761,253.213,253.252,254.687,255.041,255.05,255.099,255.315,255.571,256.155,257.713,257.853,258.326,258.693,259.168,259.679,260.08,260.352,261.512,262.18,262.579,262.76,263.038,263.315,264.565,265.513,265.815,266.92,267.432,268.786,269.008,269.505,270.251,270.259,270.56,271.792,273.825,274.015,274.467,274.652,275.299,275.438,275.673,276.471,277.822,278.122,278.427,278.595,279.283,279.454,280.379,281.47,282.619,282.677,283.265,284.372,284.398,284.698,284.766,284.937,285.039,285.186,285.211,286.057,286.579,286.89,291.455,291.595,292.735,298.124,298.539,299.047,300.364,302.07,305.629,305.843,307.202,307.965,308.706,309.157,309.586,309.909,310.274,310.505,312.032,312.733,313.692,314.9,317.33,317.931,317.945,318.23,318.588,319.585,321.42,322.305,322.661,322.989,323.043,325.015,325.182,325.44,325.661,325.984,326.524,326.94,327.147,328.29,328.632,328.762,329.69,329.831,329.858,329.895,329.941,329.942,330.231,330.833,330.86,331.966,332.142,332.946,333.063,333.083,333.941,334.056,336.135,336.407,336.536,336.618,336.621,337.276,339.063,339.521,340.368,341.831,341.847,342.504,342.788,344.079,344.185,344.204,344.278,344.386,344.613,345.742,346.365,347.764,348.802,349.255,352.031,354.369,354.988,358.669,359.862,360.576,363.196,363.388,372.294,373.76,374.151,374.673,374.757,375.014,375.404,376.141,376.349,376.575,377.23,377.275,378.054,378.065,378.278,378.523,378.79,379.156,379.17,381.032,381.499,381.561,384.426,385.81,386.591,386.595,386.625,387.454,387.882,387.933,388.37,388.4,389.426,389.833,390.924,391.067,391.505,391.763,391.916,392.735,392.767,392.859,393.541,393.8,393.853,393.869,393.892,394.71,394.756,395.719,395.788,395.845,396.598,396.731,396.913,396.958,397.119,397.358,397.89,398.191,398.503,399.512,401.13,401.187,401.296,401.425,401.476,401.957,402.199,402.425,402.625,402.717,403.173,403.325,403.418,403.903,404.028,404.243,404.319,406.413,406.616,406.755,407.095,407.349,407.547,408.189,408.419,408.655,409.952,411.281,411.288,412.055,414.979,422.186,422.496,423.887,425.916,426.293,428.095,430.773,432.418,432.482,432.906,433.11,433.823,433.915,434.768,435.272,436.349,437.365,438.184,442.09,442.47,442.883,443.572,443.733,443.837,444.722,445.663,445.869,446.126,446.753,448.487,448.714,448.743,448.786,448.873,448.902,448.914,449.045,449.142,450.118,450.587,452.404,452.456,452.61,453.501,453.991,454.585,454.94,455.775,456.825,456.952,457.728,457.777,458.476,459.07,459.621,459.699,460.203,461.298,461.442,461.632,462.363,462.499,463.581,463.889,464.149,464.267,466.239,467.192,467.332,467.65,467.993,468.388,468.658,469.246,472.102,474.511,474.729,475.946,476.249,476.744,479.301,482.477,483.703,484.89,486.032,487.374,491.138,491.641,492.518,494.148,494.378,495.256,496.605,497.486,498.263,499.79,500.432,500.624,501.62,502.216,502.692,503.109,503.721,504.067,505.901,506.007,506.213,506.603,507.407,508.392,508.531,509.142,509.218,510.307,510.382,511.865,512.35,512.407,512.657,512.892,512.928,512.998,513.579,513.871,513.872,514.013,514.575,515.761,516.244,516.663,517.354,517.435,517.933,518.172,518.605,518.959,519.065,519.183,519.695,520.009,520.583,520.695,520.899,521.009,521.094,521.926,522.181,522.672,523.067,523.308,523.474,523.614,523.804,526.65,526.776,526.891,527.468,527.556,527.985,528.053,528.314,528.63,528.655,528.817,529.901,529.971,530.459,530.47,531.953,532.485,535.225,535.651,537.326,537.466,538.246,542.331,542.622,543.682,544.806,547.021,548.176,549.142,550.09,550.7,551.082,552.088,553.549,553.708,554.539,555.831,557.533,560.399,562.58,563.345,563.945,566.171,566.856,567.894,567.896,568.06,568.459,568.522,569.613,569.808,569.826,572.498,573.528,574.438,574.766,575.006,575.19,575.834,576.484,576.718,577.111,577.337,577.475,577.658,577.873,578.06,578.197,578.237,578.722,578.796,578.92,579.059,579.535,580.2,580.904,581.26,581.51,581.728,582.177,582.939,583.58,583.62,583.826,587.972,587.977,588.761,588.864,589.676,590.759,591.072,591.866,592.711,593.391,593.535,593.868,593.88,595.072,596.638,597.458,597.674,597.994,599.222,600.638,602.666,604.36,604.568,605.193,605.624,608.118,608.427,608.848,609.112,612.959,618.122,618.555,619.392,619.453,619.826,619.884,620.086,621.597,621.932,622.651,623.353,623.844,624.284,624.82,626.191,626.362,627.077,627.941,628.336,628.663,628.827,629.238,629.433,629.514,630.884,631.738,632.512,633.897,634.123,635.081,635.083,636.015,636.023,637.88,638.0,638.249,638.416,639.034,639.17,639.176,639.199,639.287,639.53,639.552,639.867,641.313,642.048,642.159,642.507,642.598,643.449,644.136,644.368,644.549,644.701,645.152,646.224,647.637,647.741,647.818,647.924,648.295,648.461,649.515,649.715,650.066,650.747,650.857,651.062,651.689,651.757,652.184,652.611,652.655,652.793,653.823,654.782,654.946,655.619,657.467,657.771,657.818,657.935,658.176,658.912,659.561,659.904,660.682,662.497,663.082,665.579,666.241,666.836,669.636,670.438,670.751,671.517,672.213,676.926,678.899,680.143,681.012,681.603,682.441,682.756,683.456,684.733,686.141,687.682,687.916,689.117,689.467,689.494,690.039,690.088,690.78,691.068,691.36,692.509,693.443,695.636,696.194,696.473,696.51,696.625,697.22,697.788,697.871,698.214,699.104,699.235,699.713,699.887]],[\"__dummy_cat\",[\" \",\" \",\" \",\" \",\" \",\" \",\" \",\" \",\" \",\" \",\" \",\" \",\" \",\" \",\" \",\" \",\" \",\" \",\" \",\" \",\" \",\" \",\" \",\" \",\" \",\" \",\" \",\" \",\" \",\" \",\" \",\" \",\" \",\" \",\" \",\" \",\" \",\" \",\" \",\" \",\" \",\" \",\" \",\" \",\" \",\" \",\" \",\" \",\" \",\" \",\" \",\" \",\" \",\" \",\" \",\" \",\" \",\" \",\" \",\" \",\" \",\" \",\" \",\" \",\" \",\" \",\" \",\" \",\" \",\" \",\" \",\" \",\" \",\" \",\" \",\" \",\" \",\" \",\" \",\" \",\" \",\" \",\" \",\" \",\" \",\" \",\" \",\" \",\" \",\" \",\" \",\" \",\" \",\" \",\" \",\" \",\" \",\" \",\" \",\" \",\" \",\" \",\" \",\" \",\" \",\" \",\" \",\" \",\" \",\" \",\" \",\" \",\" \",\" \",\" \",\" \",\" \",\" \",\" \",\" \",\" \",\" \",\" \",\" \",\" \",\" \",\" \",\" \",\" \",\" \",\" \",\" \",\" \",\" \",\" \",\" \",\" \",\" \",\" \",\" \",\" \",\" \",\" \",\" \",\" \",\" \",\" \",\" \",\" \",\" \",\" \",\" \",\" \",\" \",\" \",\" \",\" \",\" \",\" \",\" \",\" \",\" \",\" \",\" \",\" \",\" \",\" \",\" \",\" \",\" \",\" \",\" \",\" \",\" \",\" \",\" \",\" \",\" \",\" \",\" \",\" \",\" \",\" \",\" \",\" \",\" \",\" \",\" \",\" \",\" \",\" \",\" \",\" \",\" \",\" \",\" \",\" \",\" \",\" \",\" \",\" \",\" \",\" \",\" \",\" \",\" \",\" \",\" \",\" \",\" \",\" \",\" \",\" \",\" \",\" \",\" \",\" \",\" \",\" \",\" \",\" \",\" \",\" \",\" \",\" \",\" \",\" \",\" \",\" \",\" \",\" \",\" \",\" \",\" \",\" \",\" \",\" \",\" \",\" \",\" \",\" \",\" \",\" \",\" \",\" \",\" \",\" \",\" \",\" \",\" \",\" \",\" \",\" \",\" \",\" \",\" \",\" \",\" \",\" \",\" \",\" \",\" \",\" \",\" \",\" \",\" \",\" \",\" \",\" \",\" \",\" \",\" \",\" \",\" \",\" \",\" \",\" \",\" \",\" \",\" \",\" \",\" \",\" \",\" \",\" \",\" \",\" \",\" \",\" \",\" \",\" \",\" \",\" \",\" \",\" \",\" \",\" \",\" \",\" \",\" \",\" \",\" \",\" \",\" \",\" \",\" \",\" \",\" \",\" \",\" \",\" \",\" \",\" \",\" \",\" \",\" \",\" \",\" \",\" \",\" \",\" \",\" \",\" \",\" \",\" \",\" \",\" \",\" \",\" \",\" \",\" \",\" \",\" \",\" \",\" \",\" \",\" \",\" \",\" \",\" \",\" \",\" \",\" \",\" \",\" \",\" \",\" \",\" \",\" \",\" \",\" \",\" \",\" \",\" \",\" \",\" \",\" \",\" \",\" \",\" \",\" \",\" \",\" \",\" \",\" \",\" \",\" \",\" \",\" \",\" \",\" \",\" \",\" \",\" \",\" \",\" \",\" \",\" \",\" \",\" \",\" \",\" \",\" \",\" \",\" \",\" \",\" \",\" \",\" \",\" \",\" \",\" \",\" \",\" \",\" \",\" \",\" \",\" \",\" \",\" \",\" \",\" \",\" \",\" \",\" \",\" \",\" \",\" \",\" \",\" \",\" \",\" \",\" \",\" \",\" \",\" \",\" \",\" \",\" \",\" \",\" \",\" \",\" \",\" \",\" \",\" \",\" \",\" \",\" \",\" \",\" \",\" \",\" \",\" \",\" \",\" \",\" \",\" \",\" \",\" \",\" \",\" \",\" \",\" \",\" \",\" \",\" \",\" \",\" \",\" \",\" \",\" \",\" \",\" \",\" \",\" \",\" \",\" \",\" \",\" \",\" \",\" \",\" \",\" \",\" \",\" \",\" \",\" \",\" \",\" \",\" \",\" \",\" \",\" \",\" \",\" \",\" \",\" \",\" \",\" \",\" \",\" \",\" \",\" \",\" \",\" \",\" \",\" \",\" \",\" \",\" \",\" \",\" \",\" \",\" \",\" \",\" \",\" \",\" \",\" \",\" \",\" \",\" \",\" \",\" \",\" \",\" \",\" \",\" \",\" \",\" \",\" \",\" \",\" \",\" \",\" \",\" \",\" \",\" \",\" \",\" \",\" \",\" \",\" \",\" \",\" \",\" \",\" \",\" \",\" \",\" \",\" \",\" \",\" \",\" \",\" \",\" \",\" \",\" \",\" \",\" \",\" \",\" \",\" \",\" \",\" \",\" \",\" \",\" \",\" \",\" \",\" \",\" \",\" \",\" \",\" \",\" \",\" \",\" \",\" \",\" \",\" \",\" \",\" \",\" \",\" \",\" \",\" \",\" \",\" \",\" \",\" \",\" \",\" \",\" \",\" \",\" \",\" \",\" \",\" \",\" \",\" \",\" \",\" \",\" \",\" \",\" \",\" \",\" \",\" \",\" \",\" \",\" \",\" \",\" \",\" \",\" \",\" \",\" \",\" \",\" \",\" \",\" \",\" \",\" \",\" \",\" \",\" \",\" \",\" \",\" \",\" \",\" \",\" \",\" \",\" \",\" \",\" \",\" \",\" \",\" \",\" \",\" \",\" \",\" \",\" \",\" \",\" \",\" \",\" \",\" \",\" \",\" \",\" \",\" \",\" \",\" \",\" \",\" \",\" \",\" \",\" \",\" \",\" \",\" \",\" \",\" \",\" \",\" \",\" \",\" \",\" \",\" \",\" \",\" \",\" \",\" \",\" \",\" \",\" \",\" \",\" \",\" \",\" \",\" \",\" \",\" \",\" \",\" \",\" \",\" \",\" \",\" \",\" \",\" \",\" \",\" \",\" \",\" \",\" \",\" \",\" \",\" \",\" \",\" \",\" \",\" \",\" \",\" \",\" \",\" \",\" \",\" \",\" \",\" \",\" \",\" \",\" \",\" \",\" \",\" \",\" \",\" \",\" \",\" \",\" \",\" \",\" \",\" \",\" \",\" \",\" \",\" \",\" \",\" \",\" \",\" \",\" \",\" \",\" \",\" \",\" \",\" \",\" \",\" \",\" \",\" \",\" \",\" \",\" \",\" \",\" \",\" \",\" \",\" \",\" \",\" \",\" \",\" \",\" \",\" \",\" \",\" \",\" \",\" \",\" \",\" \",\" \",\" \",\" \",\" \",\" \",\" \",\" \",\" \",\" \",\" \",\" \",\" \",\" \",\" \",\" \",\" \",\" \",\" \",\" \",\" \",\" \",\" \",\" \",\" \",\" \",\" \",\" \",\" \",\" \",\" \",\" \",\" \",\" \",\" \",\" \",\" \",\" \",\" \",\" \",\" \",\" \",\" \",\" \",\" \",\" \",\" \",\" \",\" \",\" \",\" \",\" \",\" \",\" \",\" \",\" \",\" \",\" \",\" \",\" \",\" \",\" \",\" \",\" \",\" \",\" \",\" \",\" \",\" \",\" \",\" \",\" \",\" \",\" \",\" \",\" \",\" \",\" \",\" \",\" \",\" \",\" \",\" \",\" \",\" \",\" \",\" \",\" \",\" \",\" \",\" \",\" \",\" \",\" \",\" \",\" \",\" \",\" \",\" \",\" \",\" \",\" \",\" \",\" \",\" \",\" \",\" \",\" \",\" \",\" \",\" \",\" \",\" \",\" \",\" \",\" \",\" \",\" \",\" \",\" \",\" \",\" \",\" \",\" \",\" \",\" \",\" \",\" \",\" \",\" \",\" \",\" \",\" \",\" \",\" \",\" \",\" \",\" \",\" \",\" \",\" \",\" \",\" \",\" \",\" \",\" \",\" \",\" \",\" \",\" \",\" \",\" \",\" \",\" \",\" \",\" \",\" \",\" \",\" \",\" \",\" \",\" \",\" \",\" \",\" \",\" \",\" \",\" \",\" \",\" \",\" \",\" \",\" \",\" \",\" \",\" \",\" \",\" \",\" \",\" \",\" \",\" \",\" \",\" \",\" \",\" \",\" \",\" \",\" \",\" \",\" \",\" \",\" \",\" \",\" \",\" \",\" \",\" \",\" \",\" \",\" \",\" \",\" \",\" \",\" \",\" \",\" \",\" \",\" \",\" \",\" \",\" \",\" \",\" \",\" \",\" \",\" \",\" \",\" \",\" \",\" \",\" \",\" \",\" \",\" \",\" \",\" \",\" \",\" \",\" \",\" \",\" \",\" \",\" \",\" \",\" \",\" \",\" \",\" \",\" \",\" \",\" \",\" \",\" \",\" \",\" \",\" \",\" \",\" \",\" \",\" \",\" \",\" \",\" \"]],[\"cat\",[\" \",\" \",\" \",\" \",\" \",\" \",\" \",\" \",\" \",\" \",\" \",\" \",\" \",\" \",\" \",\" \",\" \",\" \",\" \",\" \",\" \",\" \",\" \",\" \",\" \",\" \",\" \",\" \",\" \",\" \",\" \",\" \",\" \",\" \",\" \",\" \",\" \",\" \",\" \",\" \",\" \",\" \",\" \",\" \",\" \",\" \",\" \",\" \",\" \",\" \",\" \",\" \",\" \",\" \",\" \",\" \",\" \",\" \",\" \",\" \",\" \",\" \",\" \",\" \",\" \",\" \",\" \",\" \",\" \",\" \",\" \",\" \",\" \",\" \",\" \",\" \",\" \",\" \",\" \",\" \",\" \",\" \",\" \",\" \",\" \",\" \",\" \",\" \",\" \",\" \",\" \",\" \",\" \",\" \",\" \",\" \",\" \",\" \",\" \",\" \",\" \",\" \",\" \",\" \",\" \",\" \",\" \",\" \",\" \",\" \",\" \",\" \",\" \",\" \",\" \",\" \",\" \",\" \",\" \",\" \",\" \",\" \",\" \",\" \",\" \",\" \",\" \",\" \",\" \",\" \",\" \",\" \",\" \",\" \",\" \",\" \",\" \",\" \",\" \",\" \",\" \",\" \",\" \",\" \",\" \",\" \",\" \",\" \",\" \",\" \",\" \",\" \",\" \",\" \",\" \",\" \",\" \",\" \",\" \",\" \",\" \",\" \",\" \",\" \",\" \",\" \",\" \",\" \",\" \",\" \",\" \",\" \",\" \",\" \",\" \",\" \",\" \",\" \",\" \",\" \",\" \",\" \",\" \",\" \",\" \",\" \",\" \",\" \",\" \",\" \",\" \",\" \",\" \",\" \",\" \",\" \",\" \",\" \",\" \",\" \",\" \",\" \",\" \",\" \",\" \",\" \",\" \",\" \",\" \",\" \",\" \",\" \",\" \",\" \",\" \",\" \",\" \",\" \",\" \",\" \",\" \",\" \",\" \",\" \",\" \",\" \",\" \",\" \",\" \",\" \",\" \",\" \",\" \",\" \",\" \",\" \",\" \",\" \",\" \",\" \",\" \",\" \",\" \",\" \",\" \",\" \",\" \",\" \",\" \",\" \",\" \",\" \",\" \",\" \",\" \",\" \",\" \",\" \",\" \",\" \",\" \",\" \",\" \",\" \",\" \",\" \",\" \",\" \",\" \",\" \",\" \",\" \",\" \",\" \",\" \",\" \",\" \",\" \",\" \",\" \",\" \",\" \",\" \",\" \",\" \",\" \",\" \",\" \",\" \",\" \",\" \",\" \",\" \",\" \",\" \",\" \",\" \",\" \",\" \",\" \",\" \",\" \",\" \",\" \",\" \",\" \",\" \",\" \",\" \",\" \",\" \",\" \",\" \",\" \",\" \",\" \",\" \",\" \",\" \",\" \",\" \",\" \",\" \",\" \",\" \",\" \",\" \",\" \",\" \",\" \",\" \",\" \",\" \",\" \",\" \",\" \",\" \",\" \",\" \",\" \",\" \",\" \",\" \",\" \",\" \",\" \",\" \",\" \",\" \",\" \",\" \",\" \",\" \",\" \",\" \",\" \",\" \",\" \",\" \",\" \",\" \",\" \",\" \",\" \",\" \",\" \",\" \",\" \",\" \",\" \",\" \",\" \",\" \",\" \",\" \",\" \",\" \",\" \",\" \",\" \",\" \",\" \",\" \",\" \",\" \",\" \",\" \",\" \",\" \",\" \",\" \",\" \",\" \",\" \",\" \",\" \",\" \",\" \",\" \",\" \",\" \",\" \",\" \",\" \",\" \",\" \",\" \",\" \",\" \",\" \",\" \",\" \",\" \",\" \",\" \",\" \",\" \",\" \",\" \",\" \",\" \",\" \",\" \",\" \",\" \",\" \",\" \",\" \",\" \",\" \",\" \",\" \",\" \",\" \",\" \",\" \",\" \",\" \",\" \",\" \",\" \",\" \",\" \",\" \",\" \",\" \",\" \",\" \",\" \",\" \",\" \",\" \",\" \",\" \",\" \",\" \",\" \",\" \",\" \",\" \",\" \",\" \",\" \",\" \",\" \",\" \",\" \",\" \",\" \",\" \",\" \",\" \",\" \",\" \",\" \",\" \",\" \",\" \",\" \",\" \",\" \",\" \",\" \",\" \",\" \",\" \",\" \",\" \",\" \",\" \",\" \",\" \",\" \",\" \",\" \",\" \",\" \",\" \",\" \",\" \",\" \",\" \",\" \",\" \",\" \",\" \",\" \",\" \",\" \",\" \",\" \",\" \",\" \",\" \",\" \",\" \",\" \",\" \",\" \",\" \",\" \",\" \",\" \",\" \",\" \",\" \",\" \",\" \",\" \",\" \",\" \",\" \",\" \",\" \",\" \",\" \",\" \",\" \",\" \",\" \",\" \",\" \",\" \",\" \",\" \",\" \",\" \",\" \",\" \",\" \",\" \",\" \",\" \",\" \",\" \",\" \",\" \",\" \",\" \",\" \",\" \",\" \",\" \",\" \",\" \",\" \",\" \",\" \",\" \",\" \",\" \",\" \",\" \",\" \",\" \",\" \",\" \",\" \",\" \",\" \",\" \",\" \",\" \",\" \",\" \",\" \",\" \",\" \",\" \",\" \",\" \",\" \",\" \",\" \",\" \",\" \",\" \",\" \",\" \",\" \",\" \",\" \",\" \",\" \",\" \",\" \",\" \",\" \",\" \",\" \",\" \",\" \",\" \",\" \",\" \",\" \",\" \",\" \",\" \",\" \",\" \",\" \",\" \",\" \",\" \",\" \",\" \",\" \",\" \",\" \",\" \",\" \",\" \",\" \",\" \",\" \",\" \",\" \",\" \",\" \",\" \",\" \",\" \",\" \",\" \",\" \",\" \",\" \",\" \",\" \",\" \",\" \",\" \",\" \",\" \",\" \",\" \",\" \",\" \",\" \",\" \",\" \",\" \",\" \",\" \",\" \",\" \",\" \",\" \",\" \",\" \",\" \",\" \",\" \",\" \",\" \",\" \",\" \",\" \",\" \",\" \",\" \",\" \",\" \",\" \",\" \",\" \",\" \",\" \",\" \",\" \",\" \",\" \",\" \",\" \",\" \",\" \",\" \",\" \",\" \",\" \",\" \",\" \",\" \",\" \",\" \",\" \",\" \",\" \",\" \",\" \",\" \",\" \",\" \",\" \",\" \",\" \",\" \",\" \",\" \",\" \",\" \",\" \",\" \",\" \",\" \",\" \",\" \",\" \",\" \",\" \",\" \",\" \",\" \",\" \",\" \",\" \",\" \",\" \",\" \",\" \",\" \",\" \",\" \",\" \",\" \",\" \",\" \",\" \",\" \",\" \",\" \",\" \",\" \",\" \",\" \",\" \",\" \",\" \",\" \",\" \",\" \",\" \",\" \",\" \",\" \",\" \",\" \",\" \",\" \",\" \",\" \",\" \",\" \",\" \",\" \",\" \",\" \",\" \",\" \",\" \",\" \",\" \",\" \",\" \",\" \",\" \",\" \",\" \",\" \",\" \",\" \",\" \",\" \",\" \",\" \",\" \",\" \",\" \",\" \",\" \",\" \",\" \",\" \",\" \",\" \",\" \",\" \",\" \",\" \",\" \",\" \",\" \",\" \",\" \",\" \",\" \",\" \",\" \",\" \",\" \",\" \",\" \",\" \",\" \",\" \",\" \",\" \",\" \",\" \",\" \",\" \",\" \",\" \",\" \",\" \",\" \",\" \",\" \",\" \",\" \",\" \",\" \",\" \",\" \",\" \",\" \",\" \",\" \",\" \",\" \",\" \",\" \",\" \",\" \",\" \",\" \",\" \",\" \",\" \",\" \",\" \",\" \",\" \",\" \",\" \",\" \",\" \",\" \",\" \",\" \",\" \",\" \",\" \",\" \",\" \",\" \",\" \",\" \",\" \",\" \",\" \",\" \",\" \",\" \",\" \",\" \",\" \",\" \",\" \",\" \",\" \",\" \",\" \",\" \",\" \",\" \",\" \",\" \",\" \",\" \",\" \",\" \",\" \",\" \",\" \",\" \",\" \",\" \",\" \",\" \",\" \",\" \",\" \",\" \",\" \",\" \",\" \",\" \",\" \",\" \",\" \",\" \",\" \",\" \",\" \",\" \",\" \",\" \",\" \",\" \",\" \",\" \",\" \",\" \",\" \",\" \",\" \",\" \",\" \",\" \",\" \",\" \",\" \",\" \",\" \",\" \",\" \",\" \",\" \",\" \",\" \",\" \",\" \",\" \",\" \",\" \",\" \",\" \",\" \",\" \",\" \",\" \",\" \",\" \",\" \",\" \",\" \",\" \",\" \",\" \",\" \",\" \",\" \",\" \",\" \",\" \",\" \",\" \",\" \",\" \",\" \",\" \",\" \",\" \",\" \",\" \",\" \",\" \",\" \",\" \",\" \",\" \",\" \",\" \",\" \",\" \",\" \",\" \",\" \"]],[\"__label\",[\" \",\" \",\" \",\" \",\" \",\" \",\" \",\" \",\" \",\" \",\" \",\" \",\" \",\" \",\" \",\" \",\" \",\" \",\" \",\" \",\" \",\" \",\" \",\" \",\" \",\" \",\" \",\" \",\" \",\" \",\" \",\" \",\" \",\" \",\" \",\" \",\" \",\" \",\" \",\" \",\" \",\" \",\" \",\" \",\" \",\" \",\" \",\" \",\" \",\" \",\" \",\" \",\" \",\" \",\" \",\" \",\" \",\" \",\" \",\" \",\" \",\" \",\" \",\" \",\" \",\" \",\" \",\" \",\" \",\" \",\" \",\" \",\" \",\" \",\" \",\" \",\" \",\" \",\" \",\" \",\" \",\" \",\" \",\" \",\" \",\" \",\" \",\" \",\" \",\" \",\" \",\" \",\" \",\" \",\" \",\" \",\" \",\" \",\" \",\" \",\" \",\" \",\" \",\" \",\" \",\" \",\" \",\" \",\" \",\" \",\" \",\" \",\" \",\" \",\" \",\" \",\" \",\" \",\" \",\" \",\" \",\" \",\" \",\" \",\" \",\" \",\" \",\" \",\" \",\" \",\" \",\" \",\" \",\" \",\" \",\" \",\" \",\" \",\" \",\" \",\" \",\" \",\" \",\" \",\" \",\" \",\" \",\" \",\" \",\" \",\" \",\" \",\" \",\" \",\" \",\" \",\" \",\" \",\" \",\" \",\" \",\" \",\" \",\" \",\" \",\" \",\" \",\" \",\" \",\" \",\" \",\" \",\" \",\" \",\" \",\" \",\" \",\" \",\" \",\" \",\" \",\" \",\" \",\" \",\" \",\" \",\" \",\" \",\" \",\" \",\" \",\" \",\" \",\" \",\" \",\" \",\" \",\" \",\" \",\" \",\" \",\" \",\" \",\" \",\" \",\" \",\" \",\" \",\" \",\" \",\" \",\" \",\" \",\" \",\" \",\" \",\" \",\" \",\" \",\" \",\" \",\" \",\" \",\" \",\" \",\" \",\" \",\" \",\" \",\" \",\" \",\" \",\" \",\" \",\" \",\" \",\" \",\" \",\" \",\" \",\" \",\" \",\" \",\" \",\" \",\" \",\" \",\" \",\" \",\" \",\" \",\" \",\" \",\" \",\" \",\" \",\" \",\" \",\" \",\" \",\" \",\" \",\" \",\" \",\" \",\" \",\" \",\" \",\" \",\" \",\" \",\" \",\" \",\" \",\" \",\" \",\" \",\" \",\" \",\" \",\" \",\" \",\" \",\" \",\" \",\" \",\" \",\" \",\" \",\" \",\" \",\" \",\" \",\" \",\" \",\" \",\" \",\" \",\" \",\" \",\" \",\" \",\" \",\" \",\" \",\" \",\" \",\" \",\" \",\" \",\" \",\" \",\" \",\" \",\" \",\" \",\" \",\" \",\" \",\" \",\" \",\" \",\" \",\" \",\" \",\" \",\" \",\" \",\" \",\" \",\" \",\" \",\" \",\" \",\" \",\" \",\" \",\" \",\" \",\" \",\" \",\" \",\" \",\" \",\" \",\" \",\" \",\" \",\" \",\" \",\" \",\" \",\" \",\" \",\" \",\" \",\" \",\" \",\" \",\" \",\" \",\" \",\" \",\" \",\" \",\" \",\" \",\" \",\" \",\" \",\" \",\" \",\" \",\" \",\" \",\" \",\" \",\" \",\" \",\" \",\" \",\" \",\" \",\" \",\" \",\" \",\" \",\" \",\" \",\" \",\" \",\" \",\" \",\" \",\" \",\" \",\" \",\" \",\" \",\" \",\" \",\" \",\" \",\" \",\" \",\" \",\" \",\" \",\" \",\" \",\" \",\" \",\" \",\" \",\" \",\" \",\" \",\" \",\" \",\" \",\" \",\" \",\" \",\" \",\" \",\" \",\" \",\" \",\" \",\" \",\" \",\" \",\" \",\" \",\" \",\" \",\" \",\" \",\" \",\" \",\" \",\" \",\" \",\" \",\" \",\" \",\" \",\" \",\" \",\" \",\" \",\" \",\" \",\" \",\" \",\" \",\" \",\" \",\" \",\" \",\" \",\" \",\" \",\" \",\" \",\" \",\" \",\" \",\" \",\" \",\" \",\" \",\" \",\" \",\" \",\" \",\" \",\" \",\" \",\" \",\" \",\" \",\" \",\" \",\" \",\" \",\" \",\" \",\" \",\" \",\" \",\" \",\" \",\" \",\" \",\" \",\" \",\" \",\" \",\" \",\" \",\" \",\" \",\" \",\" \",\" \",\" \",\" \",\" \",\" \",\" \",\" \",\" \",\" \",\" \",\" \",\" \",\" \",\" \",\" \",\" \",\" \",\" \",\" \",\" \",\" \",\" \",\" \",\" \",\" \",\" \",\" \",\" \",\" \",\" \",\" \",\" \",\" \",\" \",\" \",\" \",\" \",\" \",\" \",\" \",\" \",\" \",\" \",\" \",\" \",\" \",\" \",\" \",\" \",\" \",\" \",\" \",\" \",\" \",\" \",\" \",\" \",\" \",\" \",\" \",\" \",\" \",\" \",\" \",\" \",\" \",\" \",\" \",\" \",\" \",\" \",\" \",\" \",\" \",\" \",\" \",\" \",\" \",\" \",\" \",\" \",\" \",\" \",\" \",\" \",\" \",\" \",\" \",\" \",\" \",\" \",\" \",\" \",\" \",\" \",\" \",\" \",\" \",\" \",\" \",\" \",\" \",\" \",\" \",\" \",\" \",\" \",\" \",\" \",\" \",\" \",\" \",\" \",\" \",\" \",\" \",\" \",\" \",\" \",\" \",\" \",\" \",\" \",\" \",\" \",\" \",\" \",\" \",\" \",\" \",\" \",\" \",\" \",\" \",\" \",\" \",\" \",\" \",\" \",\" \",\" \",\" \",\" \",\" \",\" \",\" \",\" \",\" \",\" \",\" \",\" \",\" \",\" \",\" \",\" \",\" \",\" \",\" \",\" \",\" \",\" \",\" \",\" \",\" \",\" \",\" \",\" \",\" \",\" \",\" \",\" \",\" \",\" \",\" \",\" \",\" \",\" \",\" \",\" \",\" \",\" \",\" \",\" \",\" \",\" \",\" \",\" \",\" \",\" \",\" \",\" \",\" \",\" \",\" \",\" \",\" \",\" \",\" \",\" \",\" \",\" \",\" \",\" \",\" \",\" \",\" \",\" \",\" \",\" \",\" \",\" \",\" \",\" \",\" \",\" \",\" \",\" \",\" \",\" \",\" \",\" \",\" \",\" \",\" \",\" \",\" \",\" \",\" \",\" \",\" \",\" \",\" \",\" \",\" \",\" \",\" \",\" \",\" \",\" \",\" \",\" \",\" \",\" \",\" \",\" \",\" \",\" \",\" \",\" \",\" \",\" \",\" \",\" \",\" \",\" \",\" \",\" \",\" \",\" \",\" \",\" \",\" \",\" \",\" \",\" \",\" \",\" \",\" \",\" \",\" \",\" \",\" \",\" \",\" \",\" \",\" \",\" \",\" \",\" \",\" \",\" \",\" \",\" \",\" \",\" \",\" \",\" \",\" \",\" \",\" \",\" \",\" \",\" \",\" \",\" \",\" \",\" \",\" \",\" \",\" \",\" \",\" \",\" \",\" \",\" \",\" \",\" \",\" \",\" \",\" \",\" \",\" \",\" \",\" \",\" \",\" \",\" \",\" \",\" \",\" \",\" \",\" \",\" \",\" \",\" \",\" \",\" \",\" \",\" \",\" \",\" \",\" \",\" \",\" \",\" \",\" \",\" \",\" \",\" \",\" \",\" \",\" \",\" \",\" \",\" \",\" \",\" \",\" \",\" \",\" \",\" \",\" \",\" \",\" \",\" \",\" \",\" \",\" \",\" \",\" \",\" \",\" \",\" \",\" \",\" \",\" \",\" \",\" \",\" \",\" \",\" \",\" \",\" \",\" \",\" \",\" \",\" \",\" \",\" \",\" \",\" \",\" \",\" \",\" \",\" \",\" \",\" \",\" \",\" \",\" \",\" \",\" \",\" \",\" \",\" \",\" \",\" \",\" \",\" \",\" \",\" \",\" \",\" \",\" \",\" \",\" \",\" \",\" \",\" \",\" \",\" \",\" \",\" \",\" \",\" \",\" \",\" \",\" \",\" \",\" \",\" \",\" \",\" \",\" \",\" \",\" \",\" \",\" \",\" \",\" \",\" \",\" \",\" \",\" \",\" \",\" \",\" \",\" \",\" \",\" \",\" \",\" \",\" \",\" \",\" \",\" \",\" \",\" \",\" \",\" \",\" \",\" \",\" \",\" \",\" \",\" \",\" \",\" \",\" \",\" \",\" \",\" \",\" \",\" \",\" \",\" \",\" \",\" \",\" \",\" \",\" \",\" \",\" \",\" \",\" \",\" \",\" \",\" \",\" \",\" \",\" \",\" \",\" \",\" \",\" \",\" \",\" \",\" \",\" \",\" \",\" \",\" \",\" \",\" \",\" \"]]]}}},\"view\":{\"type\":\"object\",\"name\":\"CDSView\",\"id\":\"p1099\",\"attributes\":{\"filter\":{\"type\":\"object\",\"name\":\"AllIndices\",\"id\":\"p1100\"}}},\"glyph\":{\"type\":\"object\",\"name\":\"Scatter\",\"id\":\"p1095\",\"attributes\":{\"x\":{\"type\":\"field\",\"field\":\"arrival_times\"},\"y\":{\"type\":\"field\",\"field\":\"cat\"},\"size\":{\"type\":\"value\",\"value\":68.75},\"angle\":{\"type\":\"value\",\"value\":1.5707963267948966},\"line_color\":{\"type\":\"field\",\"field\":\"cat\",\"transform\":{\"type\":\"object\",\"name\":\"CategoricalColorMapper\",\"id\":\"p1088\",\"attributes\":{\"palette\":[\"#1f77b3\",\"#ff7e0e\",\"#2ba02b\",\"#d62628\",\"#9367bc\",\"#8c564b\",\"#e277c1\",\"#7e7e7e\",\"#bcbc21\",\"#16bdcf\",\"#3a0182\",\"#004201\",\"#0fffa8\",\"#5d003f\",\"#bcbcff\",\"#d8afa1\",\"#b80080\",\"#004d52\",\"#6b6400\",\"#7c0100\",\"#6026ff\",\"#ffff9a\",\"#564964\",\"#8cb893\",\"#93fbff\",\"#018267\",\"#90ff00\",\"#8200a0\",\"#ac8944\",\"#5b3400\",\"#ffbff2\",\"#ff6e75\",\"#798cff\",\"#dd00ff\",\"#505646\",\"#004489\",\"#ffbf60\",\"#ff018c\",\"#bdc8cf\",\"#af97b5\",\"#b65600\",\"#017000\",\"#cd87ff\",\"#1cd646\",\"#bfebc3\",\"#7997b5\",\"#a56089\",\"#6e8956\",\"#bc7c75\",\"#8a2844\",\"#00acff\",\"#8ed4ff\",\"#4b6d77\",\"#00d4b1\",\"#9300f2\",\"#8a9500\",\"#5d5b9e\",\"#fddfba\",\"#00939e\",\"#ffdb00\",\"#00aa79\",\"#520067\",\"#000091\",\"#0a5d3d\",\"#a5e275\",\"#623b41\",\"#c6c689\",\"#ff9eb5\",\"#cd4f6b\",\"#ff07d6\",\"#8a3a05\",\"#7e3d70\",\"#ff4901\",\"#602ba5\",\"#1c00ff\",\"#e6dfff\",\"#aa3baf\",\"#d89c00\",\"#a3a39e\",\"#3f69ff\",\"#46490c\",\"#7b6985\",\"#6b978c\",\"#ff9a75\",\"#835bff\",\"#7c6b46\",\"#80b654\",\"#bc0049\",\"#fd93ff\",\"#5d0018\",\"#89d1d1\",\"#9c8cd3\",\"#da6d42\",\"#8a5700\",\"#3b5069\",\"#4b6b3b\",\"#edcfd8\",\"#cfedff\",\"#aa1500\",\"#dfff4f\",\"#ff2a56\",\"#d1499e\",\"#707cb8\",\"#598000\",\"#00e4fd\",\"#774b95\",\"#67d48c\",\"#3d3a72\",\"#ac413f\",\"#d6a166\",\"#c169cd\",\"#69595d\",\"#87aced\",\"#a0a569\",\"#d1aae6\",\"#870062\",\"#00fddb\",\"#672818\",\"#b342ff\",\"#0e59c4\",\"#168742\",\"#90d300\",\"#cd7900\",\"#f959ff\",\"#5b7466\",\"#8eaeb3\",\"#9c7c8c\",\"#4600c6\",\"#6b4d2d\",\"#a56d46\",\"#9e8972\",\"#a8afca\",\"#cd8ca7\",\"#00fd64\",\"#917900\",\"#ff62a1\",\"#f4ffd8\",\"#018cf0\",\"#13aca0\",\"#5b2d59\",\"#89859e\",\"#cfccba\",\"#d4afc4\",\"#dbdd6d\",\"#cffff4\",\"#006485\",\"#006962\",\"#a84167\",\"#2d97c4\",\"#a874ff\",\"#26ba5d\",\"#57b600\",\"#caffa7\",\"#a379aa\",\"#ffbc93\",\"#89e2c1\",\"#0fc8ff\",\"#d400c4\",\"#626d89\",\"#69858e\",\"#4b4d52\",\"#aa6067\",\"#79b5d4\",\"#2b5916\",\"#9a0024\",\"#bdd1f2\",\"#896e67\",\"#69a56b\",\"#855467\",\"#aecdba\",\"#87997e\",\"#cadb00\",\"#9a0390\",\"#ebbc1a\",\"#eb9cd1\",\"#70006e\",\"#b1a131\",\"#ca6b93\",\"#4146a3\",\"#e48c89\",\"#d44400\",\"#c68aca\",\"#b69597\",\"#d41f75\",\"#724bcc\",\"#674d00\",\"#672138\",\"#38564f\",\"#6ebaaa\",\"#853a31\",\"#a5d397\",\"#b8af8e\",\"#d8e4df\",\"#aa00df\",\"#cac1db\",\"#ffdf8c\",\"#e2524d\",\"#66696e\",\"#ff001c\",\"#522d72\",\"#4d906b\",\"#a86d11\",\"#ff9e26\",\"#5ea3af\",\"#c88556\",\"#915997\",\"#a3a1ff\",\"#fdbaba\",\"#242a87\",\"#dbe6a8\",\"#97f2a7\",\"#6793d6\",\"#ba5b3f\",\"#3a5d91\",\"#364f2f\",\"#267c95\",\"#89959a\",\"#cfb356\",\"#004664\",\"#5e5d2f\",\"#8e8e41\",\"#ac3f13\",\"#69953b\",\"#a13d85\",\"#bfb6ba\",\"#acc667\",\"#6469cf\",\"#91af00\",\"#2be2da\",\"#016e36\",\"#ff7952\",\"#42807e\",\"#4fe800\",\"#995428\",\"#5d0a00\",\"#a30057\",\"#0c8700\",\"#5982a7\",\"#ffebfb\",\"#4b6901\",\"#8775d4\",\"#e6c6ff\",\"#a5ffda\",\"#d86e77\",\"#df014b\",\"#69675b\",\"#776ba1\",\"#7e8067\",\"#594685\",\"#0000ca\",\"#7c002a\",\"#97ff72\",\"#b5e2e1\",\"#db52c8\",\"#777734\",\"#57bd8e\"],\"factors\":[\" \"]}}},\"line_alpha\":{\"type\":\"value\",\"value\":0.3},\"fill_color\":{\"type\":\"field\",\"field\":\"cat\",\"transform\":{\"type\":\"object\",\"name\":\"CategoricalColorMapper\",\"id\":\"p1087\",\"attributes\":{\"palette\":[\"#1f77b3\",\"#ff7e0e\",\"#2ba02b\",\"#d62628\",\"#9367bc\",\"#8c564b\",\"#e277c1\",\"#7e7e7e\",\"#bcbc21\",\"#16bdcf\",\"#3a0182\",\"#004201\",\"#0fffa8\",\"#5d003f\",\"#bcbcff\",\"#d8afa1\",\"#b80080\",\"#004d52\",\"#6b6400\",\"#7c0100\",\"#6026ff\",\"#ffff9a\",\"#564964\",\"#8cb893\",\"#93fbff\",\"#018267\",\"#90ff00\",\"#8200a0\",\"#ac8944\",\"#5b3400\",\"#ffbff2\",\"#ff6e75\",\"#798cff\",\"#dd00ff\",\"#505646\",\"#004489\",\"#ffbf60\",\"#ff018c\",\"#bdc8cf\",\"#af97b5\",\"#b65600\",\"#017000\",\"#cd87ff\",\"#1cd646\",\"#bfebc3\",\"#7997b5\",\"#a56089\",\"#6e8956\",\"#bc7c75\",\"#8a2844\",\"#00acff\",\"#8ed4ff\",\"#4b6d77\",\"#00d4b1\",\"#9300f2\",\"#8a9500\",\"#5d5b9e\",\"#fddfba\",\"#00939e\",\"#ffdb00\",\"#00aa79\",\"#520067\",\"#000091\",\"#0a5d3d\",\"#a5e275\",\"#623b41\",\"#c6c689\",\"#ff9eb5\",\"#cd4f6b\",\"#ff07d6\",\"#8a3a05\",\"#7e3d70\",\"#ff4901\",\"#602ba5\",\"#1c00ff\",\"#e6dfff\",\"#aa3baf\",\"#d89c00\",\"#a3a39e\",\"#3f69ff\",\"#46490c\",\"#7b6985\",\"#6b978c\",\"#ff9a75\",\"#835bff\",\"#7c6b46\",\"#80b654\",\"#bc0049\",\"#fd93ff\",\"#5d0018\",\"#89d1d1\",\"#9c8cd3\",\"#da6d42\",\"#8a5700\",\"#3b5069\",\"#4b6b3b\",\"#edcfd8\",\"#cfedff\",\"#aa1500\",\"#dfff4f\",\"#ff2a56\",\"#d1499e\",\"#707cb8\",\"#598000\",\"#00e4fd\",\"#774b95\",\"#67d48c\",\"#3d3a72\",\"#ac413f\",\"#d6a166\",\"#c169cd\",\"#69595d\",\"#87aced\",\"#a0a569\",\"#d1aae6\",\"#870062\",\"#00fddb\",\"#672818\",\"#b342ff\",\"#0e59c4\",\"#168742\",\"#90d300\",\"#cd7900\",\"#f959ff\",\"#5b7466\",\"#8eaeb3\",\"#9c7c8c\",\"#4600c6\",\"#6b4d2d\",\"#a56d46\",\"#9e8972\",\"#a8afca\",\"#cd8ca7\",\"#00fd64\",\"#917900\",\"#ff62a1\",\"#f4ffd8\",\"#018cf0\",\"#13aca0\",\"#5b2d59\",\"#89859e\",\"#cfccba\",\"#d4afc4\",\"#dbdd6d\",\"#cffff4\",\"#006485\",\"#006962\",\"#a84167\",\"#2d97c4\",\"#a874ff\",\"#26ba5d\",\"#57b600\",\"#caffa7\",\"#a379aa\",\"#ffbc93\",\"#89e2c1\",\"#0fc8ff\",\"#d400c4\",\"#626d89\",\"#69858e\",\"#4b4d52\",\"#aa6067\",\"#79b5d4\",\"#2b5916\",\"#9a0024\",\"#bdd1f2\",\"#896e67\",\"#69a56b\",\"#855467\",\"#aecdba\",\"#87997e\",\"#cadb00\",\"#9a0390\",\"#ebbc1a\",\"#eb9cd1\",\"#70006e\",\"#b1a131\",\"#ca6b93\",\"#4146a3\",\"#e48c89\",\"#d44400\",\"#c68aca\",\"#b69597\",\"#d41f75\",\"#724bcc\",\"#674d00\",\"#672138\",\"#38564f\",\"#6ebaaa\",\"#853a31\",\"#a5d397\",\"#b8af8e\",\"#d8e4df\",\"#aa00df\",\"#cac1db\",\"#ffdf8c\",\"#e2524d\",\"#66696e\",\"#ff001c\",\"#522d72\",\"#4d906b\",\"#a86d11\",\"#ff9e26\",\"#5ea3af\",\"#c88556\",\"#915997\",\"#a3a1ff\",\"#fdbaba\",\"#242a87\",\"#dbe6a8\",\"#97f2a7\",\"#6793d6\",\"#ba5b3f\",\"#3a5d91\",\"#364f2f\",\"#267c95\",\"#89959a\",\"#cfb356\",\"#004664\",\"#5e5d2f\",\"#8e8e41\",\"#ac3f13\",\"#69953b\",\"#a13d85\",\"#bfb6ba\",\"#acc667\",\"#6469cf\",\"#91af00\",\"#2be2da\",\"#016e36\",\"#ff7952\",\"#42807e\",\"#4fe800\",\"#995428\",\"#5d0a00\",\"#a30057\",\"#0c8700\",\"#5982a7\",\"#ffebfb\",\"#4b6901\",\"#8775d4\",\"#e6c6ff\",\"#a5ffda\",\"#d86e77\",\"#df014b\",\"#69675b\",\"#776ba1\",\"#7e8067\",\"#594685\",\"#0000ca\",\"#7c002a\",\"#97ff72\",\"#b5e2e1\",\"#db52c8\",\"#777734\",\"#57bd8e\"],\"factors\":[\" \"]}}},\"fill_alpha\":{\"type\":\"value\",\"value\":0.3},\"hatch_alpha\":{\"type\":\"value\",\"value\":0.3},\"marker\":{\"type\":\"value\",\"value\":\"dash\"}}},\"nonselection_glyph\":{\"type\":\"object\",\"name\":\"Scatter\",\"id\":\"p1096\",\"attributes\":{\"x\":{\"type\":\"field\",\"field\":\"arrival_times\"},\"y\":{\"type\":\"field\",\"field\":\"cat\"},\"size\":{\"type\":\"value\",\"value\":68.75},\"angle\":{\"type\":\"value\",\"value\":1.5707963267948966},\"line_color\":{\"type\":\"field\",\"field\":\"cat\",\"transform\":{\"id\":\"p1088\"}},\"line_alpha\":{\"type\":\"value\",\"value\":0.1},\"fill_color\":{\"type\":\"field\",\"field\":\"cat\",\"transform\":{\"id\":\"p1087\"}},\"fill_alpha\":{\"type\":\"value\",\"value\":0.1},\"hatch_alpha\":{\"type\":\"value\",\"value\":0.1},\"marker\":{\"type\":\"value\",\"value\":\"dash\"}}},\"muted_glyph\":{\"type\":\"object\",\"name\":\"Scatter\",\"id\":\"p1097\",\"attributes\":{\"x\":{\"type\":\"field\",\"field\":\"arrival_times\"},\"y\":{\"type\":\"field\",\"field\":\"cat\"},\"size\":{\"type\":\"value\",\"value\":68.75},\"angle\":{\"type\":\"value\",\"value\":1.5707963267948966},\"line_color\":{\"type\":\"field\",\"field\":\"cat\",\"transform\":{\"id\":\"p1088\"}},\"line_alpha\":{\"type\":\"value\",\"value\":0.2},\"fill_color\":{\"type\":\"field\",\"field\":\"cat\",\"transform\":{\"id\":\"p1087\"}},\"fill_alpha\":{\"type\":\"value\",\"value\":0.2},\"hatch_alpha\":{\"type\":\"value\",\"value\":0.2},\"marker\":{\"type\":\"value\",\"value\":\"dash\"}}}}}],\"toolbar\":{\"type\":\"object\",\"name\":\"Toolbar\",\"id\":\"p1060\",\"attributes\":{\"tools\":[{\"type\":\"object\",\"name\":\"PanTool\",\"id\":\"p1074\"},{\"type\":\"object\",\"name\":\"WheelZoomTool\",\"id\":\"p1075\",\"attributes\":{\"renderers\":\"auto\"}},{\"type\":\"object\",\"name\":\"BoxZoomTool\",\"id\":\"p1076\",\"attributes\":{\"overlay\":{\"type\":\"object\",\"name\":\"BoxAnnotation\",\"id\":\"p1077\",\"attributes\":{\"syncable\":false,\"line_color\":\"black\",\"line_alpha\":1.0,\"line_width\":2,\"line_dash\":[4,4],\"fill_color\":\"lightgrey\",\"fill_alpha\":0.5,\"level\":\"overlay\",\"visible\":false,\"left\":{\"type\":\"number\",\"value\":\"nan\"},\"right\":{\"type\":\"number\",\"value\":\"nan\"},\"top\":{\"type\":\"number\",\"value\":\"nan\"},\"bottom\":{\"type\":\"number\",\"value\":\"nan\"},\"left_units\":\"canvas\",\"right_units\":\"canvas\",\"top_units\":\"canvas\",\"bottom_units\":\"canvas\",\"handles\":{\"type\":\"object\",\"name\":\"BoxInteractionHandles\",\"id\":\"p1083\",\"attributes\":{\"all\":{\"type\":\"object\",\"name\":\"AreaVisuals\",\"id\":\"p1082\",\"attributes\":{\"fill_color\":\"white\",\"hover_fill_color\":\"lightgray\"}}}}}}}},{\"type\":\"object\",\"name\":\"SaveTool\",\"id\":\"p1084\"},{\"type\":\"object\",\"name\":\"ResetTool\",\"id\":\"p1085\"},{\"type\":\"object\",\"name\":\"HelpTool\",\"id\":\"p1086\"}]}},\"toolbar_location\":\"above\",\"left\":[{\"type\":\"object\",\"name\":\"CategoricalAxis\",\"id\":\"p1069\",\"attributes\":{\"ticker\":{\"type\":\"object\",\"name\":\"CategoricalTicker\",\"id\":\"p1070\"},\"formatter\":{\"type\":\"object\",\"name\":\"CategoricalTickFormatter\",\"id\":\"p1071\"},\"major_label_policy\":{\"type\":\"object\",\"name\":\"AllLabels\",\"id\":\"p1072\"}}}],\"below\":[{\"type\":\"object\",\"name\":\"LinearAxis\",\"id\":\"p1064\",\"attributes\":{\"ticker\":{\"type\":\"object\",\"name\":\"BasicTicker\",\"id\":\"p1065\",\"attributes\":{\"mantissas\":[1,2,5]}},\"formatter\":{\"type\":\"object\",\"name\":\"BasicTickFormatter\",\"id\":\"p1066\"},\"axis_label\":\"arrival_times\",\"major_label_policy\":{\"type\":\"object\",\"name\":\"AllLabels\",\"id\":\"p1067\"}}}],\"center\":[{\"type\":\"object\",\"name\":\"Grid\",\"id\":\"p1068\",\"attributes\":{\"axis\":{\"id\":\"p1064\"}}},{\"type\":\"object\",\"name\":\"Grid\",\"id\":\"p1073\",\"attributes\":{\"dimension\":1,\"axis\":{\"id\":\"p1069\"},\"grid_line_color\":null}}],\"frame_width\":375,\"frame_height\":275}}],\"defs\":[{\"type\":\"model\",\"name\":\"ReactiveHTML1\"},{\"type\":\"model\",\"name\":\"FlexBox1\",\"properties\":[{\"name\":\"align_content\",\"kind\":\"Any\",\"default\":\"flex-start\"},{\"name\":\"align_items\",\"kind\":\"Any\",\"default\":\"flex-start\"},{\"name\":\"flex_direction\",\"kind\":\"Any\",\"default\":\"row\"},{\"name\":\"flex_wrap\",\"kind\":\"Any\",\"default\":\"wrap\"},{\"name\":\"gap\",\"kind\":\"Any\",\"default\":\"\"},{\"name\":\"justify_content\",\"kind\":\"Any\",\"default\":\"flex-start\"}]},{\"type\":\"model\",\"name\":\"FloatPanel1\",\"properties\":[{\"name\":\"config\",\"kind\":\"Any\",\"default\":{\"type\":\"map\"}},{\"name\":\"contained\",\"kind\":\"Any\",\"default\":true},{\"name\":\"position\",\"kind\":\"Any\",\"default\":\"right-top\"},{\"name\":\"offsetx\",\"kind\":\"Any\",\"default\":null},{\"name\":\"offsety\",\"kind\":\"Any\",\"default\":null},{\"name\":\"theme\",\"kind\":\"Any\",\"default\":\"primary\"},{\"name\":\"status\",\"kind\":\"Any\",\"default\":\"normalized\"}]},{\"type\":\"model\",\"name\":\"GridStack1\",\"properties\":[{\"name\":\"ncols\",\"kind\":\"Any\",\"default\":null},{\"name\":\"nrows\",\"kind\":\"Any\",\"default\":null},{\"name\":\"allow_resize\",\"kind\":\"Any\",\"default\":true},{\"name\":\"allow_drag\",\"kind\":\"Any\",\"default\":true},{\"name\":\"state\",\"kind\":\"Any\",\"default\":[]}]},{\"type\":\"model\",\"name\":\"drag1\",\"properties\":[{\"name\":\"slider_width\",\"kind\":\"Any\",\"default\":5},{\"name\":\"slider_color\",\"kind\":\"Any\",\"default\":\"black\"},{\"name\":\"value\",\"kind\":\"Any\",\"default\":50}]},{\"type\":\"model\",\"name\":\"click1\",\"properties\":[{\"name\":\"terminal_output\",\"kind\":\"Any\",\"default\":\"\"},{\"name\":\"debug_name\",\"kind\":\"Any\",\"default\":\"\"},{\"name\":\"clears\",\"kind\":\"Any\",\"default\":0}]},{\"type\":\"model\",\"name\":\"FastWrapper1\",\"properties\":[{\"name\":\"object\",\"kind\":\"Any\",\"default\":null},{\"name\":\"style\",\"kind\":\"Any\",\"default\":null}]},{\"type\":\"model\",\"name\":\"NotificationArea1\",\"properties\":[{\"name\":\"js_events\",\"kind\":\"Any\",\"default\":{\"type\":\"map\"}},{\"name\":\"max_notifications\",\"kind\":\"Any\",\"default\":5},{\"name\":\"notifications\",\"kind\":\"Any\",\"default\":[]},{\"name\":\"position\",\"kind\":\"Any\",\"default\":\"bottom-right\"},{\"name\":\"_clear\",\"kind\":\"Any\",\"default\":0},{\"name\":\"types\",\"kind\":\"Any\",\"default\":[{\"type\":\"map\",\"entries\":[[\"type\",\"warning\"],[\"background\",\"#ffc107\"],[\"icon\",{\"type\":\"map\",\"entries\":[[\"className\",\"fas fa-exclamation-triangle\"],[\"tagName\",\"i\"],[\"color\",\"white\"]]}]]},{\"type\":\"map\",\"entries\":[[\"type\",\"info\"],[\"background\",\"#007bff\"],[\"icon\",{\"type\":\"map\",\"entries\":[[\"className\",\"fas fa-info-circle\"],[\"tagName\",\"i\"],[\"color\",\"white\"]]}]]}]}]},{\"type\":\"model\",\"name\":\"Notification\",\"properties\":[{\"name\":\"background\",\"kind\":\"Any\",\"default\":null},{\"name\":\"duration\",\"kind\":\"Any\",\"default\":3000},{\"name\":\"icon\",\"kind\":\"Any\",\"default\":null},{\"name\":\"message\",\"kind\":\"Any\",\"default\":\"\"},{\"name\":\"notification_type\",\"kind\":\"Any\",\"default\":null},{\"name\":\"_rendered\",\"kind\":\"Any\",\"default\":false},{\"name\":\"_destroyed\",\"kind\":\"Any\",\"default\":false}]},{\"type\":\"model\",\"name\":\"TemplateActions1\",\"properties\":[{\"name\":\"open_modal\",\"kind\":\"Any\",\"default\":0},{\"name\":\"close_modal\",\"kind\":\"Any\",\"default\":0}]},{\"type\":\"model\",\"name\":\"BootstrapTemplateActions1\",\"properties\":[{\"name\":\"open_modal\",\"kind\":\"Any\",\"default\":0},{\"name\":\"close_modal\",\"kind\":\"Any\",\"default\":0}]},{\"type\":\"model\",\"name\":\"TemplateEditor1\",\"properties\":[{\"name\":\"layout\",\"kind\":\"Any\",\"default\":[]}]},{\"type\":\"model\",\"name\":\"MaterialTemplateActions1\",\"properties\":[{\"name\":\"open_modal\",\"kind\":\"Any\",\"default\":0},{\"name\":\"close_modal\",\"kind\":\"Any\",\"default\":0}]},{\"type\":\"model\",\"name\":\"ReactiveESM1\",\"properties\":[{\"name\":\"esm_constants\",\"kind\":\"Any\",\"default\":{\"type\":\"map\"}}]},{\"type\":\"model\",\"name\":\"JSComponent1\",\"properties\":[{\"name\":\"esm_constants\",\"kind\":\"Any\",\"default\":{\"type\":\"map\"}}]},{\"type\":\"model\",\"name\":\"ReactComponent1\",\"properties\":[{\"name\":\"esm_constants\",\"kind\":\"Any\",\"default\":{\"type\":\"map\"}}]},{\"type\":\"model\",\"name\":\"AnyWidgetComponent1\",\"properties\":[{\"name\":\"esm_constants\",\"kind\":\"Any\",\"default\":{\"type\":\"map\"}}]},{\"type\":\"model\",\"name\":\"request_value1\",\"properties\":[{\"name\":\"fill\",\"kind\":\"Any\",\"default\":\"none\"},{\"name\":\"_synced\",\"kind\":\"Any\",\"default\":null},{\"name\":\"_request_sync\",\"kind\":\"Any\",\"default\":0}]}]}};\n  const render_items = [{\"docid\":\"131fafaa-81f1-4b5e-9e8f-18deb16e1b6b\",\"roots\":{\"p1052\":\"a02bf2d8-68dd-4a00-aed0-4123f0b75240\"},\"root_ids\":[\"p1052\"]}];\n  void root.Bokeh.embed.embed_items_notebook(docs_json, render_items);\n  }\n  if (root.Bokeh !== undefined) {\n    embed_document(root);\n  } else {\n    let attempts = 0;\n    const timer = setInterval(function(root) {\n      if (root.Bokeh !== undefined) {\n        clearInterval(timer);\n        embed_document(root);\n      } else {\n        attempts++;\n        if (attempts > 100) {\n          clearInterval(timer);\n          console.log(\"Bokeh: ERROR: Unable to run BokehJS code because BokehJS library is missing\");\n        }\n      }\n    }, 10, root)\n  }\n})(window);",
      "application/vnd.bokehjs_exec.v0+json": ""
     },
     "metadata": {
      "application/vnd.bokehjs_exec.v0+json": {
       "id": "p1052"
      }
     },
     "output_type": "display_data"
    }
   ],
   "source": [
    "# Plot the arrivals\n",
    "p = iqplot.strip(\n",
    "    samples.posterior.arrival_times.squeeze(), \n",
    "    marker='dash', \n",
    "    marker_kwargs=dict(alpha=0.3),\n",
    "    x_range=[0, 500],\n",
    ")\n",
    "bokeh.io.show(p)"
   ]
  },
  {
   "cell_type": "markdown",
   "metadata": {},
   "source": [
    "Indeed, we do!\n",
    "\n",
    "To demonstrate that we are actually sampling out of the correct distribution, we can approximate the arrival rate by counting how many spikes arrive within each one-time-unit bin. To do that, we will get many more samples and then perform the binning and average the number of spikes that arrived in each bin for each sample.\n",
    "\n",
    "First, the samples...."
   ]
  },
  {
   "cell_type": "code",
   "execution_count": 7,
   "metadata": {},
   "outputs": [
    {
     "name": "stderr",
     "output_type": "stream",
     "text": [
      "19:17:44 - cmdstanpy - INFO - CmdStan start processing\n"
     ]
    },
    {
     "data": {
      "application/vnd.jupyter.widget-view+json": {
       "model_id": "64890f9a91b0499f9a7ac8ec606bf3b6",
       "version_major": 2,
       "version_minor": 0
      },
      "text/plain": [
       "chain 1 |          | 00:00 Status"
      ]
     },
     "metadata": {},
     "output_type": "display_data"
    },
    {
     "data": {
      "application/vnd.jupyter.widget-view+json": {
       "model_id": "a15d7cc052af418a8728467e014431d2",
       "version_major": 2,
       "version_minor": 0
      },
      "text/plain": [
       "chain 2 |          | 00:00 Status"
      ]
     },
     "metadata": {},
     "output_type": "display_data"
    },
    {
     "data": {
      "application/vnd.jupyter.widget-view+json": {
       "model_id": "12d26a008c1c442aaac727fecedcdc29",
       "version_major": 2,
       "version_minor": 0
      },
      "text/plain": [
       "chain 3 |          | 00:00 Status"
      ]
     },
     "metadata": {},
     "output_type": "display_data"
    },
    {
     "data": {
      "application/vnd.jupyter.widget-view+json": {
       "model_id": "d298ec343de44d288a872cf294541955",
       "version_major": 2,
       "version_minor": 0
      },
      "text/plain": [
       "chain 4 |          | 00:00 Status"
      ]
     },
     "metadata": {},
     "output_type": "display_data"
    },
    {
     "name": "stdout",
     "output_type": "stream",
     "text": [
      "                                                                                                                                                                                                                                                                                                                                "
     ]
    },
    {
     "name": "stderr",
     "output_type": "stream",
     "text": [
      "19:18:07 - cmdstanpy - INFO - CmdStan done processing.\n"
     ]
    },
    {
     "name": "stdout",
     "output_type": "stream",
     "text": [
      "\n"
     ]
    }
   ],
   "source": [
    "samples = sm.sample(data=data)\n",
    "\n",
    "# Convert to ArviZ InferenceData instance\n",
    "samples = az.from_cmdstanpy(posterior=samples)"
   ]
  },
  {
   "cell_type": "markdown",
   "metadata": {},
   "source": [
    "Now we can reshape the data, stacking all of the draws together in a single Numpy array."
   ]
  },
  {
   "cell_type": "code",
   "execution_count": 8,
   "metadata": {},
   "outputs": [],
   "source": [
    "arrival_times = samples.posterior.arrival_times.stack(\n",
    "        {'draws': ('chain', 'draw')}\n",
    ").values.transpose()"
   ]
  },
  {
   "cell_type": "markdown",
   "metadata": {},
   "source": [
    "Now we can compute the mean number of spikes per unit time in each one-time-unit bin."
   ]
  },
  {
   "cell_type": "code",
   "execution_count": 9,
   "metadata": {},
   "outputs": [],
   "source": [
    "# Compute bins and summing\n",
    "bins = np.arange(501)\n",
    "hists = []\n",
    "for spikes in arrival_times:\n",
    "    hist, _ = np.histogram(spikes, bins=bins)\n",
    "    hists.append(hist)\n",
    "\n",
    "# Compute average bin counts\n",
    "approx_rate = np.array(hists).mean(axis=0)"
   ]
  },
  {
   "cell_type": "markdown",
   "metadata": {},
   "source": [
    "To make the plot, it is useful to have a function that can convert bins-histogram values to $x$ and $y$ coordinates to plot a histogram."
   ]
  },
  {
   "cell_type": "code",
   "execution_count": 10,
   "metadata": {},
   "outputs": [],
   "source": [
    "def binshist_to_xy(bins, hist):\n",
    "    \"\"\"Convert bins/histogram data generated by np.histogram\n",
    "    to x-y values for plotting.\n",
    "\n",
    "    Parameters\n",
    "    ----------\n",
    "    bins : Numpy array\n",
    "        Edges of bins for histogram\n",
    "    hist : Numpy array\n",
    "        Values of histogram; len(hist) = len(bins) - 1.\n",
    "\n",
    "    Returns\n",
    "    -------\n",
    "    x : Numpy array, shape (2 * len(hist),)\n",
    "        x-values for plotting\n",
    "    y : Numpy array, shape (2 * len(hist),)\n",
    "        y-values for plotting\n",
    "    \"\"\"\n",
    "    # Quick check of input\n",
    "    if len(bins.shape) != 1 or len(hist.shape) != 1:\n",
    "        raise RuntimeError('`bins` and `hist` must both be 1D arrays.')\n",
    "    if len(bins) != len(hist) + 1:\n",
    "        raise RuntimeError('Must have `len(bins) = len(hist) + 1`.')\n",
    "    \n",
    "    # x-values are achieved by interleaving interior bin edges\n",
    "    # and then putting in the end binds\n",
    "    x = np.empty(2 * (len(bins) - 1))\n",
    "    x[1:-1:2] = bins[1:-1]\n",
    "    x[2:-1:2] = bins[1:-1]\n",
    "    x[0] = bins[0]\n",
    "    x[-1] = bins[-1]\n",
    "\n",
    "    # y-values are achieved by interleaving histogram values\n",
    "    y = np.empty(2 * len(hist))\n",
    "    y[::2] = hist\n",
    "    y[1::2] = hist\n",
    "\n",
    "    return x, y"
   ]
  },
  {
   "cell_type": "markdown",
   "metadata": {},
   "source": [
    "This this function in hand, we can make out plot!"
   ]
  },
  {
   "cell_type": "code",
   "execution_count": 11,
   "metadata": {},
   "outputs": [
    {
     "data": {
      "text/html": [
       "\n",
       "  <div id=\"e4c5548c-27e4-4d68-9c3c-b9e1a81203a0\" data-root-id=\"p1101\" style=\"display: contents;\"></div>\n"
      ]
     },
     "metadata": {},
     "output_type": "display_data"
    },
    {
     "data": {
      "application/javascript": "(function(root) {\n  function embed_document(root) {\n  const docs_json = {\"882d0256-2afa-4eaa-9296-66a0f39b60b1\":{\"version\":\"3.6.2\",\"title\":\"Bokeh Application\",\"roots\":[{\"type\":\"object\",\"name\":\"Figure\",\"id\":\"p1101\",\"attributes\":{\"x_range\":{\"type\":\"object\",\"name\":\"DataRange1d\",\"id\":\"p1102\"},\"y_range\":{\"type\":\"object\",\"name\":\"DataRange1d\",\"id\":\"p1103\"},\"x_scale\":{\"type\":\"object\",\"name\":\"LinearScale\",\"id\":\"p1110\"},\"y_scale\":{\"type\":\"object\",\"name\":\"LinearScale\",\"id\":\"p1111\"},\"title\":{\"type\":\"object\",\"name\":\"Title\",\"id\":\"p1108\"},\"renderers\":[{\"type\":\"object\",\"name\":\"GlyphRenderer\",\"id\":\"p1141\",\"attributes\":{\"data_source\":{\"type\":\"object\",\"name\":\"ColumnDataSource\",\"id\":\"p1135\",\"attributes\":{\"selected\":{\"type\":\"object\",\"name\":\"Selection\",\"id\":\"p1136\",\"attributes\":{\"indices\":[],\"line_indices\":[]}},\"selection_policy\":{\"type\":\"object\",\"name\":\"UnionRenderers\",\"id\":\"p1137\"},\"data\":{\"type\":\"map\",\"entries\":[[\"x\",{\"type\":\"ndarray\",\"array\":{\"type\":\"bytes\",\"data\":\"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\"},\"shape\":[1000],\"dtype\":\"float64\",\"order\":\"little\"}],[\"y\",{\"type\":\"ndarray\",\"array\":{\"type\":\"bytes\",\"data\":\"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\"},\"shape\":[1000],\"dtype\":\"float64\",\"order\":\"little\"}]]}}},\"view\":{\"type\":\"object\",\"name\":\"CDSView\",\"id\":\"p1142\",\"attributes\":{\"filter\":{\"type\":\"object\",\"name\":\"AllIndices\",\"id\":\"p1143\"}}},\"glyph\":{\"type\":\"object\",\"name\":\"Line\",\"id\":\"p1138\",\"attributes\":{\"x\":{\"type\":\"field\",\"field\":\"x\"},\"y\":{\"type\":\"field\",\"field\":\"y\"},\"line_color\":\"#1f77b4\"}},\"nonselection_glyph\":{\"type\":\"object\",\"name\":\"Line\",\"id\":\"p1139\",\"attributes\":{\"x\":{\"type\":\"field\",\"field\":\"x\"},\"y\":{\"type\":\"field\",\"field\":\"y\"},\"line_color\":\"#1f77b4\",\"line_alpha\":0.1}},\"muted_glyph\":{\"type\":\"object\",\"name\":\"Line\",\"id\":\"p1140\",\"attributes\":{\"x\":{\"type\":\"field\",\"field\":\"x\"},\"y\":{\"type\":\"field\",\"field\":\"y\"},\"line_color\":\"#1f77b4\",\"line_alpha\":0.2}}}}],\"toolbar\":{\"type\":\"object\",\"name\":\"Toolbar\",\"id\":\"p1109\",\"attributes\":{\"tools\":[{\"type\":\"object\",\"name\":\"PanTool\",\"id\":\"p1122\"},{\"type\":\"object\",\"name\":\"WheelZoomTool\",\"id\":\"p1123\",\"attributes\":{\"renderers\":\"auto\"}},{\"type\":\"object\",\"name\":\"BoxZoomTool\",\"id\":\"p1124\",\"attributes\":{\"overlay\":{\"type\":\"object\",\"name\":\"BoxAnnotation\",\"id\":\"p1125\",\"attributes\":{\"syncable\":false,\"line_color\":\"black\",\"line_alpha\":1.0,\"line_width\":2,\"line_dash\":[4,4],\"fill_color\":\"lightgrey\",\"fill_alpha\":0.5,\"level\":\"overlay\",\"visible\":false,\"left\":{\"type\":\"number\",\"value\":\"nan\"},\"right\":{\"type\":\"number\",\"value\":\"nan\"},\"top\":{\"type\":\"number\",\"value\":\"nan\"},\"bottom\":{\"type\":\"number\",\"value\":\"nan\"},\"left_units\":\"canvas\",\"right_units\":\"canvas\",\"top_units\":\"canvas\",\"bottom_units\":\"canvas\",\"handles\":{\"type\":\"object\",\"name\":\"BoxInteractionHandles\",\"id\":\"p1131\",\"attributes\":{\"all\":{\"type\":\"object\",\"name\":\"AreaVisuals\",\"id\":\"p1130\",\"attributes\":{\"fill_color\":\"white\",\"hover_fill_color\":\"lightgray\"}}}}}}}},{\"type\":\"object\",\"name\":\"SaveTool\",\"id\":\"p1132\"},{\"type\":\"object\",\"name\":\"ResetTool\",\"id\":\"p1133\"},{\"type\":\"object\",\"name\":\"HelpTool\",\"id\":\"p1134\"}]}},\"left\":[{\"type\":\"object\",\"name\":\"LinearAxis\",\"id\":\"p1117\",\"attributes\":{\"ticker\":{\"type\":\"object\",\"name\":\"BasicTicker\",\"id\":\"p1118\",\"attributes\":{\"mantissas\":[1,2,5]}},\"formatter\":{\"type\":\"object\",\"name\":\"BasicTickFormatter\",\"id\":\"p1119\"},\"axis_label\":\"beta\",\"major_label_policy\":{\"type\":\"object\",\"name\":\"AllLabels\",\"id\":\"p1120\"}}}],\"below\":[{\"type\":\"object\",\"name\":\"LinearAxis\",\"id\":\"p1112\",\"attributes\":{\"ticker\":{\"type\":\"object\",\"name\":\"BasicTicker\",\"id\":\"p1113\",\"attributes\":{\"mantissas\":[1,2,5]}},\"formatter\":{\"type\":\"object\",\"name\":\"BasicTickFormatter\",\"id\":\"p1114\"},\"axis_label\":\"time\",\"major_label_policy\":{\"type\":\"object\",\"name\":\"AllLabels\",\"id\":\"p1115\"}}}],\"center\":[{\"type\":\"object\",\"name\":\"Grid\",\"id\":\"p1116\",\"attributes\":{\"axis\":{\"id\":\"p1112\"}}},{\"type\":\"object\",\"name\":\"Grid\",\"id\":\"p1121\",\"attributes\":{\"dimension\":1,\"axis\":{\"id\":\"p1117\"}}}],\"frame_width\":500,\"frame_height\":200}}],\"defs\":[{\"type\":\"model\",\"name\":\"ReactiveHTML1\"},{\"type\":\"model\",\"name\":\"FlexBox1\",\"properties\":[{\"name\":\"align_content\",\"kind\":\"Any\",\"default\":\"flex-start\"},{\"name\":\"align_items\",\"kind\":\"Any\",\"default\":\"flex-start\"},{\"name\":\"flex_direction\",\"kind\":\"Any\",\"default\":\"row\"},{\"name\":\"flex_wrap\",\"kind\":\"Any\",\"default\":\"wrap\"},{\"name\":\"gap\",\"kind\":\"Any\",\"default\":\"\"},{\"name\":\"justify_content\",\"kind\":\"Any\",\"default\":\"flex-start\"}]},{\"type\":\"model\",\"name\":\"FloatPanel1\",\"properties\":[{\"name\":\"config\",\"kind\":\"Any\",\"default\":{\"type\":\"map\"}},{\"name\":\"contained\",\"kind\":\"Any\",\"default\":true},{\"name\":\"position\",\"kind\":\"Any\",\"default\":\"right-top\"},{\"name\":\"offsetx\",\"kind\":\"Any\",\"default\":null},{\"name\":\"offsety\",\"kind\":\"Any\",\"default\":null},{\"name\":\"theme\",\"kind\":\"Any\",\"default\":\"primary\"},{\"name\":\"status\",\"kind\":\"Any\",\"default\":\"normalized\"}]},{\"type\":\"model\",\"name\":\"GridStack1\",\"properties\":[{\"name\":\"ncols\",\"kind\":\"Any\",\"default\":null},{\"name\":\"nrows\",\"kind\":\"Any\",\"default\":null},{\"name\":\"allow_resize\",\"kind\":\"Any\",\"default\":true},{\"name\":\"allow_drag\",\"kind\":\"Any\",\"default\":true},{\"name\":\"state\",\"kind\":\"Any\",\"default\":[]}]},{\"type\":\"model\",\"name\":\"drag1\",\"properties\":[{\"name\":\"slider_width\",\"kind\":\"Any\",\"default\":5},{\"name\":\"slider_color\",\"kind\":\"Any\",\"default\":\"black\"},{\"name\":\"value\",\"kind\":\"Any\",\"default\":50}]},{\"type\":\"model\",\"name\":\"click1\",\"properties\":[{\"name\":\"terminal_output\",\"kind\":\"Any\",\"default\":\"\"},{\"name\":\"debug_name\",\"kind\":\"Any\",\"default\":\"\"},{\"name\":\"clears\",\"kind\":\"Any\",\"default\":0}]},{\"type\":\"model\",\"name\":\"FastWrapper1\",\"properties\":[{\"name\":\"object\",\"kind\":\"Any\",\"default\":null},{\"name\":\"style\",\"kind\":\"Any\",\"default\":null}]},{\"type\":\"model\",\"name\":\"NotificationArea1\",\"properties\":[{\"name\":\"js_events\",\"kind\":\"Any\",\"default\":{\"type\":\"map\"}},{\"name\":\"max_notifications\",\"kind\":\"Any\",\"default\":5},{\"name\":\"notifications\",\"kind\":\"Any\",\"default\":[]},{\"name\":\"position\",\"kind\":\"Any\",\"default\":\"bottom-right\"},{\"name\":\"_clear\",\"kind\":\"Any\",\"default\":0},{\"name\":\"types\",\"kind\":\"Any\",\"default\":[{\"type\":\"map\",\"entries\":[[\"type\",\"warning\"],[\"background\",\"#ffc107\"],[\"icon\",{\"type\":\"map\",\"entries\":[[\"className\",\"fas fa-exclamation-triangle\"],[\"tagName\",\"i\"],[\"color\",\"white\"]]}]]},{\"type\":\"map\",\"entries\":[[\"type\",\"info\"],[\"background\",\"#007bff\"],[\"icon\",{\"type\":\"map\",\"entries\":[[\"className\",\"fas fa-info-circle\"],[\"tagName\",\"i\"],[\"color\",\"white\"]]}]]}]}]},{\"type\":\"model\",\"name\":\"Notification\",\"properties\":[{\"name\":\"background\",\"kind\":\"Any\",\"default\":null},{\"name\":\"duration\",\"kind\":\"Any\",\"default\":3000},{\"name\":\"icon\",\"kind\":\"Any\",\"default\":null},{\"name\":\"message\",\"kind\":\"Any\",\"default\":\"\"},{\"name\":\"notification_type\",\"kind\":\"Any\",\"default\":null},{\"name\":\"_rendered\",\"kind\":\"Any\",\"default\":false},{\"name\":\"_destroyed\",\"kind\":\"Any\",\"default\":false}]},{\"type\":\"model\",\"name\":\"TemplateActions1\",\"properties\":[{\"name\":\"open_modal\",\"kind\":\"Any\",\"default\":0},{\"name\":\"close_modal\",\"kind\":\"Any\",\"default\":0}]},{\"type\":\"model\",\"name\":\"BootstrapTemplateActions1\",\"properties\":[{\"name\":\"open_modal\",\"kind\":\"Any\",\"default\":0},{\"name\":\"close_modal\",\"kind\":\"Any\",\"default\":0}]},{\"type\":\"model\",\"name\":\"TemplateEditor1\",\"properties\":[{\"name\":\"layout\",\"kind\":\"Any\",\"default\":[]}]},{\"type\":\"model\",\"name\":\"MaterialTemplateActions1\",\"properties\":[{\"name\":\"open_modal\",\"kind\":\"Any\",\"default\":0},{\"name\":\"close_modal\",\"kind\":\"Any\",\"default\":0}]},{\"type\":\"model\",\"name\":\"ReactiveESM1\",\"properties\":[{\"name\":\"esm_constants\",\"kind\":\"Any\",\"default\":{\"type\":\"map\"}}]},{\"type\":\"model\",\"name\":\"JSComponent1\",\"properties\":[{\"name\":\"esm_constants\",\"kind\":\"Any\",\"default\":{\"type\":\"map\"}}]},{\"type\":\"model\",\"name\":\"ReactComponent1\",\"properties\":[{\"name\":\"esm_constants\",\"kind\":\"Any\",\"default\":{\"type\":\"map\"}}]},{\"type\":\"model\",\"name\":\"AnyWidgetComponent1\",\"properties\":[{\"name\":\"esm_constants\",\"kind\":\"Any\",\"default\":{\"type\":\"map\"}}]},{\"type\":\"model\",\"name\":\"request_value1\",\"properties\":[{\"name\":\"fill\",\"kind\":\"Any\",\"default\":\"none\"},{\"name\":\"_synced\",\"kind\":\"Any\",\"default\":null},{\"name\":\"_request_sync\",\"kind\":\"Any\",\"default\":0}]}]}};\n  const render_items = [{\"docid\":\"882d0256-2afa-4eaa-9296-66a0f39b60b1\",\"roots\":{\"p1101\":\"e4c5548c-27e4-4d68-9c3c-b9e1a81203a0\"},\"root_ids\":[\"p1101\"]}];\n  void root.Bokeh.embed.embed_items_notebook(docs_json, render_items);\n  }\n  if (root.Bokeh !== undefined) {\n    embed_document(root);\n  } else {\n    let attempts = 0;\n    const timer = setInterval(function(root) {\n      if (root.Bokeh !== undefined) {\n        clearInterval(timer);\n        embed_document(root);\n      } else {\n        attempts++;\n        if (attempts > 100) {\n          clearInterval(timer);\n          console.log(\"Bokeh: ERROR: Unable to run BokehJS code because BokehJS library is missing\");\n        }\n      }\n    }, 10, root)\n  }\n})(window);",
      "application/vnd.bokehjs_exec.v0+json": ""
     },
     "metadata": {
      "application/vnd.bokehjs_exec.v0+json": {
       "id": "p1101"
      }
     },
     "output_type": "display_data"
    }
   ],
   "source": [
    "p = bokeh.plotting.figure(\n",
    "    frame_width=500,\n",
    "    frame_height=200,\n",
    "    x_axis_label='time',\n",
    "    y_axis_label='beta',\n",
    ")\n",
    "p.line(*binshist_to_xy(bins, approx_rate))\n",
    "bokeh.io.show(p)"
   ]
  },
  {
   "cell_type": "markdown",
   "metadata": {},
   "source": [
    "Beautiful! Indeed we are sampling arrival times out of the correct nonhomogeneous Poisson process."
   ]
  },
  {
   "cell_type": "code",
   "execution_count": 12,
   "metadata": {},
   "outputs": [],
   "source": [
    "bebi103.stan.clean_cmdstan()"
   ]
  },
  {
   "cell_type": "markdown",
   "metadata": {},
   "source": [
    "## Computing environment"
   ]
  },
  {
   "cell_type": "code",
   "execution_count": 13,
   "metadata": {},
   "outputs": [
    {
     "name": "stdout",
     "output_type": "stream",
     "text": [
      "Python implementation: CPython\n",
      "Python version       : 3.12.11\n",
      "IPython version      : 9.1.0\n",
      "\n",
      "numpy     : 2.1.3\n",
      "cmdstanpy : 1.2.5\n",
      "arviz     : 0.21.0\n",
      "iqplot    : 0.3.7\n",
      "bebi103   : 0.1.27\n",
      "bokeh     : 3.6.2\n",
      "jupyterlab: 4.3.7\n",
      "\n",
      "cmdstan   : 2.36.0\n"
     ]
    }
   ],
   "source": [
    "%load_ext watermark\n",
    "%watermark -v -p numpy,cmdstanpy,arviz,iqplot,bebi103,bokeh,jupyterlab\n",
    "print(\"cmdstan   :\", bebi103.stan.cmdstan_version())"
   ]
  }
 ],
 "metadata": {
  "anaconda-cloud": {},
  "kernelspec": {
   "display_name": "datasai",
   "language": "python",
   "name": "python3"
  },
  "language_info": {
   "codemirror_mode": {
    "name": "ipython",
    "version": 3
   },
   "file_extension": ".py",
   "mimetype": "text/x-python",
   "name": "python",
   "nbconvert_exporter": "python",
   "pygments_lexer": "ipython3",
   "version": "3.12.11"
  }
 },
 "nbformat": 4,
 "nbformat_minor": 4
}
