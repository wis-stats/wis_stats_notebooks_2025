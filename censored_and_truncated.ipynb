{
 "cells": [
  {
   "cell_type": "markdown",
   "id": "e684cc37-ea93-4fe0-8c48-0f99ef995a78",
   "metadata": {},
   "source": [
    "# Censored and truncated distributions {#exr-censored-and-truncated}\n",
    "\n",
    "Say experimenters A and B have a behavioral assay in which they time how long it takes for a mouse to descend a pole. Experimenter A records the descent times as follows.\n",
    "\n",
    "- If the mouse descends the pole in less than $y_\\mathrm{max}$ seconds (typically 60 seconds), he records the descent time.\n",
    "- If the mouse does not descend the pole in less than $y_\\mathrm{max}$ seconds, he does not record anything. He simply ignores that trial.\n",
    "\n",
    "Experimenter B takes a different approach. She records the descent times as follows.\n",
    "\n",
    "- If the mouse descends the pole in less than $y_\\mathrm{max}$ seconds, she records the descent time.\n",
    "- If the mouse does not descend the pole in less than $y_\\mathrm{max}$ seconds, she records the descent time as $y_\\mathrm{max}$ seconds.\n",
    "\n",
    "Let $y$ be the time to descend the pole for patient experimenters. That is, $y$ can be greater than $y_\\mathrm{max}$ seconds. Let $f(y)$ by the probability density function of descent time and $F(y)$ be the corresponding CDF.\n",
    "\n",
    "**a)** Write down an expression for $f_\\mathrm{trunc}(y)$, the probability density function for experimenter A's observations in terms of $f(y)$ and $F(y)$. This is called a *truncated* distribution.\n",
    "\n",
    "**b)** Write down an expression for $f_\\mathrm{cens}(y)$, the probability density function for experimenter B's observations that are *not* $y_\\mathrm{max}$. Also write an expression for $\\pi(y_\\mathrm{max})$, which is the probability that experimenter B records $y_\\mathrm{max}$. This is called a *censored* distribution."
   ]
  },
  {
   "cell_type": "markdown",
   "id": "8154244e-320d-4148-957f-9ded2abad88d",
   "metadata": {},
   "source": [
    "## Solution\n",
    "\n",
    "<hr>\n",
    "\n",
    "For both a truncated distribution and a censored distribution, the probability density for a given value is proportional to that of the uncensored and untruncated distribution, such that $f_\\mathrm{trunc}(y) \\propto f(y)$ and $f_\\mathrm{cens}(y) \\propto f(y)$. We just have to find the normalization constant.\n",
    "\n",
    "**a)** For a truncated distribution all observations are in the domain of the original distribution up to $y_\\mathrm{max}$. So, the normalization constant is the inverse of\n",
    "\n",
    "$$\\begin{align}\n",
    "\\int_{-\\infty}^{y_\\mathrm{max}} \\mathrm{d}y\\,f(y) = F(y_\\mathrm{max}),\n",
    "\\end{align}\n",
    "$$\n",
    "\n",
    "giving\n",
    "\n",
    "$$\\begin{align}\n",
    "f_\\mathrm{trunc}(y) = \\left\\{\\begin{array}{lll}\n",
    "\\displaystyle{\\frac{f(y)}{F(y_\\mathrm{max})}} & & y \\le y_\\mathrm{max} \\\\[1em]\n",
    "0 & & y > y_\\mathrm{max}\n",
    "\\end{array}\n",
    "\\right.\n",
    "\\end{align}\n",
    "$$\n",
    "\n",
    "**b)** For a censored distribution, the probability of observing $y_\\mathrm{max}$ is the probability of having a descent time greater than $y_\\mathrm{max}$, which is simply $1 - F(y_\\mathrm{max})$. The normalization condition is that all probabilities must sum to one, or\n",
    "\n",
    "$$\\begin{align}\n",
    "1 - F(y_\\mathrm{max}) + \\int_{-\\infty}^{y_\\mathrm{max}} \\mathrm{d}y\\,f_\\mathrm{cens}(y) = 1.\n",
    "\\end{align}\n",
    "$$\n",
    "\n",
    "Therefore, \n",
    "\n",
    "$$\\begin{align}\n",
    "F(y_\\mathrm{max}) = \\int_{-\\infty}^{y_\\mathrm{max}} \\mathrm{d}y\\,f_\\mathrm{cens}(y),\n",
    "\\end{align}\n",
    "$$\n",
    "\n",
    "such that $f_\\mathrm{cens}(y) = f(y)$ for all $y < y_\\mathrm{max}$.\n"
   ]
  }
 ],
 "metadata": {
  "kernelspec": {
   "display_name": "Python 3 (ipykernel)",
   "language": "python",
   "name": "python3"
  },
  "language_info": {
   "codemirror_mode": {
    "name": "ipython",
    "version": 3
   },
   "file_extension": ".py",
   "mimetype": "text/x-python",
   "name": "python",
   "nbconvert_exporter": "python",
   "pygments_lexer": "ipython3",
   "version": "3.12.11"
  }
 },
 "nbformat": 4,
 "nbformat_minor": 5
}
