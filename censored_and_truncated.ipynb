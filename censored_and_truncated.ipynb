{
  "cells": [
    {
      "cell_type": "markdown",
      "id": "e684cc37-ea93-4fe0-8c48-0f99ef995a78",
      "metadata": {},
      "source": [
        "# Censored and truncated distributions {#exr-censored-and-truncated}\n",
        "\n",
        "Say experimenters A and B have a behavioral assay in which they time how long it takes for a mouse to descend a pole. Experimenter A records the descent times as follows.\n",
        "\n",
        "- If the mouse descends the pole in less than $y_\\mathrm{max}$ seconds (typically 60 seconds), he records the descent time.\n",
        "- If the mouse does not descend the pole in less than $y_\\mathrm{max}$ seconds, he does not record anything. He simply ignores that trial.\n",
        "\n",
        "Experimenter B takes a different approach. She records the descent times as follows.\n",
        "\n",
        "- If the mouse descends the pole in less than $y_\\mathrm{max}$ seconds, she records the descent time.\n",
        "- If the mouse does not descend the pole in less than $y_\\mathrm{max}$ seconds, she records the descent time as $y_\\mathrm{max}$ seconds.\n",
        "\n",
        "Let $y$ be the time to descend the pole for patient experimenters. That is, $y$ can be greater than $y_\\mathrm{max}$ seconds. Let $f(y)$ by the probability density function of descent time and $F(y)$ be the corresponding CDF.\n",
        "\n",
        "**a)** Write down an expression for $f_\\mathrm{trunc}(y)$, the probability density function for experimenter A's observations in terms of $f(y)$ and $F(y)$. This is called a *truncated* distribution.\n",
        "\n",
        "**b)** Write down an expression for $f_\\mathrm{cens}(y)$, the probability density function for experimenter B's observations that are *not* $y_\\mathrm{max}$. Also write an expression for $\\pi(y_\\mathrm{max})$, which is the probability that experimenter B records $y_\\mathrm{max}$. This is called a *censored* distribution."
      ]
    }
  ],
  "metadata": {
    "kernelspec": {
      "display_name": "Python 3 (ipykernel)",
      "language": "python",
      "name": "python3"
    },
    "language_info": {
      "codemirror_mode": {
        "name": "ipython",
        "version": 3
      },
      "file_extension": ".py",
      "mimetype": "text/x-python",
      "name": "python",
      "nbconvert_exporter": "python",
      "pygments_lexer": "ipython3",
      "version": "3.12.11"
    }
  },
  "nbformat": 4,
  "nbformat_minor": 5
}