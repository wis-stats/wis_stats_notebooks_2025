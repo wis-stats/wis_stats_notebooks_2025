{
 "cells": [
  {
   "cell_type": "markdown",
   "metadata": {},
   "source": [
    "# Normal approximations\n",
    "\n",
    "<hr />"
   ]
  },
  {
   "cell_type": "markdown",
   "metadata": {},
   "source": [
    "**a)** Imagine I have a univariate continuous distribution with PDF $f(y)$ that has a maximum at $y^*$. Assume that the first and second derivatives of $f(y)$ are defined and continuous near $y^*$. Show by expanding the log PDF of this distribution in a Taylor series about $y^*$ that the distribution is locally Normal near the maximum.\n",
    "\n",
    "In performing the Taylor series, how is the scale parameter $\\sigma$ of the Normal approximation of the distribution related to the log PDF of the distribution it is approximating?\n",
    "\n",
    "**b)** Another way you can approximate a distribution as Normal is to use its mean and variance as the parameters as the approximate Normal. We will call this technique \"equating moments.\" Can you do this if the distribution you are approximating has heavy tails, say like a Cauchy distribution? Why or why not?\n",
    "\n",
    "**c)** Make plots of the PDF and CDF of the following distributions with their Normal approximations as derived from the Taylor series and by equating moments. Do you have any comments about the approximations?\n",
    "\n",
    "<!-- - Student-t with *µ = 0*, *σ* = 1, and *ν* = 4\n",
    "- Cauchy with with *µ = 0*, *σ* = 1 -->\n",
    "- Beta with *α* = *β* = 10\n",
    "- Gamma with *α* = 5 and *β* = 2\n",
    "\n",
    "**d)** Discrete distributions are also often approximated as Normal. In fact, early studies of the Normal distributions arose from it being used to approximate a Binomial distribution. Use the method of equating moments to make a plot of the PMF of the Binomial distribution and the PDF of the Normal approximation of the Binomial distribution for:\n",
    "\n",
    "- Binomial with *N* = 100 and *θ* = 0.1.\n",
    "- Binomial with *N* = 10 and *θ* = 0.1.\n",
    "\n",
    "Comment on what you see.\n",
    "\n",
    "<!--I do not ask for CDF for Binomial because plotting CDFs for discrete distributions means you have to make staircases, which is kind of tricky. -->"
   ]
  },
  {
   "cell_type": "markdown",
   "metadata": {},
   "source": [
    "## Solution\n",
    "\n",
    "<hr>"
   ]
  },
  {
   "cell_type": "code",
   "execution_count": 1,
   "metadata": {},
   "outputs": [
    {
     "data": {
      "text/html": [
       "    <style>\n",
       "        .bk-notebook-logo {\n",
       "            display: block;\n",
       "            width: 20px;\n",
       "            height: 20px;\n",
       "            background-image: url(data:image/png;base64,iVBORw0KGgoAAAANSUhEUgAAABQAAAAUCAYAAACNiR0NAAAABHNCSVQICAgIfAhkiAAAAAlwSFlzAAALEgAACxIB0t1+/AAAABx0RVh0U29mdHdhcmUAQWRvYmUgRmlyZXdvcmtzIENTNui8sowAAAOkSURBVDiNjZRtaJVlGMd/1/08zzln5zjP1LWcU9N0NkN8m2CYjpgQYQXqSs0I84OLIC0hkEKoPtiH3gmKoiJDU7QpLgoLjLIQCpEsNJ1vqUOdO7ppbuec5+V+rj4ctwzd8IIbbi6u+8f1539dt3A78eXC7QizUF7gyV1fD1Yqg4JWz84yffhm0qkFqBogB9rM8tZdtwVsPUhWhGcFJngGeWrPzHm5oaMmkfEg1usvLFyc8jLRqDOMru7AyC8saQr7GG7f5fvDeH7Ej8CM66nIF+8yngt6HWaKh7k49Soy9nXurCi1o3qUbS3zWfrYeQDTB/Qj6kX6Ybhw4B+bOYoLKCC9H3Nu/leUTZ1JdRWkkn2ldcCamzrcf47KKXdAJllSlxAOkRgyHsGC/zRday5Qld9DyoM4/q/rUoy/CXh3jzOu3bHUVZeU+DEn8FInkPBFlu3+nW3Nw0mk6vCDiWg8CeJaxEwuHS3+z5RgY+YBR6V1Z1nxSOfoaPa4LASWxxdNp+VWTk7+4vzaou8v8PN+xo+KY2xsw6une2frhw05CTYOmQvsEhjhWjn0bmXPjpE1+kplmmkP3suftwTubK9Vq22qKmrBhpY4jvd5afdRA3wGjFAgcnTK2s4hY0/GPNIb0nErGMCRxWOOX64Z8RAC4oCXdklmEvcL8o0BfkNK4lUg9HTl+oPlQxdNo3Mg4Nv175e/1LDGzZen30MEjRUtmXSfiTVu1kK8W4txyV6BMKlbgk3lMwYCiusNy9fVfvvwMxv8Ynl6vxoByANLTWplvuj/nF9m2+PDtt1eiHPBr1oIfhCChQMBw6Aw0UulqTKZdfVvfG7VcfIqLG9bcldL/+pdWTLxLUy8Qq38heUIjh4XlzZxzQm19lLFlr8vdQ97rjZVOLf8nclzckbcD4wxXMidpX30sFd37Fv/GtwwhzhxGVAprjbg0gCAEeIgwCZyTV2Z1REEW8O4py0wsjeloKoMr6iCY6dP92H6Vw/oTyICIthibxjm/DfN9lVz8IqtqKYLUXfoKVMVQVVJOElGjrnnUt9T9wbgp8AyYKaGlqingHZU/uG2NTZSVqwHQTWkx9hxjkpWDaCg6Ckj5qebgBVbT3V3NNXMSiWSDdGV3hrtzla7J+duwPOToIg42ChPQOQjspnSlp1V+Gjdged7+8UN5CRAV7a5EdFNwCjEaBR27b3W890TE7g24NAP/mMDXRWrGoFPQI9ls/MWO2dWFAar/xcOIImbbpA3zgAAAABJRU5ErkJggg==);\n",
       "        }\n",
       "    </style>\n",
       "    <div>\n",
       "        <a href=\"https://bokeh.org\" target=\"_blank\" class=\"bk-notebook-logo\"></a>\n",
       "        <span id=\"d70aee29-73bd-4dbf-a313-6125d6efe1c0\">Loading BokehJS ...</span>\n",
       "    </div>\n"
      ]
     },
     "metadata": {},
     "output_type": "display_data"
    },
    {
     "data": {
      "application/javascript": [
       "'use strict';\n",
       "(function(root) {\n",
       "  function now() {\n",
       "    return new Date();\n",
       "  }\n",
       "\n",
       "  const force = true;\n",
       "\n",
       "  if (typeof root._bokeh_onload_callbacks === \"undefined\" || force === true) {\n",
       "    root._bokeh_onload_callbacks = [];\n",
       "    root._bokeh_is_loading = undefined;\n",
       "  }\n",
       "\n",
       "const JS_MIME_TYPE = 'application/javascript';\n",
       "  const HTML_MIME_TYPE = 'text/html';\n",
       "  const EXEC_MIME_TYPE = 'application/vnd.bokehjs_exec.v0+json';\n",
       "  const CLASS_NAME = 'output_bokeh rendered_html';\n",
       "\n",
       "  /**\n",
       "   * Render data to the DOM node\n",
       "   */\n",
       "  function render(props, node) {\n",
       "    const script = document.createElement(\"script\");\n",
       "    node.appendChild(script);\n",
       "  }\n",
       "\n",
       "  /**\n",
       "   * Handle when an output is cleared or removed\n",
       "   */\n",
       "  function handleClearOutput(event, handle) {\n",
       "    function drop(id) {\n",
       "      const view = Bokeh.index.get_by_id(id)\n",
       "      if (view != null) {\n",
       "        view.model.document.clear()\n",
       "        Bokeh.index.delete(view)\n",
       "      }\n",
       "    }\n",
       "\n",
       "    const cell = handle.cell;\n",
       "\n",
       "    const id = cell.output_area._bokeh_element_id;\n",
       "    const server_id = cell.output_area._bokeh_server_id;\n",
       "\n",
       "    // Clean up Bokeh references\n",
       "    if (id != null) {\n",
       "      drop(id)\n",
       "    }\n",
       "\n",
       "    if (server_id !== undefined) {\n",
       "      // Clean up Bokeh references\n",
       "      const cmd_clean = \"from bokeh.io.state import curstate; print(curstate().uuid_to_server['\" + server_id + \"'].get_sessions()[0].document.roots[0]._id)\";\n",
       "      cell.notebook.kernel.execute(cmd_clean, {\n",
       "        iopub: {\n",
       "          output: function(msg) {\n",
       "            const id = msg.content.text.trim()\n",
       "            drop(id)\n",
       "          }\n",
       "        }\n",
       "      });\n",
       "      // Destroy server and session\n",
       "      const cmd_destroy = \"import bokeh.io.notebook as ion; ion.destroy_server('\" + server_id + \"')\";\n",
       "      cell.notebook.kernel.execute(cmd_destroy);\n",
       "    }\n",
       "  }\n",
       "\n",
       "  /**\n",
       "   * Handle when a new output is added\n",
       "   */\n",
       "  function handleAddOutput(event, handle) {\n",
       "    const output_area = handle.output_area;\n",
       "    const output = handle.output;\n",
       "\n",
       "    // limit handleAddOutput to display_data with EXEC_MIME_TYPE content only\n",
       "    if ((output.output_type != \"display_data\") || (!Object.prototype.hasOwnProperty.call(output.data, EXEC_MIME_TYPE))) {\n",
       "      return\n",
       "    }\n",
       "\n",
       "    const toinsert = output_area.element.find(\".\" + CLASS_NAME.split(' ')[0]);\n",
       "\n",
       "    if (output.metadata[EXEC_MIME_TYPE][\"id\"] !== undefined) {\n",
       "      toinsert[toinsert.length - 1].firstChild.textContent = output.data[JS_MIME_TYPE];\n",
       "      // store reference to embed id on output_area\n",
       "      output_area._bokeh_element_id = output.metadata[EXEC_MIME_TYPE][\"id\"];\n",
       "    }\n",
       "    if (output.metadata[EXEC_MIME_TYPE][\"server_id\"] !== undefined) {\n",
       "      const bk_div = document.createElement(\"div\");\n",
       "      bk_div.innerHTML = output.data[HTML_MIME_TYPE];\n",
       "      const script_attrs = bk_div.children[0].attributes;\n",
       "      for (let i = 0; i < script_attrs.length; i++) {\n",
       "        toinsert[toinsert.length - 1].firstChild.setAttribute(script_attrs[i].name, script_attrs[i].value);\n",
       "        toinsert[toinsert.length - 1].firstChild.textContent = bk_div.children[0].textContent\n",
       "      }\n",
       "      // store reference to server id on output_area\n",
       "      output_area._bokeh_server_id = output.metadata[EXEC_MIME_TYPE][\"server_id\"];\n",
       "    }\n",
       "  }\n",
       "\n",
       "  function register_renderer(events, OutputArea) {\n",
       "\n",
       "    function append_mime(data, metadata, element) {\n",
       "      // create a DOM node to render to\n",
       "      const toinsert = this.create_output_subarea(\n",
       "        metadata,\n",
       "        CLASS_NAME,\n",
       "        EXEC_MIME_TYPE\n",
       "      );\n",
       "      this.keyboard_manager.register_events(toinsert);\n",
       "      // Render to node\n",
       "      const props = {data: data, metadata: metadata[EXEC_MIME_TYPE]};\n",
       "      render(props, toinsert[toinsert.length - 1]);\n",
       "      element.append(toinsert);\n",
       "      return toinsert\n",
       "    }\n",
       "\n",
       "    /* Handle when an output is cleared or removed */\n",
       "    events.on('clear_output.CodeCell', handleClearOutput);\n",
       "    events.on('delete.Cell', handleClearOutput);\n",
       "\n",
       "    /* Handle when a new output is added */\n",
       "    events.on('output_added.OutputArea', handleAddOutput);\n",
       "\n",
       "    /**\n",
       "     * Register the mime type and append_mime function with output_area\n",
       "     */\n",
       "    OutputArea.prototype.register_mime_type(EXEC_MIME_TYPE, append_mime, {\n",
       "      /* Is output safe? */\n",
       "      safe: true,\n",
       "      /* Index of renderer in `output_area.display_order` */\n",
       "      index: 0\n",
       "    });\n",
       "  }\n",
       "\n",
       "  // register the mime type if in Jupyter Notebook environment and previously unregistered\n",
       "  if (root.Jupyter !== undefined) {\n",
       "    const events = require('base/js/events');\n",
       "    const OutputArea = require('notebook/js/outputarea').OutputArea;\n",
       "\n",
       "    if (OutputArea.prototype.mime_types().indexOf(EXEC_MIME_TYPE) == -1) {\n",
       "      register_renderer(events, OutputArea);\n",
       "    }\n",
       "  }\n",
       "  if (typeof (root._bokeh_timeout) === \"undefined\" || force === true) {\n",
       "    root._bokeh_timeout = Date.now() + 5000;\n",
       "    root._bokeh_failed_load = false;\n",
       "  }\n",
       "\n",
       "  const NB_LOAD_WARNING = {'data': {'text/html':\n",
       "     \"<div style='background-color: #fdd'>\\n\"+\n",
       "     \"<p>\\n\"+\n",
       "     \"BokehJS does not appear to have successfully loaded. If loading BokehJS from CDN, this \\n\"+\n",
       "     \"may be due to a slow or bad network connection. Possible fixes:\\n\"+\n",
       "     \"</p>\\n\"+\n",
       "     \"<ul>\\n\"+\n",
       "     \"<li>re-rerun `output_notebook()` to attempt to load from CDN again, or</li>\\n\"+\n",
       "     \"<li>use INLINE resources instead, as so:</li>\\n\"+\n",
       "     \"</ul>\\n\"+\n",
       "     \"<code>\\n\"+\n",
       "     \"from bokeh.resources import INLINE\\n\"+\n",
       "     \"output_notebook(resources=INLINE)\\n\"+\n",
       "     \"</code>\\n\"+\n",
       "     \"</div>\"}};\n",
       "\n",
       "  function display_loaded(error = null) {\n",
       "    const el = document.getElementById(\"d70aee29-73bd-4dbf-a313-6125d6efe1c0\");\n",
       "    if (el != null) {\n",
       "      const html = (() => {\n",
       "        if (typeof root.Bokeh === \"undefined\") {\n",
       "          if (error == null) {\n",
       "            return \"BokehJS is loading ...\";\n",
       "          } else {\n",
       "            return \"BokehJS failed to load.\";\n",
       "          }\n",
       "        } else {\n",
       "          const prefix = `BokehJS ${root.Bokeh.version}`;\n",
       "          if (error == null) {\n",
       "            return `${prefix} successfully loaded.`;\n",
       "          } else {\n",
       "            return `${prefix} <b>encountered errors</b> while loading and may not function as expected.`;\n",
       "          }\n",
       "        }\n",
       "      })();\n",
       "      el.innerHTML = html;\n",
       "\n",
       "      if (error != null) {\n",
       "        const wrapper = document.createElement(\"div\");\n",
       "        wrapper.style.overflow = \"auto\";\n",
       "        wrapper.style.height = \"5em\";\n",
       "        wrapper.style.resize = \"vertical\";\n",
       "        const content = document.createElement(\"div\");\n",
       "        content.style.fontFamily = \"monospace\";\n",
       "        content.style.whiteSpace = \"pre-wrap\";\n",
       "        content.style.backgroundColor = \"rgb(255, 221, 221)\";\n",
       "        content.textContent = error.stack ?? error.toString();\n",
       "        wrapper.append(content);\n",
       "        el.append(wrapper);\n",
       "      }\n",
       "    } else if (Date.now() < root._bokeh_timeout) {\n",
       "      setTimeout(() => display_loaded(error), 100);\n",
       "    }\n",
       "  }\n",
       "\n",
       "  function run_callbacks() {\n",
       "    try {\n",
       "      root._bokeh_onload_callbacks.forEach(function(callback) {\n",
       "        if (callback != null)\n",
       "          callback();\n",
       "      });\n",
       "    } finally {\n",
       "      delete root._bokeh_onload_callbacks\n",
       "    }\n",
       "    console.debug(\"Bokeh: all callbacks have finished\");\n",
       "  }\n",
       "\n",
       "  function load_libs(css_urls, js_urls, callback) {\n",
       "    if (css_urls == null) css_urls = [];\n",
       "    if (js_urls == null) js_urls = [];\n",
       "\n",
       "    root._bokeh_onload_callbacks.push(callback);\n",
       "    if (root._bokeh_is_loading > 0) {\n",
       "      console.debug(\"Bokeh: BokehJS is being loaded, scheduling callback at\", now());\n",
       "      return null;\n",
       "    }\n",
       "    if (js_urls == null || js_urls.length === 0) {\n",
       "      run_callbacks();\n",
       "      return null;\n",
       "    }\n",
       "    console.debug(\"Bokeh: BokehJS not loaded, scheduling load and callback at\", now());\n",
       "    root._bokeh_is_loading = css_urls.length + js_urls.length;\n",
       "\n",
       "    function on_load() {\n",
       "      root._bokeh_is_loading--;\n",
       "      if (root._bokeh_is_loading === 0) {\n",
       "        console.debug(\"Bokeh: all BokehJS libraries/stylesheets loaded\");\n",
       "        run_callbacks()\n",
       "      }\n",
       "    }\n",
       "\n",
       "    function on_error(url) {\n",
       "      console.error(\"failed to load \" + url);\n",
       "    }\n",
       "\n",
       "    for (let i = 0; i < css_urls.length; i++) {\n",
       "      const url = css_urls[i];\n",
       "      const element = document.createElement(\"link\");\n",
       "      element.onload = on_load;\n",
       "      element.onerror = on_error.bind(null, url);\n",
       "      element.rel = \"stylesheet\";\n",
       "      element.type = \"text/css\";\n",
       "      element.href = url;\n",
       "      console.debug(\"Bokeh: injecting link tag for BokehJS stylesheet: \", url);\n",
       "      document.body.appendChild(element);\n",
       "    }\n",
       "\n",
       "    for (let i = 0; i < js_urls.length; i++) {\n",
       "      const url = js_urls[i];\n",
       "      const element = document.createElement('script');\n",
       "      element.onload = on_load;\n",
       "      element.onerror = on_error.bind(null, url);\n",
       "      element.async = false;\n",
       "      element.src = url;\n",
       "      console.debug(\"Bokeh: injecting script tag for BokehJS library: \", url);\n",
       "      document.head.appendChild(element);\n",
       "    }\n",
       "  };\n",
       "\n",
       "  function inject_raw_css(css) {\n",
       "    const element = document.createElement(\"style\");\n",
       "    element.appendChild(document.createTextNode(css));\n",
       "    document.body.appendChild(element);\n",
       "  }\n",
       "\n",
       "  const js_urls = [\"https://cdn.bokeh.org/bokeh/release/bokeh-3.7.3.min.js\", \"https://cdn.bokeh.org/bokeh/release/bokeh-gl-3.7.3.min.js\", \"https://cdn.bokeh.org/bokeh/release/bokeh-widgets-3.7.3.min.js\", \"https://cdn.bokeh.org/bokeh/release/bokeh-tables-3.7.3.min.js\", \"https://cdn.bokeh.org/bokeh/release/bokeh-mathjax-3.7.3.min.js\"];\n",
       "  const css_urls = [];\n",
       "\n",
       "  const inline_js = [    function(Bokeh) {\n",
       "      Bokeh.set_log_level(\"info\");\n",
       "    },\n",
       "function(Bokeh) {\n",
       "    }\n",
       "  ];\n",
       "\n",
       "  function run_inline_js() {\n",
       "    if (root.Bokeh !== undefined || force === true) {\n",
       "      try {\n",
       "            for (let i = 0; i < inline_js.length; i++) {\n",
       "      inline_js[i].call(root, root.Bokeh);\n",
       "    }\n",
       "\n",
       "      } catch (error) {display_loaded(error);throw error;\n",
       "      }if (force === true) {\n",
       "        display_loaded();\n",
       "      }} else if (Date.now() < root._bokeh_timeout) {\n",
       "      setTimeout(run_inline_js, 100);\n",
       "    } else if (!root._bokeh_failed_load) {\n",
       "      console.log(\"Bokeh: BokehJS failed to load within specified timeout.\");\n",
       "      root._bokeh_failed_load = true;\n",
       "    } else if (force !== true) {\n",
       "      const cell = $(document.getElementById(\"d70aee29-73bd-4dbf-a313-6125d6efe1c0\")).parents('.cell').data().cell;\n",
       "      cell.output_area.append_execute_result(NB_LOAD_WARNING)\n",
       "    }\n",
       "  }\n",
       "\n",
       "  if (root._bokeh_is_loading === 0) {\n",
       "    console.debug(\"Bokeh: BokehJS loaded, going straight to plotting\");\n",
       "    run_inline_js();\n",
       "  } else {\n",
       "    load_libs(css_urls, js_urls, function() {\n",
       "      console.debug(\"Bokeh: BokehJS plotting callback run at\", now());\n",
       "      run_inline_js();\n",
       "    });\n",
       "  }\n",
       "}(window));"
      ],
      "application/vnd.bokehjs_load.v0+json": "'use strict';\n(function(root) {\n  function now() {\n    return new Date();\n  }\n\n  const force = true;\n\n  if (typeof root._bokeh_onload_callbacks === \"undefined\" || force === true) {\n    root._bokeh_onload_callbacks = [];\n    root._bokeh_is_loading = undefined;\n  }\n\n\n  if (typeof (root._bokeh_timeout) === \"undefined\" || force === true) {\n    root._bokeh_timeout = Date.now() + 5000;\n    root._bokeh_failed_load = false;\n  }\n\n  const NB_LOAD_WARNING = {'data': {'text/html':\n     \"<div style='background-color: #fdd'>\\n\"+\n     \"<p>\\n\"+\n     \"BokehJS does not appear to have successfully loaded. If loading BokehJS from CDN, this \\n\"+\n     \"may be due to a slow or bad network connection. Possible fixes:\\n\"+\n     \"</p>\\n\"+\n     \"<ul>\\n\"+\n     \"<li>re-rerun `output_notebook()` to attempt to load from CDN again, or</li>\\n\"+\n     \"<li>use INLINE resources instead, as so:</li>\\n\"+\n     \"</ul>\\n\"+\n     \"<code>\\n\"+\n     \"from bokeh.resources import INLINE\\n\"+\n     \"output_notebook(resources=INLINE)\\n\"+\n     \"</code>\\n\"+\n     \"</div>\"}};\n\n  function display_loaded(error = null) {\n    const el = document.getElementById(\"d70aee29-73bd-4dbf-a313-6125d6efe1c0\");\n    if (el != null) {\n      const html = (() => {\n        if (typeof root.Bokeh === \"undefined\") {\n          if (error == null) {\n            return \"BokehJS is loading ...\";\n          } else {\n            return \"BokehJS failed to load.\";\n          }\n        } else {\n          const prefix = `BokehJS ${root.Bokeh.version}`;\n          if (error == null) {\n            return `${prefix} successfully loaded.`;\n          } else {\n            return `${prefix} <b>encountered errors</b> while loading and may not function as expected.`;\n          }\n        }\n      })();\n      el.innerHTML = html;\n\n      if (error != null) {\n        const wrapper = document.createElement(\"div\");\n        wrapper.style.overflow = \"auto\";\n        wrapper.style.height = \"5em\";\n        wrapper.style.resize = \"vertical\";\n        const content = document.createElement(\"div\");\n        content.style.fontFamily = \"monospace\";\n        content.style.whiteSpace = \"pre-wrap\";\n        content.style.backgroundColor = \"rgb(255, 221, 221)\";\n        content.textContent = error.stack ?? error.toString();\n        wrapper.append(content);\n        el.append(wrapper);\n      }\n    } else if (Date.now() < root._bokeh_timeout) {\n      setTimeout(() => display_loaded(error), 100);\n    }\n  }\n\n  function run_callbacks() {\n    try {\n      root._bokeh_onload_callbacks.forEach(function(callback) {\n        if (callback != null)\n          callback();\n      });\n    } finally {\n      delete root._bokeh_onload_callbacks\n    }\n    console.debug(\"Bokeh: all callbacks have finished\");\n  }\n\n  function load_libs(css_urls, js_urls, callback) {\n    if (css_urls == null) css_urls = [];\n    if (js_urls == null) js_urls = [];\n\n    root._bokeh_onload_callbacks.push(callback);\n    if (root._bokeh_is_loading > 0) {\n      console.debug(\"Bokeh: BokehJS is being loaded, scheduling callback at\", now());\n      return null;\n    }\n    if (js_urls == null || js_urls.length === 0) {\n      run_callbacks();\n      return null;\n    }\n    console.debug(\"Bokeh: BokehJS not loaded, scheduling load and callback at\", now());\n    root._bokeh_is_loading = css_urls.length + js_urls.length;\n\n    function on_load() {\n      root._bokeh_is_loading--;\n      if (root._bokeh_is_loading === 0) {\n        console.debug(\"Bokeh: all BokehJS libraries/stylesheets loaded\");\n        run_callbacks()\n      }\n    }\n\n    function on_error(url) {\n      console.error(\"failed to load \" + url);\n    }\n\n    for (let i = 0; i < css_urls.length; i++) {\n      const url = css_urls[i];\n      const element = document.createElement(\"link\");\n      element.onload = on_load;\n      element.onerror = on_error.bind(null, url);\n      element.rel = \"stylesheet\";\n      element.type = \"text/css\";\n      element.href = url;\n      console.debug(\"Bokeh: injecting link tag for BokehJS stylesheet: \", url);\n      document.body.appendChild(element);\n    }\n\n    for (let i = 0; i < js_urls.length; i++) {\n      const url = js_urls[i];\n      const element = document.createElement('script');\n      element.onload = on_load;\n      element.onerror = on_error.bind(null, url);\n      element.async = false;\n      element.src = url;\n      console.debug(\"Bokeh: injecting script tag for BokehJS library: \", url);\n      document.head.appendChild(element);\n    }\n  };\n\n  function inject_raw_css(css) {\n    const element = document.createElement(\"style\");\n    element.appendChild(document.createTextNode(css));\n    document.body.appendChild(element);\n  }\n\n  const js_urls = [\"https://cdn.bokeh.org/bokeh/release/bokeh-3.7.3.min.js\", \"https://cdn.bokeh.org/bokeh/release/bokeh-gl-3.7.3.min.js\", \"https://cdn.bokeh.org/bokeh/release/bokeh-widgets-3.7.3.min.js\", \"https://cdn.bokeh.org/bokeh/release/bokeh-tables-3.7.3.min.js\", \"https://cdn.bokeh.org/bokeh/release/bokeh-mathjax-3.7.3.min.js\"];\n  const css_urls = [];\n\n  const inline_js = [    function(Bokeh) {\n      Bokeh.set_log_level(\"info\");\n    },\nfunction(Bokeh) {\n    }\n  ];\n\n  function run_inline_js() {\n    if (root.Bokeh !== undefined || force === true) {\n      try {\n            for (let i = 0; i < inline_js.length; i++) {\n      inline_js[i].call(root, root.Bokeh);\n    }\n\n      } catch (error) {display_loaded(error);throw error;\n      }if (force === true) {\n        display_loaded();\n      }} else if (Date.now() < root._bokeh_timeout) {\n      setTimeout(run_inline_js, 100);\n    } else if (!root._bokeh_failed_load) {\n      console.log(\"Bokeh: BokehJS failed to load within specified timeout.\");\n      root._bokeh_failed_load = true;\n    } else if (force !== true) {\n      const cell = $(document.getElementById(\"d70aee29-73bd-4dbf-a313-6125d6efe1c0\")).parents('.cell').data().cell;\n      cell.output_area.append_execute_result(NB_LOAD_WARNING)\n    }\n  }\n\n  if (root._bokeh_is_loading === 0) {\n    console.debug(\"Bokeh: BokehJS loaded, going straight to plotting\");\n    run_inline_js();\n  } else {\n    load_libs(css_urls, js_urls, function() {\n      console.debug(\"Bokeh: BokehJS plotting callback run at\", now());\n      run_inline_js();\n    });\n  }\n}(window));"
     },
     "metadata": {},
     "output_type": "display_data"
    }
   ],
   "source": [
    "import numpy as np\n",
    "import scipy.stats as st\n",
    "\n",
    "import bokeh.io\n",
    "import bokeh.plotting\n",
    "import bokeh.layouts\n",
    "\n",
    "bokeh.io.output_notebook()"
   ]
  },
  {
   "cell_type": "markdown",
   "metadata": {},
   "source": [
    "**a)** This is described in the [Distribution Explorer](https://distribution-explorer.github.io/continuous/normal.html#related-distributions). Importantly, the variance of the approximate Normal is given by\n",
    "\n",
    "\\begin{align}\n",
    "\\sigma^2 = \\left(-\\frac{\\mathrm{d}^2\\,\\ln f(y;\\alpha, \\beta)}{\\mathrm{d}y^2}\\right)^{-1}.\n",
    "\\end{align}"
   ]
  },
  {
   "cell_type": "markdown",
   "metadata": {},
   "source": [
    "**b)** You cannot approximate a heavy tailed distribution this way because if the tails are heavy, second, or even first, moments may not exist. This is the case with the Cauchy distribution."
   ]
  },
  {
   "cell_type": "markdown",
   "metadata": {},
   "source": [
    "**c)** The mean and variance of the Beta and Gamma distributions are, referring to the Distribution Explorer:\n",
    "\n",
    "- **Beta.** mean: $\\alpha/(\\alpha + \\beta)$, variance: $\\alpha\\beta/(\\alpha + \\beta)^2(1 + \\alpha + \\beta)$\n",
    "- **Gamma.** mean: $\\alpha/\\beta$, variance: $\\alpha/\\beta^2$\n",
    "\n",
    "To do the Taylor expansion, we need the mode of each and additionally the value of the second derivative of the log PDF at the mode. We will start with the Beta distribution.\n",
    "\n",
    "\\begin{align}\n",
    "\\frac{\\mathrm{d}\\,\\ln f(y;\\alpha, \\beta)}{\\mathrm{d}y} = \\frac{\\mathrm{d}}{\\mathrm{d}y}\\,\\left[(\\alpha-1)\\ln y + (\\beta - 1)\\ln (1-y)\\right] = \\frac{\\alpha-1}{y} - \\frac{\\beta - 1}{1 - y}.\n",
    "\\end{align}\n",
    "\n",
    "Setting this derivative equal to zero and solving for $y$ to get the $y$ for which the Beta PDF is maximal gives\n",
    "\n",
    "\\begin{align}\n",
    "y^* = \\frac{\\alpha - 1}{\\alpha + \\beta - 2}.\n",
    "\\end{align}\n",
    "\n",
    "Since we must have $0 \\le y^* \\le 1$, we assume that $\\alpha, \\beta > 1$, which is the case for this problem. Computing the second derivative yields\n",
    "\n",
    "\\begin{align}\n",
    "\\frac{\\mathrm{d}^2\\,\\ln f(y;\\alpha, \\beta)}{\\mathrm{d}y^2} = -\\frac{\\alpha - 1}{y^2} - \\frac{\\beta-1}{(1-y)^2}.\n",
    "\\end{align}\n",
    "\n",
    "Negating and inverting this evaluated at $y^*$ gives the variance. So, we have arrived at the mean and variance of our approximate Normal distribution,\n",
    "\n",
    "\\begin{align}\n",
    "&\\mu = \\frac{\\alpha - 1}{\\alpha + \\beta - 2},\\\\[1em]\n",
    "&\\sigma^2 = \\left(\\frac{\\alpha - 1}{\\mu^2} + \\frac{\\beta-1}{(1-\\mu)^2}\\right)^{-1} = \\frac{(\\alpha-1)(\\beta-1)}{(\\alpha + \\beta - 2)^3}.\n",
    "\\end{align}\n",
    "\n",
    "Let's make a plot!"
   ]
  },
  {
   "cell_type": "code",
   "execution_count": 2,
   "metadata": {},
   "outputs": [
    {
     "data": {
      "text/html": [
       "\n",
       "  <div id=\"d0520ba7-04b8-4c57-85e1-2f7d2702eaad\" data-root-id=\"p1138\" style=\"display: contents;\"></div>\n"
      ]
     },
     "metadata": {},
     "output_type": "display_data"
    },
    {
     "data": {
      "application/javascript": [
       "(function(root) {\n",
       "  function embed_document(root) {\n",
       "  const docs_json = {\"bb3c0eb4-870d-4a41-a2de-7457cb0fab58\":{\"version\":\"3.7.3\",\"title\":\"Bokeh Application\",\"roots\":[{\"type\":\"object\",\"name\":\"GridPlot\",\"id\":\"p1138\",\"attributes\":{\"rows\":null,\"cols\":null,\"toolbar\":{\"type\":\"object\",\"name\":\"Toolbar\",\"id\":\"p1137\",\"attributes\":{\"tools\":[{\"type\":\"object\",\"name\":\"ToolProxy\",\"id\":\"p1131\",\"attributes\":{\"tools\":[{\"type\":\"object\",\"name\":\"PanTool\",\"id\":\"p1060\"},{\"type\":\"object\",\"name\":\"PanTool\",\"id\":\"p1026\"}]}},{\"type\":\"object\",\"name\":\"ToolProxy\",\"id\":\"p1132\",\"attributes\":{\"tools\":[{\"type\":\"object\",\"name\":\"WheelZoomTool\",\"id\":\"p1061\",\"attributes\":{\"renderers\":\"auto\"}},{\"type\":\"object\",\"name\":\"WheelZoomTool\",\"id\":\"p1027\",\"attributes\":{\"renderers\":\"auto\"}}]}},{\"type\":\"object\",\"name\":\"ToolProxy\",\"id\":\"p1133\",\"attributes\":{\"tools\":[{\"type\":\"object\",\"name\":\"BoxZoomTool\",\"id\":\"p1062\",\"attributes\":{\"dimensions\":\"both\",\"overlay\":{\"type\":\"object\",\"name\":\"BoxAnnotation\",\"id\":\"p1063\",\"attributes\":{\"syncable\":false,\"line_color\":\"black\",\"line_alpha\":1.0,\"line_width\":2,\"line_dash\":[4,4],\"fill_color\":\"lightgrey\",\"fill_alpha\":0.5,\"level\":\"overlay\",\"visible\":false,\"left\":{\"type\":\"number\",\"value\":\"nan\"},\"right\":{\"type\":\"number\",\"value\":\"nan\"},\"top\":{\"type\":\"number\",\"value\":\"nan\"},\"bottom\":{\"type\":\"number\",\"value\":\"nan\"},\"left_units\":\"canvas\",\"right_units\":\"canvas\",\"top_units\":\"canvas\",\"bottom_units\":\"canvas\",\"handles\":{\"type\":\"object\",\"name\":\"BoxInteractionHandles\",\"id\":\"p1069\",\"attributes\":{\"all\":{\"type\":\"object\",\"name\":\"AreaVisuals\",\"id\":\"p1068\",\"attributes\":{\"fill_color\":\"white\",\"hover_fill_color\":\"lightgray\"}}}}}}}},{\"type\":\"object\",\"name\":\"BoxZoomTool\",\"id\":\"p1028\",\"attributes\":{\"dimensions\":\"both\",\"overlay\":{\"type\":\"object\",\"name\":\"BoxAnnotation\",\"id\":\"p1029\",\"attributes\":{\"syncable\":false,\"line_color\":\"black\",\"line_alpha\":1.0,\"line_width\":2,\"line_dash\":[4,4],\"fill_color\":\"lightgrey\",\"fill_alpha\":0.5,\"level\":\"overlay\",\"visible\":false,\"left\":{\"type\":\"number\",\"value\":\"nan\"},\"right\":{\"type\":\"number\",\"value\":\"nan\"},\"top\":{\"type\":\"number\",\"value\":\"nan\"},\"bottom\":{\"type\":\"number\",\"value\":\"nan\"},\"left_units\":\"canvas\",\"right_units\":\"canvas\",\"top_units\":\"canvas\",\"bottom_units\":\"canvas\",\"handles\":{\"type\":\"object\",\"name\":\"BoxInteractionHandles\",\"id\":\"p1035\",\"attributes\":{\"all\":{\"type\":\"object\",\"name\":\"AreaVisuals\",\"id\":\"p1034\",\"attributes\":{\"fill_color\":\"white\",\"hover_fill_color\":\"lightgray\"}}}}}}}}]}},{\"type\":\"object\",\"name\":\"SaveTool\",\"id\":\"p1134\"},{\"type\":\"object\",\"name\":\"ToolProxy\",\"id\":\"p1135\",\"attributes\":{\"tools\":[{\"type\":\"object\",\"name\":\"ResetTool\",\"id\":\"p1071\"},{\"type\":\"object\",\"name\":\"ResetTool\",\"id\":\"p1037\"}]}},{\"type\":\"object\",\"name\":\"ToolProxy\",\"id\":\"p1136\",\"attributes\":{\"tools\":[{\"type\":\"object\",\"name\":\"HelpTool\",\"id\":\"p1072\"},{\"type\":\"object\",\"name\":\"HelpTool\",\"id\":\"p1038\"}]}}]}},\"children\":[[{\"type\":\"object\",\"name\":\"Figure\",\"id\":\"p1039\",\"attributes\":{\"x_range\":{\"type\":\"object\",\"name\":\"Range1d\",\"id\":\"p1013\"},\"y_range\":{\"type\":\"object\",\"name\":\"DataRange1d\",\"id\":\"p1041\"},\"x_scale\":{\"type\":\"object\",\"name\":\"LinearScale\",\"id\":\"p1048\"},\"y_scale\":{\"type\":\"object\",\"name\":\"LinearScale\",\"id\":\"p1049\"},\"title\":{\"type\":\"object\",\"name\":\"Title\",\"id\":\"p1046\"},\"renderers\":[{\"type\":\"object\",\"name\":\"GlyphRenderer\",\"id\":\"p1079\",\"attributes\":{\"data_source\":{\"type\":\"object\",\"name\":\"ColumnDataSource\",\"id\":\"p1073\",\"attributes\":{\"selected\":{\"type\":\"object\",\"name\":\"Selection\",\"id\":\"p1074\",\"attributes\":{\"indices\":[],\"line_indices\":[]}},\"selection_policy\":{\"type\":\"object\",\"name\":\"UnionRenderers\",\"id\":\"p1075\"},\"data\":{\"type\":\"map\",\"entries\":[[\"x\",{\"type\":\"ndarray\",\"array\":{\"type\":\"bytes\",\"data\":\"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\"},\"shape\":[200],\"dtype\":\"float64\",\"order\":\"little\"}],[\"y\",{\"type\":\"ndarray\",\"array\":{\"type\":\"bytes\",\"data\":\"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\"},\"shape\":[200],\"dtype\":\"float64\",\"order\":\"little\"}]]}}},\"view\":{\"type\":\"object\",\"name\":\"CDSView\",\"id\":\"p1080\",\"attributes\":{\"filter\":{\"type\":\"object\",\"name\":\"AllIndices\",\"id\":\"p1081\"}}},\"glyph\":{\"type\":\"object\",\"name\":\"Line\",\"id\":\"p1076\",\"attributes\":{\"x\":{\"type\":\"field\",\"field\":\"x\"},\"y\":{\"type\":\"field\",\"field\":\"y\"},\"line_color\":\"#1f77b3\",\"line_width\":2}},\"nonselection_glyph\":{\"type\":\"object\",\"name\":\"Line\",\"id\":\"p1077\",\"attributes\":{\"x\":{\"type\":\"field\",\"field\":\"x\"},\"y\":{\"type\":\"field\",\"field\":\"y\"},\"line_color\":\"#1f77b3\",\"line_alpha\":0.1,\"line_width\":2}},\"muted_glyph\":{\"type\":\"object\",\"name\":\"Line\",\"id\":\"p1078\",\"attributes\":{\"x\":{\"type\":\"field\",\"field\":\"x\"},\"y\":{\"type\":\"field\",\"field\":\"y\"},\"line_color\":\"#1f77b3\",\"line_alpha\":0.2,\"line_width\":2}}}},{\"type\":\"object\",\"name\":\"GlyphRenderer\",\"id\":\"p1088\",\"attributes\":{\"data_source\":{\"type\":\"object\",\"name\":\"ColumnDataSource\",\"id\":\"p1082\",\"attributes\":{\"selected\":{\"type\":\"object\",\"name\":\"Selection\",\"id\":\"p1083\",\"attributes\":{\"indices\":[],\"line_indices\":[]}},\"selection_policy\":{\"type\":\"object\",\"name\":\"UnionRenderers\",\"id\":\"p1084\"},\"data\":{\"type\":\"map\",\"entries\":[[\"x\",{\"type\":\"ndarray\",\"array\":{\"type\":\"bytes\",\"data\":\"AAAAAAAAAABn0LLjOZV0P2fQsuM5lYQ/mjiM1dbfjj9n0LLjOZWUP4GEn1yIupk/mjiM1dbfnj9adjynkgKiP2fQsuM5laQ/dCopIOEnpz+BhJ9ciLqpP47eFZkvTaw/mjiM1dbfrj9USQEJP7mwP1p2PKeSArI/YaN3ReZLsz9n0LLjOZW0P2397YGN3rU/dCopIOEntz96V2S+NHG4P4GEn1yIurk/h7Ha+tsDuz+O3hWZL028P5QLUTeDlr0/mjiM1dbfvj/QsuM5lRTAP1RJAQk/ucA/198e2OhdwT9adjynkgLCP90MWnY8p8I/YaN3ReZLwz/kOZUUkPDDP2fQsuM5lcQ/6mbQsuM5xT9t/e2Bjd7FP/GTC1E3g8Y/dCopIOEnxz/3wEbviszHP3pXZL40ccg//u2Bjd4VyT+BhJ9ciLrJPwQbvSsyX8o/h7Ha+tsDyz8KSPjJhajLP47eFZkvTcw/EXUzaNnxzD+UC1E3g5bNPxeibgYtO84/mjiM1dbfzj8ez6mkgITPP9Cy4zmVFNA/En5yIepm0D9USQEJP7nQP5UUkPCTC9E/198e2Ohd0T8Zq62/PbDRP1p2PKeSAtI/nEHLjudU0j/dDFp2PKfSPx/Y6F2R+dI/YaN3ReZL0z+ibgYtO57TP+Q5lRSQ8NM/JQUk/ORC1D9n0LLjOZXUP6mbQcuO59Q/6mbQsuM51T8sMl+aOIzVP2397YGN3tU/r8h8aeIw1j/xkwtRN4PWPzJfmjiM1dY/dCopIOEn1z+19bcHNnrXP/fARu+KzNc/OYzV1t8e2D96V2S+NHHYP7wi86WJw9g//u2Bjd4V2T8/uRB1M2jZP4GEn1yIutk/wk8uRN0M2j8EG70rMl/aP0bmSxOHsdo/h7Ha+tsD2z/JfGniMFbbPwpI+MmFqNs/TBOHsdr62z+O3hWZL03cP8+ppICEn9w/EXUzaNnx3D9SQMJPLkTdP5QLUTeDlt0/1tbfHtjo3T8Xom4GLTveP1lt/e2Bjd4/mjiM1dbf3j/cAxu9KzLfPx7PqaSAhN8/X5o4jNXW3z/QsuM5lRTgP3EYq62/PeA/En5yIepm4D+z4zmVFJDgP1RJAQk/ueA/9K7IfGni4D+VFJDwkwvhPzZ6V2S+NOE/198e2Ohd4T94ReZLE4fhPxmrrb89sOE/uRB1M2jZ4T9adjynkgLiP/vbAxu9K+I/nEHLjudU4j89p5ICEn7iP90MWnY8p+I/fnIh6mbQ4j8f2OhdkfniP8A9sNG7IuM/YaN3ReZL4z8BCT+5EHXjP6JuBi07nuM/Q9TNoGXH4z/kOZUUkPDjP4WfXIi6GeQ/JQUk/ORC5D/GautvD2zkP2fQsuM5leQ/CDZ6V2S+5D+pm0HLjufkP0kBCT+5EOU/6mbQsuM55T+LzJcmDmPlPywyX5o4jOU/zZcmDmO15T9t/e2Bjd7lPw5jtfW3B+Y/r8h8aeIw5j9QLkTdDFrmP/GTC1E3g+Y/kfnSxGGs5j8yX5o4jNXmP9PEYay2/uY/dCopIOEn5z8VkPCTC1HnP7X1twc2euc/Vlt/e2Cj5z/3wEbvisznP5gmDmO19ec/OYzV1t8e6D/a8ZxKCkjoP3pXZL40ceg/G70rMl+a6D+8IvOlicPoP12Iuhm07Og//u2Bjd4V6T+eU0kBCT/pPz+5EHUzaOk/4B7Y6F2R6T+BhJ9ciLrpPyLqZtCy4+k/wk8uRN0M6j9jtfW3BzbqPwQbvSsyX+o/pYCEn1yI6j9G5ksTh7HqP+ZLE4ex2uo/h7Ha+tsD6z8oF6JuBi3rP8l8aeIwVus/auIwVlt/6z8KSPjJhajrP6utvz2w0es/TBOHsdr66z/teE4lBSTsP47eFZkvTew/LkTdDFp27D/PqaSAhJ/sP3APbPSuyOw/EXUzaNnx7D+y2vrbAxvtP1JAwk8uRO0/86WJw1ht7T+UC1E3g5btPzVxGKutv+0/1tbfHtjo7T92PKeSAhLuPxeibgYtO+4/uAc2eldk7j9Zbf3tgY3uP/rSxGGstu4/mjiM1dbf7j87nlNJAQnvP9wDG70rMu8/fWniMFZb7z8ez6mkgITvP780cRirre8/X5o4jNXW7z8AAAAAAADwPw==\"},\"shape\":[200],\"dtype\":\"float64\",\"order\":\"little\"}],[\"y\",{\"type\":\"ndarray\",\"array\":{\"type\":\"bytes\",\"data\":\"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\"},\"shape\":[200],\"dtype\":\"float64\",\"order\":\"little\"}]]}}},\"view\":{\"type\":\"object\",\"name\":\"CDSView\",\"id\":\"p1089\",\"attributes\":{\"filter\":{\"type\":\"object\",\"name\":\"AllIndices\",\"id\":\"p1090\"}}},\"glyph\":{\"type\":\"object\",\"name\":\"Line\",\"id\":\"p1085\",\"attributes\":{\"x\":{\"type\":\"field\",\"field\":\"x\"},\"y\":{\"type\":\"field\",\"field\":\"y\"},\"line_color\":\"#ff7e0e\",\"line_width\":2}},\"nonselection_glyph\":{\"type\":\"object\",\"name\":\"Line\",\"id\":\"p1086\",\"attributes\":{\"x\":{\"type\":\"field\",\"field\":\"x\"},\"y\":{\"type\":\"field\",\"field\":\"y\"},\"line_color\":\"#ff7e0e\",\"line_alpha\":0.1,\"line_width\":2}},\"muted_glyph\":{\"type\":\"object\",\"name\":\"Line\",\"id\":\"p1087\",\"attributes\":{\"x\":{\"type\":\"field\",\"field\":\"x\"},\"y\":{\"type\":\"field\",\"field\":\"y\"},\"line_color\":\"#ff7e0e\",\"line_alpha\":0.2,\"line_width\":2}}}},{\"type\":\"object\",\"name\":\"GlyphRenderer\",\"id\":\"p1097\",\"attributes\":{\"data_source\":{\"type\":\"object\",\"name\":\"ColumnDataSource\",\"id\":\"p1091\",\"attributes\":{\"selected\":{\"type\":\"object\",\"name\":\"Selection\",\"id\":\"p1092\",\"attributes\":{\"indices\":[],\"line_indices\":[]}},\"selection_policy\":{\"type\":\"object\",\"name\":\"UnionRenderers\",\"id\":\"p1093\"},\"data\":{\"type\":\"map\",\"entries\":[[\"x\",{\"type\":\"ndarray\",\"array\":{\"type\":\"bytes\",\"data\":\"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\"},\"shape\":[200],\"dtype\":\"float64\",\"order\":\"little\"}],[\"y\",{\"type\":\"ndarray\",\"array\":{\"type\":\"bytes\",\"data\":\"iRGpv75kGj/EJdJPzUcgP7iqHsfNCiQ/IHvWQu6eKD+bFfAjbC4uPxEcOeGqdTI/29aqzGqINj9ZXSIwVnI7P1MAKs43rkA/rjc412c7RD/hbwlA3HxIP3mb689lk00/smbZZJnSUT8xr1d6SG9VP/4/fLZiuVk/GcVX133OXj8GtrNOU2hiP7a6D8V482U/5VXziQwfaj8eoO3dlARvP7PDRxOPYHI/4IAcmM+6dT8t9zhCsqN5P+Gts1NBMH4/mEuUuhO8gT8+bJ+V98qEP8KkXYGiU4g/59GLAZ5mjD9GPbP2JIuQP6CuVQaAO5M/2uFp6ptPlj/r6Srn1NOZP7NmvQu51Z0/hijqWQwyoT8/vMv4isejP7z0RT8ZtKY/aNKl5C0Bqj9MELxW+ritP7bw8BY387A/sS1efJxKsz9phXQO5ei1P0FFB0Sn1Lg/MXAO9tUUvD+FDgGhvLC/P22Q9xP918E/2VW+/DwNxD/vAKK8NXzGP5U2sMkbKck/4xb/MToYzD9eH+hw603PP3N4DqBIZ9E/MsozsUVP0z9hIOG0FmHVP8H6Wr/Zntc/E6rIGZsK2j90Xn65TqbcP6aYUk/Jc98/vUYGflw64T8uedrcTtXiP/9rJsZgi+Q/+EOMRxhd5j922xt72EroP8JsUI/dVOo/8FtZ5Dh77D+Biq5Nzb3uPyrP08MljvA/+Y2meBfL8T/Of21NXRXzPxoptFx7bPQ/A2HsR9fP9T9bOVButz73PyEvem1CuPg/6tJg8n47+j+tXJrgU8f7P71e3NSIWv0/ijCWBsfz/j9ka6ZFzUgAQJiWhP45GQFAye7cQVXqAUBRA/QfP7sCQO7uxokNiwNAqpsk4s1YBEATKUi4hiMFQIK/Aqg56gVAjiXHWuWrBkCTazqkh2cHQKXeTrQfHAhAd+VkWLDICEAG0XtEQmwJQM8KJl3mBQpAAuS6+reUCkD0kiYe3xcLQG39v4+SjgtAf3G04Bn4C0CHXuNHz1MMQCS9blMhoQxAdKzOaJTfDEBRt90NxA4NQGhqFPZjLg1ANgAD0EA+DUA2AAPQQD4NQGhqFPZjLg1AUbfdDcQODUB0rM5olN8MQCO9blMhoQxAiF7jR89TDEB/cbTgGfgLQG39v4+SjgtA9JImHt8XC0AB5Lr6t5QKQM8KJl3mBQpABtF7REJsCUB35WRYsMgIQKXeTrQfHAhAkWs6pIdnB0CMJcda5asGQIK/Aqg56gVAEylIuIYjBUCqmyTizVgEQOzuxokNiwNATwP0Hz+7AkDJ7txBVeoBQJiWhP45GQFAZGumRc1IAECGMJYGx/P+P7de3NSIWv0/slya4FPH+z/q0mDyfjv6PyEvem1CuPg/WDlQbrc+9z/+YOxH18/1Px8ptFx7bPQ/zn9tTV0V8z/5jaZ4F8vxPyfP08MljvA/e4quTc297j/2W1nkOHvsP8JsUI/dVOo/dtsbe9hK6D/wQ4xHGF3mP/hrJsZgi+Q/NXna3E7V4j+9RgZ+XDrhP6aYUk/Jc98/bF5+uU6m3D8MqsgZmwraP8f6Wr/Zntc/YSDhtBZh1T8yyjOxRU/TP3N4DqBIZ9E/VR/ocOtNzz/ZFv8xOhjMP5U2sMkbKck/7wCivDV8xj/ZVb78PA3EP2eQ9xP918E/eA4Bobywvz8xcA721RS8P0FFB0Sn1Lg/aYV0DuXotT+pLV58nEqzP7Pw8BY387A/TBC8Vvq4rT9o0qXkLQGqP7z0RT8ZtKY/P7zL+IrHoz99KOpZDDKhP7NmvQu51Z0/6+kq59TTmT/a4Wnqm0+WP6CuVQaAO5M/Pj2z9iSLkD/n0YsBnmaMP8KkXYGiU4g/PmyflffKhD+YS5S6E7yBP8uts1NBMH4/Lfc4QrKjeT/ggByYz7p1P7PDRxOPYHI/HqDt3ZQEbz/XVfOJDB9qP8C6D8V482U/BrazTlNoYj8ZxVfXfc5eP/4/fLZiuVk/Jq9XekhvVT+yZtlkmdJRP3mb689lk00/4W8JQNx8SD+uNzjXZztEP0IAKs43rkA/gl0iMFZyOz/b1qrMaog2PxEcOeGqdTI/mxXwI2wuLj8Ie9ZC7p4oP7iqHsfNCiQ/xCXST81HID+JEam/vmQaPw==\"},\"shape\":[200],\"dtype\":\"float64\",\"order\":\"little\"}]]}}},\"view\":{\"type\":\"object\",\"name\":\"CDSView\",\"id\":\"p1098\",\"attributes\":{\"filter\":{\"type\":\"object\",\"name\":\"AllIndices\",\"id\":\"p1099\"}}},\"glyph\":{\"type\":\"object\",\"name\":\"Line\",\"id\":\"p1094\",\"attributes\":{\"x\":{\"type\":\"field\",\"field\":\"x\"},\"y\":{\"type\":\"field\",\"field\":\"y\"},\"line_color\":\"#2ba02b\",\"line_width\":2}},\"nonselection_glyph\":{\"type\":\"object\",\"name\":\"Line\",\"id\":\"p1095\",\"attributes\":{\"x\":{\"type\":\"field\",\"field\":\"x\"},\"y\":{\"type\":\"field\",\"field\":\"y\"},\"line_color\":\"#2ba02b\",\"line_alpha\":0.1,\"line_width\":2}},\"muted_glyph\":{\"type\":\"object\",\"name\":\"Line\",\"id\":\"p1096\",\"attributes\":{\"x\":{\"type\":\"field\",\"field\":\"x\"},\"y\":{\"type\":\"field\",\"field\":\"y\"},\"line_color\":\"#2ba02b\",\"line_alpha\":0.2,\"line_width\":2}}}}],\"toolbar\":{\"type\":\"object\",\"name\":\"Toolbar\",\"id\":\"p1047\",\"attributes\":{\"tools\":[{\"id\":\"p1060\"},{\"id\":\"p1061\"},{\"id\":\"p1062\"},{\"type\":\"object\",\"name\":\"SaveTool\",\"id\":\"p1070\"},{\"id\":\"p1071\"},{\"id\":\"p1072\"}]}},\"toolbar_location\":null,\"left\":[{\"type\":\"object\",\"name\":\"LinearAxis\",\"id\":\"p1055\",\"attributes\":{\"ticker\":{\"type\":\"object\",\"name\":\"BasicTicker\",\"id\":\"p1056\",\"attributes\":{\"mantissas\":[1,2,5]}},\"formatter\":{\"type\":\"object\",\"name\":\"BasicTickFormatter\",\"id\":\"p1057\"},\"axis_label\":\"f(y)\",\"major_label_policy\":{\"type\":\"object\",\"name\":\"AllLabels\",\"id\":\"p1058\"}}}],\"below\":[{\"type\":\"object\",\"name\":\"LinearAxis\",\"id\":\"p1050\",\"attributes\":{\"ticker\":{\"type\":\"object\",\"name\":\"BasicTicker\",\"id\":\"p1051\",\"attributes\":{\"mantissas\":[1,2,5]}},\"formatter\":{\"type\":\"object\",\"name\":\"BasicTickFormatter\",\"id\":\"p1052\"},\"axis_label\":\"y\",\"major_label_policy\":{\"type\":\"object\",\"name\":\"AllLabels\",\"id\":\"p1053\"}}}],\"center\":[{\"type\":\"object\",\"name\":\"Grid\",\"id\":\"p1054\",\"attributes\":{\"axis\":{\"id\":\"p1050\"}}},{\"type\":\"object\",\"name\":\"Grid\",\"id\":\"p1059\",\"attributes\":{\"dimension\":1,\"axis\":{\"id\":\"p1055\"}}}],\"frame_width\":300,\"frame_height\":200}},0,0],[{\"type\":\"object\",\"name\":\"Figure\",\"id\":\"p1003\",\"attributes\":{\"x_range\":{\"id\":\"p1013\"},\"y_range\":{\"type\":\"object\",\"name\":\"DataRange1d\",\"id\":\"p1005\"},\"x_scale\":{\"type\":\"object\",\"name\":\"LinearScale\",\"id\":\"p1014\"},\"y_scale\":{\"type\":\"object\",\"name\":\"LinearScale\",\"id\":\"p1015\"},\"title\":{\"type\":\"object\",\"name\":\"Title\",\"id\":\"p1006\",\"attributes\":{\"text\":\"Beta\"}},\"renderers\":[{\"type\":\"object\",\"name\":\"GlyphRenderer\",\"id\":\"p1106\",\"attributes\":{\"data_source\":{\"type\":\"object\",\"name\":\"ColumnDataSource\",\"id\":\"p1100\",\"attributes\":{\"selected\":{\"type\":\"object\",\"name\":\"Selection\",\"id\":\"p1101\",\"attributes\":{\"indices\":[],\"line_indices\":[]}},\"selection_policy\":{\"type\":\"object\",\"name\":\"UnionRenderers\",\"id\":\"p1102\"},\"data\":{\"type\":\"map\",\"entries\":[[\"x\",{\"type\":\"ndarray\",\"array\":{\"type\":\"bytes\",\"data\":\"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\"},\"shape\":[200],\"dtype\":\"float64\",\"order\":\"little\"}],[\"y\",{\"type\":\"ndarray\",\"array\":{\"type\":\"bytes\",\"data\":\"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\"},\"shape\":[200],\"dtype\":\"float64\",\"order\":\"little\"}]]}}},\"view\":{\"type\":\"object\",\"name\":\"CDSView\",\"id\":\"p1107\",\"attributes\":{\"filter\":{\"type\":\"object\",\"name\":\"AllIndices\",\"id\":\"p1108\"}}},\"glyph\":{\"type\":\"object\",\"name\":\"Line\",\"id\":\"p1103\",\"attributes\":{\"x\":{\"type\":\"field\",\"field\":\"x\"},\"y\":{\"type\":\"field\",\"field\":\"y\"},\"line_color\":\"#1f77b3\",\"line_width\":2}},\"nonselection_glyph\":{\"type\":\"object\",\"name\":\"Line\",\"id\":\"p1104\",\"attributes\":{\"x\":{\"type\":\"field\",\"field\":\"x\"},\"y\":{\"type\":\"field\",\"field\":\"y\"},\"line_color\":\"#1f77b3\",\"line_alpha\":0.1,\"line_width\":2}},\"muted_glyph\":{\"type\":\"object\",\"name\":\"Line\",\"id\":\"p1105\",\"attributes\":{\"x\":{\"type\":\"field\",\"field\":\"x\"},\"y\":{\"type\":\"field\",\"field\":\"y\"},\"line_color\":\"#1f77b3\",\"line_alpha\":0.2,\"line_width\":2}}}},{\"type\":\"object\",\"name\":\"GlyphRenderer\",\"id\":\"p1117\",\"attributes\":{\"data_source\":{\"type\":\"object\",\"name\":\"ColumnDataSource\",\"id\":\"p1111\",\"attributes\":{\"selected\":{\"type\":\"object\",\"name\":\"Selection\",\"id\":\"p1112\",\"attributes\":{\"indices\":[],\"line_indices\":[]}},\"selection_policy\":{\"type\":\"object\",\"name\":\"UnionRenderers\",\"id\":\"p1113\"},\"data\":{\"type\":\"map\",\"entries\":[[\"x\",{\"type\":\"ndarray\",\"array\":{\"type\":\"bytes\",\"data\":\"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\"},\"shape\":[200],\"dtype\":\"float64\",\"order\":\"little\"}],[\"y\",{\"type\":\"ndarray\",\"array\":{\"type\":\"bytes\",\"data\":\"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\"},\"shape\":[200],\"dtype\":\"float64\",\"order\":\"little\"}]]}}},\"view\":{\"type\":\"object\",\"name\":\"CDSView\",\"id\":\"p1118\",\"attributes\":{\"filter\":{\"type\":\"object\",\"name\":\"AllIndices\",\"id\":\"p1119\"}}},\"glyph\":{\"type\":\"object\",\"name\":\"Line\",\"id\":\"p1114\",\"attributes\":{\"x\":{\"type\":\"field\",\"field\":\"x\"},\"y\":{\"type\":\"field\",\"field\":\"y\"},\"line_color\":\"#ff7e0e\",\"line_width\":2}},\"nonselection_glyph\":{\"type\":\"object\",\"name\":\"Line\",\"id\":\"p1115\",\"attributes\":{\"x\":{\"type\":\"field\",\"field\":\"x\"},\"y\":{\"type\":\"field\",\"field\":\"y\"},\"line_color\":\"#ff7e0e\",\"line_alpha\":0.1,\"line_width\":2}},\"muted_glyph\":{\"type\":\"object\",\"name\":\"Line\",\"id\":\"p1116\",\"attributes\":{\"x\":{\"type\":\"field\",\"field\":\"x\"},\"y\":{\"type\":\"field\",\"field\":\"y\"},\"line_color\":\"#ff7e0e\",\"line_alpha\":0.2,\"line_width\":2}}}},{\"type\":\"object\",\"name\":\"GlyphRenderer\",\"id\":\"p1127\",\"attributes\":{\"data_source\":{\"type\":\"object\",\"name\":\"ColumnDataSource\",\"id\":\"p1121\",\"attributes\":{\"selected\":{\"type\":\"object\",\"name\":\"Selection\",\"id\":\"p1122\",\"attributes\":{\"indices\":[],\"line_indices\":[]}},\"selection_policy\":{\"type\":\"object\",\"name\":\"UnionRenderers\",\"id\":\"p1123\"},\"data\":{\"type\":\"map\",\"entries\":[[\"x\",{\"type\":\"ndarray\",\"array\":{\"type\":\"bytes\",\"data\":\"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\"},\"shape\":[200],\"dtype\":\"float64\",\"order\":\"little\"}],[\"y\",{\"type\":\"ndarray\",\"array\":{\"type\":\"bytes\",\"data\":\"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\"},\"shape\":[200],\"dtype\":\"float64\",\"order\":\"little\"}]]}}},\"view\":{\"type\":\"object\",\"name\":\"CDSView\",\"id\":\"p1128\",\"attributes\":{\"filter\":{\"type\":\"object\",\"name\":\"AllIndices\",\"id\":\"p1129\"}}},\"glyph\":{\"type\":\"object\",\"name\":\"Line\",\"id\":\"p1124\",\"attributes\":{\"x\":{\"type\":\"field\",\"field\":\"x\"},\"y\":{\"type\":\"field\",\"field\":\"y\"},\"line_color\":\"#2ba02b\",\"line_width\":2}},\"nonselection_glyph\":{\"type\":\"object\",\"name\":\"Line\",\"id\":\"p1125\",\"attributes\":{\"x\":{\"type\":\"field\",\"field\":\"x\"},\"y\":{\"type\":\"field\",\"field\":\"y\"},\"line_color\":\"#2ba02b\",\"line_alpha\":0.1,\"line_width\":2}},\"muted_glyph\":{\"type\":\"object\",\"name\":\"Line\",\"id\":\"p1126\",\"attributes\":{\"x\":{\"type\":\"field\",\"field\":\"x\"},\"y\":{\"type\":\"field\",\"field\":\"y\"},\"line_color\":\"#2ba02b\",\"line_alpha\":0.2,\"line_width\":2}}}}],\"toolbar\":{\"type\":\"object\",\"name\":\"Toolbar\",\"id\":\"p1012\",\"attributes\":{\"tools\":[{\"id\":\"p1026\"},{\"id\":\"p1027\"},{\"id\":\"p1028\"},{\"type\":\"object\",\"name\":\"SaveTool\",\"id\":\"p1036\"},{\"id\":\"p1037\"},{\"id\":\"p1038\"}]}},\"toolbar_location\":null,\"left\":[{\"type\":\"object\",\"name\":\"LinearAxis\",\"id\":\"p1021\",\"attributes\":{\"ticker\":{\"type\":\"object\",\"name\":\"BasicTicker\",\"id\":\"p1022\",\"attributes\":{\"mantissas\":[1,2,5]}},\"formatter\":{\"type\":\"object\",\"name\":\"BasicTickFormatter\",\"id\":\"p1023\"},\"axis_label\":\"F(y)\",\"major_label_policy\":{\"type\":\"object\",\"name\":\"AllLabels\",\"id\":\"p1024\"}}}],\"below\":[{\"type\":\"object\",\"name\":\"LinearAxis\",\"id\":\"p1016\",\"attributes\":{\"ticker\":{\"type\":\"object\",\"name\":\"BasicTicker\",\"id\":\"p1017\",\"attributes\":{\"mantissas\":[1,2,5]}},\"formatter\":{\"type\":\"object\",\"name\":\"BasicTickFormatter\",\"id\":\"p1018\"},\"axis_label\":\"y\",\"major_label_policy\":{\"type\":\"object\",\"name\":\"AllLabels\",\"id\":\"p1019\"}}}],\"center\":[{\"type\":\"object\",\"name\":\"Grid\",\"id\":\"p1020\",\"attributes\":{\"axis\":{\"id\":\"p1016\"}}},{\"type\":\"object\",\"name\":\"Grid\",\"id\":\"p1025\",\"attributes\":{\"dimension\":1,\"axis\":{\"id\":\"p1021\"}}},{\"type\":\"object\",\"name\":\"Legend\",\"id\":\"p1109\",\"attributes\":{\"location\":\"bottom_right\",\"items\":[{\"type\":\"object\",\"name\":\"LegendItem\",\"id\":\"p1110\",\"attributes\":{\"label\":{\"type\":\"value\",\"value\":\"exact\"},\"renderers\":[{\"id\":\"p1106\"}]}},{\"type\":\"object\",\"name\":\"LegendItem\",\"id\":\"p1120\",\"attributes\":{\"label\":{\"type\":\"value\",\"value\":\"Taylor\"},\"renderers\":[{\"id\":\"p1117\"}]}},{\"type\":\"object\",\"name\":\"LegendItem\",\"id\":\"p1130\",\"attributes\":{\"label\":{\"type\":\"value\",\"value\":\"moments\"},\"renderers\":[{\"id\":\"p1127\"}]}}]}}],\"frame_width\":300,\"frame_height\":200}},0,1]]}}]}};\n",
       "  const render_items = [{\"docid\":\"bb3c0eb4-870d-4a41-a2de-7457cb0fab58\",\"roots\":{\"p1138\":\"d0520ba7-04b8-4c57-85e1-2f7d2702eaad\"},\"root_ids\":[\"p1138\"]}];\n",
       "  void root.Bokeh.embed.embed_items_notebook(docs_json, render_items);\n",
       "  }\n",
       "  if (root.Bokeh !== undefined) {\n",
       "    embed_document(root);\n",
       "  } else {\n",
       "    let attempts = 0;\n",
       "    const timer = setInterval(function(root) {\n",
       "      if (root.Bokeh !== undefined) {\n",
       "        clearInterval(timer);\n",
       "        embed_document(root);\n",
       "      } else {\n",
       "        attempts++;\n",
       "        if (attempts > 100) {\n",
       "          clearInterval(timer);\n",
       "          console.log(\"Bokeh: ERROR: Unable to run BokehJS code because BokehJS library is missing\");\n",
       "        }\n",
       "      }\n",
       "    }, 10, root)\n",
       "  }\n",
       "})(window);"
      ],
      "application/vnd.bokehjs_exec.v0+json": ""
     },
     "metadata": {
      "application/vnd.bokehjs_exec.v0+json": {
       "id": "p1138"
      }
     },
     "output_type": "display_data"
    }
   ],
   "source": [
    "alpha = 10\n",
    "beta = 10\n",
    "\n",
    "mu_taylor = (alpha - 1) / (alpha + beta - 2)\n",
    "sigma_taylor = 1 / np.sqrt(\n",
    "    (alpha - 1) / mu_taylor ** 2 + (beta - 1) / (1 - mu_taylor) ** 2\n",
    ")\n",
    "\n",
    "mu_moment = alpha / (alpha + beta)\n",
    "sigma_moment = np.sqrt(alpha * beta / (alpha + beta) ** 2 / (1 + alpha + beta))\n",
    "\n",
    "y = np.linspace(0, 1, 200)\n",
    "f = st.beta.pdf(y, alpha, beta)\n",
    "taylor_f = st.norm.pdf(y, mu_taylor, sigma_taylor)\n",
    "moment_f = st.norm.pdf(y, mu_moment, sigma_moment)\n",
    "F = st.beta.cdf(y, alpha, beta)\n",
    "taylor_F = st.norm.cdf(y, mu_taylor, sigma_taylor)\n",
    "moment_F = st.norm.cdf(y, mu_moment, sigma_moment)\n",
    "\n",
    "def plot_curves(y, f, taylor_f, moment_f, F, taylor_F, moment_F, title):\n",
    "    p_cdf = bokeh.plotting.figure(\n",
    "        frame_height=200,\n",
    "        frame_width=300,\n",
    "        toolbar_location=\"above\",\n",
    "        x_axis_label=\"y\",\n",
    "        y_axis_label=\"F(y)\",\n",
    "        title=title,\n",
    "        x_range=[y.min(), y.max()],\n",
    "    )\n",
    "\n",
    "    p_pdf = bokeh.plotting.figure(\n",
    "        frame_height=200,\n",
    "        frame_width=300,\n",
    "        toolbar_location=\"above\",\n",
    "        x_axis_label=\"y\",\n",
    "        y_axis_label=\"f(y)\",\n",
    "    )\n",
    "    \n",
    "    p_pdf.x_range = p_cdf.x_range\n",
    "\n",
    "    p_pdf.line(y, f, line_width=2, color=\"#1f77b3\")\n",
    "    p_pdf.line(y, taylor_f, line_width=2, color=\"#ff7e0e\")\n",
    "    p_pdf.line(y, moment_f, line_width=2, color=\"#2ba02b\")\n",
    "    \n",
    "    p_cdf.line(y, F, line_width=2, color=\"#1f77b3\", legend_label='exact')\n",
    "    p_cdf.line(y, taylor_F, line_width=2, color=\"#ff7e0e\", legend_label='Taylor')\n",
    "    p_cdf.line(y, moment_F, line_width=2, color=\"#2ba02b\", legend_label='moments')\n",
    "    p_cdf.legend.location = \"bottom_right\"\n",
    "\n",
    "    return bokeh.layouts.gridplot([p_pdf, p_cdf], ncols=2)\n",
    "\n",
    "bokeh.io.show(plot_curves(y, f, taylor_f, moment_f, F, taylor_F, moment_F, \"Beta\"))"
   ]
  },
  {
   "cell_type": "markdown",
   "metadata": {},
   "source": [
    "The Normal approximation, in both the Taylor series case and that of equating moments, is close to the Beta distribution. In general, Normal approximations work well when a peak in a distribution is symmetric (and in the case of $\\alpha$ and $\\beta$ both large, the Beta distribution is approximately normal anyway).\n",
    "\n",
    "We can do the same procedure for the Gamma distribution to get the Taylor series approximation. The first and second derivatives of the log PDF are\n",
    "\n",
    "\\begin{align}\n",
    "&\\frac{\\mathrm{d}\\,\\ln f(y;\\alpha, \\beta)}{\\mathrm{d}y} = \\frac{\\mathrm{d}}{\\mathrm{d}y}\\,\\left[(\\alpha-1)\\ln y - \\beta y\\right] = \\frac{\\alpha-1}{y} - \\beta, \\\\[1em]\n",
    "&\\frac{\\mathrm{d}^2\\,\\ln f(y;\\alpha, \\beta)}{\\mathrm{d}y^2} = -\\frac{\\alpha - 1}{y^2}.\n",
    "\\end{align}\n",
    "\n",
    "Setting the first derivative equal to zero gives $y^* = (\\alpha-1)/\\beta$. The variance of the approximate Normal is then $\\sigma^2 = \\beta^2 / (\\alpha-1)$. We can again make plots."
   ]
  },
  {
   "cell_type": "code",
   "execution_count": 3,
   "metadata": {},
   "outputs": [
    {
     "data": {
      "text/html": [
       "\n",
       "  <div id=\"d995677f-a7e4-4b75-89ca-d9adf810f4f2\" data-root-id=\"p1287\" style=\"display: contents;\"></div>\n"
      ]
     },
     "metadata": {},
     "output_type": "display_data"
    },
    {
     "data": {
      "application/javascript": [
       "(function(root) {\n",
       "  function embed_document(root) {\n",
       "  const docs_json = {\"70c358b1-b34b-4cae-9a11-36f7d8cc3dd7\":{\"version\":\"3.7.3\",\"title\":\"Bokeh Application\",\"roots\":[{\"type\":\"object\",\"name\":\"GridPlot\",\"id\":\"p1287\",\"attributes\":{\"rows\":null,\"cols\":null,\"toolbar\":{\"type\":\"object\",\"name\":\"Toolbar\",\"id\":\"p1286\",\"attributes\":{\"tools\":[{\"type\":\"object\",\"name\":\"ToolProxy\",\"id\":\"p1280\",\"attributes\":{\"tools\":[{\"type\":\"object\",\"name\":\"PanTool\",\"id\":\"p1209\"},{\"type\":\"object\",\"name\":\"PanTool\",\"id\":\"p1175\"}]}},{\"type\":\"object\",\"name\":\"ToolProxy\",\"id\":\"p1281\",\"attributes\":{\"tools\":[{\"type\":\"object\",\"name\":\"WheelZoomTool\",\"id\":\"p1210\",\"attributes\":{\"renderers\":\"auto\"}},{\"type\":\"object\",\"name\":\"WheelZoomTool\",\"id\":\"p1176\",\"attributes\":{\"renderers\":\"auto\"}}]}},{\"type\":\"object\",\"name\":\"ToolProxy\",\"id\":\"p1282\",\"attributes\":{\"tools\":[{\"type\":\"object\",\"name\":\"BoxZoomTool\",\"id\":\"p1211\",\"attributes\":{\"dimensions\":\"both\",\"overlay\":{\"type\":\"object\",\"name\":\"BoxAnnotation\",\"id\":\"p1212\",\"attributes\":{\"syncable\":false,\"line_color\":\"black\",\"line_alpha\":1.0,\"line_width\":2,\"line_dash\":[4,4],\"fill_color\":\"lightgrey\",\"fill_alpha\":0.5,\"level\":\"overlay\",\"visible\":false,\"left\":{\"type\":\"number\",\"value\":\"nan\"},\"right\":{\"type\":\"number\",\"value\":\"nan\"},\"top\":{\"type\":\"number\",\"value\":\"nan\"},\"bottom\":{\"type\":\"number\",\"value\":\"nan\"},\"left_units\":\"canvas\",\"right_units\":\"canvas\",\"top_units\":\"canvas\",\"bottom_units\":\"canvas\",\"handles\":{\"type\":\"object\",\"name\":\"BoxInteractionHandles\",\"id\":\"p1218\",\"attributes\":{\"all\":{\"type\":\"object\",\"name\":\"AreaVisuals\",\"id\":\"p1217\",\"attributes\":{\"fill_color\":\"white\",\"hover_fill_color\":\"lightgray\"}}}}}}}},{\"type\":\"object\",\"name\":\"BoxZoomTool\",\"id\":\"p1177\",\"attributes\":{\"dimensions\":\"both\",\"overlay\":{\"type\":\"object\",\"name\":\"BoxAnnotation\",\"id\":\"p1178\",\"attributes\":{\"syncable\":false,\"line_color\":\"black\",\"line_alpha\":1.0,\"line_width\":2,\"line_dash\":[4,4],\"fill_color\":\"lightgrey\",\"fill_alpha\":0.5,\"level\":\"overlay\",\"visible\":false,\"left\":{\"type\":\"number\",\"value\":\"nan\"},\"right\":{\"type\":\"number\",\"value\":\"nan\"},\"top\":{\"type\":\"number\",\"value\":\"nan\"},\"bottom\":{\"type\":\"number\",\"value\":\"nan\"},\"left_units\":\"canvas\",\"right_units\":\"canvas\",\"top_units\":\"canvas\",\"bottom_units\":\"canvas\",\"handles\":{\"type\":\"object\",\"name\":\"BoxInteractionHandles\",\"id\":\"p1184\",\"attributes\":{\"all\":{\"type\":\"object\",\"name\":\"AreaVisuals\",\"id\":\"p1183\",\"attributes\":{\"fill_color\":\"white\",\"hover_fill_color\":\"lightgray\"}}}}}}}}]}},{\"type\":\"object\",\"name\":\"SaveTool\",\"id\":\"p1283\"},{\"type\":\"object\",\"name\":\"ToolProxy\",\"id\":\"p1284\",\"attributes\":{\"tools\":[{\"type\":\"object\",\"name\":\"ResetTool\",\"id\":\"p1220\"},{\"type\":\"object\",\"name\":\"ResetTool\",\"id\":\"p1186\"}]}},{\"type\":\"object\",\"name\":\"ToolProxy\",\"id\":\"p1285\",\"attributes\":{\"tools\":[{\"type\":\"object\",\"name\":\"HelpTool\",\"id\":\"p1221\"},{\"type\":\"object\",\"name\":\"HelpTool\",\"id\":\"p1187\"}]}}]}},\"children\":[[{\"type\":\"object\",\"name\":\"Figure\",\"id\":\"p1188\",\"attributes\":{\"x_range\":{\"type\":\"object\",\"name\":\"Range1d\",\"id\":\"p1162\",\"attributes\":{\"end\":10.0}},\"y_range\":{\"type\":\"object\",\"name\":\"DataRange1d\",\"id\":\"p1190\"},\"x_scale\":{\"type\":\"object\",\"name\":\"LinearScale\",\"id\":\"p1197\"},\"y_scale\":{\"type\":\"object\",\"name\":\"LinearScale\",\"id\":\"p1198\"},\"title\":{\"type\":\"object\",\"name\":\"Title\",\"id\":\"p1195\"},\"renderers\":[{\"type\":\"object\",\"name\":\"GlyphRenderer\",\"id\":\"p1228\",\"attributes\":{\"data_source\":{\"type\":\"object\",\"name\":\"ColumnDataSource\",\"id\":\"p1222\",\"attributes\":{\"selected\":{\"type\":\"object\",\"name\":\"Selection\",\"id\":\"p1223\",\"attributes\":{\"indices\":[],\"line_indices\":[]}},\"selection_policy\":{\"type\":\"object\",\"name\":\"UnionRenderers\",\"id\":\"p1224\"},\"data\":{\"type\":\"map\",\"entries\":[[\"x\",{\"type\":\"ndarray\",\"array\":{\"type\":\"bytes\",\"data\":\"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\"},\"shape\":[200],\"dtype\":\"float64\",\"order\":\"little\"}],[\"y\",{\"type\":\"ndarray\",\"array\":{\"type\":\"bytes\",\"data\":\"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\"},\"shape\":[200],\"dtype\":\"float64\",\"order\":\"little\"}]]}}},\"view\":{\"type\":\"object\",\"name\":\"CDSView\",\"id\":\"p1229\",\"attributes\":{\"filter\":{\"type\":\"object\",\"name\":\"AllIndices\",\"id\":\"p1230\"}}},\"glyph\":{\"type\":\"object\",\"name\":\"Line\",\"id\":\"p1225\",\"attributes\":{\"x\":{\"type\":\"field\",\"field\":\"x\"},\"y\":{\"type\":\"field\",\"field\":\"y\"},\"line_color\":\"#1f77b3\",\"line_width\":2}},\"nonselection_glyph\":{\"type\":\"object\",\"name\":\"Line\",\"id\":\"p1226\",\"attributes\":{\"x\":{\"type\":\"field\",\"field\":\"x\"},\"y\":{\"type\":\"field\",\"field\":\"y\"},\"line_color\":\"#1f77b3\",\"line_alpha\":0.1,\"line_width\":2}},\"muted_glyph\":{\"type\":\"object\",\"name\":\"Line\",\"id\":\"p1227\",\"attributes\":{\"x\":{\"type\":\"field\",\"field\":\"x\"},\"y\":{\"type\":\"field\",\"field\":\"y\"},\"line_color\":\"#1f77b3\",\"line_alpha\":0.2,\"line_width\":2}}}},{\"type\":\"object\",\"name\":\"GlyphRenderer\",\"id\":\"p1237\",\"attributes\":{\"data_source\":{\"type\":\"object\",\"name\":\"ColumnDataSource\",\"id\":\"p1231\",\"attributes\":{\"selected\":{\"type\":\"object\",\"name\":\"Selection\",\"id\":\"p1232\",\"attributes\":{\"indices\":[],\"line_indices\":[]}},\"selection_policy\":{\"type\":\"object\",\"name\":\"UnionRenderers\",\"id\":\"p1233\"},\"data\":{\"type\":\"map\",\"entries\":[[\"x\",{\"type\":\"ndarray\",\"array\":{\"type\":\"bytes\",\"data\":\"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\"},\"shape\":[200],\"dtype\":\"float64\",\"order\":\"little\"}],[\"y\",{\"type\":\"ndarray\",\"array\":{\"type\":\"bytes\",\"data\":\"1jroNrSkqz+c0ONsBoeuP69Rrx9O0LA/Pmdix255sj8/GbSNcT+0Pwb+ad+1IrY/YDBJ5GgjuD9CvHBWgEG6Px3JWpu1fLw/2bVBOIHUvj8JHCFeC6TAP2a4V50w68E/mQ7PNwA/wz+hxdNTo57EP7L1IsEbCcY/FtX30UN9xz9aKCC1zvnIP7NiiFhJfco/iWC02RsGzD8IJV+Hi5LNP21QDHW9IM8/JDFez1xX0D8dKB9MNx3RP1YHauDa4NE/MgiO+Cuh0j9R/T9LCV3TP1TXbJZOE9Q/uA1SgtfC1D9Rm/qggmrVPz6TXH80CdY/ntKgvNqd1j+oz6EbbyfXP9SgbIL6pNc/oFiL25cV2D99hxvNdnjYP6hYLzrezNg/0uixgy4S2T/7JP1+40fZPw0efBmWbdk/wEASov2C2T9M6oay8IfZP87j3LRlfNk/UwE9AnNg2T/YaeiaTjTZP/t9d3hN+Ng/JWlzfeKs2D/y1A8HnVLYP7wmZicn6tc/BBILkEN01z8GDyI2y/HWP2KPKbqqY9Y/3iGZnt/K1T9pIwxZdSjVP4y/FUqCfdQ//B79pyTL0z9KlINofxLTP4zFfDW3VNI/XhVud++S0T/rBqSAR87QP5JEOOLXB9A/R+DQ5l+Bzj+biskkp/PMP0ks3EhyaMs/MGh6s4/hyT8PnpVwrGDIP5GpXN5R58Y/4hHo5eN2xT+zxArEnxDEPx7NIV6btcI/vPSaHMVmwT9wXAlD5CTAP1dhDHgz4b0/LLKdm8KUuz9V4CZXJmW5P7vfb63LUrc/peDMheBdtT97/GpfWIazP8O4m1Xxy7E/+VDBWzkusD9IS2oxJ1mtP/emKpZ7jKo/shSLQ6v0pz9dTRHsu4+lP/C7tq2HW6M/Pj8or8ZVoT8R4sZYMPiePxKxjMAVmJs/R9mLekmGmD/7Rs7X072VP7WQZhPGOZM/k81ITkX1kD+o4ZsZKNeNP2mSDX80MIo/rYAhzNfshj96Bpi9nASEP1JTSfN4b4E/FiR9mqVLfj9eZEZqCkF6P6sZxBXDsXY/frP011+Rcz987VoZXNRwP39cBGMz4Gw/DdZqPbS1aD/IUWYqbBdlP9pizIAn9WE/SlqyJHCAXj/CnQKxvNZZPw1hlo5j1VU/jU4CdxFnUj+RF56lgfFOP4MFSIYU80k/1Gfayuy0RT+5Mn2GohxCP1nE/h3/JT4/+Ux17F0HOT9SsM7c4rk0P2MnYqOtHjE/JAfUmvM1LD/IWZWGTS8nP1KUUjGUASM/+qSdcC8VHz9sKcL1MVoZP9OVfi9PoBQ/yP1NBiK9ED9uukIsfhkLP/ZAzlOg4QU/oAWDeZWfAT8dB31s/FD8Po1W+zz3sPY+mO7OdUQj8j7LD+CWQ+zsPpFb/lqeAOc+uu8Mw2k/4j63UNlz7eDcPnr1c8k6y9Y+53RQ6x/y0T4sfqOkvS/MPluqccVkFMY+8QDlVZdAwT7ddOLSi+S6Pv2mJi9B6LQ+lkf2vYI2sD4m6FKA9BSpPgy+HPQrWqM+MabUk6HJnT6UJQ72A96WPlfpVomngpE+GD0LZci/ij463SLYNGGEPvgg6nq/+X4+RI5rChp7dz4b2pjHMMFxPpkc+AMzyGo+EAcqjhQmZD4Avz9phD1ePsmuUzXJolY+xADQGafmUD7otCLrqCxJPjgDXEejs0I+7o6MRWK3Oz5j+qM1f3w0PhoINd1NNS4+tKQkJTc3Jj6QkRd/70sgPsyFGlFT2Rc+QgEmiBVoET4eIgMXTlgJPvjGuqLAZwI+ArNe3gKq+j3nkqExBUTzPR4bCIEfxes9lcoHp7P24z20DPVZkaHcPWd/wj6ietQ9KG8ZDOc4zT0L7Lxl7MvEPTVj/46ghr09ZknZkCPotD17OMAVaIitPRN9aSxuzqQ9M/x15C8+nT24LiR/kn+UPRoCUAAzqow90owDvuz9gz2Ge/yt2NB7PXwHbAJRTXM99fu6uny4aj0saws423JiPYTmrWcgaVk99NOHTLB0UT2gflhTCexHPVQe6NW0WUA9YRF1ylRLNj0Y6Crme1IuPVYR2muGkSQ9txIZpoLVGz3BU6j9GMkSPT4vQykSSwk9qTRWvRf8AD01SAk638D2PA==\"},\"shape\":[200],\"dtype\":\"float64\",\"order\":\"little\"}]]}}},\"view\":{\"type\":\"object\",\"name\":\"CDSView\",\"id\":\"p1238\",\"attributes\":{\"filter\":{\"type\":\"object\",\"name\":\"AllIndices\",\"id\":\"p1239\"}}},\"glyph\":{\"type\":\"object\",\"name\":\"Line\",\"id\":\"p1234\",\"attributes\":{\"x\":{\"type\":\"field\",\"field\":\"x\"},\"y\":{\"type\":\"field\",\"field\":\"y\"},\"line_color\":\"#ff7e0e\",\"line_width\":2}},\"nonselection_glyph\":{\"type\":\"object\",\"name\":\"Line\",\"id\":\"p1235\",\"attributes\":{\"x\":{\"type\":\"field\",\"field\":\"x\"},\"y\":{\"type\":\"field\",\"field\":\"y\"},\"line_color\":\"#ff7e0e\",\"line_alpha\":0.1,\"line_width\":2}},\"muted_glyph\":{\"type\":\"object\",\"name\":\"Line\",\"id\":\"p1236\",\"attributes\":{\"x\":{\"type\":\"field\",\"field\":\"x\"},\"y\":{\"type\":\"field\",\"field\":\"y\"},\"line_color\":\"#ff7e0e\",\"line_alpha\":0.2,\"line_width\":2}}}},{\"type\":\"object\",\"name\":\"GlyphRenderer\",\"id\":\"p1246\",\"attributes\":{\"data_source\":{\"type\":\"object\",\"name\":\"ColumnDataSource\",\"id\":\"p1240\",\"attributes\":{\"selected\":{\"type\":\"object\",\"name\":\"Selection\",\"id\":\"p1241\",\"attributes\":{\"indices\":[],\"line_indices\":[]}},\"selection_policy\":{\"type\":\"object\",\"name\":\"UnionRenderers\",\"id\":\"p1242\"},\"data\":{\"type\":\"map\",\"entries\":[[\"x\",{\"type\":\"ndarray\",\"array\":{\"type\":\"bytes\",\"data\":\"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\"},\"shape\":[200],\"dtype\":\"float64\",\"order\":\"little\"}],[\"y\",{\"type\":\"ndarray\",\"array\":{\"type\":\"bytes\",\"data\":\"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\"},\"shape\":[200],\"dtype\":\"float64\",\"order\":\"little\"}]]}}},\"view\":{\"type\":\"object\",\"name\":\"CDSView\",\"id\":\"p1247\",\"attributes\":{\"filter\":{\"type\":\"object\",\"name\":\"AllIndices\",\"id\":\"p1248\"}}},\"glyph\":{\"type\":\"object\",\"name\":\"Line\",\"id\":\"p1243\",\"attributes\":{\"x\":{\"type\":\"field\",\"field\":\"x\"},\"y\":{\"type\":\"field\",\"field\":\"y\"},\"line_color\":\"#2ba02b\",\"line_width\":2}},\"nonselection_glyph\":{\"type\":\"object\",\"name\":\"Line\",\"id\":\"p1244\",\"attributes\":{\"x\":{\"type\":\"field\",\"field\":\"x\"},\"y\":{\"type\":\"field\",\"field\":\"y\"},\"line_color\":\"#2ba02b\",\"line_alpha\":0.1,\"line_width\":2}},\"muted_glyph\":{\"type\":\"object\",\"name\":\"Line\",\"id\":\"p1245\",\"attributes\":{\"x\":{\"type\":\"field\",\"field\":\"x\"},\"y\":{\"type\":\"field\",\"field\":\"y\"},\"line_color\":\"#2ba02b\",\"line_alpha\":0.2,\"line_width\":2}}}}],\"toolbar\":{\"type\":\"object\",\"name\":\"Toolbar\",\"id\":\"p1196\",\"attributes\":{\"tools\":[{\"id\":\"p1209\"},{\"id\":\"p1210\"},{\"id\":\"p1211\"},{\"type\":\"object\",\"name\":\"SaveTool\",\"id\":\"p1219\"},{\"id\":\"p1220\"},{\"id\":\"p1221\"}]}},\"toolbar_location\":null,\"left\":[{\"type\":\"object\",\"name\":\"LinearAxis\",\"id\":\"p1204\",\"attributes\":{\"ticker\":{\"type\":\"object\",\"name\":\"BasicTicker\",\"id\":\"p1205\",\"attributes\":{\"mantissas\":[1,2,5]}},\"formatter\":{\"type\":\"object\",\"name\":\"BasicTickFormatter\",\"id\":\"p1206\"},\"axis_label\":\"f(y)\",\"major_label_policy\":{\"type\":\"object\",\"name\":\"AllLabels\",\"id\":\"p1207\"}}}],\"below\":[{\"type\":\"object\",\"name\":\"LinearAxis\",\"id\":\"p1199\",\"attributes\":{\"ticker\":{\"type\":\"object\",\"name\":\"BasicTicker\",\"id\":\"p1200\",\"attributes\":{\"mantissas\":[1,2,5]}},\"formatter\":{\"type\":\"object\",\"name\":\"BasicTickFormatter\",\"id\":\"p1201\"},\"axis_label\":\"y\",\"major_label_policy\":{\"type\":\"object\",\"name\":\"AllLabels\",\"id\":\"p1202\"}}}],\"center\":[{\"type\":\"object\",\"name\":\"Grid\",\"id\":\"p1203\",\"attributes\":{\"axis\":{\"id\":\"p1199\"}}},{\"type\":\"object\",\"name\":\"Grid\",\"id\":\"p1208\",\"attributes\":{\"dimension\":1,\"axis\":{\"id\":\"p1204\"}}}],\"frame_width\":300,\"frame_height\":200}},0,0],[{\"type\":\"object\",\"name\":\"Figure\",\"id\":\"p1152\",\"attributes\":{\"x_range\":{\"id\":\"p1162\"},\"y_range\":{\"type\":\"object\",\"name\":\"DataRange1d\",\"id\":\"p1154\"},\"x_scale\":{\"type\":\"object\",\"name\":\"LinearScale\",\"id\":\"p1163\"},\"y_scale\":{\"type\":\"object\",\"name\":\"LinearScale\",\"id\":\"p1164\"},\"title\":{\"type\":\"object\",\"name\":\"Title\",\"id\":\"p1155\",\"attributes\":{\"text\":\"Gamma\"}},\"renderers\":[{\"type\":\"object\",\"name\":\"GlyphRenderer\",\"id\":\"p1255\",\"attributes\":{\"data_source\":{\"type\":\"object\",\"name\":\"ColumnDataSource\",\"id\":\"p1249\",\"attributes\":{\"selected\":{\"type\":\"object\",\"name\":\"Selection\",\"id\":\"p1250\",\"attributes\":{\"indices\":[],\"line_indices\":[]}},\"selection_policy\":{\"type\":\"object\",\"name\":\"UnionRenderers\",\"id\":\"p1251\"},\"data\":{\"type\":\"map\",\"entries\":[[\"x\",{\"type\":\"ndarray\",\"array\":{\"type\":\"bytes\",\"data\":\"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\"},\"shape\":[200],\"dtype\":\"float64\",\"order\":\"little\"}],[\"y\",{\"type\":\"ndarray\",\"array\":{\"type\":\"bytes\",\"data\":\"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\"},\"shape\":[200],\"dtype\":\"float64\",\"order\":\"little\"}]]}}},\"view\":{\"type\":\"object\",\"name\":\"CDSView\",\"id\":\"p1256\",\"attributes\":{\"filter\":{\"type\":\"object\",\"name\":\"AllIndices\",\"id\":\"p1257\"}}},\"glyph\":{\"type\":\"object\",\"name\":\"Line\",\"id\":\"p1252\",\"attributes\":{\"x\":{\"type\":\"field\",\"field\":\"x\"},\"y\":{\"type\":\"field\",\"field\":\"y\"},\"line_color\":\"#1f77b3\",\"line_width\":2}},\"nonselection_glyph\":{\"type\":\"object\",\"name\":\"Line\",\"id\":\"p1253\",\"attributes\":{\"x\":{\"type\":\"field\",\"field\":\"x\"},\"y\":{\"type\":\"field\",\"field\":\"y\"},\"line_color\":\"#1f77b3\",\"line_alpha\":0.1,\"line_width\":2}},\"muted_glyph\":{\"type\":\"object\",\"name\":\"Line\",\"id\":\"p1254\",\"attributes\":{\"x\":{\"type\":\"field\",\"field\":\"x\"},\"y\":{\"type\":\"field\",\"field\":\"y\"},\"line_color\":\"#1f77b3\",\"line_alpha\":0.2,\"line_width\":2}}}},{\"type\":\"object\",\"name\":\"GlyphRenderer\",\"id\":\"p1266\",\"attributes\":{\"data_source\":{\"type\":\"object\",\"name\":\"ColumnDataSource\",\"id\":\"p1260\",\"attributes\":{\"selected\":{\"type\":\"object\",\"name\":\"Selection\",\"id\":\"p1261\",\"attributes\":{\"indices\":[],\"line_indices\":[]}},\"selection_policy\":{\"type\":\"object\",\"name\":\"UnionRenderers\",\"id\":\"p1262\"},\"data\":{\"type\":\"map\",\"entries\":[[\"x\",{\"type\":\"ndarray\",\"array\":{\"type\":\"bytes\",\"data\":\"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\"},\"shape\":[200],\"dtype\":\"float64\",\"order\":\"little\"}],[\"y\",{\"type\":\"ndarray\",\"array\":{\"type\":\"bytes\",\"data\":\"XdjJgs9Llz+Jqc+1rjeaP17Gb4eFcJ0/jeQURfp9oD+tM29M3m+iP3BAJCzbkKQ/545OUuTjpj9Fu5j47mupP7dhbFLsK6w/LFhfQcMmrz99XjDNpC+xPynkZ4Qe7LI/UE2lzx3KtD8kc0oU3sq2PzQIsyaD77g/9EMWUxU5uz/Ucuhofai9Px7lC2tAH8A/Ji0T8N59wT9+lskEVPDCP1hgHFnCdsQ/RCKdADQRxj/S32MTmb/HP8qytIHGgck/iJLRIHVXyz8k9c32QEDNP1RhhcqoO88/lNcA/oak0D++VFZU2rPRP8Zkzw5iy9I/TjKfzKPq0z8MfhquFxHVP5CPRAQpPtY/fkE4Jjdx1z/j+5pqlqnYP+0LsEKR5tk/RC8TdGkn2z+BbpxtWWvcP/xmeLOVsd0/yIUZXk753j+oXalT2CDgP4JcVkD0xOA/SaPuFpFo4T+5zBrvRQviP6mi8J+rrOI/sJz1g11M4z8JVxg1+unjPx7iWD4kheQ/vqIFwYId5T9yNakLwrLlPzovBCGUROY/xU2yLbHS5j+zNGTr11znP8Wk4/DN4uc/UJJm7l9k6D8wCATWYeHoP4LMavCuWek/6shD3inN6T+G6++GvDvqP/JVkfVXpeo/Oi6JJfQJ6z9+ZMW/j2nrPzKUY8ovxOs/y1xPTN8Z7D9C5JrmrmrsP9qkX2W0tuw/C1j8SQr+7D+HGoNQz0DtPxdMIfIlf+0/jdg55jO57T+HS9OjIe/tPxQt3uQZIe4/Bpi2LElP7j/bvB5T3XnuP3QRyBQFoe4/YT9Xqu/E7j9vaKRmzOXuP1X1zlzKA+8/vaSSDhgf7z8vsyMj4zfvP5dXsiZYTu8/vfuSUqJi7z/C9uhd63TvP4dylVZbhe8/gcATghiU7z+x0tdFR6HvP6HWshYKre8/wf+0boG37z/xQPrIy8DvP43UyaIFye8/7r1tgUnQ7z9emif8r9bvPxbPqslP3O8/tQ2J0D3h7z+b7wQ6jeXvP/OwxoZP6e8/nIf4pJTs7z/ZXVoHa+/vPyWQ57zf8e8/b2q0iP7z7z8vRbT50fXvP1sXJIJj9+8/hulfjrv47z/7qfOa4fnvP7hTwUnc+u8/TxQfdrH77z9ZD9hHZvzvP9yAAUX//O8/nE6cYoD97z9RlQAU7f3vP2RvFVlI/u8/GCBby5T+7z9sBNGp1P7vP2s3w+MJ/+8/v8mNIjb/7z/a02TSWv/vP+uWMSp5/+8/gWOVMpL/7z8kJCPMpv/vP9NF4LS3/+8/XlUdjcX/7z8OFLbb0P/vP5ELyBHa/+8/bdLtjeH/7z/qSAyf5//vP6Ehvobs/+8/hw9pe/D/7z+R+gaq8//vP6WorDf2/+8/Wl3WQvj/7z9UE4Lk+f/vPw4fHjH7/+8/YkZSOfz/7z+CoqgK/f/vP5H7GrD9/+8/6rWIMv7/7z+A4BiZ/v/vP2t5i+n+/+8/nZB8KP//7z9GkJtZ///vP2Od2H///+8/nbiJnf//7z/RBom0///vP4lwTcb//+8/P5f+0///7z/j9YTe///vP5Delub//+8/YenC7P//7z/JTnjx///vP2qSDfX//+8/WtHF9///7z/O99T5///vP4QVY/v//+8/Df6O/P//7z9uWXD9///vP4xCGf7//+8/HIuX/v//7z8huPX+///vPxbGO////+8/98Bv////7z+xOZb////vP5Sgsv///+8/04rH////7z+459b////vP00p4v///+8/RWPq////7z+DYvD////vP+C+9P///+8/muj3////7z9vMvr////vPzbZ+////+8/jQn9////7z8T5P3////vP5eA/v///+8/aPD+////7z8XQP/////vP7p4/////+8/46D/////7z9Kvf/////vP1TR/////+8/bd//////7z9T6f/////vP0Dw/////+8/F/X/////7z92+P/////vP876/////+8/bfz/////7z+N/f/////vP1P+/////+8/2/7/////7z85///////vP3n//////+8/pP//////7z/C///////vP9b//////+8/5P//////7z/t///////vP/P//////+8/+P//////7z/6///////vPw==\"},\"shape\":[200],\"dtype\":\"float64\",\"order\":\"little\"}]]}}},\"view\":{\"type\":\"object\",\"name\":\"CDSView\",\"id\":\"p1267\",\"attributes\":{\"filter\":{\"type\":\"object\",\"name\":\"AllIndices\",\"id\":\"p1268\"}}},\"glyph\":{\"type\":\"object\",\"name\":\"Line\",\"id\":\"p1263\",\"attributes\":{\"x\":{\"type\":\"field\",\"field\":\"x\"},\"y\":{\"type\":\"field\",\"field\":\"y\"},\"line_color\":\"#ff7e0e\",\"line_width\":2}},\"nonselection_glyph\":{\"type\":\"object\",\"name\":\"Line\",\"id\":\"p1264\",\"attributes\":{\"x\":{\"type\":\"field\",\"field\":\"x\"},\"y\":{\"type\":\"field\",\"field\":\"y\"},\"line_color\":\"#ff7e0e\",\"line_alpha\":0.1,\"line_width\":2}},\"muted_glyph\":{\"type\":\"object\",\"name\":\"Line\",\"id\":\"p1265\",\"attributes\":{\"x\":{\"type\":\"field\",\"field\":\"x\"},\"y\":{\"type\":\"field\",\"field\":\"y\"},\"line_color\":\"#ff7e0e\",\"line_alpha\":0.2,\"line_width\":2}}}},{\"type\":\"object\",\"name\":\"GlyphRenderer\",\"id\":\"p1276\",\"attributes\":{\"data_source\":{\"type\":\"object\",\"name\":\"ColumnDataSource\",\"id\":\"p1270\",\"attributes\":{\"selected\":{\"type\":\"object\",\"name\":\"Selection\",\"id\":\"p1271\",\"attributes\":{\"indices\":[],\"line_indices\":[]}},\"selection_policy\":{\"type\":\"object\",\"name\":\"UnionRenderers\",\"id\":\"p1272\"},\"data\":{\"type\":\"map\",\"entries\":[[\"x\",{\"type\":\"ndarray\",\"array\":{\"type\":\"bytes\",\"data\":\"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\"},\"shape\":[200],\"dtype\":\"float64\",\"order\":\"little\"}],[\"y\",{\"type\":\"ndarray\",\"array\":{\"type\":\"bytes\",\"data\":\"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\"},\"shape\":[200],\"dtype\":\"float64\",\"order\":\"little\"}]]}}},\"view\":{\"type\":\"object\",\"name\":\"CDSView\",\"id\":\"p1277\",\"attributes\":{\"filter\":{\"type\":\"object\",\"name\":\"AllIndices\",\"id\":\"p1278\"}}},\"glyph\":{\"type\":\"object\",\"name\":\"Line\",\"id\":\"p1273\",\"attributes\":{\"x\":{\"type\":\"field\",\"field\":\"x\"},\"y\":{\"type\":\"field\",\"field\":\"y\"},\"line_color\":\"#2ba02b\",\"line_width\":2}},\"nonselection_glyph\":{\"type\":\"object\",\"name\":\"Line\",\"id\":\"p1274\",\"attributes\":{\"x\":{\"type\":\"field\",\"field\":\"x\"},\"y\":{\"type\":\"field\",\"field\":\"y\"},\"line_color\":\"#2ba02b\",\"line_alpha\":0.1,\"line_width\":2}},\"muted_glyph\":{\"type\":\"object\",\"name\":\"Line\",\"id\":\"p1275\",\"attributes\":{\"x\":{\"type\":\"field\",\"field\":\"x\"},\"y\":{\"type\":\"field\",\"field\":\"y\"},\"line_color\":\"#2ba02b\",\"line_alpha\":0.2,\"line_width\":2}}}}],\"toolbar\":{\"type\":\"object\",\"name\":\"Toolbar\",\"id\":\"p1161\",\"attributes\":{\"tools\":[{\"id\":\"p1175\"},{\"id\":\"p1176\"},{\"id\":\"p1177\"},{\"type\":\"object\",\"name\":\"SaveTool\",\"id\":\"p1185\"},{\"id\":\"p1186\"},{\"id\":\"p1187\"}]}},\"toolbar_location\":null,\"left\":[{\"type\":\"object\",\"name\":\"LinearAxis\",\"id\":\"p1170\",\"attributes\":{\"ticker\":{\"type\":\"object\",\"name\":\"BasicTicker\",\"id\":\"p1171\",\"attributes\":{\"mantissas\":[1,2,5]}},\"formatter\":{\"type\":\"object\",\"name\":\"BasicTickFormatter\",\"id\":\"p1172\"},\"axis_label\":\"F(y)\",\"major_label_policy\":{\"type\":\"object\",\"name\":\"AllLabels\",\"id\":\"p1173\"}}}],\"below\":[{\"type\":\"object\",\"name\":\"LinearAxis\",\"id\":\"p1165\",\"attributes\":{\"ticker\":{\"type\":\"object\",\"name\":\"BasicTicker\",\"id\":\"p1166\",\"attributes\":{\"mantissas\":[1,2,5]}},\"formatter\":{\"type\":\"object\",\"name\":\"BasicTickFormatter\",\"id\":\"p1167\"},\"axis_label\":\"y\",\"major_label_policy\":{\"type\":\"object\",\"name\":\"AllLabels\",\"id\":\"p1168\"}}}],\"center\":[{\"type\":\"object\",\"name\":\"Grid\",\"id\":\"p1169\",\"attributes\":{\"axis\":{\"id\":\"p1165\"}}},{\"type\":\"object\",\"name\":\"Grid\",\"id\":\"p1174\",\"attributes\":{\"dimension\":1,\"axis\":{\"id\":\"p1170\"}}},{\"type\":\"object\",\"name\":\"Legend\",\"id\":\"p1258\",\"attributes\":{\"location\":\"bottom_right\",\"items\":[{\"type\":\"object\",\"name\":\"LegendItem\",\"id\":\"p1259\",\"attributes\":{\"label\":{\"type\":\"value\",\"value\":\"exact\"},\"renderers\":[{\"id\":\"p1255\"}]}},{\"type\":\"object\",\"name\":\"LegendItem\",\"id\":\"p1269\",\"attributes\":{\"label\":{\"type\":\"value\",\"value\":\"Taylor\"},\"renderers\":[{\"id\":\"p1266\"}]}},{\"type\":\"object\",\"name\":\"LegendItem\",\"id\":\"p1279\",\"attributes\":{\"label\":{\"type\":\"value\",\"value\":\"moments\"},\"renderers\":[{\"id\":\"p1276\"}]}}]}}],\"frame_width\":300,\"frame_height\":200}},0,1]]}}]}};\n",
       "  const render_items = [{\"docid\":\"70c358b1-b34b-4cae-9a11-36f7d8cc3dd7\",\"roots\":{\"p1287\":\"d995677f-a7e4-4b75-89ca-d9adf810f4f2\"},\"root_ids\":[\"p1287\"]}];\n",
       "  void root.Bokeh.embed.embed_items_notebook(docs_json, render_items);\n",
       "  }\n",
       "  if (root.Bokeh !== undefined) {\n",
       "    embed_document(root);\n",
       "  } else {\n",
       "    let attempts = 0;\n",
       "    const timer = setInterval(function(root) {\n",
       "      if (root.Bokeh !== undefined) {\n",
       "        clearInterval(timer);\n",
       "        embed_document(root);\n",
       "      } else {\n",
       "        attempts++;\n",
       "        if (attempts > 100) {\n",
       "          clearInterval(timer);\n",
       "          console.log(\"Bokeh: ERROR: Unable to run BokehJS code because BokehJS library is missing\");\n",
       "        }\n",
       "      }\n",
       "    }, 10, root)\n",
       "  }\n",
       "})(window);"
      ],
      "application/vnd.bokehjs_exec.v0+json": ""
     },
     "metadata": {
      "application/vnd.bokehjs_exec.v0+json": {
       "id": "p1287"
      }
     },
     "output_type": "display_data"
    }
   ],
   "source": [
    "alpha = 5\n",
    "beta = 2\n",
    "\n",
    "mu_taylor = (alpha - 1) / beta\n",
    "sigma_taylor = beta / np.sqrt(alpha - 1)\n",
    "\n",
    "mu_moment = alpha / beta\n",
    "sigma_moment = np.sqrt(alpha / beta ** 2)\n",
    "\n",
    "y = np.linspace(0, 10, 200)\n",
    "f = st.gamma.pdf(y, alpha, loc=0, scale=1 / beta)\n",
    "taylor_f = st.norm.pdf(y, mu_taylor, sigma_taylor)\n",
    "moment_f = st.norm.pdf(y, mu_moment, sigma_moment)\n",
    "F = st.gamma.cdf(y, alpha, loc=0, scale=1 / beta)\n",
    "taylor_F = st.norm.cdf(y, mu_taylor, sigma_taylor)\n",
    "moment_F = st.norm.cdf(y, mu_moment, sigma_moment)\n",
    "\n",
    "bokeh.io.show(plot_curves(y, f, taylor_f, moment_f, F, taylor_F, moment_F, \"Gamma\"))"
   ]
  },
  {
   "cell_type": "markdown",
   "metadata": {},
   "source": [
    "In this case, the Normal approximation breaks down because of the asymmetry of the peak in the Gamma distribution. The parameters are also such that the peak in the Gamma distribution is close to zero so that the Normal approximation crashes into $y = 0$.\n",
    "\n",
    "In the the CDFs, it looks as though the equating moments procedure gave a better approximation. This can be misleading, though, since the left tails of the CDF hit zero too soon for both of the Normal approximations. To assess the approximations, we can look at the probability mass around the peak, say $1.5 \\le y \\le 2.5$. The exact value can be calculated for the Gamma distribution."
   ]
  },
  {
   "cell_type": "code",
   "execution_count": 4,
   "metadata": {},
   "outputs": [
    {
     "data": {
      "text/plain": [
       "np.float64(0.3747699594585599)"
      ]
     },
     "execution_count": 4,
     "metadata": {},
     "output_type": "execute_result"
    }
   ],
   "source": [
    "prob_mass = st.gamma.cdf(2.5, alpha, loc=0, scale=1 / beta) - st.gamma.cdf(\n",
    "    1.5, alpha, loc=0, scale=1 / beta\n",
    ")\n",
    "\n",
    "prob_mass"
   ]
  },
  {
   "cell_type": "markdown",
   "metadata": {},
   "source": [
    "Let's see how far off the Taylor-approximated Normal is."
   ]
  },
  {
   "cell_type": "code",
   "execution_count": 5,
   "metadata": {},
   "outputs": [
    {
     "data": {
      "text/plain": [
       "np.float64(-0.008154963089466338)"
      ]
     },
     "execution_count": 5,
     "metadata": {},
     "output_type": "execute_result"
    }
   ],
   "source": [
    "prob_mass - (\n",
    "    st.norm.cdf(2.5, mu_taylor, sigma_taylor)\n",
    "    - st.norm.cdf(1.5, mu_taylor, sigma_taylor)\n",
    ")"
   ]
  },
  {
   "cell_type": "markdown",
   "metadata": {},
   "source": [
    "This is off by about 0.008, or about 0.008 / 0.375 ≈ 2%. Now let's check the equating moments approximation."
   ]
  },
  {
   "cell_type": "code",
   "execution_count": 6,
   "metadata": {},
   "outputs": [
    {
     "data": {
      "text/plain": [
       "np.float64(0.06031664421990868)"
      ]
     },
     "execution_count": 6,
     "metadata": {},
     "output_type": "execute_result"
    }
   ],
   "source": [
    "prob_mass - (\n",
    "    st.norm.cdf(2.5, mu_moment, sigma_moment)\n",
    "    - st.norm.cdf(1.5, mu_moment, sigma_moment)\n",
    ")"
   ]
  },
  {
   "cell_type": "markdown",
   "metadata": {},
   "source": [
    "This is much more substantial, off by an order of magnitude more than the Taylor approximation. Note, though, that in making the comparison, we had to be careful that we were using the CDF to look at total mass within a range; the entire CDF is shifted substantially left in the Taylor approximation. So, neither approximation is particularly good, each being bad in their own way."
   ]
  },
  {
   "cell_type": "markdown",
   "metadata": {},
   "source": [
    "**d)** The mean and variance of the Binomial distribution are respectively $N\\theta$ and $N\\theta(1-\\theta)$, which we can use to parametrize an approximate Normal distribution. Let's start by making a plot with $N = 100$."
   ]
  },
  {
   "cell_type": "code",
   "execution_count": 7,
   "metadata": {},
   "outputs": [
    {
     "data": {
      "text/html": [
       "\n",
       "  <div id=\"c7fb0885-a3c3-4b69-8b01-3ab064fc09f2\" data-root-id=\"p1301\" style=\"display: contents;\"></div>\n"
      ]
     },
     "metadata": {},
     "output_type": "display_data"
    },
    {
     "data": {
      "application/javascript": [
       "(function(root) {\n",
       "  function embed_document(root) {\n",
       "  const docs_json = {\"1b158981-b021-4a8d-94e8-04f2376212ab\":{\"version\":\"3.7.3\",\"title\":\"Bokeh Application\",\"roots\":[{\"type\":\"object\",\"name\":\"Figure\",\"id\":\"p1301\",\"attributes\":{\"x_range\":{\"type\":\"object\",\"name\":\"DataRange1d\",\"id\":\"p1302\"},\"y_range\":{\"type\":\"object\",\"name\":\"DataRange1d\",\"id\":\"p1303\"},\"x_scale\":{\"type\":\"object\",\"name\":\"LinearScale\",\"id\":\"p1310\"},\"y_scale\":{\"type\":\"object\",\"name\":\"LinearScale\",\"id\":\"p1311\"},\"title\":{\"type\":\"object\",\"name\":\"Title\",\"id\":\"p1308\"},\"renderers\":[{\"type\":\"object\",\"name\":\"GlyphRenderer\",\"id\":\"p1341\",\"attributes\":{\"data_source\":{\"type\":\"object\",\"name\":\"ColumnDataSource\",\"id\":\"p1335\",\"attributes\":{\"selected\":{\"type\":\"object\",\"name\":\"Selection\",\"id\":\"p1336\",\"attributes\":{\"indices\":[],\"line_indices\":[]}},\"selection_policy\":{\"type\":\"object\",\"name\":\"UnionRenderers\",\"id\":\"p1337\"},\"data\":{\"type\":\"map\",\"entries\":[[\"x\",{\"type\":\"ndarray\",\"array\":{\"type\":\"bytes\",\"data\":\"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\"},\"shape\":[200],\"dtype\":\"float64\",\"order\":\"little\"}],[\"y\",{\"type\":\"ndarray\",\"array\":{\"type\":\"bytes\",\"data\":\"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\"},\"shape\":[200],\"dtype\":\"float64\",\"order\":\"little\"}]]}}},\"view\":{\"type\":\"object\",\"name\":\"CDSView\",\"id\":\"p1342\",\"attributes\":{\"filter\":{\"type\":\"object\",\"name\":\"AllIndices\",\"id\":\"p1343\"}}},\"glyph\":{\"type\":\"object\",\"name\":\"Line\",\"id\":\"p1338\",\"attributes\":{\"x\":{\"type\":\"field\",\"field\":\"x\"},\"y\":{\"type\":\"field\",\"field\":\"y\"},\"line_color\":\"orange\",\"line_width\":2}},\"nonselection_glyph\":{\"type\":\"object\",\"name\":\"Line\",\"id\":\"p1339\",\"attributes\":{\"x\":{\"type\":\"field\",\"field\":\"x\"},\"y\":{\"type\":\"field\",\"field\":\"y\"},\"line_color\":\"orange\",\"line_alpha\":0.1,\"line_width\":2}},\"muted_glyph\":{\"type\":\"object\",\"name\":\"Line\",\"id\":\"p1340\",\"attributes\":{\"x\":{\"type\":\"field\",\"field\":\"x\"},\"y\":{\"type\":\"field\",\"field\":\"y\"},\"line_color\":\"orange\",\"line_alpha\":0.2,\"line_width\":2}}}},{\"type\":\"object\",\"name\":\"GlyphRenderer\",\"id\":\"p1350\",\"attributes\":{\"data_source\":{\"type\":\"object\",\"name\":\"ColumnDataSource\",\"id\":\"p1344\",\"attributes\":{\"selected\":{\"type\":\"object\",\"name\":\"Selection\",\"id\":\"p1345\",\"attributes\":{\"indices\":[],\"line_indices\":[]}},\"selection_policy\":{\"type\":\"object\",\"name\":\"UnionRenderers\",\"id\":\"p1346\"},\"data\":{\"type\":\"map\",\"entries\":[[\"x\",{\"type\":\"ndarray\",\"array\":{\"type\":\"bytes\",\"data\":\"AAAAAAEAAAACAAAAAwAAAAQAAAAFAAAABgAAAAcAAAAIAAAACQAAAAoAAAALAAAADAAAAA0AAAAOAAAADwAAABAAAAARAAAAEgAAABMAAAAUAAAAFQAAABYAAAAXAAAAGAAAABkAAAAaAAAAGwAAABwAAAAdAAAAHgAAAB8AAAAgAAAAIQAAACIAAAAjAAAAJAAAACUAAAAmAAAAJwAAACgAAAApAAAAKgAAACsAAAAsAAAALQAAAC4AAAAvAAAAMAAAADEAAAAyAAAAMwAAADQAAAA1AAAANgAAADcAAAA4AAAAOQAAADoAAAA7AAAAPAAAAD0AAAA+AAAAPwAAAEAAAABBAAAAQgAAAEMAAABEAAAARQAAAEYAAABHAAAASAAAAEkAAABKAAAASwAAAEwAAABNAAAATgAAAE8AAABQAAAAUQAAAFIAAABTAAAAVAAAAFUAAABWAAAAVwAAAFgAAABZAAAAWgAAAFsAAABcAAAAXQAAAF4AAABfAAAAYAAAAGEAAABiAAAAYwAAAA==\"},\"shape\":[100],\"dtype\":\"int32\",\"order\":\"little\"}],[\"y\",{\"type\":\"ndarray\",\"array\":{\"type\":\"bytes\",\"data\":\"AJTUbgXa+z66nxNUZ1czP5z7mhMumFo/Ub7T/soheD9W98MSbkGQP7T2v8/bVqE/RMC+aBqBrj9KxOu/1sG2P4Xd5bcKZb0/HeZ1BnuxwD+uHgu09uDAP8s3FDBMsL4/uIxJ0itKuT+8/gRLdgWzP0dHH8l+RKo/KVcMpsC7oD+Ykc41NcGTPzn/DzYDsYU/2lojvB86dj/KDdflMVFlP2WMQbV5L1M/jc3g39w9QD+10+/wx+spP7HpGOLgiBM/vgoa2uHa+z6KtbeeTtHiPnWTveUIIMg+p2VmNhJjrT6QYz/OmgaRPrs4nq5+yXI+7gDlReDCUz7p6u8bAtUzPsHrxVp3ARM+u0SDSupn8T3PTO7rIX3OPQNgS8Nxjak9MwEzpk6BhD2YpVfEAYdfPV1skcYOOzc9ePbR4+hpED0JLAAN7D/mPAqZ1ltU8bw8wRMMPO4Rkjzy7dTcVaplPKmdp3Kw8jg8aPYWPciYCzwvztvSdlTdOyv+eP039K07K7cJ9DZmfTuNyPD5jrtLO4M+ydvuJBk7PCCoF4fp5ToDBbIplFqyOufsTt8BjX06/DrKSsPcRjp0mhYZJf8QOnuTstrrR9g51f2Olx2poDnWFjZ9dPVlOQY7m2Qoyis5WcHVLzHh8DgHw22PdK2zOMQ3X4pIAXY44Bae3KCYNzg20PdwbED4NwvNwM3o4Lc3r3PKIAODdjerk66pIk80Ny4qI1GHhfE2qraBWm3krDZufT0GOL9mNoZsxLc/FiE2P9EPQFt42DUqQsTkla+QNVl/si+EpUU18MwWmG6u+jRPZ6EyzzSvNG+MgxazSmE0sRorHhkhEjRPPA65Z/PBMwDBhHkLwXAzs/rzSdVqHTPiR3J9QzzIMg0r7LACsHIy3Vex2OzkGjJxNE8u8//BMdbXFGdJU2YxHKQzJRmMCTHB9LT9Z9aqMNCQ2hNbu0kwV3TThk5d5i8wxST5/HmBL6ooM+CtUBgv4k3HzWC/rS7ubbWndYE/Lvrk+4HDTMwtVC6L2332VC0KpPpmt5bYLFYfwBUdaVUsk9LgNkibyCs=\"},\"shape\":[100],\"dtype\":\"float64\",\"order\":\"little\"}]]}}},\"view\":{\"type\":\"object\",\"name\":\"CDSView\",\"id\":\"p1351\",\"attributes\":{\"filter\":{\"type\":\"object\",\"name\":\"AllIndices\",\"id\":\"p1352\"}}},\"glyph\":{\"type\":\"object\",\"name\":\"Scatter\",\"id\":\"p1347\",\"attributes\":{\"x\":{\"type\":\"field\",\"field\":\"x\"},\"y\":{\"type\":\"field\",\"field\":\"y\"},\"line_color\":{\"type\":\"value\",\"value\":\"#1f77b4\"},\"fill_color\":{\"type\":\"value\",\"value\":\"#1f77b4\"}}},\"nonselection_glyph\":{\"type\":\"object\",\"name\":\"Scatter\",\"id\":\"p1348\",\"attributes\":{\"x\":{\"type\":\"field\",\"field\":\"x\"},\"y\":{\"type\":\"field\",\"field\":\"y\"},\"line_color\":{\"type\":\"value\",\"value\":\"#1f77b4\"},\"line_alpha\":{\"type\":\"value\",\"value\":0.1},\"fill_color\":{\"type\":\"value\",\"value\":\"#1f77b4\"},\"fill_alpha\":{\"type\":\"value\",\"value\":0.1},\"hatch_alpha\":{\"type\":\"value\",\"value\":0.1}}},\"muted_glyph\":{\"type\":\"object\",\"name\":\"Scatter\",\"id\":\"p1349\",\"attributes\":{\"x\":{\"type\":\"field\",\"field\":\"x\"},\"y\":{\"type\":\"field\",\"field\":\"y\"},\"line_color\":{\"type\":\"value\",\"value\":\"#1f77b4\"},\"line_alpha\":{\"type\":\"value\",\"value\":0.2},\"fill_color\":{\"type\":\"value\",\"value\":\"#1f77b4\"},\"fill_alpha\":{\"type\":\"value\",\"value\":0.2},\"hatch_alpha\":{\"type\":\"value\",\"value\":0.2}}}}}],\"toolbar\":{\"type\":\"object\",\"name\":\"Toolbar\",\"id\":\"p1309\",\"attributes\":{\"tools\":[{\"type\":\"object\",\"name\":\"PanTool\",\"id\":\"p1322\"},{\"type\":\"object\",\"name\":\"WheelZoomTool\",\"id\":\"p1323\",\"attributes\":{\"renderers\":\"auto\"}},{\"type\":\"object\",\"name\":\"BoxZoomTool\",\"id\":\"p1324\",\"attributes\":{\"dimensions\":\"both\",\"overlay\":{\"type\":\"object\",\"name\":\"BoxAnnotation\",\"id\":\"p1325\",\"attributes\":{\"syncable\":false,\"line_color\":\"black\",\"line_alpha\":1.0,\"line_width\":2,\"line_dash\":[4,4],\"fill_color\":\"lightgrey\",\"fill_alpha\":0.5,\"level\":\"overlay\",\"visible\":false,\"left\":{\"type\":\"number\",\"value\":\"nan\"},\"right\":{\"type\":\"number\",\"value\":\"nan\"},\"top\":{\"type\":\"number\",\"value\":\"nan\"},\"bottom\":{\"type\":\"number\",\"value\":\"nan\"},\"left_units\":\"canvas\",\"right_units\":\"canvas\",\"top_units\":\"canvas\",\"bottom_units\":\"canvas\",\"handles\":{\"type\":\"object\",\"name\":\"BoxInteractionHandles\",\"id\":\"p1331\",\"attributes\":{\"all\":{\"type\":\"object\",\"name\":\"AreaVisuals\",\"id\":\"p1330\",\"attributes\":{\"fill_color\":\"white\",\"hover_fill_color\":\"lightgray\"}}}}}}}},{\"type\":\"object\",\"name\":\"SaveTool\",\"id\":\"p1332\"},{\"type\":\"object\",\"name\":\"ResetTool\",\"id\":\"p1333\"},{\"type\":\"object\",\"name\":\"HelpTool\",\"id\":\"p1334\"}]}},\"left\":[{\"type\":\"object\",\"name\":\"LinearAxis\",\"id\":\"p1317\",\"attributes\":{\"ticker\":{\"type\":\"object\",\"name\":\"BasicTicker\",\"id\":\"p1318\",\"attributes\":{\"mantissas\":[1,2,5]}},\"formatter\":{\"type\":\"object\",\"name\":\"BasicTickFormatter\",\"id\":\"p1319\"},\"axis_label\":\"P(n; N, \\u03b8)\",\"major_label_policy\":{\"type\":\"object\",\"name\":\"AllLabels\",\"id\":\"p1320\"}}}],\"below\":[{\"type\":\"object\",\"name\":\"LinearAxis\",\"id\":\"p1312\",\"attributes\":{\"ticker\":{\"type\":\"object\",\"name\":\"BasicTicker\",\"id\":\"p1313\",\"attributes\":{\"mantissas\":[1,2,5]}},\"formatter\":{\"type\":\"object\",\"name\":\"BasicTickFormatter\",\"id\":\"p1314\"},\"axis_label\":\"n\",\"major_label_policy\":{\"type\":\"object\",\"name\":\"AllLabels\",\"id\":\"p1315\"}}}],\"center\":[{\"type\":\"object\",\"name\":\"Grid\",\"id\":\"p1316\",\"attributes\":{\"axis\":{\"id\":\"p1312\"}}},{\"type\":\"object\",\"name\":\"Grid\",\"id\":\"p1321\",\"attributes\":{\"dimension\":1,\"axis\":{\"id\":\"p1317\"}}}],\"frame_width\":300,\"frame_height\":200}}]}};\n",
       "  const render_items = [{\"docid\":\"1b158981-b021-4a8d-94e8-04f2376212ab\",\"roots\":{\"p1301\":\"c7fb0885-a3c3-4b69-8b01-3ab064fc09f2\"},\"root_ids\":[\"p1301\"]}];\n",
       "  void root.Bokeh.embed.embed_items_notebook(docs_json, render_items);\n",
       "  }\n",
       "  if (root.Bokeh !== undefined) {\n",
       "    embed_document(root);\n",
       "  } else {\n",
       "    let attempts = 0;\n",
       "    const timer = setInterval(function(root) {\n",
       "      if (root.Bokeh !== undefined) {\n",
       "        clearInterval(timer);\n",
       "        embed_document(root);\n",
       "      } else {\n",
       "        attempts++;\n",
       "        if (attempts > 100) {\n",
       "          clearInterval(timer);\n",
       "          console.log(\"Bokeh: ERROR: Unable to run BokehJS code because BokehJS library is missing\");\n",
       "        }\n",
       "      }\n",
       "    }, 10, root)\n",
       "  }\n",
       "})(window);"
      ],
      "application/vnd.bokehjs_exec.v0+json": ""
     },
     "metadata": {
      "application/vnd.bokehjs_exec.v0+json": {
       "id": "p1301"
      }
     },
     "output_type": "display_data"
    }
   ],
   "source": [
    "N = 100\n",
    "theta = 0.1\n",
    "\n",
    "y = np.arange(0, N)\n",
    "y_norm = np.linspace(0, N, 200)\n",
    "\n",
    "binom = st.binom.pmf(y, N, theta)\n",
    "norm = st.norm.pdf(y_norm, N * theta, np.sqrt(N * theta * (1 - theta)))\n",
    "\n",
    "p = bokeh.plotting.figure(\n",
    "    frame_width=300,\n",
    "    frame_height=200,\n",
    "    x_axis_label='n',\n",
    "    y_axis_label='P(n; N, θ)',\n",
    ")\n",
    "p.line(y_norm, norm, color='orange', line_width=2)\n",
    "p.scatter(y, binom)\n",
    "\n",
    "bokeh.io.show(p)"
   ]
  },
  {
   "cell_type": "markdown",
   "metadata": {},
   "source": [
    "In inspecting the plot, we see that we get qualitatively good matching around the peak, but by zooming (or plotting on a log scale if we wish), we notice that the Normal distribution tail falls off faster than that of the Binomial.\n",
    "\n",
    "Let's now move to smaller $N$, $N = 10$."
   ]
  },
  {
   "cell_type": "code",
   "execution_count": 8,
   "metadata": {},
   "outputs": [
    {
     "data": {
      "text/html": [
       "\n",
       "  <div id=\"c60ecf8b-a819-4493-93dd-bbbbc5b1f116\" data-root-id=\"p1357\" style=\"display: contents;\"></div>\n"
      ]
     },
     "metadata": {},
     "output_type": "display_data"
    },
    {
     "data": {
      "application/javascript": [
       "(function(root) {\n",
       "  function embed_document(root) {\n",
       "  const docs_json = {\"afaeb5c8-c05c-4a30-b31a-66989270176f\":{\"version\":\"3.7.3\",\"title\":\"Bokeh Application\",\"roots\":[{\"type\":\"object\",\"name\":\"Figure\",\"id\":\"p1357\",\"attributes\":{\"x_range\":{\"type\":\"object\",\"name\":\"DataRange1d\",\"id\":\"p1358\"},\"y_range\":{\"type\":\"object\",\"name\":\"DataRange1d\",\"id\":\"p1359\"},\"x_scale\":{\"type\":\"object\",\"name\":\"LinearScale\",\"id\":\"p1366\"},\"y_scale\":{\"type\":\"object\",\"name\":\"LinearScale\",\"id\":\"p1367\"},\"title\":{\"type\":\"object\",\"name\":\"Title\",\"id\":\"p1364\"},\"renderers\":[{\"type\":\"object\",\"name\":\"GlyphRenderer\",\"id\":\"p1397\",\"attributes\":{\"data_source\":{\"type\":\"object\",\"name\":\"ColumnDataSource\",\"id\":\"p1391\",\"attributes\":{\"selected\":{\"type\":\"object\",\"name\":\"Selection\",\"id\":\"p1392\",\"attributes\":{\"indices\":[],\"line_indices\":[]}},\"selection_policy\":{\"type\":\"object\",\"name\":\"UnionRenderers\",\"id\":\"p1393\"},\"data\":{\"type\":\"map\",\"entries\":[[\"x\",{\"type\":\"ndarray\",\"array\":{\"type\":\"bytes\",\"data\":\"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\"},\"shape\":[200],\"dtype\":\"float64\",\"order\":\"little\"}],[\"y\",{\"type\":\"ndarray\",\"array\":{\"type\":\"bytes\",\"data\":\"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\"},\"shape\":[200],\"dtype\":\"float64\",\"order\":\"little\"}]]}}},\"view\":{\"type\":\"object\",\"name\":\"CDSView\",\"id\":\"p1398\",\"attributes\":{\"filter\":{\"type\":\"object\",\"name\":\"AllIndices\",\"id\":\"p1399\"}}},\"glyph\":{\"type\":\"object\",\"name\":\"Line\",\"id\":\"p1394\",\"attributes\":{\"x\":{\"type\":\"field\",\"field\":\"x\"},\"y\":{\"type\":\"field\",\"field\":\"y\"},\"line_color\":\"orange\",\"line_width\":2}},\"nonselection_glyph\":{\"type\":\"object\",\"name\":\"Line\",\"id\":\"p1395\",\"attributes\":{\"x\":{\"type\":\"field\",\"field\":\"x\"},\"y\":{\"type\":\"field\",\"field\":\"y\"},\"line_color\":\"orange\",\"line_alpha\":0.1,\"line_width\":2}},\"muted_glyph\":{\"type\":\"object\",\"name\":\"Line\",\"id\":\"p1396\",\"attributes\":{\"x\":{\"type\":\"field\",\"field\":\"x\"},\"y\":{\"type\":\"field\",\"field\":\"y\"},\"line_color\":\"orange\",\"line_alpha\":0.2,\"line_width\":2}}}},{\"type\":\"object\",\"name\":\"GlyphRenderer\",\"id\":\"p1406\",\"attributes\":{\"data_source\":{\"type\":\"object\",\"name\":\"ColumnDataSource\",\"id\":\"p1400\",\"attributes\":{\"selected\":{\"type\":\"object\",\"name\":\"Selection\",\"id\":\"p1401\",\"attributes\":{\"indices\":[],\"line_indices\":[]}},\"selection_policy\":{\"type\":\"object\",\"name\":\"UnionRenderers\",\"id\":\"p1402\"},\"data\":{\"type\":\"map\",\"entries\":[[\"x\",{\"type\":\"ndarray\",\"array\":{\"type\":\"bytes\",\"data\":\"AAAAAAEAAAACAAAAAwAAAAQAAAAFAAAABgAAAAcAAAAIAAAACQAAAA==\"},\"shape\":[10],\"dtype\":\"int32\",\"order\":\"little\"}],[\"y\",{\"type\":\"ndarray\",\"array\":{\"type\":\"bytes\",\"data\":\"2S9DYL9Q1j98ioNOf8vYP4aKg05/y8g/9gJjsvVirT/GHhTgMNuGP1OpSDNFYVg/hVcsxykPIj9peQj3i1jiPo1MC/QPdpg+aLErZc1TQz4=\"},\"shape\":[10],\"dtype\":\"float64\",\"order\":\"little\"}]]}}},\"view\":{\"type\":\"object\",\"name\":\"CDSView\",\"id\":\"p1407\",\"attributes\":{\"filter\":{\"type\":\"object\",\"name\":\"AllIndices\",\"id\":\"p1408\"}}},\"glyph\":{\"type\":\"object\",\"name\":\"Scatter\",\"id\":\"p1403\",\"attributes\":{\"x\":{\"type\":\"field\",\"field\":\"x\"},\"y\":{\"type\":\"field\",\"field\":\"y\"},\"line_color\":{\"type\":\"value\",\"value\":\"#1f77b4\"},\"fill_color\":{\"type\":\"value\",\"value\":\"#1f77b4\"}}},\"nonselection_glyph\":{\"type\":\"object\",\"name\":\"Scatter\",\"id\":\"p1404\",\"attributes\":{\"x\":{\"type\":\"field\",\"field\":\"x\"},\"y\":{\"type\":\"field\",\"field\":\"y\"},\"line_color\":{\"type\":\"value\",\"value\":\"#1f77b4\"},\"line_alpha\":{\"type\":\"value\",\"value\":0.1},\"fill_color\":{\"type\":\"value\",\"value\":\"#1f77b4\"},\"fill_alpha\":{\"type\":\"value\",\"value\":0.1},\"hatch_alpha\":{\"type\":\"value\",\"value\":0.1}}},\"muted_glyph\":{\"type\":\"object\",\"name\":\"Scatter\",\"id\":\"p1405\",\"attributes\":{\"x\":{\"type\":\"field\",\"field\":\"x\"},\"y\":{\"type\":\"field\",\"field\":\"y\"},\"line_color\":{\"type\":\"value\",\"value\":\"#1f77b4\"},\"line_alpha\":{\"type\":\"value\",\"value\":0.2},\"fill_color\":{\"type\":\"value\",\"value\":\"#1f77b4\"},\"fill_alpha\":{\"type\":\"value\",\"value\":0.2},\"hatch_alpha\":{\"type\":\"value\",\"value\":0.2}}}}}],\"toolbar\":{\"type\":\"object\",\"name\":\"Toolbar\",\"id\":\"p1365\",\"attributes\":{\"tools\":[{\"type\":\"object\",\"name\":\"PanTool\",\"id\":\"p1378\"},{\"type\":\"object\",\"name\":\"WheelZoomTool\",\"id\":\"p1379\",\"attributes\":{\"renderers\":\"auto\"}},{\"type\":\"object\",\"name\":\"BoxZoomTool\",\"id\":\"p1380\",\"attributes\":{\"dimensions\":\"both\",\"overlay\":{\"type\":\"object\",\"name\":\"BoxAnnotation\",\"id\":\"p1381\",\"attributes\":{\"syncable\":false,\"line_color\":\"black\",\"line_alpha\":1.0,\"line_width\":2,\"line_dash\":[4,4],\"fill_color\":\"lightgrey\",\"fill_alpha\":0.5,\"level\":\"overlay\",\"visible\":false,\"left\":{\"type\":\"number\",\"value\":\"nan\"},\"right\":{\"type\":\"number\",\"value\":\"nan\"},\"top\":{\"type\":\"number\",\"value\":\"nan\"},\"bottom\":{\"type\":\"number\",\"value\":\"nan\"},\"left_units\":\"canvas\",\"right_units\":\"canvas\",\"top_units\":\"canvas\",\"bottom_units\":\"canvas\",\"handles\":{\"type\":\"object\",\"name\":\"BoxInteractionHandles\",\"id\":\"p1387\",\"attributes\":{\"all\":{\"type\":\"object\",\"name\":\"AreaVisuals\",\"id\":\"p1386\",\"attributes\":{\"fill_color\":\"white\",\"hover_fill_color\":\"lightgray\"}}}}}}}},{\"type\":\"object\",\"name\":\"SaveTool\",\"id\":\"p1388\"},{\"type\":\"object\",\"name\":\"ResetTool\",\"id\":\"p1389\"},{\"type\":\"object\",\"name\":\"HelpTool\",\"id\":\"p1390\"}]}},\"left\":[{\"type\":\"object\",\"name\":\"LinearAxis\",\"id\":\"p1373\",\"attributes\":{\"ticker\":{\"type\":\"object\",\"name\":\"BasicTicker\",\"id\":\"p1374\",\"attributes\":{\"mantissas\":[1,2,5]}},\"formatter\":{\"type\":\"object\",\"name\":\"BasicTickFormatter\",\"id\":\"p1375\"},\"axis_label\":\"P(n; N, \\u03b8)\",\"major_label_policy\":{\"type\":\"object\",\"name\":\"AllLabels\",\"id\":\"p1376\"}}}],\"below\":[{\"type\":\"object\",\"name\":\"LinearAxis\",\"id\":\"p1368\",\"attributes\":{\"ticker\":{\"type\":\"object\",\"name\":\"BasicTicker\",\"id\":\"p1369\",\"attributes\":{\"mantissas\":[1,2,5]}},\"formatter\":{\"type\":\"object\",\"name\":\"BasicTickFormatter\",\"id\":\"p1370\"},\"axis_label\":\"n\",\"major_label_policy\":{\"type\":\"object\",\"name\":\"AllLabels\",\"id\":\"p1371\"}}}],\"center\":[{\"type\":\"object\",\"name\":\"Grid\",\"id\":\"p1372\",\"attributes\":{\"axis\":{\"id\":\"p1368\"}}},{\"type\":\"object\",\"name\":\"Grid\",\"id\":\"p1377\",\"attributes\":{\"dimension\":1,\"axis\":{\"id\":\"p1373\"}}}],\"frame_width\":300,\"frame_height\":200}}]}};\n",
       "  const render_items = [{\"docid\":\"afaeb5c8-c05c-4a30-b31a-66989270176f\",\"roots\":{\"p1357\":\"c60ecf8b-a819-4493-93dd-bbbbc5b1f116\"},\"root_ids\":[\"p1357\"]}];\n",
       "  void root.Bokeh.embed.embed_items_notebook(docs_json, render_items);\n",
       "  }\n",
       "  if (root.Bokeh !== undefined) {\n",
       "    embed_document(root);\n",
       "  } else {\n",
       "    let attempts = 0;\n",
       "    const timer = setInterval(function(root) {\n",
       "      if (root.Bokeh !== undefined) {\n",
       "        clearInterval(timer);\n",
       "        embed_document(root);\n",
       "      } else {\n",
       "        attempts++;\n",
       "        if (attempts > 100) {\n",
       "          clearInterval(timer);\n",
       "          console.log(\"Bokeh: ERROR: Unable to run BokehJS code because BokehJS library is missing\");\n",
       "        }\n",
       "      }\n",
       "    }, 10, root)\n",
       "  }\n",
       "})(window);"
      ],
      "application/vnd.bokehjs_exec.v0+json": ""
     },
     "metadata": {
      "application/vnd.bokehjs_exec.v0+json": {
       "id": "p1357"
      }
     },
     "output_type": "display_data"
    }
   ],
   "source": [
    "N = 10\n",
    "theta = 0.1\n",
    "\n",
    "y = np.arange(0, N)\n",
    "y_norm = np.linspace(0, N, 200)\n",
    "\n",
    "binom = st.binom.pmf(y, N, theta)\n",
    "norm = st.norm.pdf(y_norm, N * theta, np.sqrt(N * theta * (1 - theta)))\n",
    "\n",
    "p = bokeh.plotting.figure(\n",
    "    frame_width=300,\n",
    "    frame_height=200,\n",
    "    x_axis_label='n',\n",
    "    y_axis_label='P(n; N, θ)',\n",
    ")\n",
    "p.line(y_norm, norm, color='orange', line_width=2)\n",
    "p.scatter(y, binom)\n",
    "\n",
    "bokeh.io.show(p)"
   ]
  },
  {
   "cell_type": "markdown",
   "metadata": {},
   "source": [
    "Here, we do not match as well, and the tail again falls off too fast. In fact, the Central Limit Theorem says that the Binomial distribution will approach a Normal distribution as $N\\to\\infty$ (not derived here), and this is qualitatively what we see in this exercise. The approximation gets worse as $N$ gets smaller.\n",
    "\n",
    "A plot of the CDFs (not show here) demonstrates that the Normal distribution is shifted rightward from the Binomial it is approximating.\n",
    "\n",
    "In summary, Normal approximations can be useful approximations, but can be very poor approximations if used in the wrong context."
   ]
  },
  {
   "cell_type": "markdown",
   "metadata": {},
   "source": [
    "## Computing environment"
   ]
  },
  {
   "cell_type": "code",
   "execution_count": 9,
   "metadata": {},
   "outputs": [
    {
     "name": "stdout",
     "output_type": "stream",
     "text": [
      "Python implementation: CPython\n",
      "Python version       : 3.13.5\n",
      "IPython version      : 9.4.0\n",
      "\n",
      "numpy     : 2.2.6\n",
      "scipy     : 1.16.0\n",
      "bokeh     : 3.7.3\n",
      "jupyterlab: 4.4.5\n",
      "\n"
     ]
    }
   ],
   "source": [
    "%load_ext watermark\n",
    "%watermark -v -p numpy,scipy,bokeh,jupyterlab"
   ]
  }
 ],
 "metadata": {
  "anaconda-cloud": {},
  "kernelspec": {
   "display_name": "Python 3 (ipykernel)",
   "language": "python",
   "name": "python3"
  },
  "language_info": {
   "codemirror_mode": {
    "name": "ipython",
    "version": 3
   },
   "file_extension": ".py",
   "mimetype": "text/x-python",
   "name": "python",
   "nbconvert_exporter": "python",
   "pygments_lexer": "ipython3",
   "version": "3.13.5"
  }
 },
 "nbformat": 4,
 "nbformat_minor": 4
}
