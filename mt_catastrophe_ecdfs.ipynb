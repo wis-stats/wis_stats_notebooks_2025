{
  "cells": [
    {
      "cell_type": "markdown",
      "id": "d635f4dd-0c4d-496b-af3e-bfbc7c04e39a",
      "metadata": {},
      "source": [
        "# Microtubule catastrophe and ECDFs {#exr-mt-catastrophe-and-ecdfs}\n",
        "\n",
        "[Data set download](https://s3.amazonaws.com/bebi103.caltech.edu/data/gardner_time_to_catastrophe_dic_tidy.csv)\n",
        "\n",
        "<hr />"
      ]
    },
    {
      "cell_type": "markdown",
      "id": "82e9c39c-ab6d-4efe-8f38-870db77625ae",
      "metadata": {},
      "source": [
        "As a reminder, the empirical cumulative distribution function for a set of data point evaluated at x is \n",
        "\n",
        ">ECDF(x) = fraction of data points \u2264 x.\n",
        "\n",
        "The ECDF is defined on the entire real number line, with $\\mathrm{ECDF}(x\\to-\\infty) = 0$ and $\\mathrm{ECDF}(x\\to\\infty) = 1$. However, the ECDF is often plotted as discrete points, $\\{(x_i, y_i)\\}$, where for point $i$, $x_i$ is the value of the measured quantity and $y_i$ is $\\mathrm{ECDF}(x_i)$. For example, if I have a set of measured data with values (1.1, \u20136.7, 2.3, 9.8, 2.3), the points on the ECDF plot are\n",
        "\n",
        "| x      | y   |\n",
        "|:------:|:---:|\n",
        "| \u20136.7  |  0.2 |\n",
        "| 1.1   |  0.4 |\n",
        "| 2.3   |  0.6 |\n",
        "| 2.3   |  0.8 |\n",
        "| 9.8   |  1.0 |\n",
        "\n",
        "In this exercise, you will use a data set we will explore throughout the workshop. [Gardner, Zanic, and coworkers](http://dx.doi.org/10.1016/j.cell.2011.10.037) investigated the dynamics of microtubule catastrophe, the switching of a microtubule from a growing to a shrinking state. In particular, they were interested in the time between the start of growth of a microtubule and the catastrophe event. They monitored microtubules by using tubulin (the monomer that comprises a microtubule) that was labeled with a fluorescent marker. As a control to make sure that fluorescent labels and exposure to laser light did not affect the microtubule dynamics, they performed a similar experiment using differential interference contrast (DIC) microscopy. They measured the time until catastrophe with labeled and unlabeled tubulin.\n",
        "\n",
        "We will look at the data used to generate Fig. 2a of their paper. In the end, you will generate a plot similar to that figure.\n",
        "\n",
        "**a)** Write a function with the call signature `ecdfvals(data)`, which takes a one-dimensional Numpy array (or Polars `Series`; the same construction of your function will work for both) of data and returns the `x` and `y` values as Numpy arrays for plotting the ECDF in the \"dots\" style, as in Fig. 2a of the Gardner, Zanic, et al. paper. As a reminder, \n",
        "\n",
        "> ECDF(*x*) = fraction of data points \u2264 x.\n",
        "\n",
        "Assume that there are no NaNs in the input. When you write this function, you may only use base Python and the standard library, in addition to Numpy and Polars. (iqplot has this functionality built-in, but the point here is to build a more concrete understanding of what an ECDF is.)\n",
        "\n",
        "**b)** Write a function, `ecdfvals_expr(col)`, that returns a Polars `Expression` that will compute the `y` values of an ECDF for a given column, `col`. Again, assume there are no NaNs in the column.\n",
        "\n",
        "**c)** Use either the `ecdfvals()` function or the ecdfvals_expr() function that you wrote to plot the ECDFs shown in Fig. 2a of the Gardner, Zanic, et al. paper. By looking this plot, do you think that the fluorescent labeling makes a difference in the onset of catastrophe? (We will do a more careful statistical inference later in the workshop, but for now, does it pass the eye test? Eye tests are an important part of EDA.) You can access the data set here: [https://s3.amazonaws.com/bebi103.caltech.edu/data/gardner_time_to_catastrophe_dic_tidy.csv](https://s3.amazonaws.com/bebi103.caltech.edu/data/gardner_time_to_catastrophe_dic_tidy.csv)"
      ]
    },
    {
      "cell_type": "markdown",
      "id": "ef241587-1fd7-4ee1-b2ab-b0753362625e",
      "metadata": {},
      "source": [
        "<br />"
      ]
    }
  ],
  "metadata": {
    "kernelspec": {
      "display_name": "default",
      "language": "python",
      "name": "python3"
    },
    "language_info": {
      "codemirror_mode": {
        "name": "ipython",
        "version": 3
      },
      "file_extension": ".py",
      "mimetype": "text/x-python",
      "name": "python",
      "nbconvert_exporter": "python",
      "pygments_lexer": "ipython3",
      "version": "3.13.5"
    }
  },
  "nbformat": 4,
  "nbformat_minor": 5
}