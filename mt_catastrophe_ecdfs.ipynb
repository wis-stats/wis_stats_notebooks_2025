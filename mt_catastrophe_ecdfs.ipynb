{
 "cells": [
  {
   "cell_type": "markdown",
   "id": "d635f4dd-0c4d-496b-af3e-bfbc7c04e39a",
   "metadata": {},
   "source": [
    "# Microtubule catastrophe and ECDFs {#exr-mt-catastrophe-and-ecdfs}\n",
    "\n",
    "[Data set download](https://s3.amazonaws.com/bebi103.caltech.edu/data/gardner_time_to_catastrophe_dic_tidy.csv)\n",
    "\n",
    "<hr />"
   ]
  },
  {
   "cell_type": "markdown",
   "id": "82e9c39c-ab6d-4efe-8f38-870db77625ae",
   "metadata": {},
   "source": [
    "As a reminder, the empirical cumulative distribution function for a set of data point evaluated at x is \n",
    "\n",
    ">ECDF(x) = fraction of data points ≤ x.\n",
    "\n",
    "The ECDF is defined on the entire real number line, with $\\mathrm{ECDF}(x\\to-\\infty) = 0$ and $\\mathrm{ECDF}(x\\to\\infty) = 1$. However, the ECDF is often plotted as discrete points, $\\{(x_i, y_i)\\}$, where for point $i$, $x_i$ is the value of the measured quantity and $y_i$ is $\\mathrm{ECDF}(x_i)$. For example, if I have a set of measured data with values (1.1, –6.7, 2.3, 9.8, 2.3), the points on the ECDF plot are\n",
    "\n",
    "| x      | y   |\n",
    "|:------:|:---:|\n",
    "| –6.7  |  0.2 |\n",
    "| 1.1   |  0.4 |\n",
    "| 2.3   |  0.6 |\n",
    "| 2.3   |  0.8 |\n",
    "| 9.8   |  1.0 |\n",
    "\n",
    "In this exercise, you will use a data set we will explore throughout the workshop. [Gardner, Zanic, and coworkers](http://dx.doi.org/10.1016/j.cell.2011.10.037) investigated the dynamics of microtubule catastrophe, the switching of a microtubule from a growing to a shrinking state. In particular, they were interested in the time between the start of growth of a microtubule and the catastrophe event. They monitored microtubules by using tubulin (the monomer that comprises a microtubule) that was labeled with a fluorescent marker. As a control to make sure that fluorescent labels and exposure to laser light did not affect the microtubule dynamics, they performed a similar experiment using differential interference contrast (DIC) microscopy. They measured the time until catastrophe with labeled and unlabeled tubulin.\n",
    "\n",
    "We will look at the data used to generate Fig. 2a of their paper. In the end, you will generate a plot similar to that figure.\n",
    "\n",
    "**a)** Write a function with the call signature `ecdfvals(data)`, which takes a one-dimensional Numpy array (or Polars `Series`; the same construction of your function will work for both) of data and returns the `x` and `y` values as Numpy arrays for plotting the ECDF in the \"dots\" style, as in Fig. 2a of the Gardner, Zanic, et al. paper. As a reminder, \n",
    "\n",
    "> ECDF(*x*) = fraction of data points ≤ x.\n",
    "\n",
    "Assume that there are no NaNs in the input. When you write this function, you may only use base Python and the standard library, in addition to Numpy and Polars. (iqplot has this functionality built-in, but the point here is to build a more concrete understanding of what an ECDF is.)\n",
    "\n",
    "**b)** Write a function, `ecdfvals_expr(col)`, that returns a Polars `Expression` that will compute the `y` values of an ECDF for a given column, `col`. Again, assume there are no NaNs in the column.\n",
    "\n",
    "**c)** Use either the `ecdfvals()` function or the ecdfvals_expr() function that you wrote to plot the ECDFs shown in Fig. 2a of the Gardner, Zanic, et al. paper. By looking this plot, do you think that the fluorescent labeling makes a difference in the onset of catastrophe? (We will do a more careful statistical inference later in the workshop, but for now, does it pass the eye test? Eye tests are an important part of EDA.) You can access the data set here: [https://s3.amazonaws.com/bebi103.caltech.edu/data/gardner_time_to_catastrophe_dic_tidy.csv](https://s3.amazonaws.com/bebi103.caltech.edu/data/gardner_time_to_catastrophe_dic_tidy.csv)"
   ]
  },
  {
   "cell_type": "markdown",
   "id": "ef241587-1fd7-4ee1-b2ab-b0753362625e",
   "metadata": {},
   "source": [
    "<br />"
   ]
  },
  {
   "cell_type": "markdown",
   "id": "af741dc9-f415-4fcc-a500-0ad27203b9f8",
   "metadata": {},
   "source": [
    "## Solution\n",
    "\n",
    "<hr>"
   ]
  },
  {
   "cell_type": "code",
   "execution_count": 1,
   "id": "4cdba0c2-447c-4a67-be18-8415e535ac71",
   "metadata": {},
   "outputs": [
    {
     "data": {
      "text/html": [
       "    <style>\n",
       "        .bk-notebook-logo {\n",
       "            display: block;\n",
       "            width: 20px;\n",
       "            height: 20px;\n",
       "            background-image: url(data:image/png;base64,iVBORw0KGgoAAAANSUhEUgAAABQAAAAUCAYAAACNiR0NAAAABHNCSVQICAgIfAhkiAAAAAlwSFlzAAALEgAACxIB0t1+/AAAABx0RVh0U29mdHdhcmUAQWRvYmUgRmlyZXdvcmtzIENTNui8sowAAAOkSURBVDiNjZRtaJVlGMd/1/08zzln5zjP1LWcU9N0NkN8m2CYjpgQYQXqSs0I84OLIC0hkEKoPtiH3gmKoiJDU7QpLgoLjLIQCpEsNJ1vqUOdO7ppbuec5+V+rj4ctwzd8IIbbi6u+8f1539dt3A78eXC7QizUF7gyV1fD1Yqg4JWz84yffhm0qkFqBogB9rM8tZdtwVsPUhWhGcFJngGeWrPzHm5oaMmkfEg1usvLFyc8jLRqDOMru7AyC8saQr7GG7f5fvDeH7Ej8CM66nIF+8yngt6HWaKh7k49Soy9nXurCi1o3qUbS3zWfrYeQDTB/Qj6kX6Ybhw4B+bOYoLKCC9H3Nu/leUTZ1JdRWkkn2ldcCamzrcf47KKXdAJllSlxAOkRgyHsGC/zRday5Qld9DyoM4/q/rUoy/CXh3jzOu3bHUVZeU+DEn8FInkPBFlu3+nW3Nw0mk6vCDiWg8CeJaxEwuHS3+z5RgY+YBR6V1Z1nxSOfoaPa4LASWxxdNp+VWTk7+4vzaou8v8PN+xo+KY2xsw6une2frhw05CTYOmQvsEhjhWjn0bmXPjpE1+kplmmkP3suftwTubK9Vq22qKmrBhpY4jvd5afdRA3wGjFAgcnTK2s4hY0/GPNIb0nErGMCRxWOOX64Z8RAC4oCXdklmEvcL8o0BfkNK4lUg9HTl+oPlQxdNo3Mg4Nv175e/1LDGzZen30MEjRUtmXSfiTVu1kK8W4txyV6BMKlbgk3lMwYCiusNy9fVfvvwMxv8Ynl6vxoByANLTWplvuj/nF9m2+PDtt1eiHPBr1oIfhCChQMBw6Aw0UulqTKZdfVvfG7VcfIqLG9bcldL/+pdWTLxLUy8Qq38heUIjh4XlzZxzQm19lLFlr8vdQ97rjZVOLf8nclzckbcD4wxXMidpX30sFd37Fv/GtwwhzhxGVAprjbg0gCAEeIgwCZyTV2Z1REEW8O4py0wsjeloKoMr6iCY6dP92H6Vw/oTyICIthibxjm/DfN9lVz8IqtqKYLUXfoKVMVQVVJOElGjrnnUt9T9wbgp8AyYKaGlqingHZU/uG2NTZSVqwHQTWkx9hxjkpWDaCg6Ckj5qebgBVbT3V3NNXMSiWSDdGV3hrtzla7J+duwPOToIg42ChPQOQjspnSlp1V+Gjdged7+8UN5CRAV7a5EdFNwCjEaBR27b3W890TE7g24NAP/mMDXRWrGoFPQI9ls/MWO2dWFAar/xcOIImbbpA3zgAAAABJRU5ErkJggg==);\n",
       "        }\n",
       "    </style>\n",
       "    <div>\n",
       "        <a href=\"https://bokeh.org\" target=\"_blank\" class=\"bk-notebook-logo\"></a>\n",
       "        <span id=\"ac6ec5da-f2bd-48fd-a6f8-62e14ccfaae9\">Loading BokehJS ...</span>\n",
       "    </div>\n"
      ]
     },
     "metadata": {},
     "output_type": "display_data"
    },
    {
     "data": {
      "application/javascript": "'use strict';\n(function(root) {\n  function now() {\n    return new Date();\n  }\n\n  const force = true;\n\n  if (typeof root._bokeh_onload_callbacks === \"undefined\" || force === true) {\n    root._bokeh_onload_callbacks = [];\n    root._bokeh_is_loading = undefined;\n  }\n\nconst JS_MIME_TYPE = 'application/javascript';\n  const HTML_MIME_TYPE = 'text/html';\n  const EXEC_MIME_TYPE = 'application/vnd.bokehjs_exec.v0+json';\n  const CLASS_NAME = 'output_bokeh rendered_html';\n\n  /**\n   * Render data to the DOM node\n   */\n  function render(props, node) {\n    const script = document.createElement(\"script\");\n    node.appendChild(script);\n  }\n\n  /**\n   * Handle when an output is cleared or removed\n   */\n  function handleClearOutput(event, handle) {\n    function drop(id) {\n      const view = Bokeh.index.get_by_id(id)\n      if (view != null) {\n        view.model.document.clear()\n        Bokeh.index.delete(view)\n      }\n    }\n\n    const cell = handle.cell;\n\n    const id = cell.output_area._bokeh_element_id;\n    const server_id = cell.output_area._bokeh_server_id;\n\n    // Clean up Bokeh references\n    if (id != null) {\n      drop(id)\n    }\n\n    if (server_id !== undefined) {\n      // Clean up Bokeh references\n      const cmd_clean = \"from bokeh.io.state import curstate; print(curstate().uuid_to_server['\" + server_id + \"'].get_sessions()[0].document.roots[0]._id)\";\n      cell.notebook.kernel.execute(cmd_clean, {\n        iopub: {\n          output: function(msg) {\n            const id = msg.content.text.trim()\n            drop(id)\n          }\n        }\n      });\n      // Destroy server and session\n      const cmd_destroy = \"import bokeh.io.notebook as ion; ion.destroy_server('\" + server_id + \"')\";\n      cell.notebook.kernel.execute(cmd_destroy);\n    }\n  }\n\n  /**\n   * Handle when a new output is added\n   */\n  function handleAddOutput(event, handle) {\n    const output_area = handle.output_area;\n    const output = handle.output;\n\n    // limit handleAddOutput to display_data with EXEC_MIME_TYPE content only\n    if ((output.output_type != \"display_data\") || (!Object.prototype.hasOwnProperty.call(output.data, EXEC_MIME_TYPE))) {\n      return\n    }\n\n    const toinsert = output_area.element.find(\".\" + CLASS_NAME.split(' ')[0]);\n\n    if (output.metadata[EXEC_MIME_TYPE][\"id\"] !== undefined) {\n      toinsert[toinsert.length - 1].firstChild.textContent = output.data[JS_MIME_TYPE];\n      // store reference to embed id on output_area\n      output_area._bokeh_element_id = output.metadata[EXEC_MIME_TYPE][\"id\"];\n    }\n    if (output.metadata[EXEC_MIME_TYPE][\"server_id\"] !== undefined) {\n      const bk_div = document.createElement(\"div\");\n      bk_div.innerHTML = output.data[HTML_MIME_TYPE];\n      const script_attrs = bk_div.children[0].attributes;\n      for (let i = 0; i < script_attrs.length; i++) {\n        toinsert[toinsert.length - 1].firstChild.setAttribute(script_attrs[i].name, script_attrs[i].value);\n        toinsert[toinsert.length - 1].firstChild.textContent = bk_div.children[0].textContent\n      }\n      // store reference to server id on output_area\n      output_area._bokeh_server_id = output.metadata[EXEC_MIME_TYPE][\"server_id\"];\n    }\n  }\n\n  function register_renderer(events, OutputArea) {\n\n    function append_mime(data, metadata, element) {\n      // create a DOM node to render to\n      const toinsert = this.create_output_subarea(\n        metadata,\n        CLASS_NAME,\n        EXEC_MIME_TYPE\n      );\n      this.keyboard_manager.register_events(toinsert);\n      // Render to node\n      const props = {data: data, metadata: metadata[EXEC_MIME_TYPE]};\n      render(props, toinsert[toinsert.length - 1]);\n      element.append(toinsert);\n      return toinsert\n    }\n\n    /* Handle when an output is cleared or removed */\n    events.on('clear_output.CodeCell', handleClearOutput);\n    events.on('delete.Cell', handleClearOutput);\n\n    /* Handle when a new output is added */\n    events.on('output_added.OutputArea', handleAddOutput);\n\n    /**\n     * Register the mime type and append_mime function with output_area\n     */\n    OutputArea.prototype.register_mime_type(EXEC_MIME_TYPE, append_mime, {\n      /* Is output safe? */\n      safe: true,\n      /* Index of renderer in `output_area.display_order` */\n      index: 0\n    });\n  }\n\n  // register the mime type if in Jupyter Notebook environment and previously unregistered\n  if (root.Jupyter !== undefined) {\n    const events = require('base/js/events');\n    const OutputArea = require('notebook/js/outputarea').OutputArea;\n\n    if (OutputArea.prototype.mime_types().indexOf(EXEC_MIME_TYPE) == -1) {\n      register_renderer(events, OutputArea);\n    }\n  }\n  if (typeof (root._bokeh_timeout) === \"undefined\" || force === true) {\n    root._bokeh_timeout = Date.now() + 5000;\n    root._bokeh_failed_load = false;\n  }\n\n  const NB_LOAD_WARNING = {'data': {'text/html':\n     \"<div style='background-color: #fdd'>\\n\"+\n     \"<p>\\n\"+\n     \"BokehJS does not appear to have successfully loaded. If loading BokehJS from CDN, this \\n\"+\n     \"may be due to a slow or bad network connection. Possible fixes:\\n\"+\n     \"</p>\\n\"+\n     \"<ul>\\n\"+\n     \"<li>re-rerun `output_notebook()` to attempt to load from CDN again, or</li>\\n\"+\n     \"<li>use INLINE resources instead, as so:</li>\\n\"+\n     \"</ul>\\n\"+\n     \"<code>\\n\"+\n     \"from bokeh.resources import INLINE\\n\"+\n     \"output_notebook(resources=INLINE)\\n\"+\n     \"</code>\\n\"+\n     \"</div>\"}};\n\n  function display_loaded(error = null) {\n    const el = document.getElementById(\"ac6ec5da-f2bd-48fd-a6f8-62e14ccfaae9\");\n    if (el != null) {\n      const html = (() => {\n        if (typeof root.Bokeh === \"undefined\") {\n          if (error == null) {\n            return \"BokehJS is loading ...\";\n          } else {\n            return \"BokehJS failed to load.\";\n          }\n        } else {\n          const prefix = `BokehJS ${root.Bokeh.version}`;\n          if (error == null) {\n            return `${prefix} successfully loaded.`;\n          } else {\n            return `${prefix} <b>encountered errors</b> while loading and may not function as expected.`;\n          }\n        }\n      })();\n      el.innerHTML = html;\n\n      if (error != null) {\n        const wrapper = document.createElement(\"div\");\n        wrapper.style.overflow = \"auto\";\n        wrapper.style.height = \"5em\";\n        wrapper.style.resize = \"vertical\";\n        const content = document.createElement(\"div\");\n        content.style.fontFamily = \"monospace\";\n        content.style.whiteSpace = \"pre-wrap\";\n        content.style.backgroundColor = \"rgb(255, 221, 221)\";\n        content.textContent = error.stack ?? error.toString();\n        wrapper.append(content);\n        el.append(wrapper);\n      }\n    } else if (Date.now() < root._bokeh_timeout) {\n      setTimeout(() => display_loaded(error), 100);\n    }\n  }\n\n  function run_callbacks() {\n    try {\n      root._bokeh_onload_callbacks.forEach(function(callback) {\n        if (callback != null)\n          callback();\n      });\n    } finally {\n      delete root._bokeh_onload_callbacks\n    }\n    console.debug(\"Bokeh: all callbacks have finished\");\n  }\n\n  function load_libs(css_urls, js_urls, callback) {\n    if (css_urls == null) css_urls = [];\n    if (js_urls == null) js_urls = [];\n\n    root._bokeh_onload_callbacks.push(callback);\n    if (root._bokeh_is_loading > 0) {\n      console.debug(\"Bokeh: BokehJS is being loaded, scheduling callback at\", now());\n      return null;\n    }\n    if (js_urls == null || js_urls.length === 0) {\n      run_callbacks();\n      return null;\n    }\n    console.debug(\"Bokeh: BokehJS not loaded, scheduling load and callback at\", now());\n    root._bokeh_is_loading = css_urls.length + js_urls.length;\n\n    function on_load() {\n      root._bokeh_is_loading--;\n      if (root._bokeh_is_loading === 0) {\n        console.debug(\"Bokeh: all BokehJS libraries/stylesheets loaded\");\n        run_callbacks()\n      }\n    }\n\n    function on_error(url) {\n      console.error(\"failed to load \" + url);\n    }\n\n    for (let i = 0; i < css_urls.length; i++) {\n      const url = css_urls[i];\n      const element = document.createElement(\"link\");\n      element.onload = on_load;\n      element.onerror = on_error.bind(null, url);\n      element.rel = \"stylesheet\";\n      element.type = \"text/css\";\n      element.href = url;\n      console.debug(\"Bokeh: injecting link tag for BokehJS stylesheet: \", url);\n      document.body.appendChild(element);\n    }\n\n    for (let i = 0; i < js_urls.length; i++) {\n      const url = js_urls[i];\n      const element = document.createElement('script');\n      element.onload = on_load;\n      element.onerror = on_error.bind(null, url);\n      element.async = false;\n      element.src = url;\n      console.debug(\"Bokeh: injecting script tag for BokehJS library: \", url);\n      document.head.appendChild(element);\n    }\n  };\n\n  function inject_raw_css(css) {\n    const element = document.createElement(\"style\");\n    element.appendChild(document.createTextNode(css));\n    document.body.appendChild(element);\n  }\n\n  const js_urls = [\"https://cdn.bokeh.org/bokeh/release/bokeh-3.7.3.min.js\", \"https://cdn.bokeh.org/bokeh/release/bokeh-gl-3.7.3.min.js\", \"https://cdn.bokeh.org/bokeh/release/bokeh-widgets-3.7.3.min.js\", \"https://cdn.bokeh.org/bokeh/release/bokeh-tables-3.7.3.min.js\", \"https://cdn.bokeh.org/bokeh/release/bokeh-mathjax-3.7.3.min.js\"];\n  const css_urls = [];\n\n  const inline_js = [    function(Bokeh) {\n      Bokeh.set_log_level(\"info\");\n    },\nfunction(Bokeh) {\n    }\n  ];\n\n  function run_inline_js() {\n    if (root.Bokeh !== undefined || force === true) {\n      try {\n            for (let i = 0; i < inline_js.length; i++) {\n      inline_js[i].call(root, root.Bokeh);\n    }\n\n      } catch (error) {display_loaded(error);throw error;\n      }if (force === true) {\n        display_loaded();\n      }} else if (Date.now() < root._bokeh_timeout) {\n      setTimeout(run_inline_js, 100);\n    } else if (!root._bokeh_failed_load) {\n      console.log(\"Bokeh: BokehJS failed to load within specified timeout.\");\n      root._bokeh_failed_load = true;\n    } else if (force !== true) {\n      const cell = $(document.getElementById(\"ac6ec5da-f2bd-48fd-a6f8-62e14ccfaae9\")).parents('.cell').data().cell;\n      cell.output_area.append_execute_result(NB_LOAD_WARNING)\n    }\n  }\n\n  if (root._bokeh_is_loading === 0) {\n    console.debug(\"Bokeh: BokehJS loaded, going straight to plotting\");\n    run_inline_js();\n  } else {\n    load_libs(css_urls, js_urls, function() {\n      console.debug(\"Bokeh: BokehJS plotting callback run at\", now());\n      run_inline_js();\n    });\n  }\n}(window));",
      "application/vnd.bokehjs_load.v0+json": ""
     },
     "metadata": {},
     "output_type": "display_data"
    }
   ],
   "source": [
    "import numpy as np\n",
    "import polars as pl\n",
    "\n",
    "import bokeh.io\n",
    "import bokeh.plotting\n",
    "bokeh.io.output_notebook()"
   ]
  },
  {
   "cell_type": "markdown",
   "id": "377a73e1-8a47-483c-9b15-2706c79477e3",
   "metadata": {},
   "source": [
    "**a)** First, we write a function to compute the `x` and `y` values for plotting an ECDF. To do this, the `x` values are simply the sorted data set and the `y` values go from `1/n` to `1`, where `n` is the total number of data points."
   ]
  },
  {
   "cell_type": "code",
   "execution_count": 2,
   "id": "4ce12c62-5be2-47ff-a640-303df225c20c",
   "metadata": {},
   "outputs": [],
   "source": [
    "def ecdfvals(data):\n",
    "    \"\"\"\n",
    "    Compute `x` and `y` values for plotting an ECDF.\n",
    "    \n",
    "    Parameters\n",
    "    ----------\n",
    "    data : array_like\n",
    "        Array of data to be plotted as an ECDF.\n",
    "        \n",
    "    Returns\n",
    "    -------\n",
    "    x : array\n",
    "        `x` values for plotting\n",
    "    y : array\n",
    "        `y` values for plotting    \n",
    "    \"\"\"\n",
    "    return np.sort(data), np.arange(1, len(data)+1) / len(data)"
   ]
  },
  {
   "cell_type": "markdown",
   "id": "8d2c2829-ba00-45d9-b17f-a9fd2c2e5bb5",
   "metadata": {},
   "source": [
    "**b)** To write the function for application to a data frame, we do not have the luxury of sorting because this would disrupt the ordering of the data frame. We can, however, use the `rank()` function for our purposes."
   ]
  },
  {
   "cell_type": "code",
   "execution_count": 3,
   "id": "0c5f214d-4a5a-404e-944b-bd016527fcd9",
   "metadata": {},
   "outputs": [],
   "source": [
    "def ecdfvals_expr(col):\n",
    "    \"\"\"Return a Polar Expression for ECDF values\"\"\"\n",
    "    return col.rank(method=\"ordinal\") / col.len()"
   ]
  },
  {
   "cell_type": "markdown",
   "id": "98a7f4d3-689b-40bb-a386-829ccc832354",
   "metadata": {},
   "source": [
    "**c)** With our function in hand, we can easily compute the x and y values for the plot. We can pass Numpy arrays directly into `p.scatter()`."
   ]
  },
  {
   "cell_type": "code",
   "execution_count": 4,
   "id": "48f9a4f2-b0ee-4ea2-bd9e-96f7ff860160",
   "metadata": {},
   "outputs": [
    {
     "data": {
      "text/html": [
       "\n",
       "  <div id=\"f5804ac4-1e74-4618-a2b6-53a68706fede\" data-root-id=\"p1003\" style=\"display: contents;\"></div>\n"
      ]
     },
     "metadata": {},
     "output_type": "display_data"
    },
    {
     "data": {
      "application/javascript": "(function(root) {\n  function embed_document(root) {\n  const docs_json = {\"2eb1a184-096a-47f0-9421-bca407894eea\":{\"version\":\"3.7.3\",\"title\":\"Bokeh Application\",\"roots\":[{\"type\":\"object\",\"name\":\"Figure\",\"id\":\"p1003\",\"attributes\":{\"x_range\":{\"type\":\"object\",\"name\":\"DataRange1d\",\"id\":\"p1004\"},\"y_range\":{\"type\":\"object\",\"name\":\"DataRange1d\",\"id\":\"p1005\"},\"x_scale\":{\"type\":\"object\",\"name\":\"LinearScale\",\"id\":\"p1012\"},\"y_scale\":{\"type\":\"object\",\"name\":\"LinearScale\",\"id\":\"p1013\"},\"title\":{\"type\":\"object\",\"name\":\"Title\",\"id\":\"p1010\"},\"renderers\":[{\"type\":\"object\",\"name\":\"GlyphRenderer\",\"id\":\"p1043\",\"attributes\":{\"data_source\":{\"type\":\"object\",\"name\":\"ColumnDataSource\",\"id\":\"p1037\",\"attributes\":{\"selected\":{\"type\":\"object\",\"name\":\"Selection\",\"id\":\"p1038\",\"attributes\":{\"indices\":[],\"line_indices\":[]}},\"selection_policy\":{\"type\":\"object\",\"name\":\"UnionRenderers\",\"id\":\"p1039\"},\"data\":{\"type\":\"map\",\"entries\":[[\"x\",{\"type\":\"ndarray\",\"array\":{\"type\":\"bytes\",\"data\":\"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\"},\"shape\":[211],\"dtype\":\"float64\",\"order\":\"little\"}],[\"y\",{\"type\":\"ndarray\",\"array\":{\"type\":\"bytes\",\"data\":\"SAfe841pcz9IB97zjWmDP+sKze1UHo0/SAfe841pkz8ZidVw8UOYP+sKze1UHp0/X0ZiNVz8oD9IB97zjWmjPzHIWbK/1qU/GYnVcPFDqD8CSlEvI7GqP+sKze1UHq0/1MtIrIaLrz9fRmI1XPywP9MmoBT1MrI/SAfe841psz+85xvTJqC0PzHIWbK/1rU/paiXkVgNtz8ZidVw8UO4P45pE1CKerk/AkpRLyOxuj93Ko8OvOe7P+sKze1UHr0/YOsKze1Uvj/Uy0ishou/PyRWw8UPYcA/X0ZiNVz8wD+ZNgGlqJfBP9MmoBT1MsI/DRc/hEHOwj9IB97zjWnDP4L3fGPaBMQ/vOcb0yagxD/217pCczvFPzHIWbK/1sU/a7j4IQxyxj+lqJeRWA3HP9+YNgGlqMc/GYnVcPFDyD9UeXTgPd/IP45pE1CKesk/yFmyv9YVyj8CSlEvI7HKPz068J5vTMs/dyqPDrznyz+xGi5+CIPMP+sKze1UHs0/JvtrXaG5zT9g6wrN7VTOP5rbqTw68M4/1MtIrIaLzz8H3vONaRPQPyRWw8UPYdA/Qs6S/bWu0D9fRmI1XPzQP3y+MW0CStE/mTYBpaiX0T+2rtDcTuXRP9MmoBT1MtI/8J5vTJuA0j8NFz+EQc7SPyqPDrznG9M/SAfe841p0z9lf60rNLfTP4L3fGPaBNQ/n29Mm4BS1D+85xvTJqDUP9lf6wrN7dQ/9te6QnM71T8TUIp6GYnVPzHIWbK/1tU/TkAp6mUk1j9ruPghDHLWP4gwyFmyv9Y/paiXkVgN1z/CIGfJ/lrXP9+YNgGlqNc//BAGOUv21z8ZidVw8UPYPzcBpaiXkdg/VHl04D3f2D9x8UMY5CzZP45pE1CKetk/q+HihzDI2T/IWbK/1hXaP+XRgfd8Y9o/AkpRLyOx2j8gwiBnyf7aPz068J5vTNs/WrK/1hWa2z93Ko8OvOfbP5SiXkZiNdw/sRoufgiD3D/Okv21rtDcP+sKze1UHt0/CIOcJftr3T8m+2tdobndP0NzO5VHB94/YOsKze1U3j99Y9oElKLeP5rbqTw68N4/t1N5dOA93z/Uy0ishovfP/FDGOQs2d8/B97zjWkT4D8WmtupPDrgPyRWw8UPYeA/MxKr4eKH4D9CzpL9ta7gP1CKehmJ1eA/X0ZiNVz84D9tAkpRLyPhP3y+MW0CSuE/inoZidVw4T+ZNgGlqJfhP6fy6MB7vuE/tq7Q3E7l4T/Farj4IQziP9MmoBT1MuI/4uKHMMhZ4j/wnm9Mm4DiP/9aV2hup+I/DRc/hEHO4j8c0yagFPXiPyqPDrznG+M/OUv217pC4z9IB97zjWnjP1bDxQ9hkOM/ZX+tKzS34z9zO5VHB97jP4L3fGPaBOQ/kLNkf60r5D+fb0ybgFLkP60rNLdTeeQ/vOcb0yag5D/LowPv+cbkP9lf6wrN7eQ/6BvTJqAU5T/217pCczvlPwWUol5GYuU/E1CKehmJ5T8iDHKW7K/lPzHIWbK/1uU/P4RBzpL95T9OQCnqZSTmP1z8EAY5S+Y/a7j4IQxy5j95dOA935jmP4gwyFmyv+Y/luyvdYXm5j+lqJeRWA3nP7Rkf60rNOc/wiBnyf5a5z/R3E7l0YHnP9+YNgGlqOc/7lQeHXjP5z/8EAY5S/bnPwvN7VQeHeg/GYnVcPFD6D8oRb2MxGroPzcBpaiXkeg/Rb2MxGq46D9UeXTgPd/oP2I1XPwQBuk/cfFDGOQs6T9/rSs0t1PpP45pE1CKeuk/nSX7a12h6T+r4eKHMMjpP7qdyqMD7+k/yFmyv9YV6j/XFZrbqTzqP+XRgfd8Y+o/9I1pE1CK6j8CSlEvI7HqPxEGOUv21+o/IMIgZ8n+6j8ufgiDnCXrPz068J5vTOs/S/bXukJz6z9asr/WFZrrP2hup/LowOs/dyqPDrzn6z+F5nYqjw7sP5SiXkZiNew/o15GYjVc7D+xGi5+CIPsP8DWFZrbqew/zpL9ta7Q7D/dTuXRgffsP+sKze1UHu0/+sa0CShF7T8Ig5wl+2vtPxc/hEHOku0/JvtrXaG57T80t1N5dODtP0NzO5VHB+4/US8jsRou7j9g6wrN7VTuP26n8ujAe+4/fWPaBJSi7j+MH8IgZ8nuP5rbqTw68O4/qZeRWA0X7z+3U3l04D3vP8YPYZCzZO8/1MtIrIaL7z/jhzDIWbLvP/FDGOQs2e8/AAAAAAAA8D8=\"},\"shape\":[211],\"dtype\":\"float64\",\"order\":\"little\"}]]}}},\"view\":{\"type\":\"object\",\"name\":\"CDSView\",\"id\":\"p1044\",\"attributes\":{\"filter\":{\"type\":\"object\",\"name\":\"AllIndices\",\"id\":\"p1045\"}}},\"glyph\":{\"type\":\"object\",\"name\":\"Scatter\",\"id\":\"p1040\",\"attributes\":{\"x\":{\"type\":\"field\",\"field\":\"x\"},\"y\":{\"type\":\"field\",\"field\":\"y\"},\"line_color\":{\"type\":\"value\",\"value\":\"#1f77b4\"},\"fill_color\":{\"type\":\"value\",\"value\":\"#1f77b4\"}}},\"nonselection_glyph\":{\"type\":\"object\",\"name\":\"Scatter\",\"id\":\"p1041\",\"attributes\":{\"x\":{\"type\":\"field\",\"field\":\"x\"},\"y\":{\"type\":\"field\",\"field\":\"y\"},\"line_color\":{\"type\":\"value\",\"value\":\"#1f77b4\"},\"line_alpha\":{\"type\":\"value\",\"value\":0.1},\"fill_color\":{\"type\":\"value\",\"value\":\"#1f77b4\"},\"fill_alpha\":{\"type\":\"value\",\"value\":0.1},\"hatch_alpha\":{\"type\":\"value\",\"value\":0.1}}},\"muted_glyph\":{\"type\":\"object\",\"name\":\"Scatter\",\"id\":\"p1042\",\"attributes\":{\"x\":{\"type\":\"field\",\"field\":\"x\"},\"y\":{\"type\":\"field\",\"field\":\"y\"},\"line_color\":{\"type\":\"value\",\"value\":\"#1f77b4\"},\"line_alpha\":{\"type\":\"value\",\"value\":0.2},\"fill_color\":{\"type\":\"value\",\"value\":\"#1f77b4\"},\"fill_alpha\":{\"type\":\"value\",\"value\":0.2},\"hatch_alpha\":{\"type\":\"value\",\"value\":0.2}}}}},{\"type\":\"object\",\"name\":\"GlyphRenderer\",\"id\":\"p1054\",\"attributes\":{\"data_source\":{\"type\":\"object\",\"name\":\"ColumnDataSource\",\"id\":\"p1048\",\"attributes\":{\"selected\":{\"type\":\"object\",\"name\":\"Selection\",\"id\":\"p1049\",\"attributes\":{\"indices\":[],\"line_indices\":[]}},\"selection_policy\":{\"type\":\"object\",\"name\":\"UnionRenderers\",\"id\":\"p1050\"},\"data\":{\"type\":\"map\",\"entries\":[[\"x\",{\"type\":\"ndarray\",\"array\":{\"type\":\"bytes\",\"data\":\"VVVVVVVV5T8AAAAAAADwPwAAAAAAAPQ/VVVVVVVV9T+rqqqqqqr2P6uqqqqqqvY/q6qqqqqqAECrqqqqqqoAQFVVVVVVVQFAVVVVVVVVAUAAAAAAAAACQKuqqqqqqgJAVVVVVVVVA0BVVVVVVVUDQFVVVVVVVQNAAAAAAAAABECrqqqqqqoEQKuqqqqqqgRAVVVVVVVVBUBVVVVVVVUFQAAAAAAAAAZAq6qqqqqqBkAAAAAAAAAIQAAAAAAAAAhAAAAAAAAACEAAAAAAAAAIQFVVVVVVVQlAAAAAAAAACkAAAAAAAAAMQKuqqqqqqgxAVVVVVVVVD0BVVVVVVVUPQFVVVVVVVQ9AVVVVVVVVEECrqqqqqqoQQKuqqqqqqhFAq6qqqqqqEUCrqqqqqqoSQKuqqqqqqhNAVVVVVVVVFEBVVVVVVVUUQFVVVVVVVRVAAAAAAAAAFkBVVVVVVVUWQFVVVVVVVRdAq6qqqqqqF0CrqqqqqqoXQAAAAAAAABhAq6qqqqqqGECrqqqqqqoYQFVVVVVVVRlAAAAAAAAAGkBVVVVVVVUaQKuqqqqqqhpAAAAAAAAAG0AAAAAAAAAbQFVVVVVVVRtAq6qqqqqqG0AAAAAAAAAcQAAAAAAAABxAVVVVVVVVHECrqqqqqqodQKuqqqqqqh1Aq6qqqqqqHkCrqqqqqqoeQKuqqqqqqh5AVVVVVVVVIEAAAAAAAIAgQKuqqqqqqiBAVVVVVVXVIEAAAAAAAAAhQAAAAAAAgCFAAAAAAACAIUAAAAAAAAAiQAAAAAAAACJAq6qqqqoqI0AAAAAAAAAkQAAAAAAAgCRAVVVVVVVVJUAAAAAAAAAmQFVVVVVVVSZAq6qqqqoqJ0BVVVVVVVUnQAAAAAAAgChAVVVVVVXVKEAAAAAAAAApQAAAAAAAgClAq6qqqqqqKUAAAAAAAAAtQKuqqqqqqi9AAAAAAACAMkBVVVVVVRUzQKuqqqqq6jRAAAAAAACAN0AAAAAAAEA+QA==\"},\"shape\":[95],\"dtype\":\"float64\",\"order\":\"little\"}],[\"y\",{\"type\":\"ndarray\",\"array\":{\"type\":\"bytes\",\"data\":\"7ViBMNKOhT/tWIEw0o6VP7ICYaQdK6A/7ViBMNKOpT8or6G8hvKqP7ICYaQdK7A/zy1x6vfcsj/tWIEw0o61PwuEkXasQLg/KK+hvIbyuj9G2rECYaS9P7ICYaQdK8A/QRhpxwqEwT/PLXHq99zCP15DeQ3lNcQ/7ViBMNKOxT98bolTv+fGPwuEkXasQMg/mpmZmZmZyT8or6G8hvLKP7fEqd9zS8w/RtqxAmGkzT/V77klTv3OP7ICYaQdK9A/eQ3lNZTX0D9BGGnHCoTRPwgj7ViBMNI/zy1x6vfc0j+XOPV7bonTP15DeQ3lNdQ/Jk79nlvi1D/tWIEw0o7VP7VjBcJIO9Y/fG6JU7/n1j9DeQ3lNZTXPwuEkXasQNg/0o4VCCPt2D+amZmZmZnZP2GkHSsQRto/KK+hvIby2j/wuSVO/Z7bP7fEqd9zS9w/f88tcer33D9G2rECYaTdPw3lNZTXUN4/1e+5JU793j+c+j23xKnfP7ICYaQdK+A/Fggj7ViB4D95DeU1lNfgP90Sp37PLeE/QRhpxwqE4T+kHSsQRtrhPwgj7ViBMOI/bCivobyG4j/PLXHq99ziPzMzMzMzM+M/lzj1e26J4z/7PbfEqd/jP15DeQ3lNeQ/wkg7ViCM5D8mTv2eW+LkP4lTv+eWOOU/7ViBMNKO5T9RXkN5DeXlP7VjBcJIO+Y/GGnHCoSR5j98bolTv+fmP+BzS5z6Pec/Q3kN5TWU5z+nfs8tcernPwuEkXasQOg/bolTv+eW6D/SjhUII+3oPzaU11BeQ+k/mpmZmZmZ6T/9nlvi1O/pP2GkHSsQRuo/xanfc0uc6j8or6G8hvLqP4y0YwXCSOs/8LklTv2e6z9Uv+eWOPXrP7fEqd9zS+w/G8prKK+h7D9/zy1x6vfsP+LU77klTu0/RtqxAmGk7T+q33NLnPrtPw3lNZTXUO4/cer33BKn7j/V77klTv3uPzn1e26JU+8/nPo9t8Sp7z8AAAAAAADwPw==\"},\"shape\":[95],\"dtype\":\"float64\",\"order\":\"little\"}]]}}},\"view\":{\"type\":\"object\",\"name\":\"CDSView\",\"id\":\"p1055\",\"attributes\":{\"filter\":{\"type\":\"object\",\"name\":\"AllIndices\",\"id\":\"p1056\"}}},\"glyph\":{\"type\":\"object\",\"name\":\"Scatter\",\"id\":\"p1051\",\"attributes\":{\"x\":{\"type\":\"field\",\"field\":\"x\"},\"y\":{\"type\":\"field\",\"field\":\"y\"},\"line_color\":{\"type\":\"value\",\"value\":\"orange\"},\"fill_color\":{\"type\":\"value\",\"value\":\"orange\"},\"hatch_color\":{\"type\":\"value\",\"value\":\"orange\"}}},\"nonselection_glyph\":{\"type\":\"object\",\"name\":\"Scatter\",\"id\":\"p1052\",\"attributes\":{\"x\":{\"type\":\"field\",\"field\":\"x\"},\"y\":{\"type\":\"field\",\"field\":\"y\"},\"line_color\":{\"type\":\"value\",\"value\":\"orange\"},\"line_alpha\":{\"type\":\"value\",\"value\":0.1},\"fill_color\":{\"type\":\"value\",\"value\":\"orange\"},\"fill_alpha\":{\"type\":\"value\",\"value\":0.1},\"hatch_color\":{\"type\":\"value\",\"value\":\"orange\"},\"hatch_alpha\":{\"type\":\"value\",\"value\":0.1}}},\"muted_glyph\":{\"type\":\"object\",\"name\":\"Scatter\",\"id\":\"p1053\",\"attributes\":{\"x\":{\"type\":\"field\",\"field\":\"x\"},\"y\":{\"type\":\"field\",\"field\":\"y\"},\"line_color\":{\"type\":\"value\",\"value\":\"orange\"},\"line_alpha\":{\"type\":\"value\",\"value\":0.2},\"fill_color\":{\"type\":\"value\",\"value\":\"orange\"},\"fill_alpha\":{\"type\":\"value\",\"value\":0.2},\"hatch_color\":{\"type\":\"value\",\"value\":\"orange\"},\"hatch_alpha\":{\"type\":\"value\",\"value\":0.2}}}}}],\"toolbar\":{\"type\":\"object\",\"name\":\"Toolbar\",\"id\":\"p1011\",\"attributes\":{\"tools\":[{\"type\":\"object\",\"name\":\"PanTool\",\"id\":\"p1024\"},{\"type\":\"object\",\"name\":\"WheelZoomTool\",\"id\":\"p1025\",\"attributes\":{\"renderers\":\"auto\"}},{\"type\":\"object\",\"name\":\"BoxZoomTool\",\"id\":\"p1026\",\"attributes\":{\"dimensions\":\"both\",\"overlay\":{\"type\":\"object\",\"name\":\"BoxAnnotation\",\"id\":\"p1027\",\"attributes\":{\"syncable\":false,\"line_color\":\"black\",\"line_alpha\":1.0,\"line_width\":2,\"line_dash\":[4,4],\"fill_color\":\"lightgrey\",\"fill_alpha\":0.5,\"level\":\"overlay\",\"visible\":false,\"left\":{\"type\":\"number\",\"value\":\"nan\"},\"right\":{\"type\":\"number\",\"value\":\"nan\"},\"top\":{\"type\":\"number\",\"value\":\"nan\"},\"bottom\":{\"type\":\"number\",\"value\":\"nan\"},\"left_units\":\"canvas\",\"right_units\":\"canvas\",\"top_units\":\"canvas\",\"bottom_units\":\"canvas\",\"handles\":{\"type\":\"object\",\"name\":\"BoxInteractionHandles\",\"id\":\"p1033\",\"attributes\":{\"all\":{\"type\":\"object\",\"name\":\"AreaVisuals\",\"id\":\"p1032\",\"attributes\":{\"fill_color\":\"white\",\"hover_fill_color\":\"lightgray\"}}}}}}}},{\"type\":\"object\",\"name\":\"SaveTool\",\"id\":\"p1034\"},{\"type\":\"object\",\"name\":\"ResetTool\",\"id\":\"p1035\"},{\"type\":\"object\",\"name\":\"HelpTool\",\"id\":\"p1036\"}]}},\"left\":[{\"type\":\"object\",\"name\":\"LinearAxis\",\"id\":\"p1019\",\"attributes\":{\"ticker\":{\"type\":\"object\",\"name\":\"BasicTicker\",\"id\":\"p1020\",\"attributes\":{\"mantissas\":[1,2,5]}},\"formatter\":{\"type\":\"object\",\"name\":\"BasicTickFormatter\",\"id\":\"p1021\"},\"axis_label\":\"ECDF\",\"major_label_policy\":{\"type\":\"object\",\"name\":\"AllLabels\",\"id\":\"p1022\"}}}],\"below\":[{\"type\":\"object\",\"name\":\"LinearAxis\",\"id\":\"p1014\",\"attributes\":{\"ticker\":{\"type\":\"object\",\"name\":\"BasicTicker\",\"id\":\"p1015\",\"attributes\":{\"mantissas\":[1,2,5]}},\"formatter\":{\"type\":\"object\",\"name\":\"BasicTickFormatter\",\"id\":\"p1016\"},\"axis_label\":\"time to catastrophe (min)\",\"major_label_policy\":{\"type\":\"object\",\"name\":\"AllLabels\",\"id\":\"p1017\"}}}],\"center\":[{\"type\":\"object\",\"name\":\"Grid\",\"id\":\"p1018\",\"attributes\":{\"axis\":{\"id\":\"p1014\"}}},{\"type\":\"object\",\"name\":\"Grid\",\"id\":\"p1023\",\"attributes\":{\"dimension\":1,\"axis\":{\"id\":\"p1019\"}}},{\"type\":\"object\",\"name\":\"Legend\",\"id\":\"p1046\",\"attributes\":{\"location\":\"bottom_right\",\"items\":[{\"type\":\"object\",\"name\":\"LegendItem\",\"id\":\"p1047\",\"attributes\":{\"label\":{\"type\":\"value\",\"value\":\"labeled\"},\"renderers\":[{\"id\":\"p1043\"}]}},{\"type\":\"object\",\"name\":\"LegendItem\",\"id\":\"p1057\",\"attributes\":{\"label\":{\"type\":\"value\",\"value\":\"unlabeled\"},\"renderers\":[{\"id\":\"p1054\"}]}}]}}],\"frame_width\":450,\"frame_height\":300}}]}};\n  const render_items = [{\"docid\":\"2eb1a184-096a-47f0-9421-bca407894eea\",\"roots\":{\"p1003\":\"f5804ac4-1e74-4618-a2b6-53a68706fede\"},\"root_ids\":[\"p1003\"]}];\n  void root.Bokeh.embed.embed_items_notebook(docs_json, render_items);\n  }\n  if (root.Bokeh !== undefined) {\n    embed_document(root);\n  } else {\n    let attempts = 0;\n    const timer = setInterval(function(root) {\n      if (root.Bokeh !== undefined) {\n        clearInterval(timer);\n        embed_document(root);\n      } else {\n        attempts++;\n        if (attempts > 100) {\n          clearInterval(timer);\n          console.log(\"Bokeh: ERROR: Unable to run BokehJS code because BokehJS library is missing\");\n        }\n      }\n    }, 10, root)\n  }\n})(window);",
      "application/vnd.bokehjs_exec.v0+json": ""
     },
     "metadata": {
      "application/vnd.bokehjs_exec.v0+json": {
       "id": "p1003"
      }
     },
     "output_type": "display_data"
    }
   ],
   "source": [
    "# Load data set\n",
    "df = pl.read_csv(\"../data/gardner_time_to_catastrophe_dic_tidy.csv\")\n",
    "\n",
    "# Compute x and y values for ECDFs\n",
    "x_labeled, y_labeled = ecdfvals(\n",
    "    df.filter(pl.col(\"labeled\"))[\"time to catastrophe (s)\"]\n",
    "    )\n",
    "x_unlabeled, y_unlabeled = ecdfvals(\n",
    "    df.filter(~pl.col(\"labeled\"))[\"time to catastrophe (s)\"]\n",
    ")\n",
    "\n",
    "# Make the plot\n",
    "p = bokeh.plotting.figure(\n",
    "    frame_width=450,\n",
    "    frame_height=300,\n",
    "    x_axis_label=\"time to catastrophe (min)\",\n",
    "    y_axis_label=\"ECDF\",\n",
    ")\n",
    "p.scatter(x=x_labeled / 60, y=y_labeled, legend_label=\"labeled\")\n",
    "p.scatter(x=x_unlabeled / 60, y=y_unlabeled, color=\"orange\", legend_label=\"unlabeled\")\n",
    "p.legend.location = \"bottom_right\"\n",
    "\n",
    "bokeh.io.show(p)"
   ]
  },
  {
   "cell_type": "markdown",
   "id": "014c9da3-40f4-40af-996f-06072f857bee",
   "metadata": {},
   "source": [
    "Alternatively, we can use our Polars expression."
   ]
  },
  {
   "cell_type": "code",
   "execution_count": 5,
   "id": "49707c64-1d2a-4c47-be2e-9ee064abd056",
   "metadata": {},
   "outputs": [
    {
     "data": {
      "text/html": [
       "\n",
       "  <div id=\"a3a3f399-65f9-4f56-9075-4a29771a3d72\" data-root-id=\"p1062\" style=\"display: contents;\"></div>\n"
      ]
     },
     "metadata": {},
     "output_type": "display_data"
    },
    {
     "data": {
      "application/javascript": "(function(root) {\n  function embed_document(root) {\n  const docs_json = {\"dbdbf6c6-f725-4803-8320-f62381949658\":{\"version\":\"3.7.3\",\"title\":\"Bokeh Application\",\"roots\":[{\"type\":\"object\",\"name\":\"Figure\",\"id\":\"p1062\",\"attributes\":{\"x_range\":{\"type\":\"object\",\"name\":\"DataRange1d\",\"id\":\"p1063\"},\"y_range\":{\"type\":\"object\",\"name\":\"DataRange1d\",\"id\":\"p1064\"},\"x_scale\":{\"type\":\"object\",\"name\":\"LinearScale\",\"id\":\"p1071\"},\"y_scale\":{\"type\":\"object\",\"name\":\"LinearScale\",\"id\":\"p1072\"},\"title\":{\"type\":\"object\",\"name\":\"Title\",\"id\":\"p1069\"},\"renderers\":[{\"type\":\"object\",\"name\":\"GlyphRenderer\",\"id\":\"p1105\",\"attributes\":{\"data_source\":{\"type\":\"object\",\"name\":\"ColumnDataSource\",\"id\":\"p1096\",\"attributes\":{\"selected\":{\"type\":\"object\",\"name\":\"Selection\",\"id\":\"p1097\",\"attributes\":{\"indices\":[],\"line_indices\":[]}},\"selection_policy\":{\"type\":\"object\",\"name\":\"UnionRenderers\",\"id\":\"p1098\"},\"data\":{\"type\":\"map\",\"entries\":[[\"\",{\"type\":\"ndarray\",\"array\":{\"type\":\"bytes\",\"data\":\"AAAAAAEAAAACAAAAAwAAAAQAAAAFAAAABgAAAAcAAAAIAAAACQAAAAoAAAALAAAADAAAAA0AAAAOAAAADwAAABAAAAARAAAAEgAAABMAAAAUAAAAFQAAABYAAAAXAAAAGAAAABkAAAAaAAAAGwAAABwAAAAdAAAAHgAAAB8AAAAgAAAAIQAAACIAAAAjAAAAJAAAACUAAAAmAAAAJwAAACgAAAApAAAAKgAAACsAAAAsAAAALQAAAC4AAAAvAAAAMAAAADEAAAAyAAAAMwAAADQAAAA1AAAANgAAADcAAAA4AAAAOQAAADoAAAA7AAAAPAAAAD0AAAA+AAAAPwAAAEAAAABBAAAAQgAAAEMAAABEAAAARQAAAEYAAABHAAAASAAAAEkAAABKAAAASwAAAEwAAABNAAAATgAAAE8AAABQAAAAUQAAAFIAAABTAAAAVAAAAFUAAABWAAAAVwAAAFgAAABZAAAAWgAAAFsAAABcAAAAXQAAAF4AAABfAAAAYAAAAGEAAABiAAAAYwAAAGQAAABlAAAAZgAAAGcAAABoAAAAaQAAAGoAAABrAAAAbAAAAG0AAABuAAAAbwAAAHAAAABxAAAAcgAAAHMAAAB0AAAAdQAAAHYAAAB3AAAAeAAAAHkAAAB6AAAAewAAAHwAAAB9AAAAfgAAAH8AAACAAAAAgQAAAIIAAACDAAAAhAAAAIUAAACGAAAAhwAAAIgAAACJAAAAigAAAIsAAACMAAAAjQAAAI4AAACPAAAAkAAAAJEAAACSAAAAkwAAAJQAAACVAAAAlgAAAJcAAACYAAAAmQAAAJoAAACbAAAAnAAAAJ0AAACeAAAAnwAAAKAAAAChAAAAogAAAKMAAACkAAAApQAAAKYAAACnAAAAqAAAAKkAAACqAAAAqwAAAKwAAACtAAAArgAAAK8AAACwAAAAsQAAALIAAACzAAAAtAAAALUAAAC2AAAAtwAAALgAAAC5AAAAugAAALsAAAC8AAAAvQAAAL4AAAC/AAAAwAAAAMEAAADCAAAAwwAAAMQAAADFAAAAxgAAAMcAAADIAAAAyQAAAMoAAADLAAAAzAAAAM0AAADOAAAAzwAAANAAAADRAAAA0gAAAA==\"},\"shape\":[211],\"dtype\":\"int32\",\"order\":\"little\"}],[\"time to catastrophe (s)\",{\"type\":\"ndarray\",\"array\":{\"type\":\"bytes\",\"data\":\"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\"},\"shape\":[211],\"dtype\":\"float64\",\"order\":\"little\"}],[\"labeled\",{\"type\":\"ndarray\",\"array\":{\"type\":\"bytes\",\"data\":\"AQEBAQEBAQEBAQEBAQEBAQEBAQEBAQEBAQEBAQEBAQEBAQEBAQEBAQEBAQEBAQEBAQEBAQEBAQEBAQEBAQEBAQEBAQEBAQEBAQEBAQEBAQEBAQEBAQEBAQEBAQEBAQEBAQEBAQEBAQEBAQEBAQEBAQEBAQEBAQEBAQEBAQEBAQEBAQEBAQEBAQEBAQEBAQEBAQEBAQEBAQEBAQEBAQEBAQEBAQEBAQEBAQEBAQEBAQEBAQEBAQEBAQEBAQEBAQEBAQEBAQEBAQEBAQEBAQEBAQEBAQ==\"},\"shape\":[211],\"dtype\":\"bool\",\"order\":\"little\"}],[\"ECDF\",{\"type\":\"ndarray\",\"array\":{\"type\":\"bytes\",\"data\":\"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\"},\"shape\":[211],\"dtype\":\"float64\",\"order\":\"little\"}],[\"time to catastrophe (min)\",{\"type\":\"ndarray\",\"array\":{\"type\":\"bytes\",\"data\":\"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\"},\"shape\":[211],\"dtype\":\"float64\",\"order\":\"little\"}]]}}},\"view\":{\"type\":\"object\",\"name\":\"CDSView\",\"id\":\"p1106\",\"attributes\":{\"filter\":{\"type\":\"object\",\"name\":\"AllIndices\",\"id\":\"p1107\"}}},\"glyph\":{\"type\":\"object\",\"name\":\"Scatter\",\"id\":\"p1102\",\"attributes\":{\"x\":{\"type\":\"field\",\"field\":\"time to catastrophe (min)\"},\"y\":{\"type\":\"field\",\"field\":\"ECDF\"},\"line_color\":{\"type\":\"value\",\"value\":\"#1f77b4\"},\"fill_color\":{\"type\":\"value\",\"value\":\"#1f77b4\"}}},\"nonselection_glyph\":{\"type\":\"object\",\"name\":\"Scatter\",\"id\":\"p1103\",\"attributes\":{\"x\":{\"type\":\"field\",\"field\":\"time to catastrophe (min)\"},\"y\":{\"type\":\"field\",\"field\":\"ECDF\"},\"line_color\":{\"type\":\"value\",\"value\":\"#1f77b4\"},\"line_alpha\":{\"type\":\"value\",\"value\":0.1},\"fill_color\":{\"type\":\"value\",\"value\":\"#1f77b4\"},\"fill_alpha\":{\"type\":\"value\",\"value\":0.1},\"hatch_alpha\":{\"type\":\"value\",\"value\":0.1}}},\"muted_glyph\":{\"type\":\"object\",\"name\":\"Scatter\",\"id\":\"p1104\",\"attributes\":{\"x\":{\"type\":\"field\",\"field\":\"time to catastrophe (min)\"},\"y\":{\"type\":\"field\",\"field\":\"ECDF\"},\"line_color\":{\"type\":\"value\",\"value\":\"#1f77b4\"},\"line_alpha\":{\"type\":\"value\",\"value\":0.2},\"fill_color\":{\"type\":\"value\",\"value\":\"#1f77b4\"},\"fill_alpha\":{\"type\":\"value\",\"value\":0.2},\"hatch_alpha\":{\"type\":\"value\",\"value\":0.2}}}}},{\"type\":\"object\",\"name\":\"GlyphRenderer\",\"id\":\"p1119\",\"attributes\":{\"data_source\":{\"type\":\"object\",\"name\":\"ColumnDataSource\",\"id\":\"p1110\",\"attributes\":{\"selected\":{\"type\":\"object\",\"name\":\"Selection\",\"id\":\"p1111\",\"attributes\":{\"indices\":[],\"line_indices\":[]}},\"selection_policy\":{\"type\":\"object\",\"name\":\"UnionRenderers\",\"id\":\"p1112\"},\"data\":{\"type\":\"map\",\"entries\":[[\"\",{\"type\":\"ndarray\",\"array\":{\"type\":\"bytes\",\"data\":\"0wAAANQAAADVAAAA1gAAANcAAADYAAAA2QAAANoAAADbAAAA3AAAAN0AAADeAAAA3wAAAOAAAADhAAAA4gAAAOMAAADkAAAA5QAAAOYAAADnAAAA6AAAAOkAAADqAAAA6wAAAOwAAADtAAAA7gAAAO8AAADwAAAA8QAAAPIAAADzAAAA9AAAAPUAAAD2AAAA9wAAAPgAAAD5AAAA+gAAAPsAAAD8AAAA/QAAAP4AAAD/AAAAAAEAAAEBAAACAQAAAwEAAAQBAAAFAQAABgEAAAcBAAAIAQAACQEAAAoBAAALAQAADAEAAA0BAAAOAQAADwEAABABAAARAQAAEgEAABMBAAAUAQAAFQEAABYBAAAXAQAAGAEAABkBAAAaAQAAGwEAABwBAAAdAQAAHgEAAB8BAAAgAQAAIQEAACIBAAAjAQAAJAEAACUBAAAmAQAAJwEAACgBAAApAQAAKgEAACsBAAAsAQAALQEAAC4BAAAvAQAAMAEAADEBAAA=\"},\"shape\":[95],\"dtype\":\"int32\",\"order\":\"little\"}],[\"time to catastrophe (s)\",{\"type\":\"ndarray\",\"array\":{\"type\":\"bytes\",\"data\":\"AAAAAAAwdkAAAAAAAJB6QAAAAAAA4IBAAAAAAACQcEAAAAAAAFycQAAAAAAAAGRAAAAAAAAgd0AAAAAAAMB8QAAAAAAAwGdAAAAAAABAYEAAAAAAAMB8QAAAAAAAgGFAAAAAAABwckAAAAAAANB7QAAAAAAAQGpAAAAAAACAdkAAAAAAAPiBQAAAAAAAAHRAAAAAAACAZkAAAAAAAIBmQAAAAAAAOINAAAAAAAAgYkAAAAAAADCLQAAAAAAAQHpAAAAAAADAfEAAAAAAAJBwQAAAAAAAwGJAAAAAAAAQiEAAAAAAAMBSQAAAAAAAAERAAAAAAACgbkAAAAAAAOiHQAAAAAAAoHRAAAAAAAAQc0AAAAAAAFB5QAAAAAAAgHFAAAAAAACAZkAAAAAAADB2QAAAAAAAwHdAAAAAAACweEAAAAAAAKB5QAAAAAAA8IRAAAAAAABgbUAAAAAAAGBjQAAAAAAAaIBAAAAAAADgYEAAAAAAAFiRQAAAAAAAAE5AAAAAAADAgkAAAAAAAEB6QAAAAAAAQF9AAAAAAADgf0AAAAAAAHCHQAAAAAAAkH9AAAAAAAAAeUAAAAAAAFB5QAAAAAAAQG9AAAAAAADQe0AAAAAAAPB+QAAAAAAAQGBAAAAAAACgfkAAAAAAAEBVQAAAAAAAYG1AAAAAAABAVUAAAAAAAPB0QAAAAAAAAGRAAAAAAABAZUAAAAAAAOCFQAAAAAAAuIVAAAAAAADweUAAAAAAABBzQAAAAAAAIGJAAAAAAADgdUAAAAAAAACEQAAAAAAAoGRAAAAAAAAgd0AAAAAAAGiAQAAAAAAAsI1AAAAAAABAX0AAAAAAAJyTQAAAAAAAYGNAAAAAAAD4hkAAAAAAAOBqQAAAAAAAYGhAAAAAAACghEAAAAAAAABUQAAAAAAAYG1AAAAAAABAf0AAAAAAAOSRQAAAAAAA4IBAAAAAAACAZkAAAAAAACBiQAAAAAAASIdAAAAAAABgeEAAAAAAAAiWQA==\"},\"shape\":[95],\"dtype\":\"float64\",\"order\":\"little\"}],[\"labeled\",{\"type\":\"ndarray\",\"array\":{\"type\":\"bytes\",\"data\":\"AAAAAAAAAAAAAAAAAAAAAAAAAAAAAAAAAAAAAAAAAAAAAAAAAAAAAAAAAAAAAAAAAAAAAAAAAAAAAAAAAAAAAAAAAAAAAAAAAAAAAAAAAAAAAAAAAAAAAAAAAAAAAAA=\"},\"shape\":[95],\"dtype\":\"bool\",\"order\":\"little\"}],[\"ECDF\",{\"type\":\"ndarray\",\"array\":{\"type\":\"bytes\",\"data\":\"1e+5JU793j/CSDtWIIzkP9KOFQgj7eg/C4SRdqxA2D8AAAAAAADwP5mZmZmZmck/FQgj7ViB4D/tWIEw0o7lPwgj7ViBMNI/C4SRdqxAuD9RXkN5DeXlP7ICYaQdK8A/YaQdKxBG2j8mTv2eW+LkP5c49XtuidM/sgJhpB0r4D+ZmZmZmZnpP7fEqd9zS9w/1e+5JU79zj+yAmGkHSvQP2GkHSsQRuo/QRhpxwqEwT+q33NLnPrtP/o9t8Sp3+M/tGMFwkg75j/SjhUII+3YP+1YgTDSjsU/RtqxAmGk7T+yAmGkHSugP+1YgTDSjoU/fG6JU7/n1j/i1O+5JU7tP37PLXHq99w/KK+hvIby2j9sKK+hvIbiP5mZmZmZmdk/eQ3lNZTX0D+c+j23xKnfP90Sp37PLeE/pB0rEEba4T8zMzMzMzPjP4y0YwXCSOs/Jk79nlvi1D98bolTv+fGPwuEkXasQOg/RtqxAmGkvT9x6vfcEqfuP+1YgTDSjpU//Z5b4tTv6T9eQ3kN5TXkP88tcer33LI/p37PLXHq5z9+zy1x6vfsP0N5DeU1lOc/CCPtWIEw4j/PLXHq99ziP0N5DeU1lNc/iVO/55Y45T98bolTv+fmPyivobyG8ro/GGnHCoSR5j8or6G8hvKqP+1YgTDSjtU/sgJhpB0rsD9G2rECYaTdPyivobyG8so/RtqxAmGkzT9Tv+eWOPXrP/C5JU79nus/lzj1e26J4z/wuSVO/Z7bP88tcer33MI/DeU1lNdQ3j/Fqd9zS5zqP7fEqd9zS8w/eQ3lNZTX4D9uiVO/55boPw3lNZTXUO4/7ViBMNKOtT849XtuiVPvPwuEkXasQMg/t8Sp33NL7D9eQ3kN5TXUP88tcer33NI/KK+hvIby6j/tWIEw0o6lP7RjBcJIO9Y/4HNLnPo95z/V77klTv3uPzaU11BeQ+k/QRhpxwqE0T9eQ3kN5TXEPxvKayivoew/QRhpxwqE4T+c+j23xKnvPw==\"},\"shape\":[95],\"dtype\":\"float64\",\"order\":\"little\"}],[\"time to catastrophe (min)\",{\"type\":\"ndarray\",\"array\":{\"type\":\"bytes\",\"data\":\"q6qqqqqqF0BVVVVVVVUcQAAAAAAAACJAq6qqqqqqEUAAAAAAAEA+QFVVVVVVVQVAq6qqqqqqGECrqqqqqqoeQFVVVVVVVQlAVVVVVVVVAUCrqqqqqqoeQKuqqqqqqgJAq6qqqqqqE0CrqqqqqqodQAAAAAAAAAxAAAAAAAAAGECrqqqqqiojQFVVVVVVVRVAAAAAAAAACEAAAAAAAAAIQAAAAAAAgCRAVVVVVVVVA0AAAAAAAAAtQAAAAAAAABxAq6qqqqqqHkCrqqqqqqoRQAAAAAAAAARAq6qqqqqqKUAAAAAAAAD0P1VVVVVVVeU/VVVVVVVVEEAAAAAAAIApQAAAAAAAABZAVVVVVVVVFEAAAAAAAAAbQKuqqqqqqhJAAAAAAAAACECrqqqqqqoXQFVVVVVVVRlAVVVVVVVVGkBVVVVVVVUbQFVVVVVVVSZAVVVVVVVVD0CrqqqqqqoEQAAAAAAAgCFAAAAAAAAAAkAAAAAAAIAyQAAAAAAAAPA/AAAAAAAAJEAAAAAAAAAcQKuqqqqqqgBAAAAAAAAAIUAAAAAAAAApQFVVVVVV1SBAq6qqqqqqGkAAAAAAAAAbQKuqqqqqqhBAq6qqqqqqHUAAAAAAAIAgQFVVVVVVVQFAVVVVVVVVIECrqqqqqqr2P1VVVVVVVQ9Aq6qqqqqq9j9VVVVVVVUWQFVVVVVVVQVAq6qqqqqqBkBVVVVVVVUnQKuqqqqqKidAq6qqqqqqG0BVVVVVVVUUQFVVVVVVVQNAVVVVVVVVF0BVVVVVVVUlQAAAAAAAAAZAq6qqqqqqGEAAAAAAAIAhQKuqqqqqqi9Aq6qqqqqqAECrqqqqquo0QKuqqqqqqgRAAAAAAACAKECrqqqqqqoMQAAAAAAAAApAAAAAAAAAJkBVVVVVVVX1P1VVVVVVVQ9Aq6qqqqqqIEBVVVVVVRUzQAAAAAAAACJAAAAAAAAACEBVVVVVVVUDQFVVVVVV1ShAAAAAAAAAGkAAAAAAAIA3QA==\"},\"shape\":[95],\"dtype\":\"float64\",\"order\":\"little\"}]]}}},\"view\":{\"type\":\"object\",\"name\":\"CDSView\",\"id\":\"p1120\",\"attributes\":{\"filter\":{\"type\":\"object\",\"name\":\"AllIndices\",\"id\":\"p1121\"}}},\"glyph\":{\"type\":\"object\",\"name\":\"Scatter\",\"id\":\"p1116\",\"attributes\":{\"x\":{\"type\":\"field\",\"field\":\"time to catastrophe (min)\"},\"y\":{\"type\":\"field\",\"field\":\"ECDF\"},\"line_color\":{\"type\":\"value\",\"value\":\"orange\"},\"fill_color\":{\"type\":\"value\",\"value\":\"orange\"},\"hatch_color\":{\"type\":\"value\",\"value\":\"orange\"}}},\"nonselection_glyph\":{\"type\":\"object\",\"name\":\"Scatter\",\"id\":\"p1117\",\"attributes\":{\"x\":{\"type\":\"field\",\"field\":\"time to catastrophe (min)\"},\"y\":{\"type\":\"field\",\"field\":\"ECDF\"},\"line_color\":{\"type\":\"value\",\"value\":\"orange\"},\"line_alpha\":{\"type\":\"value\",\"value\":0.1},\"fill_color\":{\"type\":\"value\",\"value\":\"orange\"},\"fill_alpha\":{\"type\":\"value\",\"value\":0.1},\"hatch_color\":{\"type\":\"value\",\"value\":\"orange\"},\"hatch_alpha\":{\"type\":\"value\",\"value\":0.1}}},\"muted_glyph\":{\"type\":\"object\",\"name\":\"Scatter\",\"id\":\"p1118\",\"attributes\":{\"x\":{\"type\":\"field\",\"field\":\"time to catastrophe (min)\"},\"y\":{\"type\":\"field\",\"field\":\"ECDF\"},\"line_color\":{\"type\":\"value\",\"value\":\"orange\"},\"line_alpha\":{\"type\":\"value\",\"value\":0.2},\"fill_color\":{\"type\":\"value\",\"value\":\"orange\"},\"fill_alpha\":{\"type\":\"value\",\"value\":0.2},\"hatch_color\":{\"type\":\"value\",\"value\":\"orange\"},\"hatch_alpha\":{\"type\":\"value\",\"value\":0.2}}}}}],\"toolbar\":{\"type\":\"object\",\"name\":\"Toolbar\",\"id\":\"p1070\",\"attributes\":{\"tools\":[{\"type\":\"object\",\"name\":\"PanTool\",\"id\":\"p1083\"},{\"type\":\"object\",\"name\":\"WheelZoomTool\",\"id\":\"p1084\",\"attributes\":{\"renderers\":\"auto\"}},{\"type\":\"object\",\"name\":\"BoxZoomTool\",\"id\":\"p1085\",\"attributes\":{\"dimensions\":\"both\",\"overlay\":{\"type\":\"object\",\"name\":\"BoxAnnotation\",\"id\":\"p1086\",\"attributes\":{\"syncable\":false,\"line_color\":\"black\",\"line_alpha\":1.0,\"line_width\":2,\"line_dash\":[4,4],\"fill_color\":\"lightgrey\",\"fill_alpha\":0.5,\"level\":\"overlay\",\"visible\":false,\"left\":{\"type\":\"number\",\"value\":\"nan\"},\"right\":{\"type\":\"number\",\"value\":\"nan\"},\"top\":{\"type\":\"number\",\"value\":\"nan\"},\"bottom\":{\"type\":\"number\",\"value\":\"nan\"},\"left_units\":\"canvas\",\"right_units\":\"canvas\",\"top_units\":\"canvas\",\"bottom_units\":\"canvas\",\"handles\":{\"type\":\"object\",\"name\":\"BoxInteractionHandles\",\"id\":\"p1092\",\"attributes\":{\"all\":{\"type\":\"object\",\"name\":\"AreaVisuals\",\"id\":\"p1091\",\"attributes\":{\"fill_color\":\"white\",\"hover_fill_color\":\"lightgray\"}}}}}}}},{\"type\":\"object\",\"name\":\"SaveTool\",\"id\":\"p1093\"},{\"type\":\"object\",\"name\":\"ResetTool\",\"id\":\"p1094\"},{\"type\":\"object\",\"name\":\"HelpTool\",\"id\":\"p1095\"}]}},\"left\":[{\"type\":\"object\",\"name\":\"LinearAxis\",\"id\":\"p1078\",\"attributes\":{\"ticker\":{\"type\":\"object\",\"name\":\"BasicTicker\",\"id\":\"p1079\",\"attributes\":{\"mantissas\":[1,2,5]}},\"formatter\":{\"type\":\"object\",\"name\":\"BasicTickFormatter\",\"id\":\"p1080\"},\"axis_label\":\"ECDF\",\"major_label_policy\":{\"type\":\"object\",\"name\":\"AllLabels\",\"id\":\"p1081\"}}}],\"below\":[{\"type\":\"object\",\"name\":\"LinearAxis\",\"id\":\"p1073\",\"attributes\":{\"ticker\":{\"type\":\"object\",\"name\":\"BasicTicker\",\"id\":\"p1074\",\"attributes\":{\"mantissas\":[1,2,5]}},\"formatter\":{\"type\":\"object\",\"name\":\"BasicTickFormatter\",\"id\":\"p1075\"},\"axis_label\":\"time to catastrophe (min)\",\"major_label_policy\":{\"type\":\"object\",\"name\":\"AllLabels\",\"id\":\"p1076\"}}}],\"center\":[{\"type\":\"object\",\"name\":\"Grid\",\"id\":\"p1077\",\"attributes\":{\"axis\":{\"id\":\"p1073\"}}},{\"type\":\"object\",\"name\":\"Grid\",\"id\":\"p1082\",\"attributes\":{\"dimension\":1,\"axis\":{\"id\":\"p1078\"}}},{\"type\":\"object\",\"name\":\"Legend\",\"id\":\"p1108\",\"attributes\":{\"location\":\"bottom_right\",\"items\":[{\"type\":\"object\",\"name\":\"LegendItem\",\"id\":\"p1109\",\"attributes\":{\"label\":{\"type\":\"value\",\"value\":\"labeled\"},\"renderers\":[{\"id\":\"p1105\"}]}},{\"type\":\"object\",\"name\":\"LegendItem\",\"id\":\"p1122\",\"attributes\":{\"label\":{\"type\":\"value\",\"value\":\"unlabeled\"},\"renderers\":[{\"id\":\"p1119\"}]}}]}}],\"frame_width\":450,\"frame_height\":300}}]}};\n  const render_items = [{\"docid\":\"dbdbf6c6-f725-4803-8320-f62381949658\",\"roots\":{\"p1062\":\"a3a3f399-65f9-4f56-9075-4a29771a3d72\"},\"root_ids\":[\"p1062\"]}];\n  void root.Bokeh.embed.embed_items_notebook(docs_json, render_items);\n  }\n  if (root.Bokeh !== undefined) {\n    embed_document(root);\n  } else {\n    let attempts = 0;\n    const timer = setInterval(function(root) {\n      if (root.Bokeh !== undefined) {\n        clearInterval(timer);\n        embed_document(root);\n      } else {\n        attempts++;\n        if (attempts > 100) {\n          clearInterval(timer);\n          console.log(\"Bokeh: ERROR: Unable to run BokehJS code because BokehJS library is missing\");\n        }\n      }\n    }, 10, root)\n  }\n})(window);",
      "application/vnd.bokehjs_exec.v0+json": ""
     },
     "metadata": {
      "application/vnd.bokehjs_exec.v0+json": {
       "id": "p1062"
      }
     },
     "output_type": "display_data"
    }
   ],
   "source": [
    "# Apply ECDF function over labeled column\n",
    "df = df.with_columns(\n",
    "    ecdfvals_expr(pl.col(\"time to catastrophe (s)\")).alias(\"ECDF\").over(\"labeled\"),\n",
    "    (pl.col(\"time to catastrophe (s)\") / 60).alias(\"time to catastrophe (min)\"),\n",
    ")\n",
    "\n",
    "# Make the plot\n",
    "p = bokeh.plotting.figure(\n",
    "    frame_width=450,\n",
    "    frame_height=300,\n",
    "    x_axis_label=\"time to catastrophe (min)\",\n",
    "    y_axis_label=\"ECDF\",\n",
    ")\n",
    "p.scatter(\n",
    "    source=df.filter(pl.col(\"labeled\")).to_dict(),\n",
    "    x=\"time to catastrophe (min)\",\n",
    "    y=\"ECDF\",\n",
    "    legend_label=\"labeled\",\n",
    ")\n",
    "p.scatter(\n",
    "    source=df.filter(~pl.col(\"labeled\")).to_dict(),\n",
    "    x=\"time to catastrophe (min)\",\n",
    "    y=\"ECDF\",\n",
    "    color=\"orange\",\n",
    "    legend_label=\"unlabeled\",\n",
    ")\n",
    "p.legend.location = \"bottom_right\"\n",
    "\n",
    "bokeh.io.show(p)"
   ]
  },
  {
   "cell_type": "markdown",
   "id": "47e5dddf-ef8e-479d-b25d-fc9844538549",
   "metadata": {},
   "source": [
    "There does not seem to be a major difference between the two treatments, at least not by eye."
   ]
  },
  {
   "cell_type": "markdown",
   "id": "8a24925a-047e-4afd-84df-2d421da005d0",
   "metadata": {},
   "source": [
    "## Computing environment"
   ]
  },
  {
   "cell_type": "code",
   "execution_count": 6,
   "id": "0e3f597f-b5ce-4375-8bed-7b39827e0176",
   "metadata": {},
   "outputs": [
    {
     "name": "stdout",
     "output_type": "stream",
     "text": [
      "Python implementation: CPython\n",
      "Python version       : 3.13.5\n",
      "IPython version      : 9.4.0\n",
      "\n",
      "numpy     : 2.2.6\n",
      "polars    : 1.31.0\n",
      "bokeh     : 3.7.3\n",
      "jupyterlab: 4.4.5\n",
      "\n"
     ]
    }
   ],
   "source": [
    "%load_ext watermark\n",
    "%watermark -v -p numpy,polars,bokeh,jupyterlab"
   ]
  }
 ],
 "metadata": {
  "kernelspec": {
   "display_name": "default",
   "language": "python",
   "name": "python3"
  },
  "language_info": {
   "codemirror_mode": {
    "name": "ipython",
    "version": 3
   },
   "file_extension": ".py",
   "mimetype": "text/x-python",
   "name": "python",
   "nbconvert_exporter": "python",
   "pygments_lexer": "ipython3",
   "version": "3.13.5"
  }
 },
 "nbformat": 4,
 "nbformat_minor": 5
}
