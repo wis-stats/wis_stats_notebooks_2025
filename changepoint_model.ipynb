{
  "cells": [
    {
      "cell_type": "markdown",
      "id": "8b143ec1",
      "metadata": {},
      "source": [
        "# Building a changepoint model {#exr-changepoint-model}\n",
        "\n",
        "<hr>"
      ]
    },
    {
      "cell_type": "markdown",
      "id": "331c406c",
      "metadata": {},
      "source": [
        "Consider the following twist on the experiment we have been considering where a retinal ganglion cell's spiking is monitored under constant light. The retina is exposed to constant light, but at some time between the start and end of the experience, the impinging light intensity changes. That is, for $0 \\le t < s$, the retina is exposed to one light intensity, and for $s \\le t \\le T$, it is exposed to another. The problem is that you do not know what $s$ is, and you have to infer it. Your task is to construct a Bayesian model for this situation, complete with prior predictive checks.\n",
        "\n",
        "This is a simple example of a **decoding problem**, in which a stimulus is inferred from neuronal signals."
      ]
    }
  ],
  "metadata": {
    "language_info": {
      "name": "python"
    }
  },
  "nbformat": 4,
  "nbformat_minor": 5
}