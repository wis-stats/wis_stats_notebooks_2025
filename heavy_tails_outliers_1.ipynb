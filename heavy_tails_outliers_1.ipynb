{
  "cells": [
    {
      "cell_type": "markdown",
      "metadata": {},
      "source": [
        "# Heavy-tailed distributions and outliers\n",
        "\n",
        "[Dataset download](https://s3.amazonaws.com/bebi103.caltech.edu/data/gandhi_et_al_night_six_activity.csv)\n",
        "\n",
        "<hr>"
      ]
    },
    {
      "cell_type": "markdown",
      "metadata": {},
      "source": [
        "David Prober's lab studies sleep using zebrafish as a model organism. In a [paper by Gandhi and coworkers](https://doi.org/10.1016/j.neuron.2015.02.016) his lab studied the effect of a deletion in the gene coding for arylalkylamine N-acetyltransferase (aanat), which is a key enzyme in the rhythmic production of melatonin. Melatonin is a hormone responsible for regulation of circadian rhythms. It is often taken as a drug to treat sleep disorders. The goal of this study was to investigate the effects of *aanat* deletion on sleep pattern in 5+ day old zebrafish larvae.\n",
        "\n",
        "In one of the analyses, the authors compared the average activity of multiple fish over the course of night 6 of their lives. Here, activity is defined as the number of seconds per ten minutes that the fish is moving.  You can download the results of the data processing here: [https://s3.amazonaws.com/bebi103.caltech.edu/data/gandhi_et_al_night_six_activity.csv](https://s3.amazonaws.com/bebi103.caltech.edu/data/gandhi_et_al_night_six_activity.csv).\n",
        "\n",
        "In performing exploratory data analysis, you will see that there are some clear outliers in activity. For at least two of these outliers, domain experts have told me that there were developmental problems with the fish. \n",
        "\n",
        "Normal models tend to fail when there are outliers. This is because of the very light tail of the Normal distribution. If you have an experiment that you suspect may have major deviations, it is often useful to choose a generative model with heavier tails. To that end, model the activity with a Student-t distribution. Obtain parameter estimates for the $\\mu$ parameter of the Student-t distribution for each genotype."
      ]
    }
  ],
  "metadata": {
    "kernelspec": {
      "display_name": "default",
      "language": "python",
      "name": "python3"
    },
    "language_info": {
      "codemirror_mode": {
        "name": "ipython",
        "version": 3
      },
      "file_extension": ".py",
      "mimetype": "text/x-python",
      "name": "python",
      "nbconvert_exporter": "python",
      "pygments_lexer": "ipython3",
      "version": "3.13.5"
    }
  },
  "nbformat": 4,
  "nbformat_minor": 4
}