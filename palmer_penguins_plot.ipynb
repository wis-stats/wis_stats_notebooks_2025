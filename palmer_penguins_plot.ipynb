{
  "cells": [
    {
      "cell_type": "markdown",
      "metadata": {},
      "source": [
        "# Plotting with Palmer penguins {#exr-palmer-penguins-plotting}\n",
        "\n",
        "[Data set download](https://s3.amazonaws.com/bebi103.caltech.edu/data/penguins_subset_tidy.csv)\n",
        "\n",
        "<hr />"
      ]
    },
    {
      "cell_type": "markdown",
      "metadata": {},
      "source": [
        "In a @exr-palmer-penguins-split-apply-combine, you tidied a subset of the [Palmer penguins data set](https://s3.amazonaws.com/bebi103.caltech.edu/data/penguins_subset.csv) and saved the result in a file name [penguins_subset_tidy.csv](https://s3.amazonaws.com/bebi103.caltech.edu/data/penguins_subset_tidy.csv). Use that tidied data set to make a scatter plot of bill length versus flipper length with the glyphs colored by species. "
      ]
    }
  ],
  "metadata": {
    "kernelspec": {
      "display_name": "Python 3 (ipykernel)",
      "language": "python",
      "name": "python3"
    },
    "language_info": {
      "codemirror_mode": {
        "name": "ipython",
        "version": 3
      },
      "file_extension": ".py",
      "mimetype": "text/x-python",
      "name": "python",
      "nbconvert_exporter": "python",
      "pygments_lexer": "ipython3",
      "version": "3.12.9"
    }
  },
  "nbformat": 4,
  "nbformat_minor": 4
}