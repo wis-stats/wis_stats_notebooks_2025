{
 "cells": [
  {
   "cell_type": "markdown",
   "metadata": {},
   "source": [
    "# Split-Apply-Combine of the frog data set {#exr-split-apply-combine-frog}\n",
    "\n",
    "<hr>"
   ]
  },
  {
   "cell_type": "markdown",
   "metadata": {},
   "source": [
    "We will continue working with the frog tongue adhesion data set.\n",
    "\n",
    "\n",
    "You'll now practice your split-apply-combine skills. First load in the data set. Then, \n",
    "\n",
    "**a)** Compute standard deviation of the impact forces for each frog.\n",
    "\n",
    "**b)** Compute the coefficient of variation of the impact forces *and* adhesive forces for each frog.\n",
    "\n",
    "**c)** Compute a data frame that has the mean, median, standard deviation, and coefficient of variation of the impact forces and adhesive forces for each frog."
   ]
  },
  {
   "cell_type": "markdown",
   "metadata": {},
   "source": [
    "<br />"
   ]
  },
  {
   "cell_type": "markdown",
   "metadata": {},
   "source": [
    "## Solution\n",
    "\n",
    "<hr>"
   ]
  },
  {
   "cell_type": "code",
   "execution_count": 1,
   "metadata": {},
   "outputs": [],
   "source": [
    "# Colab setup ------------------\n",
    "import os, sys, subprocess\n",
    "if \"google.colab\" in sys.modules:\n",
    "    cmd = \"pip install --upgrade polars bebi103 watermark\"\n",
    "    process = subprocess.Popen(cmd.split(), stdout=subprocess.PIPE, stderr=subprocess.PIPE)\n",
    "    stdout, stderr = process.communicate()\n",
    "    data_path = \"https://s3.amazonaws.com/bebi103.caltech.edu/data/\"\n",
    "else:\n",
    "    data_path = \"../data/\"\n",
    "# ------------------------------\n",
    "\n",
    "import numpy as np\n",
    "import polars as pl"
   ]
  },
  {
   "cell_type": "markdown",
   "metadata": {},
   "source": [
    "Of course, we start by loading in the data frame."
   ]
  },
  {
   "cell_type": "code",
   "execution_count": 2,
   "metadata": {},
   "outputs": [],
   "source": [
    "df = pl.read_csv(os.path.join(data_path, 'frog_tongue_adhesion.csv'), comment_prefix='#')"
   ]
  },
  {
   "cell_type": "markdown",
   "metadata": {},
   "source": [
    "**a)** To compute the standard deviation of impact forces for each frog, we first group by the frog ID and then apply the `std()` method to the `GroupBy` object."
   ]
  },
  {
   "cell_type": "code",
   "execution_count": 3,
   "metadata": {},
   "outputs": [
    {
     "data": {
      "text/html": [
       "<div><style>\n",
       ".dataframe > thead > tr,\n",
       ".dataframe > tbody > tr {\n",
       "  text-align: right;\n",
       "  white-space: pre-wrap;\n",
       "}\n",
       "</style>\n",
       "<small>shape: (4, 2)</small><table border=\"1\" class=\"dataframe\"><thead><tr><th>ID</th><th>impact force (mN)</th></tr><tr><td>str</td><td>f64</td></tr></thead><tbody><tr><td>&quot;I&quot;</td><td>630.207952</td></tr><tr><td>&quot;II&quot;</td><td>424.573256</td></tr><tr><td>&quot;III&quot;</td><td>124.273849</td></tr><tr><td>&quot;IV&quot;</td><td>234.864328</td></tr></tbody></table></div>"
      ],
      "text/plain": [
       "shape: (4, 2)\n",
       "┌─────┬───────────────────┐\n",
       "│ ID  ┆ impact force (mN) │\n",
       "│ --- ┆ ---               │\n",
       "│ str ┆ f64               │\n",
       "╞═════╪═══════════════════╡\n",
       "│ I   ┆ 630.207952        │\n",
       "│ II  ┆ 424.573256        │\n",
       "│ III ┆ 124.273849        │\n",
       "│ IV  ┆ 234.864328        │\n",
       "└─────┴───────────────────┘"
      ]
     },
     "execution_count": 3,
     "metadata": {},
     "output_type": "execute_result"
    }
   ],
   "source": [
    "df.group_by('ID', maintain_order=True).agg(pl.col('impact force (mN)').std())"
   ]
  },
  {
   "cell_type": "markdown",
   "metadata": {},
   "source": [
    "**b)** We can write a function that gives a Polars expression to compute the coefficient of variation for a given column. We can then use this to generate expressions in our group by/agg context."
   ]
  },
  {
   "cell_type": "code",
   "execution_count": 4,
   "metadata": {},
   "outputs": [
    {
     "data": {
      "text/html": [
       "<div><style>\n",
       ".dataframe > thead > tr,\n",
       ".dataframe > tbody > tr {\n",
       "  text-align: right;\n",
       "  white-space: pre-wrap;\n",
       "}\n",
       "</style>\n",
       "<small>shape: (4, 3)</small><table border=\"1\" class=\"dataframe\"><thead><tr><th>ID</th><th>impact force (mN)</th><th>adhesive force (mN)</th></tr><tr><td>str</td><td>f64</td><td>f64</td></tr></thead><tbody><tr><td>&quot;I&quot;</td><td>0.401419</td><td>0.247435</td></tr><tr><td>&quot;II&quot;</td><td>0.585033</td><td>0.429701</td></tr><tr><td>&quot;III&quot;</td><td>0.220191</td><td>0.415435</td></tr><tr><td>&quot;IV&quot;</td><td>0.546212</td><td>0.308042</td></tr></tbody></table></div>"
      ],
      "text/plain": [
       "shape: (4, 3)\n",
       "┌─────┬───────────────────┬─────────────────────┐\n",
       "│ ID  ┆ impact force (mN) ┆ adhesive force (mN) │\n",
       "│ --- ┆ ---               ┆ ---                 │\n",
       "│ str ┆ f64               ┆ f64                 │\n",
       "╞═════╪═══════════════════╪═════════════════════╡\n",
       "│ I   ┆ 0.401419          ┆ 0.247435            │\n",
       "│ II  ┆ 0.585033          ┆ 0.429701            │\n",
       "│ III ┆ 0.220191          ┆ 0.415435            │\n",
       "│ IV  ┆ 0.546212          ┆ 0.308042            │\n",
       "└─────┴───────────────────┴─────────────────────┘"
      ]
     },
     "execution_count": 4,
     "metadata": {},
     "output_type": "execute_result"
    }
   ],
   "source": [
    "def cov_expr(col, ddof=0):\n",
    "    \"\"\"A Polars expression that computes the coefficient of variation.\"\"\"\n",
    "    return col.std(ddof=ddof) / col.mean().abs()\n",
    "\n",
    "\n",
    "df.group_by('ID', maintain_order=True).agg(\n",
    "    cov_expr(pl.col('impact force (mN)')),\n",
    "    cov_expr(pl.col('adhesive force (mN)')),\n",
    ")"
   ]
  },
  {
   "cell_type": "markdown",
   "metadata": {},
   "source": [
    "**c)** Now we will apply all of the statistical functions to the impact force and adhesive force. This is as simple as using a list of aggregating functions in the `agg()` method of the `GroupBy` object."
   ]
  },
  {
   "cell_type": "code",
   "execution_count": 5,
   "metadata": {},
   "outputs": [
    {
     "data": {
      "text/html": [
       "<div><style>\n",
       ".dataframe > thead > tr,\n",
       ".dataframe > tbody > tr {\n",
       "  text-align: right;\n",
       "  white-space: pre-wrap;\n",
       "}\n",
       "</style>\n",
       "<small>shape: (4, 9)</small><table border=\"1\" class=\"dataframe\"><thead><tr><th>ID</th><th>mean impact force (mN)</th><th>median impact force (mN)</th><th>std impact force (mN)</th><th>cov impact force</th><th>mean adhesive force (mN)</th><th>median adhesive force (mN)</th><th>std adhesive force (mN)</th><th>cov adhesive force</th></tr><tr><td>str</td><td>f64</td><td>f64</td><td>f64</td><td>f64</td><td>f64</td><td>f64</td><td>f64</td><td>f64</td></tr></thead><tbody><tr><td>&quot;I&quot;</td><td>1530.2</td><td>1550.5</td><td>630.207952</td><td>0.401419</td><td>-658.4</td><td>-664.5</td><td>167.143619</td><td>0.247435</td></tr><tr><td>&quot;II&quot;</td><td>707.35</td><td>573.0</td><td>424.573256</td><td>0.585033</td><td>-462.3</td><td>-517.0</td><td>203.8116</td><td>0.429701</td></tr><tr><td>&quot;III&quot;</td><td>550.1</td><td>544.0</td><td>124.273849</td><td>0.220191</td><td>-206.75</td><td>-201.5</td><td>88.122448</td><td>0.415435</td></tr><tr><td>&quot;IV&quot;</td><td>419.1</td><td>460.5</td><td>234.864328</td><td>0.546212</td><td>-263.6</td><td>-233.5</td><td>83.309442</td><td>0.308042</td></tr></tbody></table></div>"
      ],
      "text/plain": [
       "shape: (4, 9)\n",
       "┌─────┬────────┬─────────────┬─────────────┬───┬────────────┬────────────┬────────────┬────────────┐\n",
       "│ ID  ┆ mean   ┆ median      ┆ std impact  ┆ … ┆ mean       ┆ median     ┆ std        ┆ cov        │\n",
       "│ --- ┆ impact ┆ impact      ┆ force (mN)  ┆   ┆ adhesive   ┆ adhesive   ┆ adhesive   ┆ adhesive   │\n",
       "│ str ┆ force  ┆ force (mN)  ┆ ---         ┆   ┆ force (mN) ┆ force (mN) ┆ force (mN) ┆ force      │\n",
       "│     ┆ (mN)   ┆ ---         ┆ f64         ┆   ┆ ---        ┆ ---        ┆ ---        ┆ ---        │\n",
       "│     ┆ ---    ┆ f64         ┆             ┆   ┆ f64        ┆ f64        ┆ f64        ┆ f64        │\n",
       "│     ┆ f64    ┆             ┆             ┆   ┆            ┆            ┆            ┆            │\n",
       "╞═════╪════════╪═════════════╪═════════════╪═══╪════════════╪════════════╪════════════╪════════════╡\n",
       "│ I   ┆ 1530.2 ┆ 1550.5      ┆ 630.207952  ┆ … ┆ -658.4     ┆ -664.5     ┆ 167.143619 ┆ 0.247435   │\n",
       "│ II  ┆ 707.35 ┆ 573.0       ┆ 424.573256  ┆ … ┆ -462.3     ┆ -517.0     ┆ 203.8116   ┆ 0.429701   │\n",
       "│ III ┆ 550.1  ┆ 544.0       ┆ 124.273849  ┆ … ┆ -206.75    ┆ -201.5     ┆ 88.122448  ┆ 0.415435   │\n",
       "│ IV  ┆ 419.1  ┆ 460.5       ┆ 234.864328  ┆ … ┆ -263.6     ┆ -233.5     ┆ 83.309442  ┆ 0.308042   │\n",
       "└─────┴────────┴─────────────┴─────────────┴───┴────────────┴────────────┴────────────┴────────────┘"
      ]
     },
     "execution_count": 5,
     "metadata": {},
     "output_type": "execute_result"
    }
   ],
   "source": [
    "(\n",
    "    df\n",
    "    .group_by(\"ID\", maintain_order=True)\n",
    "    .agg(\n",
    "        pl.col(\"impact force (mN)\").mean().alias('mean impact force (mN)'),\n",
    "        pl.col(\"impact force (mN)\").median().alias('median impact force (mN)'),\n",
    "        pl.col(\"impact force (mN)\").std().alias('std impact force (mN)'),\n",
    "        cov_expr(pl.col('impact force (mN)')).alias('cov impact force'),\n",
    "        pl.col(\"adhesive force (mN)\").mean().alias('mean adhesive force (mN)'),\n",
    "        pl.col(\"adhesive force (mN)\").median().alias('median adhesive force (mN)'),\n",
    "        pl.col(\"adhesive force (mN)\").std().alias('std adhesive force (mN)'),\n",
    "        cov_expr(pl.col('adhesive force (mN)')).alias('cov adhesive force'),\n",
    "    )\n",
    ")"
   ]
  },
  {
   "cell_type": "markdown",
   "metadata": {},
   "source": [
    "## Computing environment"
   ]
  },
  {
   "cell_type": "code",
   "execution_count": 6,
   "metadata": {
    "tags": [
     "hide-input"
    ]
   },
   "outputs": [
    {
     "name": "stdout",
     "output_type": "stream",
     "text": [
      "Python implementation: CPython\n",
      "Python version       : 3.12.9\n",
      "IPython version      : 9.1.0\n",
      "\n",
      "numpy     : 2.1.3\n",
      "polars    : 1.29.0\n",
      "jupyterlab: 4.3.7\n",
      "\n"
     ]
    }
   ],
   "source": [
    "%load_ext watermark\n",
    "%watermark -v -p numpy,polars,jupyterlab"
   ]
  }
 ],
 "metadata": {
  "anaconda-cloud": {},
  "kernelspec": {
   "display_name": "Python 3 (ipykernel)",
   "language": "python",
   "name": "python3"
  },
  "language_info": {
   "codemirror_mode": {
    "name": "ipython",
    "version": 3
   },
   "file_extension": ".py",
   "mimetype": "text/x-python",
   "name": "python",
   "nbconvert_exporter": "python",
   "pygments_lexer": "ipython3",
   "version": "3.12.9"
  }
 },
 "nbformat": 4,
 "nbformat_minor": 4
}
