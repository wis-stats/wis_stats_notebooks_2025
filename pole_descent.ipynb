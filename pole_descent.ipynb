{
  "cells": [
    {
      "cell_type": "markdown",
      "id": "af6fce42",
      "metadata": {},
      "source": [
        "# Modeling pole descent {#exr-pole-descent}\n",
        "\n",
        "<hr>\n",
        "\n",
        "[Dataset download](https://s3.amazonaws.com/bebi103.caltech.edu/data/morais_pole_and_beam.csv)\n",
        "\n",
        "\n",
        "In @exr-censored-and-truncated, we considered censored distributions in the context of a distribution describing an assay measuring mice descending poles. In a paper investigating the effects of gut microbiota on motor activity, ([Morais, et al., 2024](https://doi.org/10.1101/2024.12.18.629251)) Morais and coworkers performed exactly this experiment. The data are available [here in a CSV file](https://s3.amazonaws.com/bebi103.caltech.edu/data/morais_pole_and_beam.csv) that I extracted from the [publicly available Excel file with the data](https://github.com/jdthoang/LHMorais2024/blob/main/Data/GFxSPF_ASO/MotorBehaviordata_GFSPF_Livia_111323.xlsx). Note that the data set is not tidy, so you may wish to tidy it before using it.\n",
        "\n",
        "In the data set, there are four conditions. WT-GF (wild type, germ free gut), ASO-GF (\u03b1-synuclein-overexpressing, germ free gut), WT-SPF (wild type, specific pathogen free), and ASO-SPF (\u03b1-synuclein-overexpressing, specific pathogen free). The SPF condition is standard laboratory practice, where the GF condition features a cleared gut. For each condition there are nine mice, each with three trials.\n",
        "\n",
        "Your task is to build a hierarchical model for the pole descent times of the mice for each condition and infer the pertinent parameters about their descent times."
      ]
    }
  ],
  "metadata": {
    "language_info": {
      "name": "python"
    }
  },
  "nbformat": 4,
  "nbformat_minor": 5
}