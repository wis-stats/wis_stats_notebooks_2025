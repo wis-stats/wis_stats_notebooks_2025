{
  "cells": [
    {
      "cell_type": "markdown",
      "metadata": {},
      "source": [
        "# Models for microtubule catastrophe {#exr-two-step-mt-model .exercise}\n",
        "\n",
        "<hr />"
      ]
    },
    {
      "cell_type": "markdown",
      "metadata": {},
      "source": [
        "In a previous problem, you worked with a data set of measured times for microtubule catastrophe. In this problem, we will develop a model for microtubule catastrophe. \n",
        "\n",
        "**a)** In the [Gardner, Zanic, et al. paper](http://dx.doi.org/10.1016/j.cell.2011.10.037), the authors assumed that the microtubule catatrophe times are Gamma distributed. Discuss how the story behind the Gamma distribution might work for modeling microtubule catastrophe.\n",
        "\n",
        "**b)** As an alternative model, we assert that two biochemical processes have to happen in succession to trigger catastrophe. That is, the first process happens, and only after the first process happens can the second one happen. We model each of the two process as a Poisson process (as is very often done with (bio)chemical dynamics). The rate of arrivals for the first one is $\\beta_1$ and the rate of arrivals for the second one is $\\beta_2$. Show that the PDF of the distribution matching this story is \n",
        "\n",
        "\\begin{align}\n",
        "f(t;\\beta_1, \\beta_2) = \\frac{\\beta_1 \\beta_2}{\\beta_2 - \\beta_1}\\left(\\mathrm{e}^{-\\beta_1 t} - \\mathrm{e}^{-\\beta_2 t}\\right)\n",
        "\\end{align}\n",
        "\n",
        "for $\\beta_1 \\ne \\beta_2$. Consequently, the CDF for this distribution is\n",
        "\n",
        "\\begin{align}\n",
        "F(t; \\beta_1, \\beta_2) = \n",
        "\\frac{\\beta_1 \\beta_2}{\\beta_2-\\beta_1}\\left[\n",
        "\\frac{1}{\\beta_1}\\left(1-\\mathrm{e}^{- \\beta_1 t}\\right)- \\frac{1}{\\beta_2}\\left(1-\\mathrm{e}^{-\\beta_2 t}\\right)\n",
        "\\right].\n",
        "\\end{align}\n",
        "\n",
        "\n",
        "**c)** Without formally doing any integrals, computing any derivatives, or taking limits, show that the PDF of the distribution for $\\beta_1 = \\beta_2 \\equiv \\beta$ is\n",
        "\n",
        "\\begin{align}\n",
        "f(t;\\beta) = \\beta^2\\,t\\,\\mathrm{e}^{-\\beta t}.\n",
        "\\end{align}\n"
      ]
    }
  ],
  "metadata": {
    "kernelspec": {
      "display_name": "Python 3 (ipykernel)",
      "language": "python",
      "name": "python3"
    },
    "language_info": {
      "codemirror_mode": {
        "name": "ipython",
        "version": 3
      },
      "file_extension": ".py",
      "mimetype": "text/x-python",
      "name": "python",
      "nbconvert_exporter": "python",
      "pygments_lexer": "ipython3",
      "version": "3.13.5"
    }
  },
  "nbformat": 4,
  "nbformat_minor": 4
}