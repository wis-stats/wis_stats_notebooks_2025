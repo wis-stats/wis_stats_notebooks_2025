{
 "cells": [
  {
   "cell_type": "markdown",
   "metadata": {},
   "source": [
    "# Models for microtubule catastrophe {#exr-two-step-mt-model}\n",
    "\n",
    "<hr />"
   ]
  },
  {
   "cell_type": "markdown",
   "metadata": {},
   "source": [
    "In a previous problem, you worked with a data set of measured times for microtubule catastrophe. In this problem, we will develop a model for microtubule catastrophe. \n",
    "\n",
    "**a)** In the [Gardner, Zanic, et al. paper](http://dx.doi.org/10.1016/j.cell.2011.10.037), the authors assumed that the microtubule catatrophe times are Gamma distributed. Discuss how the story behind the Gamma distribution might work for modeling microtubule catastrophe.\n",
    "\n",
    "**b)** As an alternative model, we assert that two biochemical processes have to happen in succession to trigger catastrophe. That is, the first process happens, and only after the first process happens can the second one happen. We model each of the two process as a Poisson process (as is very often done with (bio)chemical dynamics). The rate of arrivals for the first one is $\\beta_1$ and the rate of arrivals for the second one is $\\beta_2$. Show that the PDF of the distribution matching this story is \n",
    "\n",
    "\\begin{align}\n",
    "f(t;\\beta_1, \\beta_2) = \\frac{\\beta_1 \\beta_2}{\\beta_2 - \\beta_1}\\left(\\mathrm{e}^{-\\beta_1 t} - \\mathrm{e}^{-\\beta_2 t}\\right)\n",
    "\\end{align}\n",
    "\n",
    "for $\\beta_1 \\ne \\beta_2$. Consequently, the CDF for this distribution is\n",
    "\n",
    "\\begin{align}\n",
    "F(t; \\beta_1, \\beta_2) = \n",
    "\\frac{\\beta_1 \\beta_2}{\\beta_2-\\beta_1}\\left[\n",
    "\\frac{1}{\\beta_1}\\left(1-\\mathrm{e}^{- \\beta_1 t}\\right)- \\frac{1}{\\beta_2}\\left(1-\\mathrm{e}^{-\\beta_2 t}\\right)\n",
    "\\right].\n",
    "\\end{align}\n",
    "\n",
    "\n",
    "**c)** Without formally doing any integrals, computing any derivatives, or taking limits, show that the PDF of the distribution for $\\beta_1 = \\beta_2 \\equiv \\beta$ is\n",
    "\n",
    "\\begin{align}\n",
    "f(t;\\beta) = \\beta^2\\,t\\,\\mathrm{e}^{-\\beta t}.\n",
    "\\end{align}\n"
   ]
  },
  {
   "cell_type": "markdown",
   "metadata": {},
   "source": [
    "## Solution\n",
    "\n",
    "<hr>"
   ]
  },
  {
   "cell_type": "markdown",
   "metadata": {},
   "source": [
    "**a)** The Gamma distribution describes the waiting time for multiple arrivals of a Poisson process. Chemical processes are often modeled as Poisson processes, and one can imagine that it may take several successive chemical processes to trigger a catastrophe event. If these processes all have similar rates, the time to catastrophe could be approximately Gamma distributed."
   ]
  },
  {
   "cell_type": "markdown",
   "metadata": {},
   "source": [
    "**b)** Assume the first process arrives at time $t_1$. The second process then has the possibility to arrive, so we must wait a time $t-t_1$ for it to arrive at time $t$. Because the arrival times of the respective events are independent, the joint probability density function is\n",
    "\n",
    "\\begin{align}\n",
    "f(t, t_1) = f(t-t_1)\\,f(t_1).\n",
    "\\end{align}\n",
    "\n",
    "The waiting times are Exponentially distributed, so we have\n",
    "\n",
    "\\begin{align}\n",
    "f(t, t_1) = \\beta_2\\mathrm{e}^{-\\beta_2(t-t_1)}\\,\\beta_1\\mathrm{e}^{-\\beta_1 t_1}.\n",
    "\\end{align}\n",
    "\n",
    "To get the PDF $f(t)$, then, we marginalize over all of the values that $t_1$ can take, which is all values from zero to $t$.\n",
    "\n",
    "\\begin{align}\n",
    "f(t) &= \\int_0^t\\mathrm{d}t_1\\,f(t, t_1) \\\\[1em]\n",
    "&=  \\int_0^t \\mathrm{d}t_1\\,\\beta_2\\mathrm{e}^{-\\beta_2(t-t_1)}\\,\\beta_1\\mathrm{e}^{-\\beta_1 t_1} \\\\[1em]\n",
    "&= \\beta_1\\beta_2\\mathrm{e}^{-\\beta_2 t} \\int_0^t \\mathrm{d}t_1\\,\\mathrm{e}^{-(\\beta_1 - \\beta_2)t_1} \\\\[1em]\n",
    "&= \\frac{\\beta_1\\beta_2\\,\\mathrm{e}^{-\\beta_2 t}}{\\beta_1-\\beta_2}\\left(1 - \\mathrm{e}^{-(\\beta_1 - \\beta_2)t}\\right) \\\\[1em]\n",
    "&= \\frac{\\beta_1\\beta_2}{\\beta_2-\\beta_1}\\left(\\mathrm{e}^{-\\beta_1 t} - \\mathrm{e}^{-\\beta_2 t}\\right).\n",
    "\\end{align}\n",
    "\n",
    "Note that in the limit of $\\beta_1 \\to \\beta_2 \\equiv \\beta$, this becomes\n",
    "\n",
    "\\begin{align}\n",
    "f(t) &= \\beta^2\\,t\\,\\mathrm{e}^{-\\beta t},\n",
    "\\end{align}\n",
    "\n",
    "which is the PDF of a Gamma distribution with parameter $\\alpha = 2$."
   ]
  },
  {
   "cell_type": "markdown",
   "metadata": {},
   "source": [
    "**c)** In the limit of $\\beta_1 = \\beta_2 \\equiv \\beta$, the distribution describes the amount of time it takes for two arrivals from a Poisson process with rate parameter $\\beta$. This story matches that of the Gamma distribution where $\\alpha = 2$, and the stated PDF is indeed the PDF for that distribution."
   ]
  }
 ],
 "metadata": {
  "kernelspec": {
   "display_name": "Python 3 (ipykernel)",
   "language": "python",
   "name": "python3"
  },
  "language_info": {
   "codemirror_mode": {
    "name": "ipython",
    "version": 3
   },
   "file_extension": ".py",
   "mimetype": "text/x-python",
   "name": "python",
   "nbconvert_exporter": "python",
   "pygments_lexer": "ipython3",
   "version": "3.13.5"
  }
 },
 "nbformat": 4,
 "nbformat_minor": 4
}
