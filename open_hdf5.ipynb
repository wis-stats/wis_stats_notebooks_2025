{
  "cells": [
    {
      "cell_type": "markdown",
      "metadata": {},
      "source": [
        "# Opening an HDF5 file {#exr-opening-hdf5}\n",
        "\n",
        "<hr>"
      ]
    },
    {
      "cell_type": "markdown",
      "metadata": {
        "tags": []
      },
      "source": [
        "The file `Liu-Nair_et_al-datasets-connectivity-GLM_analysis-hdf5_DJA-JK.hdf5` contains mouse behavioral data, neuronal readings, and analysis results from an experiment performed for [this paper by Liu, et al. in David Anderson's lab](https://doi.org/10.1038/s41586-024-07916-w). You task is to open the file, extract the neuronal activity and make a plot of the neuronal activity. Then, overlay markers on the data signifying events where the mouse showed mounting behavior."
      ]
    }
  ],
  "metadata": {
    "kernelspec": {
      "display_name": "Python 3 (ipykernel)",
      "language": "python",
      "name": "python3"
    },
    "language_info": {
      "codemirror_mode": {
        "name": "ipython",
        "version": 3
      },
      "file_extension": ".py",
      "mimetype": "text/x-python",
      "name": "python",
      "nbconvert_exporter": "python",
      "pygments_lexer": "ipython3",
      "version": "3.12.11"
    }
  },
  "nbformat": 4,
  "nbformat_minor": 4
}