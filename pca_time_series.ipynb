{
  "cells": [
    {
      "cell_type": "markdown",
      "id": "36171b8c",
      "metadata": {},
      "source": [
        "# PCA on time series {#exr-pca-time-series}\n",
        "\n",
        "We have done PCA on time series data. Think about what potential issues there are with that."
      ]
    }
  ],
  "metadata": {
    "language_info": {
      "name": "python"
    }
  },
  "nbformat": 4,
  "nbformat_minor": 5
}