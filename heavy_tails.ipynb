{
  "cells": [
    {
      "cell_type": "markdown",
      "metadata": {},
      "source": [
        "# Exploring tails of distributions {#exr-heavy-tails}\n",
        "\n",
        "<hr />"
      ]
    },
    {
      "cell_type": "markdown",
      "metadata": {},
      "source": [
        "**a)** Say I have three distributions:\n",
        "\n",
        "- Exponential, \u03b2=1\n",
        "- Normal, \u03bc=1, \u03c3=1\n",
        "- Cauchy, \u00b5=1, \u03c3=1\n",
        "\n",
        "Say I draw numbers out of each of these distributions. Rank order the distributions, lowest to highest, in terms of how likely I am do draw a number greater than 10. You do not need to calculate anything to answer this question.\n",
        "\n",
        "**b)** Now draw a million numbers out of each of the three distributions. Which, if any, had numbers greater than ten? Was your intuition from part (a) correct?"
      ]
    },
    {
      "cell_type": "markdown",
      "metadata": {},
      "source": [
        "<br />"
      ]
    }
  ],
  "metadata": {
    "kernelspec": {
      "display_name": "datasai",
      "language": "python",
      "name": "python3"
    },
    "language_info": {
      "codemirror_mode": {
        "name": "ipython",
        "version": 3
      },
      "file_extension": ".py",
      "mimetype": "text/x-python",
      "name": "python",
      "nbconvert_exporter": "python",
      "pygments_lexer": "ipython3",
      "version": "3.12.11"
    }
  },
  "nbformat": 4,
  "nbformat_minor": 4
}