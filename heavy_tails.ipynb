{
 "cells": [
  {
   "cell_type": "markdown",
   "metadata": {},
   "source": [
    "# Exploring tails of distributions {#exr-heavy-tails}\n",
    "\n",
    "<hr />"
   ]
  },
  {
   "cell_type": "markdown",
   "metadata": {},
   "source": [
    "**a)** Say I have three distributions:\n",
    "\n",
    "- Exponential, β=1\n",
    "- Normal, μ=1, σ=1\n",
    "- Cauchy, µ=1, σ=1\n",
    "\n",
    "Say I draw numbers out of each of these distributions. Rank order the distributions, lowest to highest, in terms of how likely I am do draw a number greater than 10. You do not need to calculate anything to answer this question.\n",
    "\n",
    "**b)** Now draw a million numbers out of each of the three distributions. Which, if any, had numbers greater than ten? Was your intuition from part (a) correct?"
   ]
  },
  {
   "cell_type": "markdown",
   "metadata": {},
   "source": [
    "<br />"
   ]
  },
  {
   "cell_type": "markdown",
   "metadata": {},
   "source": [
    "## Solution\n",
    "\n",
    "<hr>"
   ]
  },
  {
   "cell_type": "code",
   "execution_count": 1,
   "metadata": {},
   "outputs": [],
   "source": [
    "import numpy as np"
   ]
  },
  {
   "cell_type": "markdown",
   "metadata": {},
   "source": [
    "**a)** We rank order in terms of heavy tails. The Normal distribution has the lightest tail, followed by the Exponential, and then the Cauchy, which has very heavy tails."
   ]
  },
  {
   "cell_type": "markdown",
   "metadata": {},
   "source": [
    "**b)**  Let's check!"
   ]
  },
  {
   "cell_type": "code",
   "execution_count": 2,
   "metadata": {},
   "outputs": [
    {
     "name": "stdout",
     "output_type": "stream",
     "text": [
      "Normal: 0\n",
      "Exponential: 46\n",
      "Cauchy: 35277\n"
     ]
    }
   ],
   "source": [
    "rng = np.random.default_rng()\n",
    "\n",
    "print(\"Normal: \", end='')\n",
    "print(np.sum(rng.normal(1, 1, size=1_000_000) > 10))\n",
    "\n",
    "print(\"Exponential: \", end='')\n",
    "print(np.sum(rng.exponential(1, size=1_000_000) > 10))\n",
    "\n",
    "print(\"Cauchy: \", end='')\n",
    "print(np.sum(1 + rng.standard_cauchy(size=1_000_000) > 10))"
   ]
  },
  {
   "cell_type": "markdown",
   "metadata": {},
   "source": [
    "This demonstrates just how heavy the tails of a Cauchy distribution are!"
   ]
  },
  {
   "cell_type": "markdown",
   "metadata": {},
   "source": [
    "## Computing environment"
   ]
  },
  {
   "cell_type": "code",
   "execution_count": 3,
   "metadata": {},
   "outputs": [
    {
     "name": "stdout",
     "output_type": "stream",
     "text": [
      "Python implementation: CPython\n",
      "Python version       : 3.12.11\n",
      "IPython version      : 9.1.0\n",
      "\n",
      "numpy     : 2.1.3\n",
      "jupyterlab: 4.3.7\n",
      "\n"
     ]
    }
   ],
   "source": [
    "%load_ext watermark\n",
    "%watermark -v -p numpy,jupyterlab"
   ]
  }
 ],
 "metadata": {
  "kernelspec": {
   "display_name": "datasai",
   "language": "python",
   "name": "python3"
  },
  "language_info": {
   "codemirror_mode": {
    "name": "ipython",
    "version": 3
   },
   "file_extension": ".py",
   "mimetype": "text/x-python",
   "name": "python",
   "nbconvert_exporter": "python",
   "pygments_lexer": "ipython3",
   "version": "3.12.11"
  }
 },
 "nbformat": 4,
 "nbformat_minor": 4
}
