{
  "cells": [
    {
      "cell_type": "markdown",
      "id": "36171b8c",
      "metadata": {},
      "source": [
        "## The probability of standing still {#exr-standing-still}\n",
        "\n",
        " For a hidden Markov model, what is the probability of staying in state $i$ for exactly $T$ time steps?"
      ]
    }
  ],
  "metadata": {
    "language_info": {
      "name": "python"
    }
  },
  "nbformat": 4,
  "nbformat_minor": 5
}