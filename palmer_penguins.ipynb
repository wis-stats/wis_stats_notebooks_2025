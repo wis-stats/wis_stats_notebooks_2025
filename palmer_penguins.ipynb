{
 "cells": [
  {
   "cell_type": "markdown",
   "id": "fb84acb7-7340-4933-99ba-c5fb422cb07f",
   "metadata": {},
   "source": [
    "# Palmer penguins and split-apply-combine {#exr-palmer-penguins-split-apply-combine}\n",
    "\n",
    "[Data set download](https://s3.amazonaws.com/bebi103.caltech.edu/data/penguins_subset.csv)\n",
    "\n",
    "<hr />"
   ]
  },
  {
   "cell_type": "markdown",
   "id": "6cce2733-1b20-4b82-a1c7-e224b8c1efc5",
   "metadata": {},
   "source": [
    "The [Palmer penguins data set](https://towardsdatascience.com/penguins-dataset-overview-iris-alternative-9453bb8c8d95) is a nice data set with which to practice various data science skills. For this exercise, we will use as subset of it, which you can download here: [https://s3.amazonaws.com/bebi103.caltech.edu/data/penguins_subset.csv](https://s3.amazonaws.com/bebi103.caltech.edu/data/penguins_subset.csv). The data set consists of measurements of three different species of penguins acquired at the [Palmer Station in Antarctica](https://en.wikipedia.org/wiki/Palmer_Station). The measurements were made between 2007 and 2009 by [Kristen Gorman](https://www.uaf.edu/cfos/people/faculty/detail/kristen-gorman.php).\n",
    "\n",
    "**a)** Take a look at the CSV file containing the data set. Is it in tidy format? Why or why not?\n",
    "\n",
    "**b)** You can convert the CSV file to a \"tall\" format using the `bebi103.utils.unpivot_csv()` function. You can do that with the following function call, where `path_to_penguins` is a string containing the path to the penguin_subset.csv file.\n",
    "\n",
    "    bebi103.utils.unpivot_csv(\n",
    "        path_to_penguins,\n",
    "        \"penguins_tall.csv\",\n",
    "        n_header_rows=2,\n",
    "        header_names=[\"species\", \"quantity\"],\n",
    "        comment_prefix=\"#\",\n",
    "        retain_row_index=True,\n",
    "        row_index_name='penguin_id',\n",
    "    )    \n",
    "\n",
    "After running that function, load in the data set stored in the `penguins_tall.csv` file and store it in a variable named `df_tall`. Is this a tidy data set?\n",
    "\n",
    "**c)** Perform the following operations to make a new `DataFrame` from the one you loaded in to generate a new `DataFrame`. Explain what the operations do.\n",
    "\n",
    "```python\n",
    "df = (\n",
    "    df_tall\n",
    "    .pivot(\n",
    "        index=['penguin_id', 'species'], columns='quantity', values='value'\n",
    "    )\n",
    "    .select(pl.exclude('penguin_id'))\n",
    ")\n",
    "```\n",
    "\n",
    "Is the resulting data frame `df` tidy? Why or why not?\n",
    "\n",
    "**d)** Using the data frame you created in part (c), slice out all of the bill lengths for *Gentoo* penguins.\n",
    "\n",
    "**e)** Make a new data frame, `df_tidy`, containing the mean measured bill depth, bill length, body mass in kg, and flipper length for each species. You can use millimeters for all length measurements.\n",
    "\n",
    "**f)** Save the data frame you made in part (c) in a file named `penguins_subset_tidy.csv`."
   ]
  },
  {
   "cell_type": "markdown",
   "id": "fdd314dd-fc26-4d89-b105-c5e18bf3f0aa",
   "metadata": {},
   "source": [
    "<br />"
   ]
  },
  {
   "cell_type": "markdown",
   "id": "8e27e077-1d71-47ba-96a6-392b0fc4bad9",
   "metadata": {},
   "source": [
    "## Solution\n",
    "\n",
    "<hr>"
   ]
  },
  {
   "cell_type": "code",
   "execution_count": 1,
   "id": "4fb6d5d6-39a0-426c-b1f4-25bc6db99780",
   "metadata": {},
   "outputs": [],
   "source": [
    "# Colab setup ------------------\n",
    "import os, sys, subprocess\n",
    "if \"google.colab\" in sys.modules:\n",
    "    cmd = \"pip install --upgrade polars bebi103 watermark\"\n",
    "    process = subprocess.Popen(cmd.split(), stdout=subprocess.PIPE, stderr=subprocess.PIPE)\n",
    "    stdout, stderr = process.communicate()\n",
    "    data_path = \"https://s3.amazonaws.com/bebi103.caltech.edu/data/\"\n",
    "else:\n",
    "    data_path = \"../data/\"\n",
    "# ------------------------------\n",
    "\n",
    "import polars as pl\n",
    "import bebi103"
   ]
  },
  {
   "cell_type": "markdown",
   "id": "43606360-9b81-4d6e-87f6-bbc89093e146",
   "metadata": {},
   "source": [
    "**a)** Let's take a look."
   ]
  },
  {
   "cell_type": "code",
   "execution_count": 2,
   "id": "ba4a5c2f-a1c5-4b47-81c4-0d9687c099cf",
   "metadata": {},
   "outputs": [
    {
     "name": "stdout",
     "output_type": "stream",
     "text": [
      "Gentoo,Gentoo,Gentoo,Gentoo,Adelie,Adelie,Adelie,Adelie,Chinstrap,Chinstrap,Chinstrap,Chinstrap\n",
      "bill_depth_mm,bill_length_mm,flipper_length_mm,body_mass_g,bill_depth_mm,bill_length_mm,flipper_length_mm,body_mass_g,bill_depth_mm,bill_length_mm,flipper_length_mm,body_mass_g\n",
      "16.3,48.4,220.0,5400.0,18.5,36.8,193.0,3500.0,18.3,47.6,195.0,3850.0\n",
      "15.8,46.3,215.0,5050.0,16.9,37.0,185.0,3000.0,16.7,42.5,187.0,3350.0\n",
      "14.2,47.5,209.0,4600.0,19.5,42.0,200.0,4050.0,16.6,40.9,187.0,3200.0\n",
      "15.7,48.7,208.0,5350.0,18.3,42.7,196.0,4075.0,20.0,52.8,205.0,4550.0\n",
      "14.1,48.7,210.0,4450.0,18.0,35.7,202.0,3550.0,18.7,45.4,188.0,3525.0\n",
      "15.0,49.6,216.0,4750.0,19.1,39.8,184.0,4650.0,18.2,49.6,193.0,3775.0\n",
      "15.7,49.3,217.0,5850.0,18.4,40.8,195.0,3900.0,17.5,48.5,191.0,3400.0\n",
      "15.2,49.2,221.0,6300.0,18.4,36.6,184.0,3475.0,18.2,49.2,195.0,4400.0\n"
     ]
    }
   ],
   "source": [
    "!head ../data/penguins_subset.csv"
   ]
  },
  {
   "cell_type": "markdown",
   "id": "0754d906-a792-4687-962c-0b205b89e102",
   "metadata": {},
   "source": [
    "This is not a tidy data set, since each row contains measurements from three different penguins. Strictly speaking, the two-level hierarchy of the column names does not make it untidy, but it is cumbersome to work with."
   ]
  },
  {
   "cell_type": "markdown",
   "id": "d16a3c91-cb8a-435f-aa92-dcb1d8035482",
   "metadata": {},
   "source": [
    "**b)** We can now convert this data frame with a two-level hierarchical column heading to a tall data frame."
   ]
  },
  {
   "cell_type": "code",
   "execution_count": 3,
   "id": "c471f2b2-80b7-46f7-88d1-46a5fa96632a",
   "metadata": {},
   "outputs": [],
   "source": [
    "bebi103.utils.unpivot_csv(\n",
    "    os.path.join(data_path, 'penguins_subset.csv'),\n",
    "    \"penguins_tall.csv\",\n",
    "    n_header_rows=2,\n",
    "    header_names=[\"species\", \"quantity\"],\n",
    "    comment_prefix=\"#\",\n",
    "    retain_row_index=True,\n",
    "    row_index_name='penguin_id',\n",
    "    force_overwrite=True,\n",
    ")"
   ]
  },
  {
   "cell_type": "markdown",
   "id": "8c4096ca-b3ad-4457-9520-774b8c3c2e9b",
   "metadata": {},
   "source": [
    "We can now load in the data frame and take a look."
   ]
  },
  {
   "cell_type": "code",
   "execution_count": 4,
   "id": "fd0dfa80-27e6-4849-a931-02e8021bbdc0",
   "metadata": {},
   "outputs": [
    {
     "data": {
      "text/html": [
       "<div><style>\n",
       ".dataframe > thead > tr,\n",
       ".dataframe > tbody > tr {\n",
       "  text-align: right;\n",
       "  white-space: pre-wrap;\n",
       "}\n",
       "</style>\n",
       "<small>shape: (816, 4)</small><table border=\"1\" class=\"dataframe\"><thead><tr><th>penguin_id</th><th>species</th><th>quantity</th><th>value</th></tr><tr><td>i64</td><td>str</td><td>str</td><td>f64</td></tr></thead><tbody><tr><td>0</td><td>&quot;Gentoo&quot;</td><td>&quot;bill_depth_mm&quot;</td><td>16.3</td></tr><tr><td>0</td><td>&quot;Gentoo&quot;</td><td>&quot;bill_length_mm&quot;</td><td>48.4</td></tr><tr><td>0</td><td>&quot;Gentoo&quot;</td><td>&quot;flipper_length_mm&quot;</td><td>220.0</td></tr><tr><td>0</td><td>&quot;Gentoo&quot;</td><td>&quot;body_mass_g&quot;</td><td>5400.0</td></tr><tr><td>0</td><td>&quot;Adelie&quot;</td><td>&quot;bill_depth_mm&quot;</td><td>18.5</td></tr><tr><td>&hellip;</td><td>&hellip;</td><td>&hellip;</td><td>&hellip;</td></tr><tr><td>67</td><td>&quot;Adelie&quot;</td><td>&quot;body_mass_g&quot;</td><td>3050.0</td></tr><tr><td>67</td><td>&quot;Chinstrap&quot;</td><td>&quot;bill_depth_mm&quot;</td><td>18.9</td></tr><tr><td>67</td><td>&quot;Chinstrap&quot;</td><td>&quot;bill_length_mm&quot;</td><td>46.0</td></tr><tr><td>67</td><td>&quot;Chinstrap&quot;</td><td>&quot;flipper_length_mm&quot;</td><td>195.0</td></tr><tr><td>67</td><td>&quot;Chinstrap&quot;</td><td>&quot;body_mass_g&quot;</td><td>4150.0</td></tr></tbody></table></div>"
      ],
      "text/plain": [
       "shape: (816, 4)\n",
       "┌────────────┬───────────┬───────────────────┬────────┐\n",
       "│ penguin_id ┆ species   ┆ quantity          ┆ value  │\n",
       "│ ---        ┆ ---       ┆ ---               ┆ ---    │\n",
       "│ i64        ┆ str       ┆ str               ┆ f64    │\n",
       "╞════════════╪═══════════╪═══════════════════╪════════╡\n",
       "│ 0          ┆ Gentoo    ┆ bill_depth_mm     ┆ 16.3   │\n",
       "│ 0          ┆ Gentoo    ┆ bill_length_mm    ┆ 48.4   │\n",
       "│ 0          ┆ Gentoo    ┆ flipper_length_mm ┆ 220.0  │\n",
       "│ 0          ┆ Gentoo    ┆ body_mass_g       ┆ 5400.0 │\n",
       "│ 0          ┆ Adelie    ┆ bill_depth_mm     ┆ 18.5   │\n",
       "│ …          ┆ …         ┆ …                 ┆ …      │\n",
       "│ 67         ┆ Adelie    ┆ body_mass_g       ┆ 3050.0 │\n",
       "│ 67         ┆ Chinstrap ┆ bill_depth_mm     ┆ 18.9   │\n",
       "│ 67         ┆ Chinstrap ┆ bill_length_mm    ┆ 46.0   │\n",
       "│ 67         ┆ Chinstrap ┆ flipper_length_mm ┆ 195.0  │\n",
       "│ 67         ┆ Chinstrap ┆ body_mass_g       ┆ 4150.0 │\n",
       "└────────────┴───────────┴───────────────────┴────────┘"
      ]
     },
     "execution_count": 4,
     "metadata": {},
     "output_type": "execute_result"
    }
   ],
   "source": [
    "df_tall = pl.read_csv('penguins_tall.csv')\n",
    "\n",
    "# Take a look\n",
    "df_tall"
   ]
  },
  {
   "cell_type": "markdown",
   "id": "4d51b863-485f-4485-bf62-ef2f17b0b03a",
   "metadata": {},
   "source": [
    "This is tidy, with each row corresponding to a single observation and each column a property of that observation."
   ]
  },
  {
   "cell_type": "markdown",
   "id": "75591aef-ce5a-4f7c-ae2b-26ad7b189760",
   "metadata": {},
   "source": [
    "**d)** Let's do the prescribed operations and take a look."
   ]
  },
  {
   "cell_type": "code",
   "execution_count": 5,
   "id": "e33ee812-31e1-4f1d-89d5-336adef75b5c",
   "metadata": {},
   "outputs": [
    {
     "data": {
      "text/html": [
       "<div><style>\n",
       ".dataframe > thead > tr,\n",
       ".dataframe > tbody > tr {\n",
       "  text-align: right;\n",
       "  white-space: pre-wrap;\n",
       "}\n",
       "</style>\n",
       "<small>shape: (204, 5)</small><table border=\"1\" class=\"dataframe\"><thead><tr><th>species</th><th>bill_depth_mm</th><th>bill_length_mm</th><th>flipper_length_mm</th><th>body_mass_g</th></tr><tr><td>str</td><td>f64</td><td>f64</td><td>f64</td><td>f64</td></tr></thead><tbody><tr><td>&quot;Gentoo&quot;</td><td>16.3</td><td>48.4</td><td>220.0</td><td>5400.0</td></tr><tr><td>&quot;Adelie&quot;</td><td>18.5</td><td>36.8</td><td>193.0</td><td>3500.0</td></tr><tr><td>&quot;Chinstrap&quot;</td><td>18.3</td><td>47.6</td><td>195.0</td><td>3850.0</td></tr><tr><td>&quot;Gentoo&quot;</td><td>15.8</td><td>46.3</td><td>215.0</td><td>5050.0</td></tr><tr><td>&quot;Adelie&quot;</td><td>16.9</td><td>37.0</td><td>185.0</td><td>3000.0</td></tr><tr><td>&hellip;</td><td>&hellip;</td><td>&hellip;</td><td>&hellip;</td><td>&hellip;</td></tr><tr><td>&quot;Adelie&quot;</td><td>18.9</td><td>45.8</td><td>197.0</td><td>4150.0</td></tr><tr><td>&quot;Chinstrap&quot;</td><td>18.2</td><td>46.1</td><td>178.0</td><td>3250.0</td></tr><tr><td>&quot;Gentoo&quot;</td><td>14.6</td><td>45.8</td><td>210.0</td><td>4200.0</td></tr><tr><td>&quot;Adelie&quot;</td><td>15.9</td><td>35.2</td><td>186.0</td><td>3050.0</td></tr><tr><td>&quot;Chinstrap&quot;</td><td>18.9</td><td>46.0</td><td>195.0</td><td>4150.0</td></tr></tbody></table></div>"
      ],
      "text/plain": [
       "shape: (204, 5)\n",
       "┌───────────┬───────────────┬────────────────┬───────────────────┬─────────────┐\n",
       "│ species   ┆ bill_depth_mm ┆ bill_length_mm ┆ flipper_length_mm ┆ body_mass_g │\n",
       "│ ---       ┆ ---           ┆ ---            ┆ ---               ┆ ---         │\n",
       "│ str       ┆ f64           ┆ f64            ┆ f64               ┆ f64         │\n",
       "╞═══════════╪═══════════════╪════════════════╪═══════════════════╪═════════════╡\n",
       "│ Gentoo    ┆ 16.3          ┆ 48.4           ┆ 220.0             ┆ 5400.0      │\n",
       "│ Adelie    ┆ 18.5          ┆ 36.8           ┆ 193.0             ┆ 3500.0      │\n",
       "│ Chinstrap ┆ 18.3          ┆ 47.6           ┆ 195.0             ┆ 3850.0      │\n",
       "│ Gentoo    ┆ 15.8          ┆ 46.3           ┆ 215.0             ┆ 5050.0      │\n",
       "│ Adelie    ┆ 16.9          ┆ 37.0           ┆ 185.0             ┆ 3000.0      │\n",
       "│ …         ┆ …             ┆ …              ┆ …                 ┆ …           │\n",
       "│ Adelie    ┆ 18.9          ┆ 45.8           ┆ 197.0             ┆ 4150.0      │\n",
       "│ Chinstrap ┆ 18.2          ┆ 46.1           ┆ 178.0             ┆ 3250.0      │\n",
       "│ Gentoo    ┆ 14.6          ┆ 45.8           ┆ 210.0             ┆ 4200.0      │\n",
       "│ Adelie    ┆ 15.9          ┆ 35.2           ┆ 186.0             ┆ 3050.0      │\n",
       "│ Chinstrap ┆ 18.9          ┆ 46.0           ┆ 195.0             ┆ 4150.0      │\n",
       "└───────────┴───────────────┴────────────────┴───────────────────┴─────────────┘"
      ]
     },
     "execution_count": 5,
     "metadata": {},
     "output_type": "execute_result"
    }
   ],
   "source": [
    "df = (\n",
    "    df_tall\n",
    "    .pivot(\n",
    "        on='quantity', index=['penguin_id', 'species'], values='value'\n",
    "    )\n",
    "    .select(pl.exclude('penguin_id'))\n",
    ")\n",
    "\n",
    "# Take a look\n",
    "df"
   ]
  },
  {
   "cell_type": "markdown",
   "id": "75b351a2-4fa5-4e44-9032-c093c88a697a",
   "metadata": {},
   "source": [
    "The pivot operation moves the data frame from a tall to a wide format. By pivoting on quantitity, the names of the quantities become the column headings and the respective values get populated. However, the penguin ID and species do not get pivoted, but are \"along for the ride\" as ID columns. The select operation simply ignores the `penguin_id` column because it is not longer necessary.\n",
    "\n",
    "This is also a tidy dataframe, with each row being a specific penguin, and each column being an aspect of the measurements of that penguin."
   ]
  },
  {
   "cell_type": "markdown",
   "id": "76fad108-69ce-49b2-ba7c-02d4c7bfacc9",
   "metadata": {},
   "source": [
    "**d)** We perform a filtering operation to slice out the *Gentoo* entries and then fetch the bill length column."
   ]
  },
  {
   "cell_type": "code",
   "execution_count": 6,
   "id": "49d18653-1f1e-4c01-a142-1cf89cf27c58",
   "metadata": {},
   "outputs": [
    {
     "data": {
      "text/html": [
       "<div><style>\n",
       ".dataframe > thead > tr,\n",
       ".dataframe > tbody > tr {\n",
       "  text-align: right;\n",
       "  white-space: pre-wrap;\n",
       "}\n",
       "</style>\n",
       "<small>shape: (68,)</small><table border=\"1\" class=\"dataframe\"><thead><tr><th>bill_length_mm</th></tr><tr><td>f64</td></tr></thead><tbody><tr><td>48.4</td></tr><tr><td>46.3</td></tr><tr><td>47.5</td></tr><tr><td>48.7</td></tr><tr><td>48.7</td></tr><tr><td>&hellip;</td></tr><tr><td>48.4</td></tr><tr><td>46.8</td></tr><tr><td>55.9</td></tr><tr><td>44.5</td></tr><tr><td>45.8</td></tr></tbody></table></div>"
      ],
      "text/plain": [
       "shape: (68,)\n",
       "Series: 'bill_length_mm' [f64]\n",
       "[\n",
       "\t48.4\n",
       "\t46.3\n",
       "\t47.5\n",
       "\t48.7\n",
       "\t48.7\n",
       "\t…\n",
       "\t48.4\n",
       "\t46.8\n",
       "\t55.9\n",
       "\t44.5\n",
       "\t45.8\n",
       "]"
      ]
     },
     "execution_count": 6,
     "metadata": {},
     "output_type": "execute_result"
    }
   ],
   "source": [
    "gentoo_bill_lengths = (\n",
    "    df\n",
    "    .filter(pl.col('species') == 'Gentoo')\n",
    "    .get_column('bill_length_mm')\n",
    ")\n",
    "\n",
    "# Take a look to verify\n",
    "gentoo_bill_lengths"
   ]
  },
  {
   "cell_type": "markdown",
   "id": "94f0db0a-c745-4ab7-a892-80b16e83a5f9",
   "metadata": {},
   "source": [
    "These values are stored as a Series. If we wanted them as a NumPy array, we would use the `.to_numpy()` method."
   ]
  },
  {
   "cell_type": "code",
   "execution_count": 7,
   "id": "ac62d928-1fd8-4901-95f9-44726e79f1ef",
   "metadata": {},
   "outputs": [
    {
     "data": {
      "text/plain": [
       "array([48.4, 46.3, 47.5, 48.7, 48.7, 49.6, 49.3, 49.2, 45.5, 48.8, 46.4,\n",
       "       48.6, 46.5, 50.8, 45.7, 50. , 42.7, 44.9, 49.5, 45.2, 50. , 40.9,\n",
       "       53.4, 50.1, 51.1, 49. , 42.9, 50.5, 50. , 52.5, 46.2, 46.8, 55.1,\n",
       "       46.1, 45.5, 49.1, 52.1, 46.5, 44.5, 44.5, 45.5, 44.4, 47.2, 45.2,\n",
       "       48.1, 45.3, 48.7, 46.6, 43.3, 43.2, 43.5, 45.2, 48.2, 46.2, 44. ,\n",
       "       46.1, 42.8, 42.6, 50.8, 52.2, 46.5, 50.2, 48.2, 48.4, 46.8, 55.9,\n",
       "       44.5, 45.8])"
      ]
     },
     "execution_count": 7,
     "metadata": {},
     "output_type": "execute_result"
    }
   ],
   "source": [
    "gentoo_bill_lengths.to_numpy()"
   ]
  },
  {
   "cell_type": "markdown",
   "id": "c5e5f906-7ccf-49c3-85e1-07d18954ba93",
   "metadata": {},
   "source": [
    "**e)** To compute the mean of the features for each species, we do a groupby operation. This is classic split-apply-combine. After applying the `mean()` aggregating function, we make a new column with the mass in kilograms before finally droping the column containing the mass in grams."
   ]
  },
  {
   "cell_type": "code",
   "execution_count": 8,
   "id": "00989590-3d13-40bb-a45e-88d6a456faa8",
   "metadata": {},
   "outputs": [
    {
     "data": {
      "text/html": [
       "<div><style>\n",
       ".dataframe > thead > tr,\n",
       ".dataframe > tbody > tr {\n",
       "  text-align: right;\n",
       "  white-space: pre-wrap;\n",
       "}\n",
       "</style>\n",
       "<small>shape: (3, 5)</small><table border=\"1\" class=\"dataframe\"><thead><tr><th>species</th><th>bill_depth_mm</th><th>bill_length_mm</th><th>flipper_length_mm</th><th>body_mass_kg</th></tr><tr><td>str</td><td>f64</td><td>f64</td><td>f64</td><td>f64</td></tr></thead><tbody><tr><td>&quot;Chinstrap&quot;</td><td>18.420588</td><td>48.833824</td><td>195.823529</td><td>3.733088</td></tr><tr><td>&quot;Adelie&quot;</td><td>18.135294</td><td>38.476471</td><td>189.602941</td><td>3.621691</td></tr><tr><td>&quot;Gentoo&quot;</td><td>15.013235</td><td>47.419118</td><td>216.514706</td><td>5.058456</td></tr></tbody></table></div>"
      ],
      "text/plain": [
       "shape: (3, 5)\n",
       "┌───────────┬───────────────┬────────────────┬───────────────────┬──────────────┐\n",
       "│ species   ┆ bill_depth_mm ┆ bill_length_mm ┆ flipper_length_mm ┆ body_mass_kg │\n",
       "│ ---       ┆ ---           ┆ ---            ┆ ---               ┆ ---          │\n",
       "│ str       ┆ f64           ┆ f64            ┆ f64               ┆ f64          │\n",
       "╞═══════════╪═══════════════╪════════════════╪═══════════════════╪══════════════╡\n",
       "│ Chinstrap ┆ 18.420588     ┆ 48.833824      ┆ 195.823529        ┆ 3.733088     │\n",
       "│ Adelie    ┆ 18.135294     ┆ 38.476471      ┆ 189.602941        ┆ 3.621691     │\n",
       "│ Gentoo    ┆ 15.013235     ┆ 47.419118      ┆ 216.514706        ┆ 5.058456     │\n",
       "└───────────┴───────────────┴────────────────┴───────────────────┴──────────────┘"
      ]
     },
     "execution_count": 8,
     "metadata": {},
     "output_type": "execute_result"
    }
   ],
   "source": [
    "df_means = (\n",
    "    df\n",
    "    .group_by('species')\n",
    "    .mean()\n",
    "    .with_columns(body_mass_kg=pl.col('body_mass_g') / 1000) \n",
    "    .drop('body_mass_g')\n",
    ")\n",
    "\n",
    "# Take a look\n",
    "df_means"
   ]
  },
  {
   "cell_type": "markdown",
   "id": "33f015e8-8d12-4e71-8204-e2f1ac50bc99",
   "metadata": {},
   "source": [
    "**f)** To save the tidy data frame, we use the `df.write_csv()` function."
   ]
  },
  {
   "cell_type": "code",
   "execution_count": 9,
   "id": "7cba7335-0806-43c4-aa8e-d61fb7d582e3",
   "metadata": {},
   "outputs": [],
   "source": [
    "df.write_csv(os.path.join(data_path, 'penguins_subset_tidy.csv'))"
   ]
  },
  {
   "cell_type": "markdown",
   "id": "15ac1240-ebc3-43c5-b910-a4924a319816",
   "metadata": {},
   "source": [
    "## Computing environment"
   ]
  },
  {
   "cell_type": "code",
   "execution_count": 10,
   "id": "fe896e8c-0db8-4810-a1e1-e090eb77e54e",
   "metadata": {},
   "outputs": [
    {
     "name": "stdout",
     "output_type": "stream",
     "text": [
      "Python implementation: CPython\n",
      "Python version       : 3.12.9\n",
      "IPython version      : 9.1.0\n",
      "\n",
      "polars    : 1.29.0\n",
      "bebi103   : 0.1.26\n",
      "jupyterlab: 4.3.7\n",
      "\n"
     ]
    }
   ],
   "source": [
    "%load_ext watermark\n",
    "%watermark -v -p polars,bebi103,jupyterlab"
   ]
  }
 ],
 "metadata": {
  "kernelspec": {
   "display_name": "Python 3 (ipykernel)",
   "language": "python",
   "name": "python3"
  },
  "language_info": {
   "codemirror_mode": {
    "name": "ipython",
    "version": 3
   },
   "file_extension": ".py",
   "mimetype": "text/x-python",
   "name": "python",
   "nbconvert_exporter": "python",
   "pygments_lexer": "ipython3",
   "version": "3.12.9"
  }
 },
 "nbformat": 4,
 "nbformat_minor": 5
}
