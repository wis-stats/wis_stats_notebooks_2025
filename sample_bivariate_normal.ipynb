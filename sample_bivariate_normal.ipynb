{
  "cells": [
    {
      "cell_type": "markdown",
      "metadata": {},
      "source": [
        "# Sampling out of a bivariate Normal distribution {#exr-sample-bivariate-normal}\n",
        "\n",
        "<hr>"
      ]
    },
    {
      "cell_type": "markdown",
      "metadata": {},
      "source": [
        "Draw 4000 samples out of a bivariate Normal distribution with mean $\\boldsymbol{\\mu} = (10, 20)$ and a covariance matrix of\n",
        "\n",
        "\\begin{align}\n",
        "\\mathsf{\\Sigma} = \\begin{pmatrix}\n",
        "4 & -2 \\\\\n",
        "-2 & 6\n",
        "\\end{pmatrix}\n",
        "\\end{align}\n",
        "\n",
        "using each of the following three methods.\n",
        "\n",
        "**a)** Using Numpy.\n",
        "\n",
        "**b)** Using Stan's build-in random number generator (that is, in the `generated quantities` block).\n",
        "\n",
        "**c)** Using Stan's MCMC sampler.\n",
        "\n",
        "Make plots of the samples to show they are consistent."
      ]
    }
  ],
  "metadata": {
    "kernelspec": {
      "display_name": "datasai",
      "language": "python",
      "name": "python3"
    },
    "language_info": {
      "codemirror_mode": {
        "name": "ipython",
        "version": 3
      },
      "file_extension": ".py",
      "mimetype": "text/x-python",
      "name": "python",
      "nbconvert_exporter": "python",
      "pygments_lexer": "ipython3",
      "version": "3.12.11"
    }
  },
  "nbformat": 4,
  "nbformat_minor": 4
}